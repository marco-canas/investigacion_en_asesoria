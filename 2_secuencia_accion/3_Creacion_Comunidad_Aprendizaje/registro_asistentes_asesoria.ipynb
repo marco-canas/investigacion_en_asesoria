{
 "cells": [
  {
   "cell_type": "markdown",
   "id": "ef271385",
   "metadata": {},
   "source": [
    "# Gestión de registro de los asistentes a asesorías  "
   ]
  },
  {
   "cell_type": "code",
   "execution_count": 1,
   "id": "ea30760e",
   "metadata": {},
   "outputs": [],
   "source": [
    "def registrar_asistente():\n",
    "    import csv\n",
    "    import os\n",
    "    from datetime import datetime\n",
    "\n",
    "    # Solicitar información del asistente\n",
    "    nombre = input(\"Ingrese el nombre del asistente: \")\n",
    "    edad = input(\"Ingrese la edad del asistente: \")\n",
    "    genero = input(\"Ingrese el género del asistente (M/F): \")\n",
    "    correo = input(\"Ingrese el correo electrónico del asistente: \")\n",
    "    curso = input(\"Ingrese el nombre del curso al que pertenece su inquietud: \")\n",
    "    institucion = input(\"Ingrese la institución de donde viene: \")\n",
    "    dificultad = input(\"Describa brevemente en qué consiste su dificultad: \")\n",
    "\n",
    "    # Obtener la fecha actual en formato AAAA-MM-DD\n",
    "    fecha = datetime.today().strftime('%Y-%m-%d')\n",
    "\n",
    "    archivo = 'registro_asistentes.csv'\n",
    "    encabezados = ['Nombre', 'Edad', 'Género', 'Correo', 'Curso', 'Institución', 'Dificultad', 'Fecha']\n",
    "\n",
    "    # Verificar si el archivo ya existe\n",
    "    archivo_existe = os.path.isfile(archivo)\n",
    "\n",
    "    # Escribir los datos\n",
    "    with open(archivo, 'a', newline='', encoding='ISO-8859-1') as f:\n",
    "        writer = csv.writer(f)\n",
    "        if not archivo_existe:\n",
    "            writer.writerow(encabezados)\n",
    "        writer.writerow([nombre, edad, genero, correo, curso, institucion, dificultad, fecha])\n",
    "\n",
    "    print(\"Registro exitoso.\")\n"
   ]
  },
  {
   "cell_type": "code",
   "execution_count": 2,
   "id": "37e2f5b9",
   "metadata": {},
   "outputs": [
    {
     "name": "stdout",
     "output_type": "stream",
     "text": [
      "Registro exitoso.\n"
     ]
    }
   ],
   "source": [
    "registrar_asistente()"
   ]
  },
  {
   "cell_type": "code",
   "execution_count": 10,
   "id": "09edee4e",
   "metadata": {},
   "outputs": [
    {
     "data": {
      "application/vnd.microsoft.datawrangler.viewer.v0+json": {
       "columns": [
        {
         "name": "index",
         "rawType": "int64",
         "type": "integer"
        },
        {
         "name": "janis zuñiga",
         "rawType": "object",
         "type": "string"
        },
        {
         "name": "26",
         "rawType": "int64",
         "type": "integer"
        },
        {
         "name": "f",
         "rawType": "object",
         "type": "string"
        },
        {
         "name": "janis.zunigao@udea.edu.co",
         "rawType": "object",
         "type": "string"
        },
        {
         "name": "Obtención de datos y AED de los mismos",
         "rawType": "object",
         "type": "string"
        },
        {
         "name": "UdeA",
         "rawType": "object",
         "type": "string"
        },
        {
         "name": "Trabajo de grado de biología",
         "rawType": "object",
         "type": "string"
        },
        {
         "name": "Unnamed: 7",
         "rawType": "object",
         "type": "unknown"
        }
       ],
       "conversionMethod": "pd.DataFrame",
       "ref": "9e7865a3-ae80-4e0c-9f3b-4dfbac1caada",
       "rows": [
        [
         "0",
         "Juan Camilo Guerra Mercado",
         "23",
         "f",
         "camilo.jmercado@udea.edu.co",
         "Geometría",
         "UdeA",
         "Manejo de teoremas y cómo construir la demostración ",
         null
        ],
        [
         "1",
         "keila melisa mariaga ballesteros",
         "33",
         "f",
         "keila.mariaga@udea.edu.co",
         "Fundamentos de Lógica",
         "UdeA",
         "Comepensar su asistencia a clase",
         " "
        ],
        [
         "2",
         "manuel medina",
         "24",
         "m",
         "manuel.medinag@udea.edu.co",
         "geometría euclidiana",
         "udea",
         "escribir el argumento de demostración",
         null
        ],
        [
         "3",
         "diego andrés guerra yepez",
         "21",
         "m",
         "andres.guerra3@udea.edu.co",
         "fundamentos de geometría ",
         "udea",
         "escribir la demostración en esquema de afirmación - razón",
         null
        ],
        [
         "4",
         "juan camilo guerra mercado",
         "22",
         "m",
         "camilo.jmercado@udea.edu.co",
         "Fundamento de Geometría  Forma y Espacio",
         "udea",
         "Ejercitar en ejercicios y pruebas sobre polígonos y propiedades de los cuadriláteros",
         "2025-05-12"
        ]
       ],
       "shape": {
        "columns": 8,
        "rows": 5
       }
      },
      "text/html": [
       "<div>\n",
       "<style scoped>\n",
       "    .dataframe tbody tr th:only-of-type {\n",
       "        vertical-align: middle;\n",
       "    }\n",
       "\n",
       "    .dataframe tbody tr th {\n",
       "        vertical-align: top;\n",
       "    }\n",
       "\n",
       "    .dataframe thead th {\n",
       "        text-align: right;\n",
       "    }\n",
       "</style>\n",
       "<table border=\"1\" class=\"dataframe\">\n",
       "  <thead>\n",
       "    <tr style=\"text-align: right;\">\n",
       "      <th></th>\n",
       "      <th>janis zuñiga</th>\n",
       "      <th>26</th>\n",
       "      <th>f</th>\n",
       "      <th>janis.zunigao@udea.edu.co</th>\n",
       "      <th>Obtención de datos y AED de los mismos</th>\n",
       "      <th>UdeA</th>\n",
       "      <th>Trabajo de grado de biología</th>\n",
       "      <th>Unnamed: 7</th>\n",
       "    </tr>\n",
       "  </thead>\n",
       "  <tbody>\n",
       "    <tr>\n",
       "      <th>0</th>\n",
       "      <td>Juan Camilo Guerra Mercado</td>\n",
       "      <td>23</td>\n",
       "      <td>f</td>\n",
       "      <td>camilo.jmercado@udea.edu.co</td>\n",
       "      <td>Geometría</td>\n",
       "      <td>UdeA</td>\n",
       "      <td>Manejo de teoremas y cómo construir la demostr...</td>\n",
       "      <td>NaN</td>\n",
       "    </tr>\n",
       "    <tr>\n",
       "      <th>1</th>\n",
       "      <td>keila melisa mariaga ballesteros</td>\n",
       "      <td>33</td>\n",
       "      <td>f</td>\n",
       "      <td>keila.mariaga@udea.edu.co</td>\n",
       "      <td>Fundamentos de Lógica</td>\n",
       "      <td>UdeA</td>\n",
       "      <td>Comepensar su asistencia a clase</td>\n",
       "      <td></td>\n",
       "    </tr>\n",
       "    <tr>\n",
       "      <th>2</th>\n",
       "      <td>manuel medina</td>\n",
       "      <td>24</td>\n",
       "      <td>m</td>\n",
       "      <td>manuel.medinag@udea.edu.co</td>\n",
       "      <td>geometría euclidiana</td>\n",
       "      <td>udea</td>\n",
       "      <td>escribir el argumento de demostración</td>\n",
       "      <td>NaN</td>\n",
       "    </tr>\n",
       "    <tr>\n",
       "      <th>3</th>\n",
       "      <td>diego andrés guerra yepez</td>\n",
       "      <td>21</td>\n",
       "      <td>m</td>\n",
       "      <td>andres.guerra3@udea.edu.co</td>\n",
       "      <td>fundamentos de geometría</td>\n",
       "      <td>udea</td>\n",
       "      <td>escribir la demostración en esquema de afirmac...</td>\n",
       "      <td>NaN</td>\n",
       "    </tr>\n",
       "    <tr>\n",
       "      <th>4</th>\n",
       "      <td>juan camilo guerra mercado</td>\n",
       "      <td>22</td>\n",
       "      <td>m</td>\n",
       "      <td>camilo.jmercado@udea.edu.co</td>\n",
       "      <td>Fundamento de Geometría  Forma y Espacio</td>\n",
       "      <td>udea</td>\n",
       "      <td>Ejercitar en ejercicios y pruebas sobre polígo...</td>\n",
       "      <td>2025-05-12</td>\n",
       "    </tr>\n",
       "  </tbody>\n",
       "</table>\n",
       "</div>"
      ],
      "text/plain": [
       "                       janis zuñiga  26  f    janis.zunigao@udea.edu.co  \\\n",
       "0        Juan Camilo Guerra Mercado  23  f  camilo.jmercado@udea.edu.co   \n",
       "1  keila melisa mariaga ballesteros  33  f    keila.mariaga@udea.edu.co   \n",
       "2                     manuel medina  24  m   manuel.medinag@udea.edu.co   \n",
       "3         diego andrés guerra yepez  21  m   andres.guerra3@udea.edu.co   \n",
       "4        juan camilo guerra mercado  22  m  camilo.jmercado@udea.edu.co   \n",
       "\n",
       "     Obtención de datos y AED de los mismos  UdeA  \\\n",
       "0                                 Geometría  UdeA   \n",
       "1                     Fundamentos de Lógica  UdeA   \n",
       "2                      geometría euclidiana  udea   \n",
       "3                 fundamentos de geometría   udea   \n",
       "4  Fundamento de Geometría  Forma y Espacio  udea   \n",
       "\n",
       "                        Trabajo de grado de biología  Unnamed: 7  \n",
       "0  Manejo de teoremas y cómo construir la demostr...         NaN  \n",
       "1                   Comepensar su asistencia a clase              \n",
       "2              escribir el argumento de demostración         NaN  \n",
       "3  escribir la demostración en esquema de afirmac...         NaN  \n",
       "4  Ejercitar en ejercicios y pruebas sobre polígo...  2025-05-12  "
      ]
     },
     "execution_count": 10,
     "metadata": {},
     "output_type": "execute_result"
    }
   ],
   "source": [
    "\n",
    "\n",
    "import pandas as pd\n",
    "\n",
    "df = pd.read_csv('registro_asistentes.csv', encoding='ISO-8859-1')\n",
    "\n",
    "\n",
    "df\n",
    "\n",
    " "
   ]
  },
  {
   "cell_type": "code",
   "execution_count": null,
   "id": "1f377c23",
   "metadata": {},
   "outputs": [],
   "source": []
  }
 ],
 "metadata": {
  "kernelspec": {
   "display_name": ".venv",
   "language": "python",
   "name": "python3"
  },
  "language_info": {
   "codemirror_mode": {
    "name": "ipython",
    "version": 3
   },
   "file_extension": ".py",
   "mimetype": "text/x-python",
   "name": "python",
   "nbconvert_exporter": "python",
   "pygments_lexer": "ipython3",
   "version": "3.12.6"
  }
 },
 "nbformat": 4,
 "nbformat_minor": 5
}
