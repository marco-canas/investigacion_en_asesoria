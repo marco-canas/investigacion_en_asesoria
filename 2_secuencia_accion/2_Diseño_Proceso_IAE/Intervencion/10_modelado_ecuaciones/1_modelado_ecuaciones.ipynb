{
 "cells": [
  {
   "cell_type": "markdown",
   "id": "dc06dec7",
   "metadata": {
    "slideshow": {
     "slide_type": "slide"
    }
   },
   "source": [
    "<table align=\"left\">\n",
    "  <td>\n",
    "    <a href=\"https://colab.research.google.com/github/ageron/handson-ml3/blob/main/tools_numpy.ipynb\" target=\"_parent\"><img src=\"https://colab.research.google.com/assets/colab-badge.svg\" alt=\"Open In Colab\"/></a>\n",
    "  </td>\n",
    "  <td>\n",
    "    <a target=\"_blank\" href=\"https://kaggle.com/kernels/welcome?src=https://github.com/ageron/handson-ml3/blob/main/tools_numpy.ipynb\"><img src=\"https://kaggle.com/static/images/open-in-kaggle.svg\" /></a>\n",
    "  </td>\n",
    "</table>"
   ]
  },
  {
   "cell_type": "markdown",
   "id": "e0c5b198",
   "metadata": {
    "slideshow": {
     "slide_type": "slide"
    }
   },
   "source": [
    "### [Video de apoyo a la lectura interactiva y experimental de este cuaderno]()"
   ]
  },
  {
   "cell_type": "markdown",
   "id": "41e82203",
   "metadata": {
    "slideshow": {
     "slide_type": "slide"
    }
   },
   "source": [
    "### [Vínculo al programa del curso:  ]()\n",
    "\n"
   ]
  },
  {
   "cell_type": "markdown",
   "id": "d11ab06d",
   "metadata": {
    "slideshow": {
     "slide_type": "slide"
    }
   },
   "source": [
    "Un reconocimiento a mis estudiantes que han construido conmigo este saber pedagógico:\n",
    "\n",
    "<img src = ''> \n",
    "\n"
   ]
  },
  {
   "cell_type": "markdown",
   "id": "8a74a56c-0ce6-4ad6-b985-553fd7fb68bb",
   "metadata": {},
   "source": [
    "Reconocimiento a las profesoras destacadas en enseñanza de la matemática en Colombia\n"
   ]
  },
  {
   "cell_type": "code",
   "execution_count": 2,
   "id": "6cb89c0b",
   "metadata": {},
   "outputs": [
    {
     "ename": "FileNotFoundError",
     "evalue": "[Errno 2] No such file or directory: 'C:/Users/marco/Documentos/docencia/groups_list/asesoria.xlsx'",
     "output_type": "error",
     "traceback": [
      "\u001b[31m---------------------------------------------------------------------------\u001b[39m",
      "\u001b[31mFileNotFoundError\u001b[39m                         Traceback (most recent call last)",
      "\u001b[36mCell\u001b[39m\u001b[36m \u001b[39m\u001b[32mIn[2]\u001b[39m\u001b[32m, line 6\u001b[39m\n\u001b[32m      4\u001b[39m \u001b[38;5;66;03m# Cargar la lista de estudiantes desde el archivo CSV\u001b[39;00m\n\u001b[32m      5\u001b[39m path = \u001b[33m'\u001b[39m\u001b[33mC:/Users/marco/Documentos/docencia/groups_list/asesoria.xlsx\u001b[39m\u001b[33m'\u001b[39m\n\u001b[32m----> \u001b[39m\u001b[32m6\u001b[39m df = \u001b[43mpd\u001b[49m\u001b[43m.\u001b[49m\u001b[43mread_excel\u001b[49m\u001b[43m(\u001b[49m\u001b[43mpath\u001b[49m\u001b[43m)\u001b[49m\n\u001b[32m      7\u001b[39m df \n",
      "\u001b[36mFile \u001b[39m\u001b[32mc:\\Users\\marco\\Documentos\\investigacion\\investigacion_en_asesoria\\.venv\\Lib\\site-packages\\pandas\\io\\excel\\_base.py:495\u001b[39m, in \u001b[36mread_excel\u001b[39m\u001b[34m(io, sheet_name, header, names, index_col, usecols, dtype, engine, converters, true_values, false_values, skiprows, nrows, na_values, keep_default_na, na_filter, verbose, parse_dates, date_parser, date_format, thousands, decimal, comment, skipfooter, storage_options, dtype_backend, engine_kwargs)\u001b[39m\n\u001b[32m    493\u001b[39m \u001b[38;5;28;01mif\u001b[39;00m \u001b[38;5;129;01mnot\u001b[39;00m \u001b[38;5;28misinstance\u001b[39m(io, ExcelFile):\n\u001b[32m    494\u001b[39m     should_close = \u001b[38;5;28;01mTrue\u001b[39;00m\n\u001b[32m--> \u001b[39m\u001b[32m495\u001b[39m     io = \u001b[43mExcelFile\u001b[49m\u001b[43m(\u001b[49m\n\u001b[32m    496\u001b[39m \u001b[43m        \u001b[49m\u001b[43mio\u001b[49m\u001b[43m,\u001b[49m\n\u001b[32m    497\u001b[39m \u001b[43m        \u001b[49m\u001b[43mstorage_options\u001b[49m\u001b[43m=\u001b[49m\u001b[43mstorage_options\u001b[49m\u001b[43m,\u001b[49m\n\u001b[32m    498\u001b[39m \u001b[43m        \u001b[49m\u001b[43mengine\u001b[49m\u001b[43m=\u001b[49m\u001b[43mengine\u001b[49m\u001b[43m,\u001b[49m\n\u001b[32m    499\u001b[39m \u001b[43m        \u001b[49m\u001b[43mengine_kwargs\u001b[49m\u001b[43m=\u001b[49m\u001b[43mengine_kwargs\u001b[49m\u001b[43m,\u001b[49m\n\u001b[32m    500\u001b[39m \u001b[43m    \u001b[49m\u001b[43m)\u001b[49m\n\u001b[32m    501\u001b[39m \u001b[38;5;28;01melif\u001b[39;00m engine \u001b[38;5;129;01mand\u001b[39;00m engine != io.engine:\n\u001b[32m    502\u001b[39m     \u001b[38;5;28;01mraise\u001b[39;00m \u001b[38;5;167;01mValueError\u001b[39;00m(\n\u001b[32m    503\u001b[39m         \u001b[33m\"\u001b[39m\u001b[33mEngine should not be specified when passing \u001b[39m\u001b[33m\"\u001b[39m\n\u001b[32m    504\u001b[39m         \u001b[33m\"\u001b[39m\u001b[33man ExcelFile - ExcelFile already has the engine set\u001b[39m\u001b[33m\"\u001b[39m\n\u001b[32m    505\u001b[39m     )\n",
      "\u001b[36mFile \u001b[39m\u001b[32mc:\\Users\\marco\\Documentos\\investigacion\\investigacion_en_asesoria\\.venv\\Lib\\site-packages\\pandas\\io\\excel\\_base.py:1550\u001b[39m, in \u001b[36mExcelFile.__init__\u001b[39m\u001b[34m(self, path_or_buffer, engine, storage_options, engine_kwargs)\u001b[39m\n\u001b[32m   1548\u001b[39m     ext = \u001b[33m\"\u001b[39m\u001b[33mxls\u001b[39m\u001b[33m\"\u001b[39m\n\u001b[32m   1549\u001b[39m \u001b[38;5;28;01melse\u001b[39;00m:\n\u001b[32m-> \u001b[39m\u001b[32m1550\u001b[39m     ext = \u001b[43minspect_excel_format\u001b[49m\u001b[43m(\u001b[49m\n\u001b[32m   1551\u001b[39m \u001b[43m        \u001b[49m\u001b[43mcontent_or_path\u001b[49m\u001b[43m=\u001b[49m\u001b[43mpath_or_buffer\u001b[49m\u001b[43m,\u001b[49m\u001b[43m \u001b[49m\u001b[43mstorage_options\u001b[49m\u001b[43m=\u001b[49m\u001b[43mstorage_options\u001b[49m\n\u001b[32m   1552\u001b[39m \u001b[43m    \u001b[49m\u001b[43m)\u001b[49m\n\u001b[32m   1553\u001b[39m     \u001b[38;5;28;01mif\u001b[39;00m ext \u001b[38;5;129;01mis\u001b[39;00m \u001b[38;5;28;01mNone\u001b[39;00m:\n\u001b[32m   1554\u001b[39m         \u001b[38;5;28;01mraise\u001b[39;00m \u001b[38;5;167;01mValueError\u001b[39;00m(\n\u001b[32m   1555\u001b[39m             \u001b[33m\"\u001b[39m\u001b[33mExcel file format cannot be determined, you must specify \u001b[39m\u001b[33m\"\u001b[39m\n\u001b[32m   1556\u001b[39m             \u001b[33m\"\u001b[39m\u001b[33man engine manually.\u001b[39m\u001b[33m\"\u001b[39m\n\u001b[32m   1557\u001b[39m         )\n",
      "\u001b[36mFile \u001b[39m\u001b[32mc:\\Users\\marco\\Documentos\\investigacion\\investigacion_en_asesoria\\.venv\\Lib\\site-packages\\pandas\\io\\excel\\_base.py:1402\u001b[39m, in \u001b[36minspect_excel_format\u001b[39m\u001b[34m(content_or_path, storage_options)\u001b[39m\n\u001b[32m   1399\u001b[39m \u001b[38;5;28;01mif\u001b[39;00m \u001b[38;5;28misinstance\u001b[39m(content_or_path, \u001b[38;5;28mbytes\u001b[39m):\n\u001b[32m   1400\u001b[39m     content_or_path = BytesIO(content_or_path)\n\u001b[32m-> \u001b[39m\u001b[32m1402\u001b[39m \u001b[38;5;28;01mwith\u001b[39;00m \u001b[43mget_handle\u001b[49m\u001b[43m(\u001b[49m\n\u001b[32m   1403\u001b[39m \u001b[43m    \u001b[49m\u001b[43mcontent_or_path\u001b[49m\u001b[43m,\u001b[49m\u001b[43m \u001b[49m\u001b[33;43m\"\u001b[39;49m\u001b[33;43mrb\u001b[39;49m\u001b[33;43m\"\u001b[39;49m\u001b[43m,\u001b[49m\u001b[43m \u001b[49m\u001b[43mstorage_options\u001b[49m\u001b[43m=\u001b[49m\u001b[43mstorage_options\u001b[49m\u001b[43m,\u001b[49m\u001b[43m \u001b[49m\u001b[43mis_text\u001b[49m\u001b[43m=\u001b[49m\u001b[38;5;28;43;01mFalse\u001b[39;49;00m\n\u001b[32m   1404\u001b[39m \u001b[43m\u001b[49m\u001b[43m)\u001b[49m \u001b[38;5;28;01mas\u001b[39;00m handle:\n\u001b[32m   1405\u001b[39m     stream = handle.handle\n\u001b[32m   1406\u001b[39m     stream.seek(\u001b[32m0\u001b[39m)\n",
      "\u001b[36mFile \u001b[39m\u001b[32mc:\\Users\\marco\\Documentos\\investigacion\\investigacion_en_asesoria\\.venv\\Lib\\site-packages\\pandas\\io\\common.py:882\u001b[39m, in \u001b[36mget_handle\u001b[39m\u001b[34m(path_or_buf, mode, encoding, compression, memory_map, is_text, errors, storage_options)\u001b[39m\n\u001b[32m    873\u001b[39m         handle = \u001b[38;5;28mopen\u001b[39m(\n\u001b[32m    874\u001b[39m             handle,\n\u001b[32m    875\u001b[39m             ioargs.mode,\n\u001b[32m   (...)\u001b[39m\u001b[32m    878\u001b[39m             newline=\u001b[33m\"\u001b[39m\u001b[33m\"\u001b[39m,\n\u001b[32m    879\u001b[39m         )\n\u001b[32m    880\u001b[39m     \u001b[38;5;28;01melse\u001b[39;00m:\n\u001b[32m    881\u001b[39m         \u001b[38;5;66;03m# Binary mode\u001b[39;00m\n\u001b[32m--> \u001b[39m\u001b[32m882\u001b[39m         handle = \u001b[38;5;28;43mopen\u001b[39;49m\u001b[43m(\u001b[49m\u001b[43mhandle\u001b[49m\u001b[43m,\u001b[49m\u001b[43m \u001b[49m\u001b[43mioargs\u001b[49m\u001b[43m.\u001b[49m\u001b[43mmode\u001b[49m\u001b[43m)\u001b[49m\n\u001b[32m    883\u001b[39m     handles.append(handle)\n\u001b[32m    885\u001b[39m \u001b[38;5;66;03m# Convert BytesIO or file objects passed with an encoding\u001b[39;00m\n",
      "\u001b[31mFileNotFoundError\u001b[39m: [Errno 2] No such file or directory: 'C:/Users/marco/Documentos/docencia/groups_list/asesoria.xlsx'"
     ]
    }
   ],
   "source": [
    "import pandas as pd\n",
    "import numpy as np\n",
    "\n",
    "# Cargar la lista de estudiantes desde el archivo CSV\n",
    "path = 'C:/Users/marco/Documentos/docencia/groups_list/asesoria.xlsx'\n",
    "df = pd.read_excel(path)\n",
    "df \n"
   ]
  },
  {
   "cell_type": "code",
   "execution_count": null,
   "id": "c49a1ed4",
   "metadata": {},
   "outputs": [],
   "source": [
    "estudiantes.index = range(1, len(estudiantes) + 1)\n",
    "estudiantes.head(17) "
   ]
  },
  {
   "cell_type": "markdown",
   "id": "d7598d0a-d9b7-4ae0-b029-a0ed6ed1130b",
   "metadata": {},
   "source": [
    "\n",
    "# Principios de mi labor docente"
   ]
  },
  {
   "cell_type": "markdown",
   "id": "4f9d8cf9",
   "metadata": {
    "slideshow": {
     "slide_type": "slide"
    }
   },
   "source": [
    "## Modelo general de clase: [aula invertida](https://www3.gobiernodecanarias.org/medusa/ecoescuela/pedagotic/aprendizaje-invertido-flipped-classroom/)"
   ]
  },
  {
   "cell_type": "markdown",
   "id": "eb6ed03a",
   "metadata": {},
   "source": [
    "<img src = 'https://resources.maneuveringthemiddle.com/wp-content/uploads/2020/07/04212706/1-5.png' width = 200>  \n",
    "\n"
   ]
  },
  {
   "cell_type": "markdown",
   "id": "34319cce-a71b-4f64-aab8-b53e521efa40",
   "metadata": {},
   "source": [
    "# Metodología de Aprendizaje Basado en Problemas y Proyectos (ABPP)\n"
   ]
  },
  {
   "cell_type": "markdown",
   "id": "c4f73d81",
   "metadata": {},
   "source": [
    "\n",
    "<img src = 'https://www.unir.net/wp-content/uploads/2020/07/aprendizaje-problemas2-1-1-1-1.jpeg' width = 200>"
   ]
  },
  {
   "cell_type": "markdown",
   "id": "841a985c-bd9b-4dd3-8e4c-893983980af2",
   "metadata": {},
   "source": [
    "# Desarrollo del pensamiento computacional con Lenguaje Python y R; y con archivos Markdown orientado a la formación en ciencia de datos \n",
    "\n"
   ]
  },
  {
   "cell_type": "markdown",
   "id": "3d0eba94",
   "metadata": {},
   "source": [
    "\n",
    "<img src = 'https://i.ytimg.com/vi/mcG_wcR4e6M/maxresdefault.jpg' width = 200>"
   ]
  },
  {
   "cell_type": "markdown",
   "id": "65aa0404-f7ae-495e-864c-1aec01b4255e",
   "metadata": {},
   "source": [
    "# Principio de fomento a la ciencia abierta, enseñar en el acceso a los datos públicos y el uso de software de código abierto  \n"
   ]
  },
  {
   "cell_type": "markdown",
   "id": "18ae9b87",
   "metadata": {},
   "source": [
    "\n",
    "<img src = 'https://unesdoc.unesco.org/in/rest/Thumb/image?id=p%3A%3Ausmarcdef_0000379949_spa&author=UNESCO&title=Recomendaci%C3%B3n+de+la+UNESCO+sobre+la+Ciencia+Abierta&year=2021&publisher=UNESCO&TypeOfDocument=UnescoPhysicalDocument&mat=PGD&ct=true&size=512&isPhysical=1' width = 200>"
   ]
  },
  {
   "cell_type": "markdown",
   "id": "d9559f85",
   "metadata": {},
   "source": [
    "El enfoque STEAMS en educación preescolar, primaria y secundaria es una extensión del enfoque STEM (Ciencia, Tecnología, Ingeniería y Matemáticas) y su variante STEAM, que incorpora el Arte. "
   ]
  },
  {
   "cell_type": "markdown",
   "id": "96775931",
   "metadata": {
    "slideshow": {
     "slide_type": "slide"
    }
   },
   "source": [
    "## Título de la Asesoría: Modelado con ecuaciones  \n",
    "\n"
   ]
  },
  {
   "cell_type": "markdown",
   "id": "10e55ccf",
   "metadata": {},
   "source": [
    "# Estructura general para todas las clases\n",
    "\n",
    "Dame, por favor, un diseño de clase, con el enfoque: \"Aula Invertida, STEAMS y de Aprendizaje Basado en Problemas y Proyectos(ABPP)\" sobre: \"Modelado con ecuaciones lineales, cuadráticas y con raíces\", siguiendo la estructura:  \n",
    "\n",
    "1. Título de la clase   \n",
    "   \n",
    "2. Objetivos de aprendizaje que incluyan los indicadores del logro de estos objetivos.  \n",
    "   \n",
    "3. Un mapa conceptual que resuma la clase elaborado en Graphviz de python con nodos y edges de diferentes formas, colores y rellenos y renderizado en la siguiente ubicación: `\"C:/Users/marco/Downloads\"`. No olvides el parámetro `view = True` para el método `render()` de Graphviz. Para este mapa controla las superposiciones de los nodos con: graph [overlap=false]; // Elimina superposiciones (puede aumentar el espacio)\n",
    "graph [overlap=\"scalexy\"]; // Escala el gráfico para evitar overlaps\n",
    "graph [overlap=\"compress\"]; // Comprime el grafo sin overlaps  \n",
    "\n",
    "4. Dame elementos históricos y epistemológicos asociados a esta clase, pero contados como un cuento al estilo de un cuentero antioqueño en Colombia. Incluye imágenes de los protagonistas históricos de esta clase.   \n",
    "   \n",
    "5. Contenido de la clase. Que el contenido parta de una situación real para llegar a una constitución del modelo matemático que represente tal situación real.   \n",
    "   \n",
    "6. Actividades de aprendizaje: \n",
    "     - Diseña una actividad de aprendizaje a través del uso de la Calculadora Casio 991 LA cw  \n",
    "   \n",
    "7. Incluye una canción o un poema que ayude a interiorizar y fijar los conceptos asociados a esta clase.   \n",
    "   \n",
    "8. Tarea o actividades de ejercitación y fijación.   \n",
    "   \n",
    "9.  Evaluación incluyendo diez proyectos, un ejemplo de quiz (de tres preguntas) y un ejemplo de parcial (de cinco puntos)  \n",
    "    \n",
    "10.  Diseño de actividad de retroalimentación.   \n",
    "    \n",
    "11.  Dame un vocabulario y frases del idioma inglés asociadas a esta clase.   \n",
    "    \n",
    "12.  Incluye apéndice para la clase sobre desarrollo de habilidades para trabajar en equipo y de asertividad y empatía para relacionarnos. También elementos de la inteligencia emocional para presentar pruebas sin temor y sin realizar fraude en ellas.    \n",
    "     \n",
    "13. Incluye 10 referentes en didáctica de la matemática que estén de acuerdo a la propuesta didáctica de esta clase. Adiciona a estos referentes a Raymond Duval (Representaciones y cambios de representación para la adquisición de conceptos matemáticos) y a Jeannette Wing (Desarrollo del pensamiento computacional). Dejame todos estos referentes ordenados de acuerdo a las normas APA. Dejame todos estos referentes ordenados de acuerdo a las normas APA. Incluye las citaciones a estos referentes a medida que vallas diseñando la clase. \n",
    "\n",
    "Pero  que este diseño sea para que el estudiante pueda aprender experimentando en cuadernos Jupyter con funciones de usuario y animaciones y visualizaciones en python. En particular utiliza para el diseño de clase a Numpy, Pandas, SymPy, Matplotlib.pyplot, Seaborn, Plotly, ipywidgets, matplotlib.animation y Jupyter Notebook.    \n",
    "\n",
    "Cada vez que utilices `matplotlib.animacion` no olvides incluir el uso de `IPython. display` para la rederización de estas animaciones a través de Jupyter Notebook.   \n",
    "\n",
    "No olvides darme los diseños de clase con las ecuaciones matemáticas delimitadas con signo de dolar $ para que VS Code si me renderize estas expresiones del lenguaje latex. Cuando vallas a utilizar ipywidgets ten en cuenta la siguiente importación inicial para garantizar que la visualización interactiva si se renderize en VS Code:  \n",
    "\n",
    "import numpy as np  \n",
    "import matplotlib.pyplot as plt  \n",
    "import ipywidgets as widgets  \n",
    "from IPython.display import display, clear_output  \n",
    "from matplotlib.patches import Rectangle  \n",
    "\n",
    "# Configuración inicial para visualización estática  \n",
    "%matplotlib inline "
   ]
  },
  {
   "cell_type": "code",
   "execution_count": 3,
   "id": "81235e9f",
   "metadata": {},
   "outputs": [],
   "source": [
    "path_image = r'C:/Users/marco/Downloads'\n",
    "def save_fig(nombre_archivo_imagen):\n",
    "    import os \n",
    "    import matplotlib.pyplot as plt \n",
    "    imagen_path = os.path.join(path_image, nombre_archivo_imagen)\n",
    "    plt.savefig(imagen_path, bbox_inches='tight')"
   ]
  },
  {
   "cell_type": "markdown",
   "id": "f227c429",
   "metadata": {},
   "source": [
    "# **Diseño de Clase: Modelado con Ecuaciones Lineales, Cuadráticas y con Raíces**  \n"
   ]
  },
  {
   "cell_type": "markdown",
   "id": "bbb66086",
   "metadata": {},
   "source": [
    "**Enfoque Pedagógico:** Aula Invertida, STEAM, Aprendizaje Basado en Problemas y Proyectos (ABPP)  \n"
   ]
  },
  {
   "cell_type": "markdown",
   "id": "d5fd9efa",
   "metadata": {},
   "source": [
    "**Herramientas Tecnológicas:** Jupyter Notebook, Python (SymPy, Matplotlib, Plotly, ipywidgets), Calculadora Casio 991 LA cw  \n",
    "\n"
   ]
  },
  {
   "cell_type": "markdown",
   "id": "617da10f",
   "metadata": {},
   "source": [
    "\n",
    "\n",
    "## **1. Título de la Clase**  \n",
    "📌 **\"De lo Real a lo Abstracto: Modelando el Mundo con Ecuaciones\"**  \n",
    "\n"
   ]
  },
  {
   "cell_type": "markdown",
   "id": "ef072839",
   "metadata": {},
   "source": [
    "\n",
    "\n",
    "## **2. Objetivos de Aprendizaje**  \n",
    "| **Objetivo** | **Indicadores de Logro** |  \n",
    "|--------------|--------------------------|  \n",
    "| Modelar situaciones reales con ecuaciones lineales ($ax + b = 0$), cuadráticas ($ax^2 + bx + c = 0$) y con raíces ($\\sqrt{x} = k$). | - Identifica variables y relaciones en contextos cotidianos. <br> - Plantea ecuaciones correctamente a partir de datos. |  \n",
    "| Resolver ecuaciones usando métodos analíticos, gráficos y herramientas tecnológicas (Python, calculadora). | - Aplica factorización, fórmula cuadrática y propiedades de raíces. <br> - Genera visualizaciones interactivas en Jupyter. |  \n",
    "| Analizar críticamente soluciones en contextos STEAM (ej: trayectorias parabólicas en física, optimización en economía). | - Justifica la validez de soluciones matemáticas en escenarios reales. |  \n",
    "\n"
   ]
  },
  {
   "cell_type": "markdown",
   "id": "131aba8c",
   "metadata": {},
   "source": [
    "\n",
    "\n",
    "## **3. Mapa Conceptual (Graphviz)**  \n"
   ]
  },
  {
   "cell_type": "code",
   "execution_count": 5,
   "id": "7c1e68dc",
   "metadata": {},
   "outputs": [
    {
     "data": {
      "text/plain": [
       "'C:\\\\Users\\\\marco\\\\Downloads\\\\Modelado_Ecuaciones.gv.png'"
      ]
     },
     "execution_count": 5,
     "metadata": {},
     "output_type": "execute_result"
    }
   ],
   "source": [
    "\n",
    "from graphviz import Digraph\n",
    "\n",
    "# Crear grafo\n",
    "graph = Digraph('Modelado_Ecuaciones', format='png', engine='neato')\n",
    "graph.attr(overlap='scalexy')  # Evita superposición de nodos\n",
    "\n",
    "# Nodos principales\n",
    "graph.node('A', 'Modelado Matemático', shape='ellipse', style='filled', color='lightblue2')\n",
    "graph.node('B', 'Ecuaciones Lineales', shape='box', color='coral')\n",
    "graph.node('C', 'Ecuaciones Cuadráticas', shape='box', color='gold')\n",
    "graph.node('D', 'Ecuaciones con Raíces', shape='box', color='palegreen')\n",
    "\n",
    "# Subnodos y conexiones\n",
    "graph.edge('A', 'B', label='Ej: Costo fijo + variable')\n",
    "graph.edge('A', 'C', label='Ej: Trayectoria parabólica')\n",
    "graph.edge('A', 'D', label='Ej: Cálculo de distancias')\n",
    "\n",
    "# Renderizar y guardar\n",
    "graph.render(directory='C:/Users/marco/Downloads', view=True)\n"
   ]
  },
  {
   "cell_type": "markdown",
   "id": "73fbc4fa",
   "metadata": {},
   "source": [
    "\n",
    "\n",
    "## **4. Historia y Epistemología (Cuento Antioqueño)**  \n",
    "*\"¡Ajá, pues oiga muchá!* 😄 En los viejos tiempos de Babilonia (1800 a.C.), los comerciantes ya resolvían ecuaciones lineales pa' repartir cosechas. Después, el persa **Al-Khwarizmi** (s. IX) les puso nombre *\"Al-jabr\"* (¡el álgebra!), y hasta dibujaba cuadrados pa' resolver $x^2 + 10x = 39$... ¡Era como jugar con baldosas!  \n",
    "\n",
    "*Y qué me dice del italiano **Tartaglia**?* En el siglo XVI, este hombrecito se peleaba con **Cardano** por la fórmula de las cúbicas, mientras **Galileo** usaba parábolas pa' entender el vuelo de los cañones. ¡Hasta Newton después las usó pa' las leyes del movimiento!\"*  \n",
    "\n",
    "**Imágenes:**  \n",
    "- [Al-Khwarizmi](https://upload.wikimedia.org/wikipedia/commons/6/69/Al-Khwarizmi_portrait.jpg)  \n",
    "- [Tartaglia](https://upload.wikimedia.org/wikipedia/commons/5/5f/Niccol%C3%B2_Tartaglia.jpg)  \n",
    "\n"
   ]
  },
  {
   "cell_type": "markdown",
   "id": "729b2342",
   "metadata": {},
   "source": [
    "\n",
    "\n",
    "## **5. Contenido de la Clase**  \n",
    "### **Situación Real:**  \n",
    "*\"Un emprendedor vende empanadas: costo fijo diario es \\$20.000 y cada empanada cuesta \\$1.000. ¿Cuántas debe vender para no perder dinero?\"*  \n"
   ]
  },
  {
   "cell_type": "markdown",
   "id": "a18c8321",
   "metadata": {},
   "source": [
    "\n",
    "### **Modelado Matemático:**  \n",
    "1. **Ecuación Lineal:** $20.000 + 1.000x = \\text{Ingresos}$.  \n",
    "2. **Solución con Python:** "
   ]
  },
  {
   "cell_type": "code",
   "execution_count": 6,
   "id": "4e0aaede",
   "metadata": {},
   "outputs": [
    {
     "name": "stdout",
     "output_type": "stream",
     "text": [
      "Debe vender 5 empanadas\n"
     ]
    }
   ],
   "source": [
    " \n",
    "from sympy import symbols, solve\n",
    "x = symbols('x')\n",
    "sol = solve(20000 + 1000*x - 5000*x, x)  # Ejemplo con ingresos 5000x\n",
    "print(f\"Debe vender {sol[0]} empanadas\")\n",
    "  \n",
    "\n"
   ]
  },
  {
   "cell_type": "markdown",
   "id": "b6156f6d",
   "metadata": {},
   "source": [
    "# Ejemplo ilustrativo 2 \n",
    "\n",
    "Planteamiento del problema de manera verbal:  \n",
    "\n",
    "Un químico tiene dos soluciones. La primera es ácida en un 80% y la segunda es ácida en un 30%.   \n",
    "¿Qué cantidad de cada una se necesita para formar 200 litros de una solución ácida en un 62%? "
   ]
  },
  {
   "cell_type": "markdown",
   "id": "7f147ac1",
   "metadata": {},
   "source": [
    " ## [GUÍA PARA MODELAR CON ECUACIONES](chrome-extension://efaidnbmnnnibpcajpcglclefindmkaj/https://students.aiu.edu/submissions/profiles/resources/onlineBook/k6L8A3_precalculo_-_matematicas_para_el_calculo-1.pdf)\n"
   ]
  },
  {
   "cell_type": "markdown",
   "id": "1a500b0a",
   "metadata": {},
   "source": [
    " 1. Identifique la variable.  Identifique la cantidad que el problema le pide hallar. En general, esta cantidad puede ser determinada por una cuidadosa lectura de la pregunta que se plantea al final del problema. Después introduzca notación para la variable (llámela $x$ o alguna otra letra).  \n"
   ]
  },
  {
   "cell_type": "markdown",
   "id": "7ef09311",
   "metadata": {},
   "source": [
    "2. Transforme palabras en álgebra.  De nuevo lea cada oración del problema y exprese, en términos de la variable que haya definido en el Paso 1, todas las cantidades mencionadas en el problema. Para organizar esta información, a veces es útil trazar un diagrama o hacer una tabla.  \n"
   ]
  },
  {
   "cell_type": "markdown",
   "id": "09aa378a",
   "metadata": {},
   "source": [
    "\n",
    "3. Formule el modelo.  Encuentre el dato de importancia decisiva en el problema, que dé una relación entre las expresiones que haya citado en el Paso 2.   \n"
   ]
  },
  {
   "cell_type": "markdown",
   "id": "8d706749",
   "metadata": {},
   "source": [
    "4. Formule una ecuación (o modelo) que exprese esta relación.\n"
   ]
  },
  {
   "cell_type": "markdown",
   "id": "e17edca0",
   "metadata": {},
   "source": [
    "5. Resuelva la ecuación y compruebe su respuesta.  Resuelva la ecuación, verifique su respuesta, y exprésela como una oración que conteste la pregunta planteada en el problema.\n"
   ]
  },
  {
   "cell_type": "markdown",
   "id": "bd7ea077",
   "metadata": {},
   "source": [
    "### Proceso de modelamiento \n",
    "\n",
    "1. $x$: la cantidad, de la solución ácida al 80%, que necesito para la mezcla de 200 litros. \n",
    "2. $200 - x$: Es la cantidad, de la solución áceda al 30%, que necesito para la mezcla de 200 litros. \n",
    "\n",
    "\n",
    "$x + (200 - x ) = 200$\n",
    "\n",
    "Tomamos la definición de acidez como un cociente\n",
    "\n",
    "$$ \\text{Porcentaje de acidez}  = \\frac{\\text{Cantidad de ácido por lo regular en gramos}}{\\text{Volumen de agua}}$$"
   ]
  },
  {
   "cell_type": "markdown",
   "id": "6d965086",
   "metadata": {},
   "source": [
    "$$ \\text{ Cantidad de ácido presente en la solución al 80\\% } + \\text{Cantidad de ácido de la solución al 30\\%} = \\text{Cantidad de ácido en los 200 litros} $$"
   ]
  },
  {
   "cell_type": "markdown",
   "id": "cdf069bc",
   "metadata": {},
   "source": [
    "x(0.8) + (200-x)0.3 = \\tex{Cantidad de ácido en los 200 litros}"
   ]
  },
  {
   "cell_type": "markdown",
   "id": "36d824ae",
   "metadata": {},
   "source": [
    "$$\\frac{\\text{Cantidad de ácido en los 200 litros}}{200} = 0.62$$"
   ]
  },
  {
   "cell_type": "markdown",
   "id": "719a77a3",
   "metadata": {},
   "source": [
    "Esta es la ecuación modelo \n",
    "$$\\frac{x(0.8) + (200-x)0.3}{200} = 0.62$$\n",
    "\n",
    "Y este modelo es lineal porque se puede llevar a la forma $ax + b = 0$\n",
    "\n"
   ]
  },
  {
   "cell_type": "code",
   "execution_count": 8,
   "id": "41600ba6",
   "metadata": {},
   "outputs": [],
   "source": [
    "from sympy import * "
   ]
  },
  {
   "cell_type": "code",
   "execution_count": 9,
   "id": "e51a421d",
   "metadata": {},
   "outputs": [],
   "source": [
    "x = var('x')"
   ]
  },
  {
   "cell_type": "code",
   "execution_count": 11,
   "id": "4e6a3c03",
   "metadata": {},
   "outputs": [],
   "source": [
    "e = Eq((x*0.8+(200-x)*0.3)/200, 0.62)"
   ]
  },
  {
   "cell_type": "code",
   "execution_count": 12,
   "id": "02e2e835",
   "metadata": {},
   "outputs": [
    {
     "data": {
      "text/plain": [
       "[128.000000000000]"
      ]
     },
     "execution_count": 12,
     "metadata": {},
     "output_type": "execute_result"
    }
   ],
   "source": [
    "solve(e, x)"
   ]
  },
  {
   "cell_type": "markdown",
   "id": "890d8bcf",
   "metadata": {},
   "source": [
    "Se necesitan 128 litros de la solución al 80% de acedez y 72 litros de la solución al 30% de acidez para obtener 200 litros de una solución al 62% de acidez. "
   ]
  },
  {
   "cell_type": "code",
   "execution_count": 13,
   "id": "afd21d64",
   "metadata": {},
   "outputs": [
    {
     "data": {
      "text/plain": [
       "0.62"
      ]
     },
     "execution_count": 13,
     "metadata": {},
     "output_type": "execute_result"
    }
   ],
   "source": [
    "#Verificar \n",
    "\n",
    "(128*0.8+72*0.3)/200"
   ]
  },
  {
   "cell_type": "markdown",
   "id": "13da5ae2",
   "metadata": {},
   "source": [
    "El resultado obtenido satisface las hipótesis del problema. "
   ]
  },
  {
   "cell_type": "markdown",
   "id": "535458dc",
   "metadata": {},
   "source": [
    "# Reflexiones  \n",
    "* Proceso de modelación \n",
    "\n",
    "$$ \\text{Verbal} \\to \\text{Ecuación} $$\n",
    "\n",
    "* La relacióin entre las variables involucradas es uno de los grandes obtáculos \n",
    "\n",
    "$$ C = \\frac{A}{V} $$\n",
    "\n",
    "* $$ \\text{Volumen} * \\text{Concentración} = \\text{Cantidad de ácidop en gramos} $$"
   ]
  },
  {
   "cell_type": "markdown",
   "id": "c670133a",
   "metadata": {},
   "source": [
    "\n",
    "\n",
    "## **6. Actividades de Aprendizaje**  \n",
    "### **Con Calculadora Casio 991 LA cw:**  \n",
    "1. **Ejercicio:** Resolver $3x^2 - 5x + 2 = 0$.  \n",
    "2. **Pasos:**  \n",
    "   - Modo `Equation` → Seleccionar tipo `Polynomial` → Grado `2`.  \n",
    "   - Ingresar coeficientes: `a=3`, `b=-5`, `c=2`.  \n",
    "   - La calculadora muestra raíces: $x=1$ y $x=0.666$.  \n",
    "\n",
    "---\n",
    "\n",
    "## **7. Canción/Poema**  \n",
    "🎵 **\"La Parábola del Saber\"** (Ritmo de bambuco)  \n",
    "*\"Si la vida es una ecuación,  \n",
    "lineal como el tren del amor,  \n",
    "cuadrática como el vuelo de un balón,  \n",
    "¡resuélvela con pasión!\"*  \n",
    "\n"
   ]
  },
  {
   "cell_type": "markdown",
   "id": "e868cbca",
   "metadata": {},
   "source": [
    "\n",
    "\n",
    "## **8. Tareas**  \n",
    "- **Problema STEAM:** Modelar el ahorro de energía en una casa con paneles solares (uso de ecuaciones lineales).  \n",
    "- **Jupyter Notebook:** Crear una animación con `matplotlib.animation` de una pelota siguiendo $y = -x^2 + 4x$.  \n"
   ]
  },
  {
   "cell_type": "markdown",
   "id": "25e0a70b",
   "metadata": {},
   "source": [
    "\n",
    "```python\n",
    "import matplotlib.animation as animation\n",
    "from IPython.display import HTML\n",
    "\n",
    "fig, ax = plt.subplots()\n",
    "x = np.linspace(0, 4, 100)\n",
    "line, = ax.plot(x, -x**2 + 4*x)\n",
    "\n",
    "def animate(i):\n",
    "    line.set_ydata(-(x-i/10)**2 + 4*(x-i/10))\n",
    "    return line,\n",
    "\n",
    "ani = animation.FuncAnimation(fig, animate, frames=40, interval=100)\n",
    "HTML(ani.to_jshtml())\n",
    "```  \n",
    "\n"
   ]
  },
  {
   "cell_type": "markdown",
   "id": "79cf3363",
   "metadata": {},
   "source": [
    "\n",
    "\n",
    "## **9. Evaluación**  \n",
    "### **Proyectos (Ejemplos):**  \n",
    "1. Optimizar costos de una fábrica con ecuaciones lineales.  \n",
    "2. Simular el rebote de un balón (cuadráticas).  \n",
    "\n",
    "### **Quiz (3 Preguntas):**  \n",
    "1. ¿Qué ecuación modela \"un terreno rectangular de área 50m² si un lado mide 5m más que el otro\"?  \n",
    "   - **Opción A:** $x(x+5) = 50$ ✅  \n",
    "\n",
    "### **Parcial (5 Puntos):**  \n",
    "1. Resolver $\\sqrt{2x + 3} = 5$ y graficar la función.  \n",
    "\n",
    "---\n",
    "\n",
    "## **10. Retroalimentación**  \n",
    "- **Rúbrica de Autoevaluación:** Los estudiantes comparan sus soluciones con modelos en Python y reflexionan sobre errores.  \n",
    "\n",
    "---\n",
    "\n",
    "## **11. Vocabulario en Inglés**  \n",
    "- **Equation:** Ecuación  \n",
    "- **Slope:** Pendiente  \n",
    "- **Quadratic formula:** Fórmula cuadrática  \n",
    "\n",
    "---\n",
    "\n",
    "## **12. Apéndice: Habilidades Blandas**  \n",
    "- **Trabajo en Equipo:** Roles claros en proyectos (ej: \"experto en gráficos\", \"analista de datos\").  \n",
    "- **Inteligencia Emocional:** Técnicas de respiración para ansiedad en exámenes.  \n",
    "\n",
    "---\n",
    "\n",
    "## **13. Referentes APA**  \n",
    "1. Duval, R. (2006). *Un enfoque cognitivo de los problemas de comprensión en matemáticas*.  \n",
    "2. Wing, J. (2006). *Computational Thinking*. Communications of the ACM.  \n",
    "3. Schoenfeld, A. H. (1985). *Mathematical Problem Solving*.  \n",
    "\n",
    "**Cita en Contenido:**  \n",
    "*\"Como señala Duval (2006), la comprensión de ecuaciones requiere cambios entre representaciones gráficas y simbólicas\"*.  \n",
    "\n"
   ]
  },
  {
   "cell_type": "markdown",
   "id": "2210a2ef",
   "metadata": {},
   "source": [
    " \n",
    "\n",
    "**Nota:** Todos los códigos Python están diseñados para ejecutarse en **Jupyter Notebook** con visualizaciones interactivas. "
   ]
  },
  {
   "cell_type": "markdown",
   "id": "239427f7",
   "metadata": {},
   "source": [
    "# ARTÍCULO 1. Definir el calendario académico para los diferentes programas de pregrado de los campus\n",
    "regionalizados, correspondiente al primer periodo académico del año 2025, así:\n",
    "\n",
    "\n",
    "* Terminación de clases 08 de junio de 2025.\n",
    "* Exámenes finales 09 al 15 de junio de 2025\n",
    "* Habilitación y validación 16 al 22 de junio de 2025\n",
    "* Terminación oficial 23 de junio de 2025."
   ]
  },
  {
   "cell_type": "markdown",
   "id": "8ba64aed",
   "metadata": {},
   "source": [
    "# Cursos que orienta el profesor Marco Julio Cañas Campillo en 2025  \n",
    "\n",
    "1. Cálculo Vectorial para Ingeniería Agropecuaria\n",
    "2. Análisis Numérico para Licenciatura en Matemáticas. \n",
    "3. Práctica Pedagógica V para Licenciatura en Educación Infantil\n",
    "4. Fundamentos de Lógica para Licenciatura en Matemáticas. \n",
    "\n"
   ]
  },
  {
   "cell_type": "markdown",
   "id": "575b2f43",
   "metadata": {},
   "source": [
    "\n",
    "# Coordinador de los cursos de la Facultad de Educación para regiones:    \n",
    "\n",
    "Andrés Vélez: regioneducacion.fedu@udea.edu.co  \n",
    "Coordinador Regiones  \n",
    "Facultad de Educación  \n",
    "Universidad de Antioquia  "
   ]
  },
  {
   "cell_type": "markdown",
   "id": "b1db4b6c",
   "metadata": {
    "slideshow": {
     "slide_type": "slide"
    }
   },
   "source": [
    "## Monitores\n",
    "\n",
    "* Manuel San Juan Serrano: Contactar escribiendo al correo: manuel.serrano1@udea.edu.co  \n",
    "* Yeifry Sebastian Uribe: yeifry.uribe@udea.edu.co\n"
   ]
  },
  {
   "cell_type": "markdown",
   "id": "10bce0d0",
   "metadata": {
    "slideshow": {
     "slide_type": "slide"
    }
   },
   "source": [
    "## Referentes "
   ]
  },
  {
   "cell_type": "markdown",
   "id": "1db3c468",
   "metadata": {
    "slideshow": {
     "slide_type": "slide"
    }
   },
   "source": [
    "* [Cómo enseñar con cuadernos Jupyter](https://jupyter4edu.github.io/jupyter-edu-book/)  \n",
    "  \n",
    "* [Cómo enseñar matemáticas con calculadora Casio LA991 cw](chrome-extension://efaidnbmnnnibpcajpcglclefindmkaj/https://bibliotecadigital.udea.edu.co/bitstream/10495/32857/4/ParraZapata_2024_DesarrolloPensamientoMatematico2aed_versionweb.pdf)  \n",
    "\n",
    " \n",
    "* R. Duval y Semiosis y pensamiento humano, 2.ª ed. Cali, Colombia: Programa Editorial Universidad del Valle, 2017. [En línea]. Disponible en: https://programaeditorial.univalle.edu.co/gpd-semiosis-y-pensamiento-humano-9789587655278-63324cdb0f6b3.html\n",
    "\n",
    "  \n",
    "* [Recomendación de la UNESCO sobre ciencia abierta](https://unesdoc.unesco.org/ark:/48223/pf0000379949_spa)\n",
    "\n",
    "* [chatGPT](https://openai.com/blog/chatgpt)  \n",
    "* [DeepSeek]()\n",
    "\n"
   ]
  },
  {
   "cell_type": "markdown",
   "id": "8e65d6f9",
   "metadata": {},
   "source": [
    "# Como estudiante, encuentro que...   \n",
    "\n",
    "F: Mis Fortalezas son:     \n",
    "O: Mis Oportunidades son:    \n",
    "D: Mis Debilidades son:    \n",
    "A: Lo que Amenazas mi aprendizaje es:  "
   ]
  },
  {
   "cell_type": "markdown",
   "id": "6b9e56a8",
   "metadata": {
    "slideshow": {
     "slide_type": "slide"
    }
   },
   "source": [
    "### [Evaluamos al profesor Marco Cañas Aquí](https://forms.office.com/Pages/ResponsePage.aspx?id=IefhmYRxjkmK_7KtTlPBwkanXIs1i1FEujpsZgO6dXpUREJPV1kxUk1JV1ozTFJIQVNIQjY5WEY3US4u)"
   ]
  },
  {
   "cell_type": "markdown",
   "id": "10f43536",
   "metadata": {
    "slideshow": {
     "slide_type": "slide"
    }
   },
   "source": [
    "### Continue su aprendizaje en la siguiente clase a través del siguiente [vínculo]()"
   ]
  },
  {
   "cell_type": "markdown",
   "id": "53cc9115",
   "metadata": {
    "slideshow": {
     "slide_type": "slide"
    }
   },
   "source": [
    "## Agradecimientos  \n",
    "\n",
    "Doy gracias a Dios por la vida de mi Hijo Joseph Cañas Osorio y la madurez que ha alcanzado. Este hijo me enorgullece y me hace falta abrazarlo cada día. \n",
    "\n",
    "Y a mi esposa Yasmira Emperatriz Barboza Mogollón por su apoyo, orientación y acompañamiento. "
   ]
  },
  {
   "cell_type": "markdown",
   "id": "b6ba1c23",
   "metadata": {},
   "source": [
    "# Apéndice sobre calendarios y coordinaciones \n",
    "\n",
    "A continuación le envío el horario de la asignatura Cálculo Vectorial  \n",
    "\n",
    "Días:  \n",
    "Lunes - Hora: 7:00 a 12:00M  \n",
    "Fechas:  \n",
    "Febrero: 10-17-24                                          \n",
    " Marzo: 3-10-17-31                                                  \n",
    "Abril:7-21-28                                                   \n",
    "Mayo:5-12-19  \n",
    "\n",
    "Agradezco su apoyo, y si presenta alguna dificultad puede contactarme.  \n",
    "\n",
    "Cordialmente,  \n",
    "Juan Felipe Rivera Hernández  \n",
    "Contacto: 3106314300  "
   ]
  },
  {
   "cell_type": "markdown",
   "id": "0e66cd7c",
   "metadata": {},
   "source": [
    "# Clase de análisis numérico los Martes de 8 a 12 del medio día. "
   ]
  },
  {
   "cell_type": "markdown",
   "id": "c5ff61b1",
   "metadata": {},
   "source": []
  }
 ],
 "metadata": {
  "celltoolbar": "Slideshow",
  "kernelspec": {
   "display_name": ".venv",
   "language": "python",
   "name": "python3"
  },
  "language_info": {
   "codemirror_mode": {
    "name": "ipython",
    "version": 3
   },
   "file_extension": ".py",
   "mimetype": "text/x-python",
   "name": "python",
   "nbconvert_exporter": "python",
   "pygments_lexer": "ipython3",
   "version": "3.12.6"
  },
  "rise": {
   "enable_chalkboard": true,
   "theme": "sky",
   "transition": "zoom"
  }
 },
 "nbformat": 4,
 "nbformat_minor": 5
}
