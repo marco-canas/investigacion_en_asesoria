{
 "cells": [
  {
   "cell_type": "markdown",
   "id": "dc06dec7",
   "metadata": {
    "slideshow": {
     "slide_type": "slide"
    }
   },
   "source": [
    "<table align=\"left\">\n",
    "  <td>\n",
    "    <a href=\"https://colab.research.google.com/github/marco-canas/didactica_ciencia_datos/blob/main/1_curso_machine_learning/1_evaluacion_oral_tarea_quiz_parcial.ipynb\" target=\"_parent\"><img src=\"https://colab.research.google.com/assets/colab-badge.svg\" alt=\"Open In Colab\"/></a>\n",
    "  </td>\n",
    "  <td>\n",
    "    <a target=\"_blank\" href=\"https://kaggle.com/kernels/welcome?src=https://github.com/marco-canas/didactica_ciencia_datos/blob/main/1_curso_machine_learning/1_evaluacion_oral_tarea_quiz_parcial.ipynb\"><img src=\"https://kaggle.com/static/images/open-in-kaggle.svg\" /></a>\n",
    "  </td>\n",
    "</table>"
   ]
  },
  {
   "cell_type": "markdown",
   "id": "e0c5b198",
   "metadata": {
    "slideshow": {
     "slide_type": "slide"
    }
   },
   "source": [
    "### [Video de apoyo a la lectura interactiva y experimental de este cuaderno]()"
   ]
  },
  {
   "cell_type": "markdown",
   "id": "41e82203",
   "metadata": {
    "slideshow": {
     "slide_type": "slide"
    }
   },
   "source": [
    "## [Vínculo al programa del curso:  ]()"
   ]
  },
  {
   "cell_type": "markdown",
   "id": "ca46c23b",
   "metadata": {
    "slideshow": {
     "slide_type": "slide"
    }
   },
   "source": [
    "# Modelo general de clase: [aula invertida](https://www3.gobiernodecanarias.org/medusa/ecoescuela/pedagotic/aprendizaje-invertido-flipped-classroom/)\n"
   ]
  },
  {
   "cell_type": "markdown",
   "id": "7f9be90f",
   "metadata": {
    "slideshow": {
     "slide_type": "slide"
    }
   },
   "source": [
    "# Fomento de la lectura literaria asociada a Ingeniería agropecuaria y licenciatura en Matemáticas y administración de empresas\n",
    "\n",
    "[Hábitos atómicos](https://github.com/marco-canas/habitos_atomicos/blob/main/13_como_dejar_de_postergar_usando_la_regla_de_los_dos_minutos/1_13_como_dejar_de_postergar_usando_la_regla_de_los_dos_minutos.ipynb)"
   ]
  },
  {
   "cell_type": "markdown",
   "id": "96775931",
   "metadata": {
    "slideshow": {
     "slide_type": "slide"
    }
   },
   "source": [
    "# Título de la clase: Automatización de la evaluación con inteligencia artificial\n",
    "\n"
   ]
  },
  {
   "cell_type": "markdown",
   "id": "4c1d2e77",
   "metadata": {},
   "source": [
    "Aquí tienes un **algoritmo de Deep Learning integrado** para reconocimiento de quizzes en imágenes, especializado en lógica digital y circuitos:\n",
    "\n",
    "### **Arquitectura Multimodal con PyTorch** (Esquema simplificado)\n"
   ]
  },
  {
   "cell_type": "code",
   "execution_count": null,
   "id": "a0aaebe0",
   "metadata": {},
   "outputs": [],
   "source": [
    "\n",
    "import torch\n",
    "import torch.nn as nn\n",
    "from transformers import TrOCRProcessor, VisionEncoderDecoderModel\n",
    "from torchvision.models.detection import fasterrcnn_resnet50_fpn\n",
    "\n",
    "class QuizGrader(nn.Module):\n",
    "    def __init__(self):\n",
    "        super().__init__()\n",
    "        \n",
    "        # 1. Modelo OCR para texto (TrOCR pre-entrenado)\n",
    "        self.ocr_processor = TrOCRProcessor.from_pretrained(\"microsoft/trocr-base-printed\")\n",
    "        self.ocr_model = VisionEncoderDecoderModel.from_pretrained(\"microsoft/trocr-base-printed\")\n",
    "        \n",
    "        # 2. Detector de circuitos (Faster R-CNN fine-tuned)\n",
    "        self.circuit_detector = fasterrcnn_resnet50_fpn(pretrained=True)\n",
    "        self.circuit_detector.roi_heads.box_predictor = nn.Linear(1024, 5)  # 5 clases: AND, OR, XOR, NOT, Cable\n",
    "        \n",
    "        # 3. Capa de fusión multimodal\n",
    "        self.fusion = nn.Linear(512 + 256, 128)\n",
    "        \n",
    "        # 4. Clasificador de respuestas\n",
    "        self.classifier = nn.Sequential(\n",
    "            nn.Linear(128, 64),\n",
    "            nn.ReLU(),\n",
    "            nn.Linear(64, 2)  # Correcto/Incorrecto\n",
    "        )\n",
    "\n",
    "    def forward(self, images):\n",
    "        # Procesamiento multimodal\n",
    "        text_features = self.process_text(images)\n",
    "        circuit_features = self.process_circuits(images)\n",
    "        \n",
    "        # Fusión\n",
    "        combined = torch.cat([text_features, circuit_features], dim=1)\n",
    "        fused = self.fusion(combined)\n",
    "        \n",
    "        # Clasificación final\n",
    "        return self.classifier(fused)\n",
    "\n",
    "    def process_text(self, images):\n",
    "        # OCR para texto y fórmulas lógicas\n",
    "        inputs = self.ocr_processor(images, return_tensors=\"pt\", padding=True)\n",
    "        outputs = self.ocr_model.generate(**inputs)\n",
    "        return self.ocr_model.config.encoder(outputs.last_hidden_state)\n",
    "\n",
    "    def process_circuits(self, images):\n",
    "        # Detección de componentes en circuitos\n",
    "        detections = self.circuit_detector(images)\n",
    "        return detections[0]['features']  # Features de la última capa ROI\n",
    "\n",
    "# Función de evaluación\n",
    "def grade_quiz(image_path):\n",
    "    # Cargar y preprocesar imagen\n",
    "    image = preprocess_image(image_path)\n",
    "    \n",
    "    # Modelo\n",
    "    model = QuizGrader().load_state_dict(torch.load('logic_grader.pth'))\n",
    "    \n",
    "    # Predicción\n",
    "    with torch.no_grad():\n",
    "        logits = model(image)\n",
    "        score = torch.sigmoid(logits).item() * 5.0  # Escala 0-5\n",
    "    \n",
    "    return score, generate_feedback(logits)\n",
    "\n"
   ]
  },
  {
   "cell_type": "markdown",
   "id": "38203afb",
   "metadata": {},
   "source": [
    "\n",
    "Este modelo integra visión por computador, procesamiento de lenguaje natural y razonamiento simbólico para evaluación automática en lógica digital. ¿Necesitas ayuda para implementar algún componente específico? "
   ]
  },
  {
   "cell_type": "markdown",
   "id": "cf101603",
   "metadata": {},
   "source": [
    "# Prompt para pedir el diseño de evaluación de acuerdo a la metodología de \"Enseñanza basada en proyectos\"  \n",
    "\n",
    "Dame, por favor, una propuesta de evaluación de esta clase bajo la metodología de enseñanza: \"Aprendizaje basado en proyectos\". Pero además incluye una evaluación escrita tipo quiz y una tipo parcial. "
   ]
  },
  {
   "cell_type": "markdown",
   "id": "42797498",
   "metadata": {},
   "source": [
    "### **1. Título de la Clase**  \n",
    "**\"Geometría Computacional: Modelado de Triángulos con SymPy y Python\"**  \n",
    "\n",
    "---\n",
    "\n",
    "### **2. Objetivos de Aprendizaje**  \n",
    "| **Objetivo** | **Indicadores de Logro** |  \n",
    "|--------------|--------------------------|  \n",
    "| Modelar problemas geométricos de triángulos usando ecuaciones algebraicas. | El estudiante construye ecuaciones para lados, ángulos y áreas usando SymPy. |  \n",
    "| Resolver sistemas de ecuaciones geométricas con SymPy. | Aplica `solve()` para encontrar incógnitas en triángulos (ej: altura dada el área). |  \n",
    "| Visualizar triángulos interactivos con `matplotlib.animation`. | Genera una animación que muestre cómo cambia un triángulo al variar un parámetro. |  \n",
    "\n",
    "---\n",
    "\n",
    "### **3. Mapa Conceptual (Graphviz)**  \n",
    "```python\n",
    "from graphviz import Digraph\n",
    "\n",
    "graph = Digraph('TriangulosSymPy', format='png', \n",
    "                graph_attr={'overlap': 'scalexy', 'rankdir': 'TB'},\n",
    "                node_attr={'style': 'filled', 'fontname': 'Helvetica'})\n",
    "\n",
    "# Nodos principales\n",
    "graph.node('A', 'Triángulos', shape='ellipse', fillcolor='#FFD700')\n",
    "graph.node('B', 'Ecuaciones', shape='box', fillcolor='#ADD8E6')\n",
    "graph.node('C', 'SymPy', shape='component', fillcolor='#90EE90')\n",
    "graph.node('D', 'Visualización', shape='diamond', fillcolor='#FFA07A')\n",
    "\n",
    "# Subnodos\n",
    "graph.node('B1', 'Teorema de Pitágoras', fillcolor='#E6E6FA')\n",
    "graph.node('B2', 'Ley de Cosenos', fillcolor='#E6E6FA')\n",
    "graph.node('D1', 'Matplotlib', fillcolor='#F0E68C')\n",
    "\n",
    "# Conexiones\n",
    "graph.edges(['AB', 'AC', 'AD', 'BB1', 'BB2', 'DD1'])\n",
    "graph.edge('B1', 'C', label='solve()')\n",
    "graph.edge('D1', 'A', label='Animación')\n",
    "\n",
    "# Renderizar\n",
    "graph.render(directory='C:/Users/marco/Downloads', view=True, cleanup=True)\n",
    "```\n",
    "\n",
    "---\n",
    "\n",
    "### **4. Cuento Antioqueño: \"El Misterio del Triángulo de Don Euclides\"**  \n",
    "*\"¡Uy, pues oigan este relajo!* En el pueblo de Amagá, vivía **Don Euclides**, un viejo que medía los terrenos con una cuerda y un palo. Un día, le encargaron dividir un lote triangular en partes iguales...  \n",
    "\n",
    "![Don Euclides](https://example.com/euclides.jpg) *Don Euclides, el geómetra empírico.*  \n",
    "\n",
    "*\"¡No joda! ¿Cómo hago esto sin números?\"*, decía. Hasta que llegó **Rosa, la hija del panadero**, con un libro de álgebra: *\"Don Eucli, si pone letras en lugar de medidas, lo resuelve con ecuaciones\"*. Y así, nació la idea de **modelar triángulos con matemáticas**...\"  \n",
    "\n",
    "---\n",
    "\n",
    "### **5. Contenido de la Clase**  \n",
    "**Situación Real**:  \n",
    "- *\"Un topógrafo necesita calcular la altura de un árbol usando solo la sombra (50 m) y el ángulo de elevación solar (30°).\"*  \n",
    "\n",
    "**Modelo Matemático**:  \n",
    "1. **Triángulo Rectángulo**:  \n",
    "   $$ \\tan(\\theta) = \\frac{\\text{altura}}{\\text{sombra}} $$  \n",
    "2. **Solución con SymPy**:  \n",
    "   ```python\n",
    "   from sympy import symbols, Eq, solve, tan, pi\n",
    "\n",
    "   theta = 30 * pi / 180  # Convertir a radianes\n",
    "   sombra = 50\n",
    "   altura = symbols('h')\n",
    "   ecuacion = Eq(tan(theta), altura / sombra)\n",
    "   solve(ecuacion, altura)  # Output: [28.87 m]\n",
    "   ```\n",
    "\n",
    "---\n",
    "\n",
    "### **6. Actividad con Casio 991 LA cw**  \n",
    "**Título**: *\"Ángulos y Lados con MODE 5\"*  \n",
    "1. Ingresar al modo `Equation` (MODE 5).  \n",
    "2. Resolver:  \n",
    "   $$ a^2 + b^2 = c^2 \\quad \\text{(Pitágoras)}$$  \n",
    "   $$ \\frac{a}{\\sin(A)} = \\frac{b}{\\sin(B)} \\quad \\text{(Ley de Senos)}$$  \n",
    "\n",
    "---\n",
    "\n",
    "### **7. Poema Geométrico**  \n",
    "```markdown\n",
    "*\"Tres lados, tres ángulos,*  \n",
    "*SymPy los vuelve símbolos.*  \n",
    "Con ecuaciones y razón,*  \n",
    "¡El triángulo tiene solución!\"*\n",
    "```\n",
    "\n",
    "---\n",
    "\n",
    "### **8. Tareas**  \n",
    "- **Ejercicio**: Dados dos lados (5 cm, 7 cm) y el ángulo incluido (60°), calcular el tercer lado con SymPy.  \n",
    "- **Proyecto**: Crear un widget interactivo para explorar el Teorema de Pitágoras.  \n",
    "\n",
    "---\n",
    "\n",
    "### **9. Evaluación**  \n",
    "**Quiz (3 preguntas)**:  \n",
    "1. ¿Qué función de SymPy se usa para resolver ecuaciones?  \n",
    "**Parcial (5 puntos)**:  \n",
    "- Animación de un triángulo cuyos lados cambian con un deslizador.  \n",
    "\n",
    "---\n",
    "\n",
    "### **10. Retroalimentación**  \n",
    "**Técnica**: *\"Semáforo de Comprensión\"*  \n",
    "- Verde: Dominé el tema.  \n",
    "- Amarillo: Tengo dudas.  \n",
    "- Rojo: No entendí.  \n",
    "\n",
    "---\n",
    "\n",
    "### **11. Vocabulario Inglés**  \n",
    "- **Triangle properties**: Propiedades de triángulos.  \n",
    "- **Symbolic computation**: Cálculo simbólico.  \n",
    "- **Interactive plot**: Gráfico interactivo.  \n",
    "\n",
    "---\n",
    "\n",
    "### **12. Apéndice: Habilidades Blandas**  \n",
    "| **Habilidad** | **Actividad** |  \n",
    "|---------------|---------------|  \n",
    "| **Asertividad** | Debate: \"¿Cómo explicarías tu solución a un compañero?\" |  \n",
    "| **Anti-fraude** | Juramento ético antes de pruebas: *\"Prometo no copiar\"*. |  \n",
    "\n",
    "---\n",
    "\n",
    "### **13. Referentes APA**  \n",
    "1. Duval, R. (2006). *Un tema crucial en la educación matemática: La habilidad para cambiar el registro de representación*.  \n",
    "2. Wing, J. M. (2006). *Computational thinking*. Communications of the ACM, 49(3), 33-35.  \n",
    "3. Schoenfeld, A. H. (1985). *Mathematical Problem Solving*. Academic Press.  \n",
    "\n",
    "*(Lista completa en formato APA en el material complementario)*  \n",
    "\n",
    "--- \n",
    "\n",
    "**Código para Animación en Jupyter**:  \n",
    "```python\n",
    "import matplotlib.pyplot as plt\n",
    "from matplotlib.animation import FuncAnimation\n",
    "from IPython.display import HTML\n",
    "\n",
    "fig, ax = plt.subplots()\n",
    "ax.set_xlim(0, 10); ax.set_ylim(0, 10)\n",
    "\n",
    "def animate(i):\n",
    "    ax.clear()\n",
    "    ax.plot([0, 8, i, 0], [0, 0, 6, 0], 'r-')  # Triángulo variable\n",
    "    return ax,\n",
    "\n",
    "ani = FuncAnimation(fig, animate, frames=10, interval=500)\n",
    "HTML(ani.to_jshtml())\n",
    "```\n",
    "\n",
    "**Widget Interactivo**:  \n",
    "```python\n",
    "import ipywidgets as widgets\n",
    "from IPython.display import display\n",
    "\n",
    "@widgets.interact(a=(1, 10), b=(1, 10))\n",
    "def plot_triangle(a=3, b=4):\n",
    "    c = (a**2 + b**2)**0.5  # Pitágoras\n",
    "    plt.plot([0, a, 0, 0], [0, 0, b, 0], 'b-')\n",
    "    plt.title(f'Hipotenusa: {c:.2f}')\n",
    "    plt.grid()\n",
    "```\n",
    "\n",
    "¿Necesitas ajustar algún componente? 😊"
   ]
  },
  {
   "cell_type": "markdown",
   "id": "fb9402bb",
   "metadata": {
    "slideshow": {
     "slide_type": "slide"
    }
   },
   "source": [
    "## Estrategias propuestas para la solución de las dificultades de aprendizaje detectadas"
   ]
  },
  {
   "cell_type": "markdown",
   "id": "2dd3bd5c",
   "metadata": {
    "slideshow": {
     "slide_type": "slide"
    }
   },
   "source": []
  },
  {
   "cell_type": "markdown",
   "id": "c6236d5d",
   "metadata": {},
   "source": [
    "# FODA del grupo y del profesor  \n",
    "\n",
    "* F: Fortalezas\n",
    "* O: Oportunidades\n",
    "* D: Dificultades\n",
    "* A: Amenazas."
   ]
  },
  {
   "cell_type": "markdown",
   "id": "b48f9542",
   "metadata": {},
   "source": [
    "## ¿Cómo se sintió en este espacio de enseñanza y aprendizaje?\n",
    "\n",
    "!Dios te bendiga¡"
   ]
  },
  {
   "cell_type": "markdown",
   "id": "10bce0d0",
   "metadata": {
    "slideshow": {
     "slide_type": "slide"
    }
   },
   "source": [
    "## Referentes "
   ]
  },
  {
   "cell_type": "markdown",
   "id": "d204c917",
   "metadata": {},
   "source": [
    "* [Grajales Vanegas, L. M., Restrepo Estrada, C. E., Restrepo Ochoa, S. I., & Ruíz De Villalba, F. (2015). Matemáticas I para las ciencias económicas.](https://github.com/marco-canas/fundamentos_de_la_aritmetica/blob/main/referentes/2_grajales_logica/grajales_lina_matemticas.pdf)\n",
    "  \n",
    "* Duval, R. (2004). Semiosis y pensamiento humano: registros semióticos y aprendizajes intelectuales. Universidad del Valle.\n",
    "\n",
    "* [Aylwin, C. U. (2011). Lógica, conjuntos y números. Universidad de los Andes, Consejo de Publicaciones, Colección: Ciencias Básicas, Serie: Matemáticas.](https://github.com/marco-canas/fundamentos_logica/blob/main/referentes/2_uzcategui/uscategui.pdf)\n",
    "  \n",
    "* [Chollet, F. (2021). Deep learning with Python. Simon and Schuster.](https://github.com/marco-canas/didactica_ciencia_datos/blob/main/2_referentes/chollet/Fran%C3%A7ois%20Chollet%20-%20Deep%20Learning%20with%20Python-Manning%20(2018).pdf)  \n",
    "  \n",
    "* [Watson, S., Stewart, J., & Redlin, L. (2009). Precálculo. Matemáticas para el cálculo.](https://github.com/marco-canas/calculo/blob/main/referents/1_precalculo_stewart/stewart_precalculo.pdf)  \n",
    "\n",
    "* [Purcell, E. J., Varberg, D., & Rigdon, S. E. (2007). Cálculo diferencial e integral. Pearson Educación.](https://github.com/marco-canas/calculo/blob/main/referents/purcell/purcell_calculo.pdf)\n",
    "\n",
    "  \n",
    "\n",
    "* [stewart cálculo](https://udeaeduco-my.sharepoint.com/:b:/g/personal/marco_canas_udea_edu_co/EZgXZjAp8QxPqOAim2hs6LcBNPLGjSHf-xwYnUVYkwa04w?e=RZdTCy)  \n",
    "\n",
    "* [larson](https://udeaeduco-my.sharepoint.com/:b:/g/personal/marco_canas_udea_edu_co/ES71ChFeO9ZDhW3TwC5Ijk8BjxUK3Pdqz_fjHxTTFAfIAg?e=VDEjfu)\n",
    "\n",
    "\n",
    "\n",
    "* [Recomendación de la UNESCO sobre ciencia abierta](https://unesdoc.unesco.org/ark:/48223/pf0000379949_spa)\n",
    "\n",
    "* [chatGPT](https://openai.com/blog/chatgpt)  \n",
    "\n",
    "* [Géron, A. (2017). Hands-on machine learning with scikit-learn and tensorflow: Concepts. Tools, and Techniques to build intelligent systems.](chrome-extension://efaidnbmnnnibpcajpcglclefindmkaj/http://14.139.161.31/OddSem-0822-1122/Hands-On_Machine_Learning_with_Scikit-Learn-Keras-and-TensorFlow-2nd-Edition-Aurelien-Geron.pdf)   \n"
   ]
  },
  {
   "cell_type": "markdown",
   "id": "6b9e56a8",
   "metadata": {
    "slideshow": {
     "slide_type": "slide"
    }
   },
   "source": [
    "### [Evaluamos al profesor Marco Cañas Aquí](https://forms.office.com/Pages/ResponsePage.aspx?id=IefhmYRxjkmK_7KtTlPBwkanXIs1i1FEujpsZgO6dXpUREJPV1kxUk1JV1ozTFJIQVNIQjY5WEY3US4u)"
   ]
  },
  {
   "cell_type": "markdown",
   "id": "071afa04",
   "metadata": {
    "slideshow": {
     "slide_type": "slide"
    }
   },
   "source": [
    "## [Evaluación luego de alcanzar estos objetivos de aprendizaje]()"
   ]
  },
  {
   "cell_type": "markdown",
   "id": "10f43536",
   "metadata": {
    "slideshow": {
     "slide_type": "slide"
    }
   },
   "source": [
    "### Continue su aprendizaje en la siguiente clase a través del siguiente [vínculo]()"
   ]
  },
  {
   "cell_type": "markdown",
   "id": "af751e30",
   "metadata": {
    "slideshow": {
     "slide_type": "slide"
    }
   },
   "source": [
    "# Conjeturas pedagógicas fruto de la aplicación del modelo de aprendizaje invertido y del enfoque hacia la ciencia de datos con python\n",
    "\n",
    "1. Todo cálculo o resultado debe ser interpretado en una línea markdown del cuaderno Jupyter, inmediatamente después de la enunciación del resultado y después de la presentación de una tabla o gráfico bidimensional, de tal menera que el estudiante explicite la comprensión verbal del resultado y las inferencias o estrategias que este resultado le sugieren.   "
   ]
  }
 ],
 "metadata": {
  "celltoolbar": "Slideshow",
  "kernelspec": {
   "display_name": "Python 3",
   "language": "python",
   "name": "python3"
  },
  "language_info": {
   "codemirror_mode": {
    "name": "ipython",
    "version": 3
   },
   "file_extension": ".py",
   "mimetype": "text/x-python",
   "name": "python",
   "nbconvert_exporter": "python",
   "pygments_lexer": "ipython3",
   "version": "3.13.2"
  },
  "rise": {
   "enable_chalkboard": true,
   "theme": "sky",
   "transition": "zoom"
  }
 },
 "nbformat": 4,
 "nbformat_minor": 5
}
