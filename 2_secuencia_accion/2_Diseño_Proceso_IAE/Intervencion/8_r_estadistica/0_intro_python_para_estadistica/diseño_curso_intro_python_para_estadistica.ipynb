{
 "cells": [
  {
   "cell_type": "markdown",
   "id": "12ff036a",
   "metadata": {},
   "source": [
    "<img src = 'asesoria_2025-08-30_hora_10_20.jpg'>"
   ]
  },
  {
   "cell_type": "markdown",
   "id": "3faa4f52",
   "metadata": {},
   "source": [
    "Perfecto, Marco 👌. Te diseño un **curso corto de Introducción a Python para estadística**, pensado para licenciados en matemáticas de la Universidad de Antioquia, y articulado con el texto de referencia clásico de **Montgomery y Runger, *Probabilidad y Estadística aplicadas a la Ingeniería y las Ciencias***. La idea es aprovechar Python como herramienta de **experimentación computacional** en los temas del libro.\n",
    "\n",
    "---\n"
   ]
  },
  {
   "cell_type": "markdown",
   "id": "a1c93660",
   "metadata": {},
   "source": [
    "\n",
    "# Curso corto: Introducción a Python para Estadística\n"
   ]
  },
  {
   "cell_type": "markdown",
   "id": "260a3c9f",
   "metadata": {},
   "source": [
    "\n",
    "**Programa de Licenciatura en Matemáticas – Universidad de Antioquia**\n",
    "\n",
    "## 1. Propósitos del curso\n",
    "\n",
    "* Familiarizar a los estudiantes con los elementos básicos del lenguaje Python aplicados a la estadística.\n",
    "* Conectar la teoría de probabilidad y estadística (capítulos iniciales de Montgomery & Runger) con la experimentación en Python.\n",
    "* Promover la cultura de **aprender haciendo** (flipped classroom + práctica computacional).\n",
    "* Desarrollar habilidades de simulación, análisis de datos y visualización gráfica.\n",
    "\n",
    "---\n"
   ]
  },
  {
   "cell_type": "markdown",
   "id": "a41c2bb1",
   "metadata": {},
   "source": [
    "\n",
    "## 2. 📅 Duración y estructura\n",
    "\n",
    "* **Modalidad:** Curso corto, 5 semanas (10 horas presenciales + 10 horas de trabajo autónomo).\n",
    "* **Sesiones:** 5 módulos (uno por semana).\n",
    "* **Recursos:** Jupyter Notebooks en GitHub, videos explicativos en YouTube, libro *Montgomery y Runger*.\n",
    "\n",
    "---\n"
   ]
  },
  {
   "cell_type": "markdown",
   "id": "b0d508d2",
   "metadata": {},
   "source": [
    "\n",
    "## 3. 📂 Contenido temático\n",
    "\n",
    "### **Módulo 1. Primeros pasos en Python y Jupyter Notebooks**\n",
    "\n",
    "* Instalación y uso de **Anaconda/Colab**.\n",
    "* Tipos de datos en Python (números, listas, arrays de NumPy).\n",
    "* Operaciones básicas y visualización con `matplotlib`.\n",
    "* 📖 Referencia en Montgomery & Runger: Introducción (datos y estadística).\n",
    "* **Actividad:** Crear un notebook que organice y grafique un conjunto pequeño de datos de ejemplo del libro.\n",
    "\n",
    "---\n"
   ]
  },
  {
   "cell_type": "markdown",
   "id": "6aee431d",
   "metadata": {},
   "source": [
    "\n",
    "### **Módulo 2. Descripción y visualización de datos**\n",
    "\n",
    "* Importación de datos con `pandas`.\n",
    "* Medidas descriptivas: media, mediana, varianza, desviación estándar.\n",
    "* Gráficos: histogramas, diagramas de caja, diagramas de dispersión.\n",
    "* 📖 Cap. 2 de Montgomery & Runger: Descripción de datos.\n",
    "* **Actividad:** Usar datos de un ejercicio del libro para calcular medidas descriptivas y compararlas con la teoría.\n",
    "\n",
    "---\n"
   ]
  },
  {
   "cell_type": "markdown",
   "id": "64e532c0",
   "metadata": {},
   "source": [
    "\n",
    "### **Módulo 3. Probabilidad y simulación**\n",
    "\n",
    "* Generación de números aleatorios con `numpy.random`.\n",
    "* Distribuciones clásicas: uniforme, binomial, normal, exponencial.\n",
    "* Simulación de fenómenos probabilísticos.\n",
    "* 📖 Cap. 3 y 4 de Montgomery & Runger: Probabilidad y variables aleatorias.\n",
    "* **Actividad:** Simular el lanzamiento de una moneda y de un dado; comparar resultados empíricos con probabilidades teóricas.\n",
    "\n",
    "---\n"
   ]
  },
  {
   "cell_type": "markdown",
   "id": "7de3bfcd",
   "metadata": {},
   "source": [
    "\n",
    "### **Módulo 4. Distribuciones de probabilidad en Python**\n",
    "\n",
    "* Uso de `scipy.stats` para distribuciones discretas y continuas.\n",
    "* Función de densidad de probabilidad (pdf), función de distribución acumulada (cdf) y generación de datos.\n",
    "* 📖 Cap. 5 y 6 de Montgomery & Runger: Distribuciones importantes (binomial, Poisson, normal).\n",
    "* **Actividad:** Comparar histogramas simulados con funciones teóricas de probabilidad (ejemplo: distribución normal de alturas).\n",
    "\n",
    "---\n"
   ]
  },
  {
   "cell_type": "markdown",
   "id": "08d32e93",
   "metadata": {},
   "source": [
    "\n",
    "### **Módulo 5. Inferencia estadística básica**\n",
    "\n",
    "* Introducción a estimación puntual y por intervalos en Python.\n",
    "* Pruebas de hipótesis con `scipy.stats`.\n",
    "* 📖 Cap. 7 y 8 de Montgomery & Runger: Estimación e inferencia.\n",
    "* **Actividad:** Reproducir con Python un ejercicio de intervalo de confianza del libro y simular para verificar cobertura.\n",
    "\n",
    "---\n"
   ]
  },
  {
   "cell_type": "markdown",
   "id": "88393c3d",
   "metadata": {},
   "source": [
    "\n",
    "## 4. 🛠 Metodología\n",
    "\n",
    "* **Aula invertida:** el estudiante estudia el contenido base en GitHub/YouTube antes de clase.\n",
    "* **Trabajo práctico:** resolución de ejercicios del libro con Python.\n",
    "* **ABP (Aprendizaje Basado en Problemas):** cada módulo parte de un problema real del libro de Montgomery & Runger.\n",
    "* **Colaboración:** trabajo en equipos pequeños, compartiendo notebooks en GitHub Classroom.\n",
    "\n",
    "---\n"
   ]
  },
  {
   "cell_type": "markdown",
   "id": "3885b5b1",
   "metadata": {},
   "source": [
    "\n",
    "## 5. 📊 Evaluación\n",
    "\n",
    "* **40%** Cuadernos Jupyter individuales (uno por módulo).\n",
    "* **30%** Proyecto corto final (simulación y análisis de un caso del libro).\n",
    "* **20%** Presentación grupal de resultados.\n",
    "* **10%** Participación y asistencia.\n",
    "\n",
    "---\n"
   ]
  },
  {
   "cell_type": "markdown",
   "id": "ae1bd704",
   "metadata": {},
   "source": [
    "\n",
    "## 6. 📚 Bibliografía\n",
    "\n",
    "* Montgomery, D. C., & Runger, G. C. *Probabilidad y estadística aplicadas a la ingeniería y las ciencias*.\n",
    "* McKinney, W. *Python for Data Analysis*. O’Reilly.\n",
    "* VanderPlas, J. *A Whirlwind Tour of Python*.\n",
    "\n",
    "---\n",
    "\n",
    "Marco, este diseño es compacto y enfocado: **5 semanas, un puente directo entre la teoría del libro y la experimentación en Python**.\n",
    "\n",
    "¿Quieres que te prepare también un **primer cuaderno Jupyter base del Módulo 1** para que quede listo como material inicial en GitHub?\n"
   ]
  }
 ],
 "metadata": {
  "language_info": {
   "name": "python"
  }
 },
 "nbformat": 4,
 "nbformat_minor": 5
}
