{
 "cells": [
  {
   "cell_type": "markdown",
   "id": "ce1f8d3e",
   "metadata": {},
   "source": [
    "<table align=\"left\">\n",
    "  <td>\n",
    "    <a href=\"https://colab.research.google.com/github/marco-canas/investigacion_en_asesoria/blob/main/2_secuencia_accion/2_Dise%C3%B1o_Proceso_IAE/Intervencion/8_r_estadistica/encuesta_1.ipynb\" target=\"_parent\"><img src=\"https://colab.research.google.com/assets/colab-badge.svg\" alt=\"Open In Colab\"/></a>\n",
    "  </td>\n",
    "  <td>\n",
    "    <a target=\"_blank\" href=\"https://kaggle.com/kernels/welcome?src=https://github.com/marco-canas/investigacion_en_asesoria/blob/main/2_secuencia_accion/2_Dise%C3%B1o_Proceso_IAE/Intervencion/8_r_estadistica/encuesta_1.ipynb\"><img src=\"https://kaggle.com/static/images/open-in-kaggle.svg\" /></a>\n",
    "  </td>\n",
    "</table>"
   ]
  },
  {
   "cell_type": "code",
   "execution_count": 1,
   "id": "5a689a31",
   "metadata": {},
   "outputs": [],
   "source": [
    "#funcion para generar qr"
   ]
  },
  {
   "cell_type": "markdown",
   "id": "d5d4b8e6",
   "metadata": {},
   "source": [
    "# Encuestas sobre uso de redes sociales  \n",
    "\n"
   ]
  },
  {
   "cell_type": "markdown",
   "id": "69ebee0f",
   "metadata": {},
   "source": [
    "## Fórmulas asociadas al análisis descriptivo de variables cualitativas continuas  \n",
    "\n",
    "Dame, por favor, las fórmulas asociadas al análisis descriptivo de variables cualitativas continuas.  \n",
    "\n",
    "Marco, te hago una precisión importante:\n",
    "las **variables cualitativas** (nominales u ordinales) **no son continuas**.\n",
    "\n",
    "👉 Una variable **cualitativa** describe categorías o cualidades (ejemplo: género, color, estado civil).\n",
    "👉 Una variable **cuantitativa continua** describe magnitudes numéricas que pueden tomar infinitos valores en un intervalo (ejemplo: altura, peso, temperatura).\n",
    "\n",
    "Entonces, para ser fiel al análisis estadístico, hay **dos casos distintos**:\n",
    "\n",
    "---\n",
    "\n",
    "## 🔹 1. Variables cualitativas (nominales u ordinales)\n",
    "\n",
    "En análisis descriptivo usamos **frecuencias y porcentajes**:\n",
    "\n",
    "* **Frecuencia absoluta**:\n",
    "\n",
    "$$\n",
    "f_i = \\text{número de observaciones en la categoría } i\n",
    "$$\n",
    "\n",
    "* **Frecuencia relativa**:\n",
    "\n",
    "$$\n",
    "h_i = \\frac{f_i}{n}\n",
    "$$\n",
    "\n",
    "* **Frecuencia acumulada (en ordinales)**:\n",
    "\n",
    "$$\n",
    "F_i = \\sum_{j=1}^{i} f_j\n",
    "$$\n",
    "\n",
    "* **Frecuencia relativa acumulada**:\n",
    "\n",
    "$$\n",
    "H_i = \\sum_{j=1}^{i} h_j\n",
    "$$\n",
    "\n",
    "Donde $n$ es el tamaño total de la muestra.\n",
    "\n",
    "🔸 Además, se suelen usar medidas de **tendencia central y dispersión categórica**:\n",
    "\n",
    "* **Moda**: categoría con mayor frecuencia.\n",
    "* **Índice de diversidad de Simpson**:\n",
    "\n",
    "$$\n",
    "D = 1 - \\sum_{i=1}^k h_i^2\n",
    "$$\n"
   ]
  },
  {
   "cell_type": "markdown",
   "id": "1585be29",
   "metadata": {},
   "source": [
    "\n",
    "* **Índice de entropía (Shannon)**:\n",
    "\n",
    "$$\n",
    "H = - \\sum_{i=1}^k h_i \\log(h_i)\n",
    "$$\n",
    "\n",
    "---\n",
    "\n",
    "## 🔹 2. Variables cuantitativas continuas\n",
    "\n",
    "En este caso se construyen **intervalos de clase** y se aplican fórmulas de frecuencias:\n",
    "\n",
    "* **Punto medio de la clase**:\n",
    "\n",
    "$$\n",
    "x_i = \\frac{L_i + L_{i+1}}{2}\n",
    "$$\n",
    "\n",
    "* **Frecuencia absoluta de la clase**:\n",
    "\n",
    "$$\n",
    "f_i = \\text{número de observaciones en el intervalo } i\n",
    "$$\n",
    "\n",
    "* **Frecuencia relativa**:\n",
    "\n",
    "$$\n",
    "h_i = \\frac{f_i}{n}\n",
    "$$\n",
    "\n",
    "* **Frecuencia acumulada**:\n",
    "\n",
    "$$\n",
    "F_i = \\sum_{j=1}^{i} f_j\n",
    "$$\n",
    "\n",
    "* **Frecuencia relativa acumulada**:\n",
    "\n",
    "$$\n",
    "H_i = \\sum_{j=1}^{i} h_j\n",
    "$$\n"
   ]
  },
  {
   "cell_type": "markdown",
   "id": "7fd9e145",
   "metadata": {},
   "source": [
    "\n",
    "Con estas frecuencias, luego se calculan medidas clásicas de posición y dispersión (media, varianza, desviación típica, percentiles, etc.).\n",
    "\n",
    "---\n"
   ]
  },
  {
   "cell_type": "markdown",
   "id": "bc28314f",
   "metadata": {},
   "source": [
    "\n",
    "Pregunta para ti:\n",
    "¿Quieres que te prepare una **tabla comparativa** con las fórmulas de análisis descriptivo para **variables cualitativas** y para **cuantitativas continuas** (para que te sirva de guía en tus clases)?\n"
   ]
  },
  {
   "cell_type": "markdown",
   "id": "77c0b354",
   "metadata": {},
   "source": []
  },
  {
   "cell_type": "code",
   "execution_count": null,
   "id": "bb18ff45",
   "metadata": {},
   "outputs": [],
   "source": []
  },
  {
   "cell_type": "code",
   "execution_count": null,
   "id": "252bbf01",
   "metadata": {},
   "outputs": [],
   "source": []
  },
  {
   "cell_type": "code",
   "execution_count": 2,
   "id": "af6a86e8",
   "metadata": {},
   "outputs": [
    {
     "data": {
      "text/plain": [
       "0.13333333333333333"
      ]
     },
     "execution_count": 2,
     "metadata": {},
     "output_type": "execute_result"
    }
   ],
   "source": [
    "2/15"
   ]
  },
  {
   "cell_type": "code",
   "execution_count": null,
   "id": "65d1f8ea",
   "metadata": {},
   "outputs": [],
   "source": []
  }
 ],
 "metadata": {
  "kernelspec": {
   "display_name": ".venv",
   "language": "python",
   "name": "python3"
  },
  "language_info": {
   "codemirror_mode": {
    "name": "ipython",
    "version": 3
   },
   "file_extension": ".py",
   "mimetype": "text/x-python",
   "name": "python",
   "nbconvert_exporter": "python",
   "pygments_lexer": "ipython3",
   "version": "3.12.6"
  }
 },
 "nbformat": 4,
 "nbformat_minor": 5
}
