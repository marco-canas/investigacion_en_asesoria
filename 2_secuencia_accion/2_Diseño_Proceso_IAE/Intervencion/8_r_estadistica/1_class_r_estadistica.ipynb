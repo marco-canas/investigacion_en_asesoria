{
 "cells": [
  {
   "cell_type": "markdown",
   "id": "dc06dec7",
   "metadata": {
    "slideshow": {
     "slide_type": "slide"
    }
   },
   "source": [
    "<table align=\"left\">\n",
    "  <td>\n",
    "    <a href=\"https://colab.research.google.com/github/ageron/handson-ml3/blob/main/tools_numpy.ipynb\" target=\"_parent\"><img src=\"https://colab.research.google.com/assets/colab-badge.svg\" alt=\"Open In Colab\"/></a>\n",
    "  </td>\n",
    "  <td>\n",
    "    <a target=\"_blank\" href=\"https://kaggle.com/kernels/welcome?src=https://github.com/ageron/handson-ml3/blob/main/tools_numpy.ipynb\"><img src=\"https://kaggle.com/static/images/open-in-kaggle.svg\" /></a>\n",
    "  </td>\n",
    "</table>"
   ]
  },
  {
   "cell_type": "markdown",
   "id": "e0c5b198",
   "metadata": {
    "slideshow": {
     "slide_type": "slide"
    }
   },
   "source": [
    "### [Video de apoyo a la lectura interactiva y experimental de este cuaderno]()"
   ]
  },
  {
   "cell_type": "markdown",
   "id": "41e82203",
   "metadata": {
    "slideshow": {
     "slide_type": "slide"
    }
   },
   "source": [
    "### [Vínculo al programa del curso:  ]()\n",
    "\n"
   ]
  },
  {
   "cell_type": "markdown",
   "id": "d11ab06d",
   "metadata": {
    "slideshow": {
     "slide_type": "slide"
    }
   },
   "source": [
    "Un reconocimiento a mis estudiantes que han construido conmigo este saber pedagógico:\n",
    "\n",
    "<img src = ''> \n",
    "\n"
   ]
  },
  {
   "cell_type": "markdown",
   "id": "8a74a56c-0ce6-4ad6-b985-553fd7fb68bb",
   "metadata": {},
   "source": [
    "Reconocimiento a las profesoras destacadas en enseñanza de la matemática en Colombia\n"
   ]
  },
  {
   "cell_type": "code",
   "execution_count": 1,
   "id": "6cb89c0b",
   "metadata": {},
   "outputs": [
    {
     "data": {
      "application/vnd.microsoft.datawrangler.viewer.v0+json": {
       "columns": [
        {
         "name": "index",
         "rawType": "int64",
         "type": "integer"
        },
        {
         "name": "Cedula",
         "rawType": "int64",
         "type": "integer"
        },
        {
         "name": "Nombre",
         "rawType": "object",
         "type": "string"
        },
        {
         "name": "Email",
         "rawType": "object",
         "type": "string"
        },
        {
         "name": "Parcial",
         "rawType": "float64",
         "type": "float"
        },
        {
         "name": "Asistencia",
         "rawType": "float64",
         "type": "float"
        }
       ],
       "conversionMethod": "pd.DataFrame",
       "ref": "6b84fd7a-7d91-41e7-acd8-76d316e02aff",
       "rows": [
        [
         "1",
         "1007528664",
         "AYALA MENDOZA MARISOL YACIRA",
         "marisol.ayala@udea.edu.co",
         "0.0",
         null
        ],
        [
         "2",
         "1064188463",
         "MASS MIRANDA RIVALDO JOSE",
         "rivaldo.mass@udea.edu.co",
         "0.0",
         null
        ],
        [
         "3",
         "1066570075",
         "MONTERROSA SOTO ABRIL",
         "a.monterrosa@udea.edu.co",
         "0.0",
         null
        ],
        [
         "4",
         "1193404816",
         "AMARIS FERNANDEZ SEBASTIAN CAMILO",
         "sebastian.amaris@udea.edu.co",
         null,
         null
        ]
       ],
       "shape": {
        "columns": 5,
        "rows": 4
       }
      },
      "text/html": [
       "<div>\n",
       "<style scoped>\n",
       "    .dataframe tbody tr th:only-of-type {\n",
       "        vertical-align: middle;\n",
       "    }\n",
       "\n",
       "    .dataframe tbody tr th {\n",
       "        vertical-align: top;\n",
       "    }\n",
       "\n",
       "    .dataframe thead th {\n",
       "        text-align: right;\n",
       "    }\n",
       "</style>\n",
       "<table border=\"1\" class=\"dataframe\">\n",
       "  <thead>\n",
       "    <tr style=\"text-align: right;\">\n",
       "      <th></th>\n",
       "      <th>Cedula</th>\n",
       "      <th>Nombre</th>\n",
       "      <th>Email</th>\n",
       "      <th>Parcial</th>\n",
       "      <th>Asistencia</th>\n",
       "    </tr>\n",
       "  </thead>\n",
       "  <tbody>\n",
       "    <tr>\n",
       "      <th>1</th>\n",
       "      <td>1007528664</td>\n",
       "      <td>AYALA MENDOZA MARISOL YACIRA</td>\n",
       "      <td>marisol.ayala@udea.edu.co</td>\n",
       "      <td>0.0</td>\n",
       "      <td>NaN</td>\n",
       "    </tr>\n",
       "    <tr>\n",
       "      <th>2</th>\n",
       "      <td>1064188463</td>\n",
       "      <td>MASS MIRANDA RIVALDO JOSE</td>\n",
       "      <td>rivaldo.mass@udea.edu.co</td>\n",
       "      <td>0.0</td>\n",
       "      <td>NaN</td>\n",
       "    </tr>\n",
       "    <tr>\n",
       "      <th>3</th>\n",
       "      <td>1066570075</td>\n",
       "      <td>MONTERROSA SOTO ABRIL</td>\n",
       "      <td>a.monterrosa@udea.edu.co</td>\n",
       "      <td>0.0</td>\n",
       "      <td>NaN</td>\n",
       "    </tr>\n",
       "    <tr>\n",
       "      <th>4</th>\n",
       "      <td>1193404816</td>\n",
       "      <td>AMARIS FERNANDEZ SEBASTIAN CAMILO</td>\n",
       "      <td>sebastian.amaris@udea.edu.co</td>\n",
       "      <td>NaN</td>\n",
       "      <td>NaN</td>\n",
       "    </tr>\n",
       "  </tbody>\n",
       "</table>\n",
       "</div>"
      ],
      "text/plain": [
       "       Cedula                             Nombre  \\\n",
       "1  1007528664       AYALA MENDOZA MARISOL YACIRA   \n",
       "2  1064188463          MASS MIRANDA RIVALDO JOSE   \n",
       "3  1066570075              MONTERROSA SOTO ABRIL   \n",
       "4  1193404816  AMARIS FERNANDEZ SEBASTIAN CAMILO   \n",
       "\n",
       "                          Email  Parcial  Asistencia  \n",
       "1     marisol.ayala@udea.edu.co      0.0         NaN  \n",
       "2      rivaldo.mass@udea.edu.co      0.0         NaN  \n",
       "3      a.monterrosa@udea.edu.co      0.0         NaN  \n",
       "4  sebastian.amaris@udea.edu.co      NaN         NaN  "
      ]
     },
     "execution_count": 1,
     "metadata": {},
     "output_type": "execute_result"
    }
   ],
   "source": [
    "import pandas as pd\n",
    "import numpy as np\n",
    "\n",
    "# Cargar la lista de estudiantes desde el archivo CSV\n",
    "path = 'C:/Users/marco/Documentos/docencia/groups_list/vectorial.xlsx'\n",
    "estudiantes = pd.read_excel(path)\n",
    "estudiantes.index = range(1, len(estudiantes) + 1)\n",
    "estudiantes.head(17) "
   ]
  },
  {
   "cell_type": "markdown",
   "id": "d7598d0a-d9b7-4ae0-b029-a0ed6ed1130b",
   "metadata": {},
   "source": [
    "\n",
    "# Principios de mi labor docente"
   ]
  },
  {
   "cell_type": "markdown",
   "id": "4f9d8cf9",
   "metadata": {
    "slideshow": {
     "slide_type": "slide"
    }
   },
   "source": [
    "## Modelo general de clase: [aula invertida](https://www3.gobiernodecanarias.org/medusa/ecoescuela/pedagotic/aprendizaje-invertido-flipped-classroom/)"
   ]
  },
  {
   "cell_type": "markdown",
   "id": "eb6ed03a",
   "metadata": {},
   "source": [
    "<img src = 'https://resources.maneuveringthemiddle.com/wp-content/uploads/2020/07/04212706/1-5.png' width = 200>  \n",
    "\n"
   ]
  },
  {
   "cell_type": "markdown",
   "id": "34319cce-a71b-4f64-aab8-b53e521efa40",
   "metadata": {},
   "source": [
    "# Metodología de Aprendizaje Basado en Problemas y Proyectos (ABPP) \n"
   ]
  },
  {
   "cell_type": "markdown",
   "id": "c4f73d81",
   "metadata": {},
   "source": [
    "\n",
    "<img src = 'https://www.unir.net/wp-content/uploads/2020/07/aprendizaje-problemas2-1-1-1-1.jpeg' width = 200>"
   ]
  },
  {
   "cell_type": "markdown",
   "id": "841a985c-bd9b-4dd3-8e4c-893983980af2",
   "metadata": {},
   "source": [
    "# Desarrollo del pensamiento computacional con Lenguaje R y con archivos R Markdown orientado a la formación en ciencia de datos \n",
    "\n"
   ]
  },
  {
   "cell_type": "markdown",
   "id": "3d0eba94",
   "metadata": {},
   "source": [
    "\n",
    "<img src = 'https://i.ytimg.com/vi/mcG_wcR4e6M/maxresdefault.jpg' width = 200>"
   ]
  },
  {
   "cell_type": "markdown",
   "id": "65aa0404-f7ae-495e-864c-1aec01b4255e",
   "metadata": {},
   "source": [
    "# Principio de fomento a la ciencia abierta, enseñar en el acceso a los datos públicos y el uso de software de código abierto  \n"
   ]
  },
  {
   "cell_type": "markdown",
   "id": "18ae9b87",
   "metadata": {},
   "source": [
    "\n",
    "<img src = 'https://unesdoc.unesco.org/in/rest/Thumb/image?id=p%3A%3Ausmarcdef_0000379949_spa&author=UNESCO&title=Recomendaci%C3%B3n+de+la+UNESCO+sobre+la+Ciencia+Abierta&year=2021&publisher=UNESCO&TypeOfDocument=UnescoPhysicalDocument&mat=PGD&ct=true&size=512&isPhysical=1' width = 200>"
   ]
  },
  {
   "cell_type": "markdown",
   "id": "d9559f85",
   "metadata": {},
   "source": [
    "El enfoque STEAMS en educación preescolar, primaria y secundaria es una extensión del enfoque STEM (Ciencia, Tecnología, Ingeniería y Matemáticas) y su variante STEAM, que incorpora el Arte. "
   ]
  },
  {
   "cell_type": "markdown",
   "id": "72e1cfd2",
   "metadata": {},
   "source": [
    "El acrónimo STEAMS incluye:\n"
   ]
  },
  {
   "cell_type": "markdown",
   "id": "03182fd1",
   "metadata": {},
   "source": [
    "\n",
    "1. **Science (Ciencia):** Fomenta la curiosidad por el mundo natural y el desarrollo de habilidades científicas, como la observación, experimentación y análisis.\n"
   ]
  },
  {
   "cell_type": "markdown",
   "id": "1306d0fa",
   "metadata": {},
   "source": [
    "\n",
    "2. **Technology (Tecnología):** Integra herramientas tecnológicas para potenciar el aprendizaje y la resolución de problemas, promoviendo la alfabetización digital desde edades tempranas.\n"
   ]
  },
  {
   "cell_type": "markdown",
   "id": "3b1a53e8",
   "metadata": {},
   "source": [
    "\n",
    "3. **Engineering (Ingeniería):** Introduce el pensamiento lógico y la resolución de problemas estructurados, fomentando habilidades como el diseño y la construcción de soluciones.\n"
   ]
  },
  {
   "cell_type": "markdown",
   "id": "0196de87",
   "metadata": {},
   "source": [
    "\n",
    "4. **Arts (Arte):** Añade creatividad y pensamiento crítico, permitiendo a los estudiantes expresarse y explorar el aprendizaje a través de formas artísticas (plásticas, música, teatro).\n"
   ]
  },
  {
   "cell_type": "markdown",
   "id": "8bcc485a",
   "metadata": {},
   "source": [
    "\n",
    "5. **Mathematics (Matemáticas):** Refuerza las habilidades numéricas y el razonamiento lógico, fundamentales en la resolución de problemas y comprensión de conceptos abstractos.\n"
   ]
  },
  {
   "cell_type": "markdown",
   "id": "907935f4",
   "metadata": {},
   "source": [
    "\n",
    "6. **Social Sciences (Ciencias Sociales):** Incorpora la comprensión del entorno social, político, cultural y económico, promoviendo el desarrollo de la conciencia crítica sobre el mundo y su historia, además de habilidades de empatía y ciudadanía.\n"
   ]
  },
  {
   "cell_type": "markdown",
   "id": "39967d63",
   "metadata": {},
   "source": [
    "\n",
    "El enfoque STEAMS pretende desarrollar un aprendizaje **interdisciplinario** que integre estas áreas para fomentar un pensamiento más holístico y práctico. "
   ]
  },
  {
   "cell_type": "markdown",
   "id": "5145f077",
   "metadata": {},
   "source": [
    "Se busca que los estudiantes no solo aprendan conocimientos técnicos, sino también cómo aplicarlos creativa y críticamente en situaciones reales, promoviendo habilidades como el trabajo en equipo, la comunicación y la innovación. "
   ]
  },
  {
   "cell_type": "markdown",
   "id": "9d556584",
   "metadata": {},
   "source": [
    "En educación preescolar, primaria, secundaria y superior, se adapta a las diferentes etapas de desarrollo cognitivo y emocional de los estudiantes, promoviendo el aprendizaje activo y contextualizado.  \n"
   ]
  },
  {
   "cell_type": "markdown",
   "id": "0130ec1b",
   "metadata": {},
   "source": [
    "\n",
    "<img src = 'https://www.campuseducacion.com/blog/wp-content/uploads/2023/03/foto01-1.jpg' width = 200>"
   ]
  },
  {
   "cell_type": "markdown",
   "id": "52b5d2f4",
   "metadata": {},
   "source": [
    "# Y el enfoque TRRS de Duval"
   ]
  },
  {
   "cell_type": "markdown",
   "id": "96775931",
   "metadata": {
    "slideshow": {
     "slide_type": "slide"
    }
   },
   "source": [
    "## Título de la asesoría sobre Introducción al lenguaje R y elementos básicos de estadística desde archivo .qmd\n",
    "\n"
   ]
  },
  {
   "cell_type": "markdown",
   "id": "10e55ccf",
   "metadata": {},
   "source": [
    "# Estructura general para todas las clases\n",
    "\n",
    "Dame, por favor, un diseño de clase, con el enfoque: \"Aula Invertida, STEAMS y de Aprendizaje Basado en Problemas y Proyectos(ABPP)\" sobre: \"Introducción al lenguaje R y elementos básicos de estadística desde archivo .qmd\", siguiendo la estructura:  \n",
    "\n",
    "1. Título de la clase   \n",
    "   \n",
    "2. Objetivos de aprendizaje que incluyan los indicadores del logro de estos objetivos.  \n",
    "   \n",
    "3. Un mapa conceptual que resuma la clase elaborado en Graphviz de python con nodos y edges de diferentes formas, colores y rellenos y renderizado en la siguiente ubicación: `\"C:/Users/marco/Downloads\"`. No olvides el parámetro `view = True` para el método `render()` de Graphviz. Para este mapa controla las superposiciones de los nodos con: graph [overlap=false]; // Elimina superposiciones (puede aumentar el espacio)\n",
    "graph [overlap=\"scalexy\"]; // Escala el gráfico para evitar overlaps\n",
    "graph [overlap=\"compress\"]; // Comprime el grafo sin overlaps  \n",
    "\n",
    "4. Dame elementos históricos y epistemológicos asociados a esta clase, pero contados como un cuento al estilo de un cuentero antioqueño en Colombia. Incluye imágenes de los protagonistas históricos de esta clase.   \n",
    "   \n",
    "5. Contenido de la clase. Que el contenido parta de una situación real para llegar a una constitución del modelo matemático que represente tal situación real.   \n",
    "   \n",
    "6. Actividades de aprendizaje: \n",
    "     - Diseña una actividad de aprendizaje a través del uso de VS Code  \n",
    "   \n",
    "7. Incluye una canción o un poema que ayude a interiorizar y fijar los conceptos asociados a esta clase.   \n",
    "   \n",
    "8. Tarea o actividades de ejercitación y fijación.   \n",
    "   \n",
    "9.  Evaluación incluyendo diez proyectos, un ejemplo de quiz (de tres preguntas) y un ejemplo de parcial (de cinco puntos)  \n",
    "    \n",
    "10.  Diseño de actividad de retroalimentación.   \n",
    "    \n",
    "11.  Dame un vocabulario y frases del idioma inglés asociadas a esta clase.   \n",
    "    \n",
    "12.  Incluye apéndice para la clase sobre desarrollo de habilidades para trabajar en equipo y de asertividad y empatía para relacionarnos. También elementos de la inteligencia emocional para presentar pruebas sin temor y sin realizar fraude en ellas.    \n",
    "     \n",
    "13. Incluye 10 referentes en didáctica de la matemática que estén de acuerdo a la propuesta didáctica de esta clase. Adiciona a estos referentes a Raymond Duval (Representaciones y cambios de representación para la adquisición de conceptos matemáticos) y a Jeannette Wing (Desarrollo del pensamiento computacional). Dejame todos estos referentes ordenados de acuerdo a las normas APA. Dejame todos estos referentes ordenados de acuerdo a las normas APA. Incluye las citaciones a estos referentes a medida que vallas diseñando la clase. \n",
    "\n",
    "Pero  que este diseño sea para que el estudiante pueda aprender experimentando en cuadernos Jupyter con funciones de usuario y animaciones y visualizaciones en python. En particular utiliza para el diseño de clase a Numpy, Pandas, SymPy, Matplotlib.pyplot, Seaborn, Plotly, ipywidgets, matplotlib.animation y Jupyter Notebook.    \n",
    "\n",
    "Cada vez que utilices `matplotlib.animacion` no olvides incluir el uso de `IPython. display` para la rederización de estas animaciones a través de Jupyter Notebook.   \n",
    "\n",
    "No olvides darme los diseños de clase con las ecuaciones matemáticas delimitadas con signo de dolar $ para que VS Code si me renderize estas expresiones del lenguaje latex. Cuando vallas a utilizar ipywidgets ten en cuenta la siguiente importación inicial para garantizar que la visualización interactiva si se renderize en VS Code:  \n",
    "\n",
    "import numpy as np  \n",
    "import matplotlib.pyplot as plt  \n",
    "import ipywidgets as widgets  \n",
    "from IPython.display import display, clear_output  \n",
    "from matplotlib.patches import Rectangle  \n",
    "\n",
    "# Configuración inicial para visualización estática  \n",
    "%matplotlib inline "
   ]
  },
  {
   "cell_type": "code",
   "execution_count": null,
   "id": "81235e9f",
   "metadata": {},
   "outputs": [],
   "source": [
    "path_image = r'C:/Users/marco/Downloads'\n",
    "def save_fig(nombre_archivo_imagen):\n",
    "    import os \n",
    "    import matplotlib.pyplot as plt \n",
    "    imagen_path = os.path.join(path_image, nombre_archivo_imagen)\n",
    "    plt.savefig(imagen_path, bbox_inches='tight')"
   ]
  },
  {
   "cell_type": "markdown",
   "id": "f227c429",
   "metadata": {},
   "source": [
    "# **Diseño de Clase: Introducción a R y Estadística Básica desde un Archivo `.qmd` con Enfoque STEAM y ABPP**  \n",
    "\n",
    "## **1. Título de la Clase**  \n",
    "**\"Del dato al conocimiento: Explorando R y estadística básica con Quarto (.qmd) y Python\"**  \n",
    "\n",
    "---\n",
    "\n",
    "## **2. Objetivos de Aprendizaje**  \n",
    "### **Objetivo General**  \n",
    "- Introducir el lenguaje **R** y conceptos básicos de estadística descriptiva mediante un enfoque **STEAM** (Ciencia, Tecnología, Ingeniería, Artes y Matemáticas) y **ABPP** (Aprendizaje Basado en Problemas y Proyectos).  \n",
    "\n",
    "### **Objetivos Específicos e Indicadores**  \n",
    "| **Objetivo** | **Indicador de Logro** |  \n",
    "|--------------|-----------------------|  \n",
    "| **1.** Identificar elementos básicos de R y su sintaxis en un entorno `.qmd`. | El estudiante escribe y ejecuta código R en un notebook Jupyter/Quarto. |  \n",
    "| **2.** Aplicar estadística descriptiva (media, mediana, desviación estándar) usando R y Python. | Genera visualizaciones comparativas entre R (`ggplot2`) y Python (`Matplotlib/Seaborn`). |  \n",
    "| **3.** Resolver un problema real con datos simulados usando **ABPP**. | Presenta un informe en `.qmd` con análisis, gráficos y conclusiones. |  \n",
    "| **4.** Integrar arte y narrativa en visualizaciones de datos. | Crea una animación (`matplotlib.animation`) que cuenta una historia con datos. |  \n",
    "\n",
    "---\n",
    "\n",
    "## **3. Mapa Conceptual (Graphviz)**  \n",
    "```python\n",
    "from graphviz import Digraph\n",
    "\n",
    "# Crear el grafo\n",
    "graph = Digraph(comment='Clase R y Estadística', \n",
    "                graph_attr={'overlap': 'scalexy', 'splines': 'true', 'fontsize': '10'})\n",
    "\n",
    "# Nodos principales\n",
    "graph.node('A', 'Lenguaje R', shape='ellipse', style='filled', fillcolor='#FFD700')\n",
    "graph.node('B', 'Estadística Descriptiva', shape='box', style='filled', fillcolor='#FF6B6B')\n",
    "graph.node('C', 'Quarto (.qmd)', shape='diamond', style='filled', fillcolor='#4ECDC4')\n",
    "graph.node('D', 'Python (Pandas/Matplotlib)', shape='ellipse', style='filled', fillcolor='#A5D8FF')\n",
    "\n",
    "# Subnodos\n",
    "graph.node('A1', 'Sintaxis básica', shape='note')\n",
    "graph.node('A2', 'DataFrames (dplyr)', shape='note')\n",
    "graph.node('B1', 'Medidas de tendencia central', shape='component')\n",
    "graph.node('B2', 'Visualización (ggplot2)', shape='component')\n",
    "graph.node('D1', 'Numpy/SymPy', shape='note')\n",
    "graph.node('D2', 'Animaciones (Matplotlib)', shape='note')\n",
    "\n",
    "# Conexiones\n",
    "graph.edges(['AB', 'AC', 'AD', 'AA1', 'AA2', 'BB1', 'BB2', 'DD1', 'DD2'])\n",
    "graph.edge('C', 'A', label='Integración')\n",
    "graph.edge('C', 'D', label='Interoperabilidad')\n",
    "\n",
    "# Renderizar y mostrar\n",
    "graph.render(directory='C:/Users/marco/Downloads', filename='mapa_clase', format='png', view=True)\n",
    "```\n",
    "**Salida:**  \n",
    "![Mapa Conceptual](C:/Users/marco/Downloads/mapa_clase.png)  \n",
    "\n",
    "---\n",
    "\n",
    "## **4. Historia Epistemológica (Cuento Antioqueño)**  \n",
    "*\"¡Ajá, pues escuchen esta historia, mijitos!*  \n",
    "\n",
    "Hace mucho tiempo, un señor llamado **John Tukey** (¡sí, el de los *boxplots*!) andaba buscando cómo hacer que los datos *\"cantaran\"*. Él decía: *\"Un gráfico bien hecho es como un buen tiple pa’ contar historias\"*.  \n",
    "\n",
    "Por otro lado, **Ross Ihaka** y **Robert Gentleman** (los papás de R) estaban en Nueva Zelanda, tomándose un tinto, cuando dijeron: *\"¿Y si hacemos un lenguaje pa’ que hasta mi abuela entienda la estadística?\"*. Y así nació **R**, como un *\"paseo de olla\"* entre la programación y las mates.  \n",
    "\n",
    "**Imágenes clave:**  \n",
    "- [John Tukey](https://upload.wikimedia.org/wikipedia/commons/thumb/7/7c/John_Tukey.jpg/220px-John_Tukey.jpg)  \n",
    "- [Ross y Robert](https://www.r-project.org/Rlogo.png)  \n",
    "\n",
    "---\n",
    "\n",
    "## **5. Contenido de la Clase**  \n",
    "### **Problema Real:**  \n",
    "*\"Un colegio quiere analizar las notas de sus estudiantes para reducir la deserción escolar.\"*  \n",
    "\n",
    "### **Modelo Matemático:**  \n",
    "1. **Datos:** Simular un DataFrame con `R` y `Pandas`:  \n"
   ]
  },
  {
   "cell_type": "code",
   "execution_count": 2,
   "id": "698aba89",
   "metadata": {},
   "outputs": [
    {
     "ename": "SyntaxError",
     "evalue": "invalid syntax (1948726327.py, line 3)",
     "output_type": "error",
     "traceback": [
      "\u001b[1;36m  File \u001b[1;32m\"C:\\Users\\marco\\AppData\\Local\\Temp\\ipykernel_3124\\1948726327.py\"\u001b[1;36m, line \u001b[1;32m3\u001b[0m\n\u001b[1;33m    estudiante = paste0(\"Est_\", 1:100),\u001b[0m\n\u001b[1;37m                                 ^\u001b[0m\n\u001b[1;31mSyntaxError\u001b[0m\u001b[1;31m:\u001b[0m invalid syntax\n"
     ]
    }
   ],
   "source": [
    "\n",
    "   # En R (Quarto)\n",
    "   notas <- data.frame(\n",
    "     estudiante = paste0(\"Est_\", 1:100),\n",
    "     matemáticas = rnorm(100, mean=70, sd=10),\n",
    "     lectura = rnorm(100, mean=65, sd=8)\n",
    "   )\n",
    "  \n"
   ]
  },
  {
   "cell_type": "markdown",
   "id": "6d682c24",
   "metadata": {},
   "source": [
    "\n",
    "2. **Estadística Descriptiva:**  \n",
    "   - Media: $\\mu = \\frac{1}{n}\\sum_{i=1}^{n} x_i$  \n",
    "   - Desviación estándar: $\\sigma = \\sqrt{\\frac{1}{n}\\sum_{i=1}^{n} (x_i - \\mu)^2}$  \n",
    "\n",
    "3. **Visualización Comparativa (R vs Python):**  \n",
    "   ```python\n",
    "   # Python (Jupyter)\n",
    "   import seaborn as sns\n",
    "   sns.boxplot(data=notas_python, x='asignatura', y='nota')\n",
    "   plt.title(\"Distribución de Notas\")\n",
    "   ```\n",
    "\n",
    "---\n",
    "\n",
    "## **6. Actividades de Aprendizaje (VS Code)**  \n",
    "### **Actividad Interactiva:**  \n",
    "- **Objetivo:** Crear un widget en Jupyter que permita ajustar parámetros estadísticos y ver su impacto en los gráficos.  \n",
    "```python\n",
    "from ipywidgets import interact\n",
    "\n",
    "def plot_distribucion(media=70, desviacion=10):\n",
    "    datos = np.random.normal(media, desviacion, 1000)\n",
    "    plt.hist(datos, bins=30, alpha=0.7)\n",
    "    plt.title(f\"Distribución (μ={media}, σ={desviacion})\")\n",
    "    plt.show()\n",
    "\n",
    "interact(plot_distribucion, media=(50, 90), desviacion=(5, 20))\n",
    "```\n",
    "\n"
   ]
  },
  {
   "cell_type": "markdown",
   "id": "740651f7",
   "metadata": {},
   "source": [
    "\n",
    "\n",
    "## **7. Canción/Poema**  \n",
    "**Ronda Estadística** (Adaptación de *\"La vaca estudiosa\"*)  \n",
    "*\"Con R y Python, vamos a aprender,  \n",
    "a los datos vamos a vencer.  \n",
    "La media, la moda, y la desviación,  \n",
    "son nuestra mejor herramienta de solución.\"*  \n",
    "\n",
    "---\n",
    "\n",
    "## **8. Tareas**  \n",
    "1. **Ejercicio:** Simular datos de ventas mensuales y calcular percentiles en R/Python.  \n",
    "2. **Proyecto Mini:** Crear un informe en `.qmd` con:  \n",
    "   - Una animación de datos (`matplotlib.animation`).  \n",
    "   - Un widget interactivo.  \n",
    "\n",
    "---\n",
    "\n",
    "## **9. Evaluación**  \n",
    "### **Quiz Ejemplo (3 Preguntas):**  \n",
    "1. ¿Qué función de R se usa para calcular la mediana?  \n",
    "2. ¿Cómo se evita el *overfitting* en visualizaciones?  \n",
    "3. Escribe el código para un histograma en `ggplot2`.  \n",
    "\n",
    "### **Parcial (5 Puntos):**  \n",
    "1. (2 ptos) Analizar un dataset real con R/Python.  \n",
    "2. (3 ptos) Explicar cómo el ABPP mejora el aprendizaje de la estadística.  \n",
    "\n",
    "---\n",
    "\n",
    "## **10. Retroalimentación**  \n",
    "- **Técnica:** *\"3-2-1\"* (3 cosas aprendidas, 2 dudas, 1 sugerencia).  \n",
    "\n",
    "---\n",
    "\n",
    "## **11. Vocabulario en Inglés**  \n",
    "- **Dataframe:** Tabla de datos.  \n",
    "- **Standard deviation:** Desviación estándar.  \n",
    "- **Hypothesis testing:** Prueba de hipótesis.  \n",
    "\n",
    "---\n",
    "\n",
    "## **12. Apéndice: Habilidades Blandas**  \n",
    "- **Trabajo en Equipo:** Usar *GitHub* para colaborar en proyectos.  \n",
    "- **Inteligencia Emocional:** Técnicas de respiración para exámenes.  \n",
    "\n",
    "---\n",
    "\n",
    "## **13. Referentes (APA)**  \n",
    "1. Duval, R. (2006). *Representaciones y cambios de representación en matemáticas*.  \n",
    "2. Wing, J. (2006). *Computational Thinking*.  \n",
    "3. Tukey, J. (1977). *Exploratory Data Analysis*.  \n",
    "\n"
   ]
  },
  {
   "cell_type": "markdown",
   "id": "239427f7",
   "metadata": {},
   "source": [
    "# ARTÍCULO 1. Definir el calendario académico para los diferentes programas de pregrado de los campus\n",
    "regionalizados, correspondiente al primer periodo académico del año 2025, así:\n",
    "\n",
    "* Terminación de clases 08 de junio de 2025\n",
    "* Exámenes finales 09 al 15 de junio de 2025\n",
    "* Habilitación y validación 16 al 22 de junio de 2025\n",
    "* Terminación oficial 23 de junio de 2025"
   ]
  },
  {
   "cell_type": "markdown",
   "id": "8ba64aed",
   "metadata": {},
   "source": [
    "# Cursos que orienta el profesor Marco Julio Cañas Campillo en 2025  \n",
    "\n",
    "1. Práctica Pedagógica V para Licenciatura en Educación Infantil\n",
    "2. Fundamentos de Lógica para Licenciatura en Matemáticas \n",
    "3. Análisis Numérico para Licenciatura en Matemáticas. \n",
    "4. Cálculo Vectorial para Ingeniería Agropecuaria"
   ]
  },
  {
   "cell_type": "markdown",
   "id": "8d41fe58",
   "metadata": {
    "slideshow": {
     "slide_type": "slide"
    }
   },
   "source": [
    "# Horario de clases del profesor Marco\n",
    "\n",
    "* Lunes 8-12: Cálculo Vectorial\n",
    "* Martes 8-12 M: Fundamentos de Aritmética. \n",
    "* Miércoles 8 a 12 M: Fundamentos de la Lógica\n",
    "* Jueves 2 a 6 PM: Desarrollo del pensamiento matemático en la infancia. \n",
    "* Viernes 8 - 12 M: Desarrollo del pensamiento matemático en la infancia. \n",
    "* Sábados 8-12 Asesorías y espacio para retroalimentación y apoyo al trabajo independiente. "
   ]
  },
  {
   "cell_type": "markdown",
   "id": "ae114e14",
   "metadata": {
    "slideshow": {
     "slide_type": "slide"
    }
   },
   "source": [
    "# Horarios de monitoría y asesoría  \n",
    "\n",
    "Coordinador de los cursos de la Facultad de Educación para regiones:    \n",
    "\n",
    "Andrés Vélez: regioneducacion.fedu@udea.edu.co  \n",
    "Coordinador Regiones  \n",
    "Facultad de Educación  \n",
    "Universidad de Antioquia  "
   ]
  },
  {
   "cell_type": "markdown",
   "id": "b1db4b6c",
   "metadata": {
    "slideshow": {
     "slide_type": "slide"
    }
   },
   "source": [
    "## Monitor Manuel San Juan Serrano\n",
    "\n",
    "Contactar escribiendo al correo: manuel.serrano1@udea.edu.co"
   ]
  },
  {
   "cell_type": "markdown",
   "id": "39559692",
   "metadata": {
    "slideshow": {
     "slide_type": "slide"
    }
   },
   "source": [
    "Martes y jueves de 8 - 12  \n",
    "Miércoles 10 - 12 y de 2 a 4 PM  \n",
    "Sábado: 8 - 12"
   ]
  },
  {
   "cell_type": "markdown",
   "id": "10bce0d0",
   "metadata": {
    "slideshow": {
     "slide_type": "slide"
    }
   },
   "source": [
    "## Referentes "
   ]
  },
  {
   "cell_type": "markdown",
   "id": "1db3c468",
   "metadata": {
    "slideshow": {
     "slide_type": "slide"
    }
   },
   "source": [
    "* [Cómo enseñar matemáticas con calculadora Casio LA991 cw](chrome-extension://efaidnbmnnnibpcajpcglclefindmkaj/https://bibliotecadigital.udea.edu.co/bitstream/10495/32857/4/ParraZapata_2024_DesarrolloPensamientoMatematico2aed_versionweb.pdf)  \n",
    "\n",
    "* [CALCULO I DE UNA VARIABLE Ron Larson-Bruce Edwards. Mc Graw Hill. 9º Edición](https://www.academia.edu/42139251/CALCULO_I_DE_UNA_VARIABLE_Ron_Larson_Bruce_Edwards_Mc_Graw_Hill_9o_Edici%C3%B3n)   \n",
    "  \n",
    "\n",
    "* [Grajales Vanegas, L. M., Restrepo Estrada, C. E., Restrepo Ochoa, S. I., & Ruíz De Villalba, F. (2015). Matemáticas I para las ciencias económicas.](https://bibliotecadigital.udea.edu.co/handle/10495/3010)\n",
    "  \n",
    "* R. Duval y Semiosis y pensamiento humano, 2.ª ed. Cali, Colombia: Programa Editorial Universidad del Valle, 2017. [En línea]. Disponible en: https://programaeditorial.univalle.edu.co/gpd-semiosis-y-pensamiento-humano-9789587655278-63324cdb0f6b3.html\n",
    "\n",
    "* [Aylwin, C. U. (2011). Lógica, conjuntos y números. Universidad de los Andes, Consejo de Publicaciones, Colección: Ciencias Básicas, Serie: Matemáticas.](chrome-extension://efaidnbmnnnibpcajpcglclefindmkaj/https://www.u-cursos.cl/ciencias/2011/1/MC110/1/material_docente/bajar?id_material=574722)\n",
    "  \n",
    "* [Recomendación de la UNESCO sobre ciencia abierta](https://unesdoc.unesco.org/ark:/48223/pf0000379949_spa)\n",
    "\n",
    "* [chatGPT](https://openai.com/blog/chatgpt)  \n",
    "* \n",
    "\n",
    "* [Géron, A. (2017). Hands-on machine learning with scikit-learn and tensorflow: Concepts. Tools, and Techniques to build intelligent systems.](chrome-extension://efaidnbmnnnibpcajpcglclefindmkaj/http://14.139.161.31/OddSem-0822-1122/Hands-On_Machine_Learning_with_Scikit-Learn-Keras-and-TensorFlow-2nd-Edition-Aurelien-Geron.pdf)   \n"
   ]
  },
  {
   "cell_type": "markdown",
   "id": "df925560",
   "metadata": {},
   "source": [
    "\n",
    "* [McKinney, W. (2012). Python for data analysis: Data wrangling with Pandas, NumPy, and IPython. \" O'Reilly Media, Inc.\".](https://wesmckinney.com/book/) "
   ]
  },
  {
   "cell_type": "markdown",
   "id": "8e65d6f9",
   "metadata": {},
   "source": [
    "# Como estudiante, encuentro que...   \n",
    "\n",
    "F: Mis Fortalezas son:     \n",
    "O: Mis Oportunidades son:    \n",
    "D: Mis Debilidades son:    \n",
    "A: Lo que Amenazas mi aprendizaje es:  "
   ]
  },
  {
   "cell_type": "markdown",
   "id": "6b9e56a8",
   "metadata": {
    "slideshow": {
     "slide_type": "slide"
    }
   },
   "source": [
    "### [Evaluamos al profesor Marco Cañas Aquí](https://forms.office.com/Pages/ResponsePage.aspx?id=IefhmYRxjkmK_7KtTlPBwkanXIs1i1FEujpsZgO6dXpUREJPV1kxUk1JV1ozTFJIQVNIQjY5WEY3US4u)"
   ]
  },
  {
   "cell_type": "markdown",
   "id": "10f43536",
   "metadata": {
    "slideshow": {
     "slide_type": "slide"
    }
   },
   "source": [
    "### Continue su aprendizaje en la siguiente clase a través del siguiente [vínculo]()"
   ]
  },
  {
   "cell_type": "markdown",
   "id": "53cc9115",
   "metadata": {
    "slideshow": {
     "slide_type": "slide"
    }
   },
   "source": [
    "## Agradecimientos  \n",
    "\n",
    "Doy gracias a Dios por la vida de mi Hijo Joseph Cañas Osorio y la madurez que ha alcanzado. Este hijo me enorgullece y me hace falta abrazarlo cada día. \n",
    "\n",
    "Y a mi esposa Yasmira Emperatriz Barboza Mogollón por su apoyo, orientación y acompañamiento. "
   ]
  },
  {
   "cell_type": "markdown",
   "id": "b6ba1c23",
   "metadata": {},
   "source": [
    "# Apéndice sobre calendarios y coordinaciones \n",
    "\n",
    "A continuación le envío el horario de la asignatura Cálculo Vectorial  \n",
    "\n",
    "Días:  \n",
    "Lunes - Hora: 7:00 a 12:00M  \n",
    "Fechas:  \n",
    "Febrero: 10-17-24                                          \n",
    " Marzo: 3-10-17-31                                                  \n",
    "Abril:7-21-28                                                   \n",
    "Mayo:5-12-19  \n",
    "\n",
    "Agradezco su apoyo, y si presenta alguna dificultad puede contactarme.  \n",
    "\n",
    "Cordialmente,  \n",
    "Juan Felipe Rivera Hernández  \n",
    "Contacto: 3106314300  "
   ]
  },
  {
   "cell_type": "markdown",
   "id": "0e66cd7c",
   "metadata": {},
   "source": [
    "# Clase de análisis numérico los Martes de 8 a 12 del medio día. "
   ]
  },
  {
   "cell_type": "markdown",
   "id": "c5ff61b1",
   "metadata": {},
   "source": []
  }
 ],
 "metadata": {
  "celltoolbar": "Slideshow",
  "kernelspec": {
   "display_name": "rstudio",
   "language": "python",
   "name": "python3"
  },
  "language_info": {
   "codemirror_mode": {
    "name": "ipython",
    "version": 3
   },
   "file_extension": ".py",
   "mimetype": "text/x-python",
   "name": "python",
   "nbconvert_exporter": "python",
   "pygments_lexer": "ipython3",
   "version": "3.7.1"
  },
  "rise": {
   "enable_chalkboard": true,
   "theme": "sky",
   "transition": "zoom"
  }
 },
 "nbformat": 4,
 "nbformat_minor": 5
}
