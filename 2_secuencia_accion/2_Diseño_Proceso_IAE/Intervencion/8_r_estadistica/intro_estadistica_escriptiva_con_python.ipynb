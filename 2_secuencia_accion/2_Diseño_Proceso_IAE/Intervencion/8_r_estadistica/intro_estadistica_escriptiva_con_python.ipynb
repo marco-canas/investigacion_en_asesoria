{
 "cells": [
  {
   "cell_type": "markdown",
   "id": "9985d57c",
   "metadata": {},
   "source": [
    "<table align=\"left\">\n",
    "  <td>\n",
    "    <a href=\"https://colab.research.google.com/github/ageron/handson-ml3/blob/main/tools_numpy.ipynb\" target=\"_parent\"><img src=\"https://colab.research.google.com/assets/colab-badge.svg\" alt=\"Open In Colab\"/></a>\n",
    "  </td>\n",
    "  <td>\n",
    "    <a target=\"_blank\" href=\"https://kaggle.com/kernels/welcome?src=https://github.com/ageron/handson-ml3/blob/main/tools_numpy.ipynb\"><img src=\"https://kaggle.com/static/images/open-in-kaggle.svg\" /></a>\n",
    "  </td>\n",
    "</table>"
   ]
  },
  {
   "cell_type": "markdown",
   "id": "e44c98fb",
   "metadata": {},
   "source": [
    "<img src = 'https://github.com/marco-canas/investigacion_en_asesoria/blob/main/3_images/asesoria_1_2025-08-15_11_15.jpg?raw=true'>"
   ]
  },
  {
   "cell_type": "markdown",
   "id": "ed061faf",
   "metadata": {},
   "source": [
    "# [Estadística descriptiva con python](https://medium.com/@noyomedicen/estad%C3%ADstica-descriptiva-con-python-23e26ca035d5)  \n",
    "\n",
    "De la teoría a la práctica: cómo aplicar estadística descriptiva en tus análisis de datos"
   ]
  },
  {
   "cell_type": "markdown",
   "id": "75d0498e",
   "metadata": {},
   "source": [
    "<img src = 'https://miro.medium.com/v2/resize:fit:1100/format:webp/1*f7d3naH5WmFwgBmhw0HxLA.png'>"
   ]
  },
  {
   "cell_type": "markdown",
   "id": "0d05b4da",
   "metadata": {},
   "source": [
    "La estadística descriptiva es la base sobre la que se construye cualquier análisis de datos. "
   ]
  },
  {
   "cell_type": "markdown",
   "id": "1af2a26c",
   "metadata": {},
   "source": [
    "Se trata de un conjunto de técnicas que nos permiten resumir y entender la información contenida en nuestros datos, transformándola en insights valiosos. "
   ]
  },
  {
   "cell_type": "markdown",
   "id": "8d42a2db",
   "metadata": {},
   "source": [
    "En un mundo donde los datos numéricos abundan, saber cómo analizarlos es una habilidad esencial para cualquier profesional."
   ]
  },
  {
   "cell_type": "markdown",
   "id": "bec6426b",
   "metadata": {},
   "source": [
    "Python, con su ecosistema robusto y herramientas especializadas, se ha convertido en una de las mejores opciones para realizar estos análisis. Este lenguaje no solo es accesible y poderoso, sino que también cuenta con librerías que facilitan la aplicación de la estadística descriptiva de manera eficiente y efectiva."
   ]
  },
  {
   "cell_type": "markdown",
   "id": "bbbb1aef",
   "metadata": {},
   "source": [
    "## Conceptos Clave de la Estadística Descriptiva\n",
    "Antes de adentrarnos en el código, es crucial entender los conceptos que forman el núcleo de la estadística descriptiva. Estos incluyen las medidas de tendencia central, las medidas de dispersión y la forma en que se distribuyen los datos.\n"
   ]
  },
  {
   "cell_type": "markdown",
   "id": "8b46325a",
   "metadata": {},
   "source": [
    "\n",
    "### Medidas de Tendencia Central:   \n",
    "\n",
    "Cómo Identificar el Corazón de tus Datos.  \n",
    "\n",
    "Las medidas de tendencia central, como la media, la mediana y la moda, nos indican dónde se concentra la mayor parte de nuestros datos. Son herramientas que nos ayudan a resumir el conjunto de datos con un solo valor representativo."
   ]
  },
  {
   "cell_type": "markdown",
   "id": "e193812c",
   "metadata": {},
   "source": [
    "* La media es el promedio de todos los valores.\n",
    "* La mediana es el valor medio que divide los datos en dos partes iguales.\n",
    "* La moda es el valor que aparece con mayor frecuencia."
   ]
  },
  {
   "cell_type": "markdown",
   "id": "8cbfe2e9",
   "metadata": {},
   "source": [
    "## Medidas de Dispersión:  \n",
    "### Evaluando la Variabilidad en tus Datos  \n",
    "\n",
    "Mientras que las medidas de tendencia central nos muestran el punto central de nuestros datos, las medidas de dispersión nos indican cuán dispersos o concentrados están alrededor de ese punto."
   ]
  },
  {
   "cell_type": "markdown",
   "id": "f5bd7b88",
   "metadata": {},
   "source": [
    "* El rango muestra la diferencia entre el valor más alto y el más bajo.  \n",
    "* La varianza y la desviación estándar nos ofrecen una idea de cuánto varían los datos con respecto a la media."
   ]
  },
  {
   "cell_type": "markdown",
   "id": "764a202d",
   "metadata": {},
   "source": [
    "# Distribución de los Datos: Entendiendo la Forma y Dispersión de tus Datos  \n",
    "\n",
    "La forma en que los datos están distribuidos es otro aspecto crucial de la estadística descriptiva. Aquí entran en juego conceptos como la simetría y la curtosis, que nos permiten entender si nuestros datos están sesgados hacia un lado o si tienen una concentración anormal de valores extremos.  \n",
    "\n",
    "\n",
    "Una distribución simétrica indica que los datos están balanceados alrededor de la media.\n",
    "Una distribución sesgada sugiere una tendencia hacia un extremo.\n",
    "La curtosis, por otro lado, nos indica si los datos tienen más o menos valores extremos de lo que sería esperado en una distribución normal."
   ]
  },
  {
   "cell_type": "markdown",
   "id": "a15d985e",
   "metadata": {},
   "source": [
    "<img src = 'https://miro.medium.com/v2/resize:fit:1100/format:webp/1*mpkyxIjLp0yIies0iXr7mA.jpeg'>"
   ]
  },
  {
   "cell_type": "markdown",
   "id": "5cc2512d",
   "metadata": {},
   "source": [
    "# Cómo Realizar un Análisis Descriptivo con Python  \n",
    "\n",
    "Ahora que tienes todo listo, es hora de aplicar la estadística descriptiva a tus datos. Utilizando Google Colab, no es necesario instalar librerías adicionales, ya que este entorno ya incluye las herramientas necesarias.\n"
   ]
  },
  {
   "cell_type": "markdown",
   "id": "25371574",
   "metadata": {},
   "source": [
    "\n",
    "## Cálculo de Medidas de Tendencia Central con Python\n",
    "Podemos calcular rápidamente la media, mediana y moda utilizando pandas. Cada una de estas medidas nos ofrece una perspectiva única sobre la distribución de nuestros datos:"
   ]
  },
  {
   "cell_type": "markdown",
   "id": "015f60cf",
   "metadata": {},
   "source": [
    "Perfecto, Marco Julio.\n",
    "Te voy a estructurar la **encuesta** para que cumpla con el requisito de incluir los **cuatro tipos de variables estadísticas**:\n",
    "\n",
    "* **Cualitativa nominal**\n",
    "* **Cualitativa ordinal**\n",
    "* **Cuantitativa discreta**\n",
    "* **Cuantitativa continua**\n",
    "\n",
    "Luego, te daré el **código en Python** para generar artificialmente los datos y exportarlos en **.xlsx** y **.csv** con el nombre `tus_datos.csv`.\n",
    "\n",
    "---\n",
    "\n",
    "## **Encuesta: Hábitos de estudio, vida académica universitaria, vida estudiantil, hábitos académicos, actividades recreativas**\n",
    "\n",
    "**Instrucciones para el encuestado:** Responda a las siguientes preguntas según su experiencia personal en la Universidad de Antioquia, Campus Caucasia.\n",
    "\n",
    "| Nº | Pregunta                                                                               | Tipo de variable      | Opciones / Respuesta esperada                                                                                                                   |\n",
    "| -- | -------------------------------------------------------------------------------------- | --------------------- | ----------------------------------------------------------------------------------------------------------------------------------------------- |\n",
    "| 1  | Programa académico en el que está matriculado                                          | Cualitativa nominal   | Licenciatura en Matemáticas / Licenciatura en Educación Infantil / Ingeniería Agropecuaria / Administración de Empresas / Biología / Psicología |\n",
    "| 2  | Nivel de satisfacción con su vida académica (1 = muy insatisfecho, 5 = muy satisfecho) | Cualitativa ordinal   | 1, 2, 3, 4, 5                                                                                                                                   |\n",
    "| 3  | Número de horas de estudio independiente por semana                                    | Cuantitativa discreta | Número entero (0 - 40)                                                                                                                          |\n",
    "| 4  | Promedio de horas diarias de sueño                                                     | Cuantitativa continua | Número decimal (0.0 - 12.0)                                                                                                                     |\n",
    "| 5  | Participa en actividades recreativas organizadas por la universidad                    | Cualitativa nominal   | Sí / No                                                                                                                                         |\n",
    "| 6  | Frecuencia de participación en actividades recreativas (1 = Nunca, 5 = Siempre)        | Cualitativa ordinal   | 1, 2, 3, 4, 5                                                                                                                                   |\n",
    "| 7  | Número de cursos matriculados en el semestre actual                                    | Cuantitativa discreta | Número entero (1 - 8)                                                                                                                           |\n",
    "| 8  | Tiempo promedio (en minutos) que dedica al desplazamiento diario hacia la universidad  | Cuantitativa continua | Número decimal (0.0 - 180.0)                                                                                                                    |\n",
    "\n",
    "---\n",
    "\n",
    "## **Código Python para generar datos artificiales y guardar en `.xlsx` y `.csv`**\n"
   ]
  },
  {
   "cell_type": "markdown",
   "id": "3de9a0c0",
   "metadata": {},
   "source": [
    "\n",
    "```python\n",
    "import pandas as pd\n",
    "import numpy as np\n",
    "\n",
    "# Semilla para reproducibilidad\n",
    "np.random.seed(42)\n",
    "\n",
    "# Opciones de respuestas\n",
    "programas = [\n",
    "    \"Licenciatura en Matemáticas\",\n",
    "    \"Licenciatura en Educación Infantil\",\n",
    "    \"Ingeniería Agropecuaria\",\n",
    "    \"Administración de Empresas\",\n",
    "    \"Biología\",\n",
    "    \"Psicología\"\n",
    "]\n",
    "\n",
    "satisfaccion = [1, 2, 3, 4, 5]\n",
    "si_no = [\"Sí\", \"No\"]\n",
    "frecuencia = [1, 2, 3, 4, 5]\n",
    "\n",
    "# Generar datos artificiales para 10 estudiantes\n",
    "n = 10\n",
    "datos = {\n",
    "    \"Programa\": np.random.choice(programas, n),\n",
    "    \"SatisfaccionVidaAcademica\": np.random.choice(satisfaccion, n),\n",
    "    \"HorasEstudioSemana\": np.random.randint(0, 41, n),  # discreta\n",
    "    \"HorasSueñoDia\": np.round(np.random.uniform(4.0, 10.0, n), 1),  # continua\n",
    "    \"ParticipaActividades\": np.random.choice(si_no, n),\n",
    "    \"FrecuenciaActividades\": np.random.choice(frecuencia, n),\n",
    "    \"CursosMatriculados\": np.random.randint(1, 9, n),  # discreta\n",
    "    \"MinutosDesplazamiento\": np.round(np.random.uniform(0.0, 120.0, n), 1)  # continua\n",
    "}\n",
    "\n",
    "# Crear DataFrame\n",
    "df = pd.DataFrame(datos)\n",
    "\n",
    "# Guardar como CSV y XLSX\n",
    "df.to_csv(\"tus_datos.csv\", index=False, encoding=\"utf-8-sig\")\n",
    "df.to_excel(\"tus_datos.xlsx\", index=False)\n",
    "\n",
    "print(\"Archivos 'tus_datos.csv' y 'tus_datos.xlsx' generados correctamente.\")\n",
    "print(df)\n",
    "```\n"
   ]
  },
  {
   "cell_type": "markdown",
   "id": "018c7040",
   "metadata": {},
   "source": [
    "\n",
    "---\n",
    "\n",
    "Si quieres, puedo **ejecutar este código aquí mismo** para entregarte directamente los archivos `tus_datos.csv` y `tus_datos.xlsx` listos para descargar.\n",
    "¿Quieres que lo haga ahora?\n"
   ]
  },
  {
   "cell_type": "code",
   "execution_count": null,
   "id": "4be38a77",
   "metadata": {
    "vscode": {
     "languageId": "plaintext"
    }
   },
   "outputs": [],
   "source": [
    "import pandas as pd\n",
    "\n",
    "# Importar datos\n",
    "data = pd.read_csv('tus_datos.csv')\n",
    "\n",
    "# Cálculo de medidas de tendencia central\n",
    "media = data['columna_de_interés'].mean()\n",
    "mediana = data['columna_de_interés'].median()\n",
    "moda = data['columna_de_interés'].mode()[0]\n",
    "\n",
    "print(f\"Media: {media}, Mediana: {mediana}, Moda: {moda}\")"
   ]
  }
 ],
 "metadata": {
  "language_info": {
   "name": "python"
  }
 },
 "nbformat": 4,
 "nbformat_minor": 5
}
