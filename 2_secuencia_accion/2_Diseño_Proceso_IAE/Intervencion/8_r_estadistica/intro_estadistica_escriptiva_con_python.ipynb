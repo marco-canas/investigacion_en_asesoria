{
 "cells": [
  {
   "cell_type": "markdown",
   "id": "ed061faf",
   "metadata": {},
   "source": [
    "# [Estadística descriptiva con python](https://medium.com/@noyomedicen/estad%C3%ADstica-descriptiva-con-python-23e26ca035d5)  \n",
    "\n",
    "De la teoría a la práctica: cómo aplicar estadística descriptiva en tus análisis de datos"
   ]
  },
  {
   "cell_type": "markdown",
   "id": "75d0498e",
   "metadata": {},
   "source": [
    "<img src = 'https://miro.medium.com/v2/resize:fit:1100/format:webp/1*f7d3naH5WmFwgBmhw0HxLA.png'>"
   ]
  },
  {
   "cell_type": "markdown",
   "id": "0d05b4da",
   "metadata": {},
   "source": [
    "La estadística descriptiva es la base sobre la que se construye cualquier análisis de datos. "
   ]
  },
  {
   "cell_type": "markdown",
   "id": "1af2a26c",
   "metadata": {},
   "source": [
    "Se trata de un conjunto de técnicas que nos permiten resumir y entender la información contenida en nuestros datos, transformándola en insights valiosos. "
   ]
  },
  {
   "cell_type": "markdown",
   "id": "8d42a2db",
   "metadata": {},
   "source": [
    "En un mundo donde los datos numéricos abundan, saber cómo analizarlos es una habilidad esencial para cualquier profesional."
   ]
  },
  {
   "cell_type": "markdown",
   "id": "bec6426b",
   "metadata": {},
   "source": [
    "Python, con su ecosistema robusto y herramientas especializadas, se ha convertido en una de las mejores opciones para realizar estos análisis. Este lenguaje no solo es accesible y poderoso, sino que también cuenta con librerías que facilitan la aplicación de la estadística descriptiva de manera eficiente y efectiva."
   ]
  },
  {
   "cell_type": "markdown",
   "id": "bbbb1aef",
   "metadata": {},
   "source": [
    "## Conceptos Clave de la Estadística Descriptiva\n",
    "Antes de adentrarnos en el código, es crucial entender los conceptos que forman el núcleo de la estadística descriptiva. Estos incluyen las medidas de tendencia central, las medidas de dispersión y la forma en que se distribuyen los datos.\n"
   ]
  },
  {
   "cell_type": "markdown",
   "id": "8b46325a",
   "metadata": {},
   "source": [
    "\n",
    "### Medidas de Tendencia Central:   \n",
    "\n",
    "Cómo Identificar el Corazón de tus Datos.  \n",
    "\n",
    "Las medidas de tendencia central, como la media, la mediana y la moda, nos indican dónde se concentra la mayor parte de nuestros datos. Son herramientas que nos ayudan a resumir el conjunto de datos con un solo valor representativo."
   ]
  },
  {
   "cell_type": "markdown",
   "id": "e193812c",
   "metadata": {},
   "source": [
    "* La media es el promedio de todos los valores.\n",
    "* La mediana es el valor medio que divide los datos en dos partes iguales.\n",
    "* La moda es el valor que aparece con mayor frecuencia."
   ]
  },
  {
   "cell_type": "markdown",
   "id": "8cbfe2e9",
   "metadata": {},
   "source": [
    "## Medidas de Dispersión:  \n",
    "### Evaluando la Variabilidad en tus Datos  \n",
    "\n",
    "Mientras que las medidas de tendencia central nos muestran el punto central de nuestros datos, las medidas de dispersión nos indican cuán dispersos o concentrados están alrededor de ese punto."
   ]
  },
  {
   "cell_type": "markdown",
   "id": "f5bd7b88",
   "metadata": {},
   "source": [
    "* El rango muestra la diferencia entre el valor más alto y el más bajo.  \n",
    "* La varianza y la desviación estándar nos ofrecen una idea de cuánto varían los datos con respecto a la media."
   ]
  },
  {
   "cell_type": "markdown",
   "id": "764a202d",
   "metadata": {},
   "source": [
    "# Distribución de los Datos: Entendiendo la Forma y Dispersión de tus Datos  \n",
    "\n",
    "La forma en que los datos están distribuidos es otro aspecto crucial de la estadística descriptiva. Aquí entran en juego conceptos como la simetría y la curtosis, que nos permiten entender si nuestros datos están sesgados hacia un lado o si tienen una concentración anormal de valores extremos.  \n",
    "\n",
    "\n",
    "Una distribución simétrica indica que los datos están balanceados alrededor de la media.\n",
    "Una distribución sesgada sugiere una tendencia hacia un extremo.\n",
    "La curtosis, por otro lado, nos indica si los datos tienen más o menos valores extremos de lo que sería esperado en una distribución normal."
   ]
  },
  {
   "cell_type": "markdown",
   "id": "a15d985e",
   "metadata": {},
   "source": [
    "<img src = 'https://miro.medium.com/v2/resize:fit:1100/format:webp/1*mpkyxIjLp0yIies0iXr7mA.jpeg'>"
   ]
  },
  {
   "cell_type": "markdown",
   "id": "5cc2512d",
   "metadata": {},
   "source": [
    "# Cómo Realizar un Análisis Descriptivo con Python  \n",
    "\n",
    "Ahora que tienes todo listo, es hora de aplicar la estadística descriptiva a tus datos. Utilizando Google Colab, no es necesario instalar librerías adicionales, ya que este entorno ya incluye las herramientas necesarias.\n"
   ]
  },
  {
   "cell_type": "markdown",
   "id": "25371574",
   "metadata": {},
   "source": [
    "\n",
    "## Cálculo de Medidas de Tendencia Central con Python\n",
    "Podemos calcular rápidamente la media, mediana y moda utilizando pandas. Cada una de estas medidas nos ofrece una perspectiva única sobre la distribución de nuestros datos:"
   ]
  },
  {
   "cell_type": "code",
   "execution_count": null,
   "id": "015f60cf",
   "metadata": {
    "vscode": {
     "languageId": "plaintext"
    }
   },
   "outputs": [],
   "source": []
  },
  {
   "cell_type": "code",
   "execution_count": null,
   "id": "4be38a77",
   "metadata": {
    "vscode": {
     "languageId": "plaintext"
    }
   },
   "outputs": [],
   "source": [
    "import pandas as pd\n",
    "\n",
    "# Importar datos\n",
    "data = pd.read_csv('tus_datos.csv')\n",
    "\n",
    "# Cálculo de medidas de tendencia central\n",
    "media = data['columna_de_interés'].mean()\n",
    "mediana = data['columna_de_interés'].median()\n",
    "moda = data['columna_de_interés'].mode()[0]\n",
    "\n",
    "print(f\"Media: {media}, Mediana: {mediana}, Moda: {moda}\")"
   ]
  }
 ],
 "metadata": {
  "language_info": {
   "name": "python"
  }
 },
 "nbformat": 4,
 "nbformat_minor": 5
}
