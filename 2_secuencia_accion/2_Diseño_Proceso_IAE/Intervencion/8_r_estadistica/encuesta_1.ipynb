{
 "cells": [
  {
   "cell_type": "markdown",
   "id": "d739adc7",
   "metadata": {},
   "source": [
    "<table align=\"left\">\n",
    "  <td>\n",
    "    <a href=\"https://colab.research.google.com/github/marco-canas/investigacion_en_asesoria/blob/main/2_secuencia_accion/2_Dise%C3%B1o_Proceso_IAE/Intervencion/8_r_estadistica/encuesta_1.ipynb\" target=\"_parent\"><img src=\"https://colab.research.google.com/assets/colab-badge.svg\" alt=\"Open In Colab\"/></a>\n",
    "  </td>\n",
    "  <td>\n",
    "    <a target=\"_blank\" href=\"https://kaggle.com/kernels/welcome?src=https://github.com/marco-canas/investigacion_en_asesoria/blob/main/2_secuencia_accion/2_Dise%C3%B1o_Proceso_IAE/Intervencion/8_r_estadistica/encuesta_1.ipynb\"><img src=\"https://kaggle.com/static/images/open-in-kaggle.svg\" /></a>\n",
    "  </td>\n",
    "</table>"
   ]
  },
  {
   "cell_type": "markdown",
   "id": "61036ebf",
   "metadata": {},
   "source": [
    "# Encuesta y análisis descriptivo de ella  \n",
    "\n"
   ]
  },
  {
   "cell_type": "markdown",
   "id": "71c3a587",
   "metadata": {},
   "source": [
    "## Obtención de los datos  \n",
    "\n"
   ]
  },
  {
   "cell_type": "markdown",
   "id": "15f15fbf",
   "metadata": {},
   "source": [
    "## ACTIVIDAD 2 - LABORATORIO VIRTUAL: DISEÑO Y ANÁLISIS DE ENCUESTAS ESTADÍSTICAS\n"
   ]
  },
  {
   "cell_type": "markdown",
   "id": "93a82d3c",
   "metadata": {},
   "source": [
    "## Información General\n"
   ]
  },
  {
   "cell_type": "markdown",
   "id": "c048beb7",
   "metadata": {},
   "source": [
    "Modalidad: Virtual\n"
   ]
  },
  {
   "cell_type": "markdown",
   "id": "fe0e828b",
   "metadata": {},
   "source": [
    "Duración: 2 semanas (14 días)\n"
   ]
  },
  {
   "cell_type": "markdown",
   "id": "dc23aa69",
   "metadata": {},
   "source": [
    "Plataforma sugerida: Google Forms + Google Sheets / Microsoft Forms + Excel Online\n"
   ]
  },
  {
   "cell_type": "markdown",
   "id": "8b58a32e",
   "metadata": {},
   "source": [
    "Participantes: Estudiantes del curso Fundamentos de Estadística\n"
   ]
  },
  {
   "cell_type": "markdown",
   "id": "e29f9eab",
   "metadata": {},
   "source": [
    "Tipo de trabajo: Individual con componente colaborativo*\n"
   ]
  },
  {
   "cell_type": "markdown",
   "id": "32e74719",
   "metadata": {},
   "source": [
    "Objetivo General\n",
    "Desarrollar competencias en el diseño, aplicación y análisis de instrumentos de recolección de datos, fortaleciendo la comprensión práctica de los tipos de variables estadísticas y sus aplicaciones en contextos educativos reales.\n"
   ]
  },
  {
   "cell_type": "markdown",
   "id": "d27410bb",
   "metadata": {},
   "source": [
    "Objetivos Específicos\n",
    "\tDiseñar preguntas apropiadas para cada tipo de variable estadística\n"
   ]
  },
  {
   "cell_type": "markdown",
   "id": "d1af8c36",
   "metadata": {},
   "source": [
    "\tAplicar herramientas digitales para la recolección sistemática de datos\n"
   ]
  },
  {
   "cell_type": "markdown",
   "id": "fe8d2816",
   "metadata": {},
   "source": [
    "\tAnalizar e interpretar resultados utilizando conceptos estadísticos básicos\n"
   ]
  },
  {
   "cell_type": "markdown",
   "id": "37a223f9",
   "metadata": {},
   "source": [
    "\tDesarrollar habilidades de comunicación científica a través de informes técnicos\n"
   ]
  },
  {
   "cell_type": "markdown",
   "id": "df5f6217",
   "metadata": {},
   "source": [
    "\tReflexionar sobre las implicaciones éticas en la recolección de datos\n"
   ]
  },
  {
   "cell_type": "markdown",
   "id": "2b8d6b4d",
   "metadata": {},
   "source": [
    "# Descripción de la Actividad\n"
   ]
  },
  {
   "cell_type": "markdown",
   "id": "1b9faca3",
   "metadata": {},
   "source": [
    "Los estudiantes diseñarán y aplicarán una encuesta digital sobre \"Hábitos de estudio, vida académica universitaria, vida estudiantil, hábitos académicos, actividades recreativas” que incluya los cuatro tipos de variables estadísticas. La encuesta será aplicada a 10 compañeros de la universidad, y posteriormente se realizará un análisis estadístico descriptivo de los resultados obtenidos.\n"
   ]
  },
  {
   "cell_type": "markdown",
   "id": "09554741",
   "metadata": {},
   "source": [
    "\n",
    "# Fases de la Actividad\n"
   ]
  },
  {
   "cell_type": "markdown",
   "id": "4ebc929d",
   "metadata": {},
   "source": [
    "## FASE 1: Diseño del Instrumento (Días 1-3)\n"
   ]
  },
  {
   "cell_type": "markdown",
   "id": "a06c5bbe",
   "metadata": {},
   "source": [
    "**Actividades:**  \n",
    "\n",
    "\tInvestigación previa sobre buenas prácticas en diseño de encuestas    \n",
    "\tElaboración de 8 preguntas mínimo (2 por cada tipo de variable)  \n",
    "\tCreación de la encuesta en plataforma digital  \n",
    "\tValidación del instrumento con 2 compañeros piloto  \n"
   ]
  },
  {
   "cell_type": "markdown",
   "id": "e380c67b",
   "metadata": {},
   "source": [
    "Entregable: [Enlace de la encuesta digital](https://docs.google.com/forms/d/e/1FAIpQLSeEdSjAU8Fi-2OYUorv07vOc17f1KRcvWy38mfCAzqeaHEgEg/viewform?usp=header) y documento de justificación del diseño.\n"
   ]
  },
  {
   "cell_type": "markdown",
   "id": "ddf3a649",
   "metadata": {},
   "source": [
    "Recursos proporcionados: \n",
    "\tTutorial sobre uso de Google Forms/Microsoft Forms.\n",
    "\tGuía de redacción de preguntas para encuestas.\n",
    "\tLista de verificación para validación de instrumentos.\n"
   ]
  },
  {
   "cell_type": "markdown",
   "id": "ec0eee79",
   "metadata": {},
   "source": [
    "\n",
    "# FASE 2: Aplicación y Recolección (Días 4-8)\n"
   ]
  },
  {
   "cell_type": "markdown",
   "id": "92868664",
   "metadata": {},
   "source": [
    "**Actividades:**  \n"
   ]
  },
  {
   "cell_type": "markdown",
   "id": "5b562d06",
   "metadata": {},
   "source": [
    "\n",
    "*\tAplicación de la encuesta a 10 compañeros universitarios\n",
    "*\tSeguimiento y recordatorios para completar respuestas\n",
    "\tDescarga y organización de datos en hoja de cálculo\n",
    "\tVerificación de calidad y completitud de los datos\n",
    "Entregable: Base de datos completa con 10 respuestas válidas\n"
   ]
  },
  {
   "cell_type": "markdown",
   "id": "8495b040",
   "metadata": {},
   "source": [
    "Consideraciones éticas:\n",
    "\tSolicitar consentimiento informado de los participantes\n"
   ]
  },
  {
   "cell_type": "markdown",
   "id": "52354ee3",
   "metadata": {},
   "source": [
    "### Diseño del consentimiento informado  \n",
    "\n"
   ]
  },
  {
   "cell_type": "markdown",
   "id": "971ff8af",
   "metadata": {},
   "source": [
    "\tGarantizar anonimato y confidencialidad\n"
   ]
  },
  {
   "cell_type": "markdown",
   "id": "ef57a8c4",
   "metadata": {},
   "source": [
    "\tExplicar el propósito académico de la actividad\n"
   ]
  },
  {
   "cell_type": "markdown",
   "id": "1d0e1392",
   "metadata": {},
   "source": [
    "\n",
    "# FASE 3: Análisis Estadístico (Días 9-12)\n"
   ]
  },
  {
   "cell_type": "markdown",
   "id": "693ccd6f",
   "metadata": {},
   "source": [
    "**Actividades:**  \n"
   ]
  },
  {
   "cell_type": "markdown",
   "id": "620379fb",
   "metadata": {},
   "source": [
    "*\tClasificación y codificación de variables\n"
   ]
  },
  {
   "cell_type": "markdown",
   "id": "4c4f1293",
   "metadata": {},
   "source": [
    "Prompt  \n",
    "por favor, dime que se entiende por codificar una variables estadística de una encuesta   \n",
    "\n",
    "Codificar una variable estadística de una encuesta significa **asignar valores numéricos o categorías estandarizadas a las respuestas** que se obtienen, con el fin de facilitar su almacenamiento, análisis e interpretación.\n",
    "\n",
    "En otras palabras, se traduce la información cualitativa (texto, opciones de respuesta, opiniones) en un formato que pueda ser procesado por programas estadísticos o de análisis de datos.\n",
    "\n",
    "Por ejemplo:\n",
    "\n",
    "* **Variable cualitativa nominal (género):**\n",
    "\n",
    "  * Masculino → 1\n",
    "  * Femenino → 2\n",
    "  * Otro → 3\n",
    "\n",
    "* **Variable ordinal (nivel educativo):**\n",
    "\n",
    "  * Primaria → 1\n",
    "  * Secundaria → 2\n",
    "  * Universitario → 3\n",
    "  * Posgrado → 4\n",
    "\n",
    "* **Variable cuantitativa (edad):**\n",
    "  Se puede registrar directamente el número reportado por la persona (23, 35, 42…).\n",
    "\n",
    "La **codificación** también puede implicar agrupar respuestas abiertas en categorías. Por ejemplo, si en una encuesta se pregunta *“¿Qué medio de transporte usa con más frecuencia?”*, y las respuestas son diversas (\"carro\", \"bus\", \"caminar\", \"bici\"), el investigador podría asignar:\n",
    "\n",
    "* Carro → 1\n",
    "* Bus → 2\n",
    "* Bicicleta → 3\n",
    "* Caminar → 4\n",
    "\n",
    "👉 En resumen: **codificar es transformar las respuestas en un lenguaje numérico o simbólico uniforme** que permita aplicar métodos estadísticos y hacer análisis comparativos.\n",
    "\n",
    "¿Quieres que te prepare una **tabla de ejemplo con variables de una encuesta y su codificación** para que la uses con tus estudiantes?\n"
   ]
  },
  {
   "cell_type": "markdown",
   "id": "eb6baeb6",
   "metadata": {},
   "source": []
  },
  {
   "cell_type": "markdown",
   "id": "3b781518",
   "metadata": {},
   "source": [
    "## *\tCálculo de frecuencias absolutas y relativas\n",
    "\n"
   ]
  },
  {
   "cell_type": "code",
   "execution_count": 1,
   "id": "d79e9a0d",
   "metadata": {},
   "outputs": [
    {
     "data": {
      "application/vnd.microsoft.datawrangler.viewer.v0+json": {
       "columns": [
        {
         "name": "index",
         "rawType": "int64",
         "type": "integer"
        },
        {
         "name": "Marca temporal",
         "rawType": "datetime64[ns]",
         "type": "datetime"
        },
        {
         "name": "Puntuación",
         "rawType": "int64",
         "type": "integer"
        },
        {
         "name": "¿Cuántas materias estas cursando este semestre?",
         "rawType": "int64",
         "type": "integer"
        },
        {
         "name": "¿Cuántos hermanos/as tienes?",
         "rawType": "int64",
         "type": "integer"
        },
        {
         "name": "¿Cuál es tu peso en kilogramos?",
         "rawType": "object",
         "type": "string"
        },
        {
         "name": "¿Cuál es tu estatura?",
         "rawType": "object",
         "type": "string"
        },
        {
         "name": "¿Cuál es tu mascota favorita?",
         "rawType": "object",
         "type": "string"
        },
        {
         "name": "¿Cuál es el medio de transporte que mas utilizas?",
         "rawType": "object",
         "type": "string"
        },
        {
         "name": "¿Qué tan satisfecho estas con el servicio de internet de la universidad? Siendo 1 muy insatisfecho y 4 muy satisfecho.",
         "rawType": "object",
         "type": "string"
        },
        {
         "name": "¿Qué nivel de ingles estas cursando?",
         "rawType": "object",
         "type": "string"
        }
       ],
       "ref": "91218923-42eb-4ed3-ae4b-b572b5142ed5",
       "rows": [
        [
         "0",
         "2025-08-15 11:30:04.145000",
         "0",
         "6",
         "4",
         "75,5",
         "1,81",
         "Ardilla ",
         "Moto ",
         "Insatisfecho",
         "Nivel 3"
        ],
        [
         "1",
         "2025-08-15 11:34:19.440000",
         "0",
         "6",
         "2",
         "70,0",
         "1,69",
         "Perro",
         "Los pies",
         "Muy insatisfecho",
         "Nivel 2"
        ],
        [
         "2",
         "2025-08-15 11:41:19.708000",
         "0",
         "6",
         "2",
         "78,5",
         "1,62",
         "Perro",
         "Moto",
         "Satisfecho",
         "Nivel 3"
        ],
        [
         "3",
         "2025-08-15 17:09:56.992000",
         "0",
         "6",
         "3",
         "69,0",
         "1,72",
         "Perros",
         "Moto",
         "Insatisfecho",
         "Nivel 5"
        ],
        [
         "4",
         "2025-08-16 08:36:35.417000",
         "0",
         "4",
         "3",
         "80,5",
         "1,65",
         "no tengo mascota ",
         "moto",
         "Satisfecho",
         "Nivel 1"
        ],
        [
         "5",
         "2025-08-16 08:45:34.533000",
         "0",
         "6",
         "4",
         "90,2",
         "1,71",
         "Perro",
         "Moto ",
         "Muy satisfecho",
         "Nivel 3"
        ],
        [
         "6",
         "2025-08-16 08:56:26.388000",
         "0",
         "6",
         "2",
         "64,0",
         "1,6",
         "Gato ",
         "Moto",
         "Satisfecho",
         "Nivel 3"
        ],
        [
         "7",
         "2025-08-16 09:04:04.180000",
         "0",
         "5",
         "0",
         "63,8",
         "1,74",
         "Cuervo",
         "Moto",
         "Satisfecho",
         "Nivel 1"
        ],
        [
         "8",
         "2025-08-16 09:05:25.083000",
         "0",
         "5",
         "0",
         "45,0",
         "1,72",
         "Gato",
         "Moto",
         "Satisfecho",
         "Nivel 1"
        ],
        [
         "9",
         "2025-08-16 09:13:50.687000",
         "0",
         "5",
         "1",
         "56,2",
         "1,79",
         "Gato",
         "Moto",
         "Insatisfecho",
         "Nivel 1"
        ]
       ],
       "shape": {
        "columns": 10,
        "rows": 10
       }
      },
      "text/html": [
       "<div>\n",
       "<style scoped>\n",
       "    .dataframe tbody tr th:only-of-type {\n",
       "        vertical-align: middle;\n",
       "    }\n",
       "\n",
       "    .dataframe tbody tr th {\n",
       "        vertical-align: top;\n",
       "    }\n",
       "\n",
       "    .dataframe thead th {\n",
       "        text-align: right;\n",
       "    }\n",
       "</style>\n",
       "<table border=\"1\" class=\"dataframe\">\n",
       "  <thead>\n",
       "    <tr style=\"text-align: right;\">\n",
       "      <th></th>\n",
       "      <th>Marca temporal</th>\n",
       "      <th>Puntuación</th>\n",
       "      <th>¿Cuántas materias estas cursando este semestre?</th>\n",
       "      <th>¿Cuántos hermanos/as tienes?</th>\n",
       "      <th>¿Cuál es tu peso en kilogramos?</th>\n",
       "      <th>¿Cuál es tu estatura?</th>\n",
       "      <th>¿Cuál es tu mascota favorita?</th>\n",
       "      <th>¿Cuál es el medio de transporte que mas utilizas?</th>\n",
       "      <th>¿Qué tan satisfecho estas con el servicio de internet de la universidad? Siendo 1 muy insatisfecho y 4 muy satisfecho.</th>\n",
       "      <th>¿Qué nivel de ingles estas cursando?</th>\n",
       "    </tr>\n",
       "  </thead>\n",
       "  <tbody>\n",
       "    <tr>\n",
       "      <th>0</th>\n",
       "      <td>2025-08-15 11:30:04.145</td>\n",
       "      <td>0</td>\n",
       "      <td>6</td>\n",
       "      <td>4</td>\n",
       "      <td>75,5</td>\n",
       "      <td>1,81</td>\n",
       "      <td>Ardilla</td>\n",
       "      <td>Moto</td>\n",
       "      <td>Insatisfecho</td>\n",
       "      <td>Nivel 3</td>\n",
       "    </tr>\n",
       "    <tr>\n",
       "      <th>1</th>\n",
       "      <td>2025-08-15 11:34:19.440</td>\n",
       "      <td>0</td>\n",
       "      <td>6</td>\n",
       "      <td>2</td>\n",
       "      <td>70,0</td>\n",
       "      <td>1,69</td>\n",
       "      <td>Perro</td>\n",
       "      <td>Los pies</td>\n",
       "      <td>Muy insatisfecho</td>\n",
       "      <td>Nivel 2</td>\n",
       "    </tr>\n",
       "    <tr>\n",
       "      <th>2</th>\n",
       "      <td>2025-08-15 11:41:19.708</td>\n",
       "      <td>0</td>\n",
       "      <td>6</td>\n",
       "      <td>2</td>\n",
       "      <td>78,5</td>\n",
       "      <td>1,62</td>\n",
       "      <td>Perro</td>\n",
       "      <td>Moto</td>\n",
       "      <td>Satisfecho</td>\n",
       "      <td>Nivel 3</td>\n",
       "    </tr>\n",
       "    <tr>\n",
       "      <th>3</th>\n",
       "      <td>2025-08-15 17:09:56.992</td>\n",
       "      <td>0</td>\n",
       "      <td>6</td>\n",
       "      <td>3</td>\n",
       "      <td>69,0</td>\n",
       "      <td>1,72</td>\n",
       "      <td>Perros</td>\n",
       "      <td>Moto</td>\n",
       "      <td>Insatisfecho</td>\n",
       "      <td>Nivel 5</td>\n",
       "    </tr>\n",
       "    <tr>\n",
       "      <th>4</th>\n",
       "      <td>2025-08-16 08:36:35.417</td>\n",
       "      <td>0</td>\n",
       "      <td>4</td>\n",
       "      <td>3</td>\n",
       "      <td>80,5</td>\n",
       "      <td>1,65</td>\n",
       "      <td>no tengo mascota</td>\n",
       "      <td>moto</td>\n",
       "      <td>Satisfecho</td>\n",
       "      <td>Nivel 1</td>\n",
       "    </tr>\n",
       "    <tr>\n",
       "      <th>5</th>\n",
       "      <td>2025-08-16 08:45:34.533</td>\n",
       "      <td>0</td>\n",
       "      <td>6</td>\n",
       "      <td>4</td>\n",
       "      <td>90,2</td>\n",
       "      <td>1,71</td>\n",
       "      <td>Perro</td>\n",
       "      <td>Moto</td>\n",
       "      <td>Muy satisfecho</td>\n",
       "      <td>Nivel 3</td>\n",
       "    </tr>\n",
       "    <tr>\n",
       "      <th>6</th>\n",
       "      <td>2025-08-16 08:56:26.388</td>\n",
       "      <td>0</td>\n",
       "      <td>6</td>\n",
       "      <td>2</td>\n",
       "      <td>64,0</td>\n",
       "      <td>1,6</td>\n",
       "      <td>Gato</td>\n",
       "      <td>Moto</td>\n",
       "      <td>Satisfecho</td>\n",
       "      <td>Nivel 3</td>\n",
       "    </tr>\n",
       "    <tr>\n",
       "      <th>7</th>\n",
       "      <td>2025-08-16 09:04:04.180</td>\n",
       "      <td>0</td>\n",
       "      <td>5</td>\n",
       "      <td>0</td>\n",
       "      <td>63,8</td>\n",
       "      <td>1,74</td>\n",
       "      <td>Cuervo</td>\n",
       "      <td>Moto</td>\n",
       "      <td>Satisfecho</td>\n",
       "      <td>Nivel 1</td>\n",
       "    </tr>\n",
       "    <tr>\n",
       "      <th>8</th>\n",
       "      <td>2025-08-16 09:05:25.083</td>\n",
       "      <td>0</td>\n",
       "      <td>5</td>\n",
       "      <td>0</td>\n",
       "      <td>45,0</td>\n",
       "      <td>1,72</td>\n",
       "      <td>Gato</td>\n",
       "      <td>Moto</td>\n",
       "      <td>Satisfecho</td>\n",
       "      <td>Nivel 1</td>\n",
       "    </tr>\n",
       "    <tr>\n",
       "      <th>9</th>\n",
       "      <td>2025-08-16 09:13:50.687</td>\n",
       "      <td>0</td>\n",
       "      <td>5</td>\n",
       "      <td>1</td>\n",
       "      <td>56,2</td>\n",
       "      <td>1,79</td>\n",
       "      <td>Gato</td>\n",
       "      <td>Moto</td>\n",
       "      <td>Insatisfecho</td>\n",
       "      <td>Nivel 1</td>\n",
       "    </tr>\n",
       "  </tbody>\n",
       "</table>\n",
       "</div>"
      ],
      "text/plain": [
       "           Marca temporal  Puntuación  \\\n",
       "0 2025-08-15 11:30:04.145           0   \n",
       "1 2025-08-15 11:34:19.440           0   \n",
       "2 2025-08-15 11:41:19.708           0   \n",
       "3 2025-08-15 17:09:56.992           0   \n",
       "4 2025-08-16 08:36:35.417           0   \n",
       "5 2025-08-16 08:45:34.533           0   \n",
       "6 2025-08-16 08:56:26.388           0   \n",
       "7 2025-08-16 09:04:04.180           0   \n",
       "8 2025-08-16 09:05:25.083           0   \n",
       "9 2025-08-16 09:13:50.687           0   \n",
       "\n",
       "   ¿Cuántas materias estas cursando este semestre?  \\\n",
       "0                                                6   \n",
       "1                                                6   \n",
       "2                                                6   \n",
       "3                                                6   \n",
       "4                                                4   \n",
       "5                                                6   \n",
       "6                                                6   \n",
       "7                                                5   \n",
       "8                                                5   \n",
       "9                                                5   \n",
       "\n",
       "   ¿Cuántos hermanos/as tienes? ¿Cuál es tu peso en kilogramos?  \\\n",
       "0                             4                            75,5   \n",
       "1                             2                            70,0   \n",
       "2                             2                            78,5   \n",
       "3                             3                            69,0   \n",
       "4                             3                            80,5   \n",
       "5                             4                            90,2   \n",
       "6                             2                            64,0   \n",
       "7                             0                            63,8   \n",
       "8                             0                            45,0   \n",
       "9                             1                            56,2   \n",
       "\n",
       "  ¿Cuál es tu estatura? ¿Cuál es tu mascota favorita?  \\\n",
       "0                  1,81                      Ardilla    \n",
       "1                  1,69                         Perro   \n",
       "2                  1,62                         Perro   \n",
       "3                  1,72                        Perros   \n",
       "4                  1,65             no tengo mascota    \n",
       "5                  1,71                         Perro   \n",
       "6                   1,6                         Gato    \n",
       "7                  1,74                        Cuervo   \n",
       "8                  1,72                          Gato   \n",
       "9                  1,79                          Gato   \n",
       "\n",
       "  ¿Cuál es el medio de transporte que mas utilizas?  \\\n",
       "0                                             Moto    \n",
       "1                                          Los pies   \n",
       "2                                              Moto   \n",
       "3                                              Moto   \n",
       "4                                              moto   \n",
       "5                                             Moto    \n",
       "6                                              Moto   \n",
       "7                                              Moto   \n",
       "8                                              Moto   \n",
       "9                                              Moto   \n",
       "\n",
       "  ¿Qué tan satisfecho estas con el servicio de internet de la universidad? Siendo 1 muy insatisfecho y 4 muy satisfecho.  \\\n",
       "0                                       Insatisfecho                                                                       \n",
       "1                                   Muy insatisfecho                                                                       \n",
       "2                                         Satisfecho                                                                       \n",
       "3                                       Insatisfecho                                                                       \n",
       "4                                         Satisfecho                                                                       \n",
       "5                                     Muy satisfecho                                                                       \n",
       "6                                         Satisfecho                                                                       \n",
       "7                                         Satisfecho                                                                       \n",
       "8                                         Satisfecho                                                                       \n",
       "9                                       Insatisfecho                                                                       \n",
       "\n",
       "  ¿Qué nivel de ingles estas cursando?  \n",
       "0                              Nivel 3  \n",
       "1                              Nivel 2  \n",
       "2                              Nivel 3  \n",
       "3                              Nivel 5  \n",
       "4                              Nivel 1  \n",
       "5                              Nivel 3  \n",
       "6                              Nivel 3  \n",
       "7                              Nivel 1  \n",
       "8                              Nivel 1  \n",
       "9                              Nivel 1  "
      ]
     },
     "execution_count": 1,
     "metadata": {},
     "output_type": "execute_result"
    }
   ],
   "source": [
    "# obtener los datos \n",
    "\n",
    "import pandas as pd  \n",
    "cuestionario = pd.read_excel('Cuestionario_Respuestas.xlsx') \n",
    "\n",
    "cuestionario "
   ]
  },
  {
   "cell_type": "code",
   "execution_count": null,
   "id": "9fe810dd",
   "metadata": {},
   "outputs": [],
   "source": []
  },
  {
   "cell_type": "markdown",
   "id": "28d89d3b",
   "metadata": {},
   "source": [
    "\tElaboración de tablas de distribución de frecuencias\n",
    "\tCreación de gráficos apropiados para cada tipo de variable\n",
    "\tIdentificación de patrones y tendencias principales\n",
    "Entregable: Análisis estadístico descriptivo completo\n",
    "Herramientas sugeridas:\n",
    "Excel/Google Sheets para cálculos\n",
    "Generadores de gráficos online\n",
    "Calculadoras estadísticas web\n",
    "\n",
    "FASE 4: Presentación de Resultados (Días 13-14)\n",
    "Actividades:\n",
    "\tElaboración de informe técnico\n",
    "\tCreación de presentación digital \n",
    "\tParticipación en foro de discusión grupal\n",
    "\tAutoevaluación y reflexión sobre el proceso\n",
    "Entregable: Informe final y participación en foro académico\n",
    "\n",
    "Estructura Detallada de la Encuesta\n",
    "Preguntas Sugeridas por Tipo de Variable\n",
    "Variables Cualitativas Nominales (2 preguntas):\n",
    "1.\t¿Cuál es tu programa académico actual? \n",
    "Opciones: Lista de carreras disponibles en la universidad\n",
    "2.\t¿Cuál es tu método preferido para tomar apuntes en clase? \n",
    "Opciones: A mano en cuaderno, digital en computador, grabaciones de audio, fotografías del tablero, aplicaciones móviles, otro\n",
    "\n",
    "Variables Cualitativas Ordinales (2 preguntas): \n",
    "3.\t¿Cómo calificarías tu nivel de satisfacción con la modalidad virtual de clases?\n",
    "Opciones: Muy insatisfecho, Insatisfecho, Neutral, Satisfecho, Muy satisfecho\n",
    "4.\t¿Cuál consideras que es tu nivel actual de competencia en herramientas digitales para el estudio? \n",
    "Opciones: Principiante, Básico, Intermedio, Avanzado, Experto\n",
    "\n",
    "Variables Cuantitativas Discretas (2 preguntas): \n",
    "5.\t¿Cuántas horas a la semana dedicas a actividades extracurriculares (deportes, voluntariado, trabajo, etc.)?\n",
    "Respuesta: Número entero de 0 a 40\n",
    "6.\t¿Cuántos dispositivos tecnológicos (computador, tablet, smartphone) utilizas regularmente para tus estudios? \n",
    "Respuesta: Número entero de 0 a 10\n",
    "\n",
    "Variables Cuantitativas Continuas (2 preguntas): \n",
    "7.\t¿Cuántas horas diarias dedicas en promedio al estudio personal (fuera de clases)?\n",
    "Respuesta: Número decimal de 0.0 a 12.0 horas\n",
    "8.\t¿Cuál es tu promedio académico acumulado actual? (Escala de 0.0 a 5.0) \n",
    "Respuesta: Número decimal con una cifra decimal\n",
    "\n",
    "Pregunta Adicional de Contexto: \n",
    "9.\t ¿En qué semestre académico te encuentras actualmente?\n",
    "Opciones: 1° a 10° semestre\n",
    "\n",
    "Producto Esperado\n",
    "Componentes del Entregable Final\n",
    "1.\tPortada e Introducción \n",
    "\tTítulo del proyecto\n",
    "\tNombres del curso, estudiante y docente.\n",
    "\tObjetivos de la investigación\n",
    "\tJustificación de la temática elegida\n",
    "\n",
    "2.\tMetodología \n",
    "\tDescripción del instrumento diseñado\n",
    "\tJustificación de cada pregunta y su clasificación por tipo de variable\n",
    "\tDescripción de la población objetivo y método de muestreo\n",
    "\n",
    "3.\tPresentación de Resultados \n",
    "\tTablas de distribución de frecuencias para cada variable\n",
    "\tGráficos apropiados según el tipo de variable\n",
    "\tDescripción narrativa de los hallazgos principales\n",
    "\n",
    "4.\tAnálisis e Interpretación \n",
    "Identificación de patrones y tendencias\n",
    "Comparación entre variables cuando sea pertinente\n",
    "Reflexiones sobre la representatividad de los datos\n",
    "\n",
    "5.\tConclusiones y Reflexiones \n",
    "\tSíntesis de los hallazgos principales\n",
    "\tLimitaciones del estudio\n",
    "\tAprendizajes sobre el proceso de investigación\n",
    "\tAplicaciones pedagógicas para la enseñanza de estadística\n",
    "\n",
    "6.\tReferencias y Anexos \n",
    "\tFuentes consultadas\n",
    "\tInstrumento completo (captura de pantalla)\n",
    "\tBase de datos (opcional, respetando confidencialidad)\n",
    "\n",
    "Evaluación Sugerida\n",
    "Criterios de Evaluación (100 puntos total)\n",
    "Componente\tCriterio\tPuntaje\tIndicadores de Calidad\n",
    "Diseño de Instrumento\tCalidad técnica de las preguntas\t20 pts\t- Claridad en la redacción.\n",
    "- Correcta clasificación de variables.\n",
    "- Pertinencia temática.\n",
    "- Consideraciones éticas.\n",
    "Recolección de Datos\tCompletitud y calidad de datos\t15 pts\t- 10 respuestas completas.\n",
    "- Datos consistentes.\n",
    "- Proceso documentado.\n",
    "Análisis Estadístico\tAplicación correcta de conceptos\t25 pts\t- Tablas de frecuencias correctas.\n",
    "- Gráficos apropiados.\n",
    "- Cálculos precisos.\n",
    "- Clasificación acertada de variables.\n",
    "Interpretación\tCapacidad de análisis\t20 pts\t- Identificación de patrones.\n",
    "- Interpretación coherente.\n",
    "- Conexión teoría-práctica\n",
    "Comunicación\tCalidad del informe\t15 pts\t- Estructura clara.\n",
    "- Redacción académica.\n",
    "- Presentación visual.\n",
    "- Cumplimiento de formato\n",
    "Reflexión Pedagógica\tConexión con formación docente\t5 pts\t- Aplicaciones educativas.\n",
    "- Reflexión sobre el proceso.\n",
    "- Lecciones aprendidas\n",
    "\n",
    "Rúbrica Detallada\n",
    "Excelente (90-100%):\n",
    "\tDemuestra dominio completo de los conceptos de variables estadísticas\n",
    "\tAplica correctamente todas las técnicas de análisis descriptivo\n",
    "\tPresenta interpretaciones profundas y conexiones teórico-prácticas\n",
    "\tInforme de alta calidad técnica y comunicativa\n",
    "Bueno (80-89%):\n",
    "\tComprende bien los conceptos básicos con aplicación mayormente correcta\n",
    "\tRealiza análisis apropiado con interpretaciones coherentes\n",
    "\tInforme bien estructurado con presentación clara\n",
    "\tAlgunas oportunidades menores de mejora\n",
    "\n",
    "Satisfactorio (70-79%):\n",
    "\tComprensión básica de conceptos con aplicación aceptable\n",
    "\tAnálisis simple pero correcto en elementos fundamentales\n",
    "\tInforme cumple requisitos mínimos con claridad adecuada\n",
    "\tNecesita fortalecimiento en algunos aspectos\n",
    "\n",
    "Insuficiente (<70%):\n",
    "\tComprensión limitada de conceptos fundamentales\n",
    "\tErrores significativos en clasificación o análisis\n",
    "\tInforme incompleto o con problemas importantes de calidad\n",
    "\tRequiere refuerzo conceptual y metodológico\n",
    "\n",
    "\n",
    "\n",
    "Recursos Adicionales\n",
    "Tutoriales y Guías\n",
    "\tVideo tutorial: \"Creación de encuestas efectivas en Google Forms\"\n",
    "\tGuía PDF: \"Análisis básico de datos en hojas de cálculo\"\n",
    "\tChecklist: \"Verificación de calidad en recolección de datos\"\n",
    "\n",
    "Herramientas Recomendadas\n",
    "\tPara encuestas: Google Forms, Microsoft Forms, SurveyMonkey (versión gratuita)\n",
    "\tPara análisis: Google Sheets, Excel Online, Calc (LibreOffice)\n",
    "\tPara gráficos: Chart.js, Canva, herramientas integradas en hojas de cálculo\n",
    "\n",
    "Soporte Técnico\n",
    "\tForo de consultas técnicas en plataforma o presencial\n",
    "\tSesiones de tutoría virtual (horarios programados)\n",
    "\tBanco de preguntas frecuentes actualizado\n",
    "\n",
    "Cronograma Detallado\n",
    "Día\tActividad Principal\tTiempo Estimado\tSoporte Docente\n",
    "1-2\tDiseño de preguntas y creación de encuesta\t3-4 horas\tTutorial disponible\n",
    "3\tValidación piloto y ajustes\t1-2 horas\tConsulta en foro\n",
    "4-6\tAplicación de encuesta\t30 min/día\tSeguimiento pasivo\n",
    "7-8\tRecolección y organización de datos\t2 horas\tTutoría disponible\n",
    "9-11\tAnálisis estadístico y creación de gráficos\t4-5 horas\tSesión grupal virtual\n",
    "12-13\tElaboración de informe\t3-4 horas\tRevisión de borradores\n",
    "14\tRevisión final y entrega\t1-2 horas\tEntrega en plataforma\n",
    "\n",
    "\n",
    "\n",
    "\n",
    "Consideraciones para Futuros Docentes\n",
    "Esta actividad no solo desarrolla competencias estadísticas, sino que también modela estrategias pedagógicas que los estudiantes podrán implementar en sus futuras aulas:\n",
    "\tAprendizaje activo: Los estudiantes construyen su propio conocimiento\n",
    "\tTecnología educativa: Integración natural de herramientas digitales\n",
    "\tInvestigación en el aula: Metodología de indagación aplicada\n",
    "\tTrabajo colaborativo: Interacción constructiva entre pares\n",
    "\tEvaluación auténtica: Productos reales con aplicación práctica\n",
    " \n",
    "GUÍA DE REDACCIÓN DE PREGUNTAS PARA ENCUESTAS\n",
    "¿Qué es?\n",
    "Es un documento metodológico que proporciona criterios técnicos y mejores prácticas para formular preguntas efectivas según el tipo de variable estadística que se desea medir.\n",
    "\n",
    "Estructura de la Guía\n",
    "SECCIÓN 1: Principios Generales de Redacción\n",
    "Características de una Buena Pregunta:\n",
    "\tClaridad: Lenguaje simple y directo\n",
    "\tPrecisión: Una sola idea por pregunta\n",
    "\tNeutralidad: Evitar sesgos o direccionamiento\n",
    "\tRelevancia: Pertinente al objetivo de investigación\n",
    "\tFactibilidad: Que el respondiente pueda contestar\n",
    "\n",
    "Errores Comunes a Evitar:\n",
    "❌ Pregunta doble: \"¿Estudias matemáticas y te gusta?\"\n",
    "✅ Pregunta simple: \"¿Te gusta estudiar matemáticas?\"\n",
    "\n",
    "❌ Pregunta sesgada: \"¿No crees que las clases virtuales son aburridas?\"\n",
    "✅ Pregunta neutra: \"¿Cómo calificarías tu experiencia con las clases virtuales?\"\n",
    "\n",
    "❌ Lenguaje técnico: \"¿Cuál es tu nivel de metacognición?\"\n",
    "✅ Lenguaje claro: \"¿Qué tan consciente eres de tus procesos de aprendizaje?\"\n",
    "\n",
    "SECCIÓN 2: Redacción por Tipo de Variable\n",
    "Para Variables Cualitativas Nominales:\n",
    "Estructura: \"¿Cuál es tu [característica]?\"\n",
    "Opciones: Lista exhaustiva y mutuamente excluyente\n",
    "\n",
    "Ejemplo:\n",
    "Pregunta: \"¿Cuál es tu carrera universitaria?\"\n",
    "Opciones: \n",
    "\tIngeniería de Sistemas\n",
    "\tLicenciatura en Matemáticas  \n",
    "\tMedicina\n",
    "\tDerecho\n",
    "\tPsicología\n",
    "\tOtra (especificar)\n",
    "\n",
    "Para Variables Cualitativas Ordinales:\n",
    "Estructura: \"¿Cómo calificarías/clasificarías [aspecto]?\"\n",
    "Opciones: Escala ordenada con 3-7 niveles\n",
    "\n",
    "Ejemplo:\n",
    "Pregunta: \"¿Cómo calificarías tu nivel de satisfacción con el campus universitario?\"\n",
    "Opciones:\n",
    "\tMuy insatisfecho\n",
    "\tInsatisfecho  \n",
    "\tNeutral\n",
    "\tSatisfecho\n",
    "\tMuy satisfecho\n",
    "\n",
    "Para Variables Cuantitativas Discretas:\n",
    "Estructura: \"¿Cuántos/as [elemento contable]?\"\n",
    "Respuesta: Número entero con rango definido\n",
    "\n",
    "Ejemplo:\n",
    "Pregunta: \"¿Cuántos cursos tienes matriculados este semestre?\"\n",
    "Validación: Número entero entre 1 y 8\n",
    "\n",
    "Para Variables Cuantitativas Continuas:\n",
    "Estructura: \"¿Cuánto/a [medida]?\" o \"¿Cuál es tu [valor medible]?\"\n",
    "Respuesta: Número decimal con rango y unidades\n",
    "\n",
    "Ejemplo:\n",
    "Pregunta: \"¿Cuántas horas diarias dedicas al estudio personal?\"\n",
    "Validación: Número decimal entre 0.0 y 12.0\n",
    "Unidad: Horas\n",
    "\n",
    "SECCIÓN 3: Consideraciones Éticas\n",
    "Consentimiento informado\n",
    "\tPreguntas sensibles (edad, ingresos, datos personales)\n",
    "\tDerecho a no responder\n",
    "\tUso apropiado de la información\n"
   ]
  }
 ],
 "metadata": {
  "kernelspec": {
   "display_name": ".venv",
   "language": "python",
   "name": "python3"
  },
  "language_info": {
   "codemirror_mode": {
    "name": "ipython",
    "version": 3
   },
   "file_extension": ".py",
   "mimetype": "text/x-python",
   "name": "python",
   "nbconvert_exporter": "python",
   "pygments_lexer": "ipython3",
   "version": "3.12.6"
  }
 },
 "nbformat": 4,
 "nbformat_minor": 5
}
