{
 "cells": [
  {
   "cell_type": "markdown",
   "id": "d739adc7",
   "metadata": {},
   "source": [
    "<table align=\"left\">\n",
    "  <td>\n",
    "    <a href=\"https://colab.research.google.com/github/marco-canas/investigacion_en_asesoria/blob/main/2_secuencia_accion/2_Dise%C3%B1o_Proceso_IAE/Intervencion/8_r_estadistica/encuesta_1.ipynb\" target=\"_parent\"><img src=\"https://colab.research.google.com/assets/colab-badge.svg\" alt=\"Open In Colab\"/></a>\n",
    "  </td>\n",
    "  <td>\n",
    "    <a target=\"_blank\" href=\"https://kaggle.com/kernels/welcome?src=https://github.com/marco-canas/investigacion_en_asesoria/blob/main/2_secuencia_accion/2_Dise%C3%B1o_Proceso_IAE/Intervencion/8_r_estadistica/encuesta_1.ipynb\"><img src=\"https://kaggle.com/static/images/open-in-kaggle.svg\" /></a>\n",
    "  </td>\n",
    "</table>"
   ]
  },
  {
   "cell_type": "markdown",
   "id": "5d281c99",
   "metadata": {},
   "source": [
    "<img src = 'asesoría_21_agosto_estadistica_intro_python_analisis_numerico.jpg' width = 400>"
   ]
  },
  {
   "cell_type": "markdown",
   "id": "15f15fbf",
   "metadata": {},
   "source": [
    "## ACTIVIDAD 2 - LABORATORIO VIRTUAL: DISEÑO Y ANÁLISIS DE ENCUESTAS ESTADÍSTICAS\n"
   ]
  },
  {
   "cell_type": "markdown",
   "id": "93a82d3c",
   "metadata": {},
   "source": [
    "## Información General\n"
   ]
  },
  {
   "cell_type": "markdown",
   "id": "c048beb7",
   "metadata": {},
   "source": [
    "Modalidad: Virtual\n"
   ]
  },
  {
   "cell_type": "markdown",
   "id": "fe0e828b",
   "metadata": {},
   "source": [
    "Duración: 2 semanas (14 días)\n"
   ]
  },
  {
   "cell_type": "markdown",
   "id": "dc23aa69",
   "metadata": {},
   "source": [
    "Plataforma sugerida: Google Forms + Google Sheets / Microsoft Forms + Excel Online\n"
   ]
  },
  {
   "cell_type": "markdown",
   "id": "8b58a32e",
   "metadata": {},
   "source": [
    "Participantes: Estudiantes del curso Fundamentos de Estadística\n"
   ]
  },
  {
   "cell_type": "markdown",
   "id": "e29f9eab",
   "metadata": {},
   "source": [
    "Tipo de trabajo: Individual con componente colaborativo*\n"
   ]
  },
  {
   "cell_type": "markdown",
   "id": "32e74719",
   "metadata": {},
   "source": [
    "Objetivo General\n",
    "Desarrollar competencias en el diseño, aplicación y análisis de instrumentos de recolección de datos, fortaleciendo la comprensión práctica de los tipos de variables estadísticas y sus aplicaciones en contextos educativos reales.\n"
   ]
  },
  {
   "cell_type": "markdown",
   "id": "d27410bb",
   "metadata": {},
   "source": [
    "Objetivos Específicos\n",
    "\tDiseñar preguntas apropiadas para cada tipo de variable estadística\n"
   ]
  },
  {
   "cell_type": "markdown",
   "id": "d1af8c36",
   "metadata": {},
   "source": [
    "*\tAplicar herramientas digitales para la recolección sistemática de datos\n"
   ]
  },
  {
   "cell_type": "markdown",
   "id": "fe8d2816",
   "metadata": {},
   "source": [
    "\tAnalizar e interpretar resultados utilizando conceptos estadísticos básicos\n"
   ]
  },
  {
   "cell_type": "markdown",
   "id": "37a223f9",
   "metadata": {},
   "source": [
    "\tDesarrollar habilidades de comunicación científica a través de informes técnicos\n"
   ]
  },
  {
   "cell_type": "markdown",
   "id": "df5f6217",
   "metadata": {},
   "source": [
    "\tReflexionar sobre las implicaciones éticas en la recolección de datos\n"
   ]
  },
  {
   "cell_type": "markdown",
   "id": "2b8d6b4d",
   "metadata": {},
   "source": [
    "# Descripción de la Actividad\n"
   ]
  },
  {
   "cell_type": "markdown",
   "id": "1b9faca3",
   "metadata": {},
   "source": [
    "Los estudiantes diseñarán y aplicarán una encuesta digital sobre \"Hábitos de estudio, vida académica universitaria, vida estudiantil, hábitos académicos, actividades recreativas” que incluya los cuatro tipos de variables estadísticas. La encuesta será aplicada a 10 compañeros de la universidad, y posteriormente se realizará un análisis estadístico descriptivo de los resultados obtenidos.\n"
   ]
  },
  {
   "cell_type": "markdown",
   "id": "09554741",
   "metadata": {},
   "source": [
    "\n",
    "# Fases de la Actividad\n"
   ]
  },
  {
   "cell_type": "markdown",
   "id": "4ebc929d",
   "metadata": {},
   "source": [
    "## FASE 1: Diseño del Instrumento (Días 1-3)\n"
   ]
  },
  {
   "cell_type": "markdown",
   "id": "a06c5bbe",
   "metadata": {},
   "source": [
    "**Actividades:**  \n",
    "\n",
    "\tInvestigación previa sobre buenas prácticas en diseño de encuestas    \n",
    "\tElaboración de 8 preguntas mínimo (2 por cada tipo de variable)  \n",
    "\tCreación de la encuesta en plataforma digital  \n",
    "\tValidación del instrumento con 2 compañeros piloto  \n"
   ]
  },
  {
   "cell_type": "markdown",
   "id": "e380c67b",
   "metadata": {},
   "source": [
    "Entregable: [Enlace de la encuesta digital](https://docs.google.com/forms/d/e/1FAIpQLSeEdSjAU8Fi-2OYUorv07vOc17f1KRcvWy38mfCAzqeaHEgEg/viewform?usp=header) y documento de justificación del diseño.\n"
   ]
  },
  {
   "cell_type": "markdown",
   "id": "ddf3a649",
   "metadata": {},
   "source": [
    "Recursos proporcionados: \n",
    "\tTutorial sobre uso de Google Forms/Microsoft Forms.\n",
    "\tGuía de redacción de preguntas para encuestas.\n",
    "\tLista de verificación para validación de instrumentos.\n"
   ]
  },
  {
   "cell_type": "markdown",
   "id": "ec0eee79",
   "metadata": {},
   "source": [
    "\n",
    "# FASE 2: Aplicación y Recolección (Días 4-8)\n"
   ]
  },
  {
   "cell_type": "markdown",
   "id": "92868664",
   "metadata": {},
   "source": [
    "**Actividades:**  \n"
   ]
  },
  {
   "cell_type": "markdown",
   "id": "5b562d06",
   "metadata": {},
   "source": [
    "\n",
    "*\tAplicación de la encuesta a 10 compañeros universitarios\n",
    "*\tSeguimiento y recordatorios para completar respuestas\n",
    "\tDescarga y organización de datos en hoja de cálculo\n",
    "\tVerificación de calidad y completitud de los datos\n",
    "Entregable: Base de datos completa con 10 respuestas válidas\n"
   ]
  },
  {
   "cell_type": "markdown",
   "id": "8495b040",
   "metadata": {},
   "source": [
    "Consideraciones éticas:\n",
    "\tSolicitar consentimiento informado de los participantes\n"
   ]
  },
  {
   "cell_type": "markdown",
   "id": "52354ee3",
   "metadata": {},
   "source": [
    "### Diseño del consentimiento informado  \n",
    "\n"
   ]
  },
  {
   "cell_type": "markdown",
   "id": "971ff8af",
   "metadata": {},
   "source": [
    "\tGarantizar anonimato y confidencialidad\n"
   ]
  },
  {
   "cell_type": "markdown",
   "id": "ef57a8c4",
   "metadata": {},
   "source": [
    "\tExplicar el propósito académico de la actividad\n"
   ]
  },
  {
   "cell_type": "markdown",
   "id": "1d0e1392",
   "metadata": {},
   "source": [
    "\n",
    "# FASE 3: Análisis Estadístico (Días 9-12)\n"
   ]
  },
  {
   "cell_type": "markdown",
   "id": "693ccd6f",
   "metadata": {},
   "source": [
    "**Actividades:**  \n"
   ]
  },
  {
   "cell_type": "markdown",
   "id": "620379fb",
   "metadata": {},
   "source": [
    "*\tClasificación y codificación de variables\n"
   ]
  },
  {
   "cell_type": "markdown",
   "id": "4c4f1293",
   "metadata": {},
   "source": [
    "## Prompt  \n",
    "por favor, dime que se entiende por codificar una variables estadística de una encuesta   \n"
   ]
  },
  {
   "cell_type": "markdown",
   "id": "6a2226e6",
   "metadata": {},
   "source": [
    "\n",
    "Codificar una variable estadística de una encuesta significa **asignar valores numéricos o categorías estandarizadas a las respuestas** que se obtienen, con el fin de facilitar su almacenamiento, análisis e interpretación.\n"
   ]
  },
  {
   "cell_type": "markdown",
   "id": "94a3006d",
   "metadata": {},
   "source": [
    "\n",
    "En otras palabras, se traduce la información cualitativa (texto, opciones de respuesta, opiniones) en un formato que pueda ser procesado por programas estadísticos o de análisis de datos.\n",
    "\n",
    "Por ejemplo:\n",
    "\n",
    "* **Variable cualitativa nominal (género):**\n",
    "\n",
    "  * Masculino → 1\n",
    "  * Femenino → 2\n",
    "  * Otro → 3\n",
    "\n",
    "* **Variable ordinal (nivel educativo):**\n",
    "\n",
    "  * Primaria → 1\n",
    "  * Secundaria → 2\n",
    "  * Universitario → 3\n",
    "  * Posgrado → 4\n"
   ]
  },
  {
   "cell_type": "markdown",
   "id": "d9389849",
   "metadata": {},
   "source": [
    "\n",
    "* **Variable cuantitativa (edad):**\n",
    "  Se puede registrar directamente el número reportado por la persona (23, 35, 42…).\n",
    "\n",
    "La **codificación** también puede implicar agrupar respuestas abiertas en categorías. Por ejemplo, si en una encuesta se pregunta *“¿Qué medio de transporte usa con más frecuencia?”*, y las respuestas son diversas (\"carro\", \"bus\", \"caminar\", \"bici\"), el investigador podría asignar:\n",
    "\n",
    "* Carro → 1\n",
    "* Bus → 2\n",
    "* Bicicleta → 3\n",
    "* Caminar → 4\n"
   ]
  },
  {
   "cell_type": "markdown",
   "id": "80ba1f85",
   "metadata": {},
   "source": [
    "\n",
    "En resumen: **codificar es transformar las respuestas en un lenguaje numérico o simbólico uniforme** que permita aplicar métodos estadísticos y hacer análisis comparativos.\n",
    "\n",
    "¿Quieres que te prepare una **tabla de ejemplo con variables de una encuesta y su codificación** para que la uses con tus estudiantes?\n"
   ]
  },
  {
   "cell_type": "markdown",
   "id": "eb6baeb6",
   "metadata": {},
   "source": []
  },
  {
   "cell_type": "markdown",
   "id": "3b781518",
   "metadata": {},
   "source": [
    "## *\tCálculo de frecuencias absolutas y relativas\n",
    "\n"
   ]
  },
  {
   "cell_type": "code",
   "execution_count": null,
   "id": "d79e9a0d",
   "metadata": {},
   "outputs": [],
   "source": [
    "# obtener los datos \n",
    "\n",
    "import pandas as pd  \n",
    "df = pd.read_excel('Cuestionario_Respuestas.xlsx', decimal = ',') \n",
    "\n",
    "df "
   ]
  },
  {
   "cell_type": "code",
   "execution_count": null,
   "id": "db657fab",
   "metadata": {},
   "outputs": [],
   "source": [
    "df.keys() # nombres de las variables originales "
   ]
  },
  {
   "cell_type": "code",
   "execution_count": null,
   "id": "4bc7cae3",
   "metadata": {},
   "outputs": [],
   "source": [
    "df = df.drop(columns=['Marca temporal', 'Puntuación']) \n",
    "df "
   ]
  },
  {
   "cell_type": "code",
   "execution_count": null,
   "id": "29200de0",
   "metadata": {},
   "outputs": [],
   "source": [
    "# renombrar las variables para facilitar su manejo\n",
    "import pandas as pd\n",
    "\n",
    "# Supongamos que tu dataset está en un DataFrame llamado \"df\"\n",
    "# df = pd.read_csv(\"tu_dataset.csv\")\n",
    "\n",
    "# Diccionario con nombres originales -> nombres nuevos\n",
    "nuevos_nombres = {\n",
    "    'Marca temporal': 'timestamp',\n",
    "    'Puntuación': 'puntuacion',\n",
    "    '¿Cuántas materias estas cursando este semestre?': 'materias_semestre',\n",
    "    '¿Cuántos hermanos/as tienes?': 'hermanos',\n",
    "    '¿Cuál es tu peso en kilogramos?': 'peso_kg',\n",
    "    '¿Cuál es tu estatura?': 'estatura_m',\n",
    "    '¿Cuál es tu mascota favorita?': 'mascota_favorita',\n",
    "    '¿Cuál es el medio de transporte que mas utilizas?': 'transporte',\n",
    "    '¿Qué tan satisfecho estas con el servicio de internet de la universidad? Siendo 1 muy insatisfecho y 4 muy satisfecho.': 'satisfaccion_internet',\n",
    "    '¿Qué nivel de ingles estas cursando?': 'nivel_ingles'\n",
    "}\n",
    "\n",
    "# Renombrar columnas\n",
    "df = df.rename(columns=nuevos_nombres)\n",
    "\n",
    "# Verificar cambios\n",
    "df.head()\n"
   ]
  },
  {
   "cell_type": "code",
   "execution_count": null,
   "id": "e029129a",
   "metadata": {},
   "outputs": [],
   "source": [
    "df['transporte'] = df['transporte'].str.lower().replace(\"los pie\", \"a pie\")\n"
   ]
  },
  {
   "cell_type": "code",
   "execution_count": null,
   "id": "e46cac6e",
   "metadata": {},
   "outputs": [],
   "source": [
    "df.transporte.value_counts()"
   ]
  },
  {
   "cell_type": "code",
   "execution_count": null,
   "id": "9fe810dd",
   "metadata": {},
   "outputs": [],
   "source": [
    "df.info() "
   ]
  },
  {
   "cell_type": "code",
   "execution_count": null,
   "id": "f824b330",
   "metadata": {},
   "outputs": [],
   "source": [
    "# corregir las respuestas en las variables categóricas nominales para que queden el minúscula y en singular. \n",
    "\n",
    "import pandas as pd\n",
    "import inflect\n",
    "\n",
    "# Crear motor de singularización\n",
    "p = inflect.engine()\n",
    "\n",
    "# Seleccionar solo las columnas categóricas\n",
    "categorical_cols = df.select_dtypes(include=['object', 'category']).columns\n",
    "\n",
    "# Limpiar valores categóricos: minúsculas y singular\n",
    "for col in categorical_cols:\n",
    "    df[col] = (\n",
    "        df[col]\n",
    "        .astype(str)               # asegurar que sean string\n",
    "        .str.strip()               # quitar espacios extra\n",
    "        .str.lower()               # pasar a minúsculas\n",
    "        .apply(lambda x: p.singular_noun(x) if p.singular_noun(x) else x)  # singularizar\n",
    "    )\n",
    "\n",
    "# Verificar resultado en algunas columnas\n",
    "for col in categorical_cols:\n",
    "    print(f\"\\nColumna: {col}\")\n",
    "    print(df[col].unique())\n"
   ]
  },
  {
   "cell_type": "code",
   "execution_count": null,
   "id": "02c31ba7",
   "metadata": {},
   "outputs": [],
   "source": [
    "var_categoricas = [\n",
    "    'mascota_favorita', \n",
    "    'transporte', \n",
    "    'satisfaccion_internet', \n",
    "    'nivel_ingles'\n",
    "]\n",
    "var_categoricas_nominales = ['mascota_favorita', 'transporte'] \n",
    "var_categoricas_ordinales = ['satisfaccion_internet', 'nivel_ingles']  \n"
   ]
  },
  {
   "cell_type": "markdown",
   "id": "9d231b06",
   "metadata": {},
   "source": [
    "# Declarar las variables categóricas ordinales   \n",
    "\n",
    "Cuando una variable categórica es **ordinal**, en **pandas** debemos declararla como `CategoricalDtype` con un **orden definido**.\n",
    "\n",
    "Aquí te dejo el script para tus dos variables:\n"
   ]
  },
  {
   "cell_type": "code",
   "execution_count": null,
   "id": "a8350d80",
   "metadata": {},
   "outputs": [],
   "source": [
    "df.nivel_ingles.value_counts() # revisar los niveles de la variable nivel_ingles"
   ]
  },
  {
   "cell_type": "code",
   "execution_count": null,
   "id": "8051b6d4",
   "metadata": {},
   "outputs": [],
   "source": [
    "df.satisfaccion_internet.value_counts() # revisar los niveles de la variable satisfaccion_internet"
   ]
  },
  {
   "cell_type": "code",
   "execution_count": null,
   "id": "4da0e7fc",
   "metadata": {},
   "outputs": [],
   "source": [
    "import pandas as pd\n",
    "from pandas.api.types import CategoricalDtype\n",
    "\n",
    "# Orden lógico de la variable nivel_ingles (ejemplo: 4 niveles)\n",
    "orden_nivel_ingles = [\"nivel 1\", \"nivel 2\", \"nivel 3\", \"nivel 4\", \"nivel 5\"]\n",
    "nivel_ingles_cat = CategoricalDtype(categories=orden_nivel_ingles, ordered=True)\n",
    "\n",
    "df[\"nivel_ingles\"] = df[\"nivel_ingles\"].astype(nivel_ingles_cat)\n",
    "\n",
    "# Orden lógico de la variable satisfaccion_internet (ejemplo: escala Likert 1 a 5)\n",
    "orden_satisfaccion = [\"muy insatisfecho\", \"insatisfecho\", \"satisfecho\", \"muy satisfecho\"] \n",
    "satisfaccion_cat = CategoricalDtype(categories=orden_satisfaccion, ordered=True)\n",
    "\n",
    "df[\"satisfaccion_internet\"] = df[\"satisfaccion_internet\"].astype(satisfaccion_cat)\n",
    "\n",
    "# Verificar que quedaron como ordinales\n",
    "print(df[\"nivel_ingles\"].dtype)\n",
    "print(df[\"satisfaccion_internet\"].dtype)\n",
    "\n"
   ]
  },
  {
   "cell_type": "markdown",
   "id": "2a1a5435",
   "metadata": {},
   "source": [
    "\n",
    "## Explicación:\n",
    "\n",
    "* **`CategoricalDtype(categories=[...], ordered=True)`** → convierte la variable en **ordinal**.\n",
    "* En `\"nivel_ingles\"` puse un orden progresivo `\"nivel 1\" → \"nivel 4\"`.\n",
    "* En `\"satisfaccion_internet\"` asumí una escala **Likert** de `\"1\"` (muy insatisfecho) hasta `\"5\"` (muy satisfecho).\n",
    "\n",
    "---\n"
   ]
  },
  {
   "cell_type": "markdown",
   "id": "e0f02a6a",
   "metadata": {},
   "source": [
    "\n",
    "¿Quieres que prepare además un **mapa numérico** (ejemplo: `nivel 1 → 1, ..., nivel 4 → 4`) para que estas variables queden listas para **modelos estadísticos o machine learning**?\n"
   ]
  },
  {
   "cell_type": "markdown",
   "id": "28d89d3b",
   "metadata": {},
   "source": [
    "#\tElaboración de tablas de distribución de frecuencias\n"
   ]
  },
  {
   "cell_type": "code",
   "execution_count": null,
   "id": "6c80f306",
   "metadata": {},
   "outputs": [],
   "source": [
    "# Tabla de distribución de frecuencias para todas las variables categóricas\n",
    "\n",
    "print(f\"Distribución de frecuencias para: {columna}\")\n",
    "print(df[columna].value_counts())\n",
    "print(\"\\nFrecuencia relativa:\")\n",
    "print(df[columna].value_counts(normalize=True)*100)\n",
    "print(\"\\n\" + \"-\"*50 + \"\\n\")"
   ]
  },
  {
   "cell_type": "code",
   "execution_count": null,
   "id": "3c639eed",
   "metadata": {},
   "outputs": [],
   "source": [
    "df.keys() "
   ]
  },
  {
   "cell_type": "code",
   "execution_count": null,
   "id": "9d719081",
   "metadata": {},
   "outputs": [],
   "source": [
    "# Tabla de distribución de frecuencias para todas las variables categóricas\n",
    "\n",
    "print(f\"Distribución de frecuencias para: {'mascota_favorita'}\")\n",
    "print(df['mascota_favorita'].value_counts())\n",
    "print(\"\\nFrecuencia relativa:\")\n",
    "print(df['mascota_favorita'].value_counts(normalize=True)*100)\n",
    "print(\"\\n\" + \"-\"*50 + \"\\n\")"
   ]
  },
  {
   "cell_type": "code",
   "execution_count": null,
   "id": "2de3e88a",
   "metadata": {},
   "outputs": [],
   "source": [
    "# Tabla de distribución de frecuencias para todas las variables categóricas\n",
    "\n",
    "print(f\"Distribución de frecuencias para: 'transporte'\")\n",
    "print(df['transporte'].value_counts())\n",
    "print(\"\\nFrecuencia relativa:\")\n",
    "print(df['transporte'].value_counts(normalize=True)*100)\n",
    "print(\"\\n\" + \"-\"*50 + \"\\n\")"
   ]
  },
  {
   "cell_type": "code",
   "execution_count": null,
   "id": "d16640dd",
   "metadata": {},
   "outputs": [],
   "source": [
    "# Tabla de distribución de frecuencias para todas las variables categóricas\n",
    "columna = 'nivel_ingles' \n",
    "print(f\"Distribución de frecuencias para: {columna}\")\n",
    "print(df[columna].value_counts())\n",
    "print(\"\\nFrecuencia relativa:\")\n",
    "print(df[columna].value_counts(normalize=True)*100)\n",
    "print(\"\\n\" + \"-\"*50 + \"\\n\")"
   ]
  },
  {
   "cell_type": "code",
   "execution_count": null,
   "id": "3b8b282d",
   "metadata": {},
   "outputs": [],
   "source": [
    "# Tabla de distribución de frecuencias para todas las variables categóricas\n",
    "columna = 'satisfaccion_internet'  \n",
    "print(f\"Distribución de frecuencias para: {columna}\")\n",
    "print(df[columna].value_counts(ascending=False))\n",
    "print(\"\\nFrecuencia relativa:\")\n",
    "print(df[columna].value_counts(ascending=False, normalize=True)*100)\n",
    "print(\"\\n\" + \"-\"*50 + \"\\n\")"
   ]
  },
  {
   "cell_type": "code",
   "execution_count": null,
   "id": "db78c624",
   "metadata": {},
   "outputs": [],
   "source": [
    "import matplotlib.pyplot as plt\n",
    "\n",
    "for var in var_categoricas:\n",
    "    counts = df[var].value_counts()\n",
    "    plt.figure(figsize=(6, 6))\n",
    "    plt.pie(counts, labels=counts.index, autopct='%1.1f%%', startangle=90)\n",
    "    plt.title(f'Diagrama circular: {var}')\n",
    "    plt.axis('equal')\n",
    "    plt.savefig(f'diagrama_circular_{var}.png')  # Guardar la figura\n",
    "    plt.show()"
   ]
  },
  {
   "cell_type": "code",
   "execution_count": null,
   "id": "04616e27",
   "metadata": {
    "vscode": {
     "languageId": "javascript"
    }
   },
   "outputs": [],
   "source": [
    "# Hacer los diagramas de barras para las variables categóricas\n",
    "\n",
    "import matplotlib.pyplot as plt\n",
    "import pandas as pd\n",
    "from pandas.api.types import CategoricalDtype\n",
    "\n",
    "# Definir el orden de las variables ordinales\n",
    "orden_nivel_ingles = [\"nivel 1\", \"nivel 2\", \"nivel 3\", \"nivel 4\"]\n",
    "orden_satisfaccion = [\"1\", \"2\", \"3\", \"4\", \"5\"]\n",
    "\n",
    "# Convertir a categórico con orden (si no lo están)\n",
    "df[\"nivel_ingles\"] = df[\"nivel_ingles\"].astype(CategoricalDtype(categories=orden_nivel_ingles, ordered=True))\n",
    "df[\"satisfaccion_internet\"] = df[\"satisfaccion_internet\"].astype(CategoricalDtype(categories=orden_satisfaccion, ordered=True))\n",
    "\n",
    "# Ahora graficar\n",
    "for var in var_categoricas:\n",
    "    if pd.api.types.is_categorical_dtype(df[var]):\n",
    "        counts = df[var].value_counts(sort=False).reindex(df[var].cat.categories)\n",
    "    else:\n",
    "        # Si alguna no es categórica, la graficamos normalmente\n",
    "        counts = df[var].value_counts()\n",
    "\n",
    "    plt.figure(figsize=(7, 5))\n",
    "    ax = counts.plot(kind='bar', color='blue', edgecolor='red')\n",
    "    plt.title(f'Diagrama de barras: {var}')\n",
    "    plt.xlabel(var)\n",
    "    plt.ylabel('Número de estudiantes')\n",
    "    plt.xticks(rotation=45, ha='right')\n",
    "    plt.yticks(range(0, counts.max() + 1, 1))\n",
    "    # plt.tight_layout()\n",
    "    plt.grid(alpha=0.4)\n",
    "\n",
    "    # Etiquetas encima de cada barra\n",
    "    for idx, value in enumerate(counts):\n",
    "        if not pd.isna(value):  # Evitar errores si hay categorías vacías\n",
    "            plt.text(idx, value + 0.1, str(value), ha='center', va='bottom', fontsize=10)\n",
    "\n",
    "    plt.show()\n"
   ]
  },
  {
   "cell_type": "code",
   "execution_count": null,
   "id": "93017c4b",
   "metadata": {
    "vscode": {
     "languageId": "javascript"
    }
   },
   "outputs": [],
   "source": [
    "import matplotlib.pyplot as plt\n",
    "\n",
    "for var in var_categoricas:\n",
    "    counts = df[var].value_counts()\n",
    "    rel_freq = counts / counts.sum()  # Frecuencia relativa\n",
    "    \n",
    "    plt.figure(figsize=(7, 5))\n",
    "    ax = counts.plot(kind='bar', color='skyblue', edgecolor='black')\n",
    "    plt.title(f'Diagrama de barras: {var}')\n",
    "    plt.xlabel(var)  # Etiqueta del eje x\n",
    "    plt.ylabel('Número de estudiantes') # Etiqueta del eje y\n",
    "    plt.xticks(rotation=45, ha='right')\n",
    "    plt.yticks(range(0, counts.max() + 1, 1))  # Ajustar el rango del eje y\n",
    "    plt.tight_layout()\n",
    "    plt.grid(alpha=0.4)\n",
    "\n",
    "    # Etiquetas con valor absoluto y porcentaje\n",
    "    for idx, (value, freq) in enumerate(zip(counts, rel_freq)):\n",
    "        plt.text(idx, value + 0.1, \n",
    "                 f\"{value}\\n({freq:.1%})\",  # número + porcentaje\n",
    "                 ha='center', va='bottom', fontsize=9, color=\"black\")\n",
    "    \n",
    "    plt.show()\n"
   ]
  },
  {
   "cell_type": "markdown",
   "id": "680421ca",
   "metadata": {},
   "source": [
    "* Creación de gráficos apropiados para cada tipo de variable\n",
    "* Identificación de patrones y tendencias principales\n",
    "Entregable: Análisis estadístico descriptivo completo\n",
    "Herramientas sugeridas:\n",
    "Excel/Google Sheets para cálculos\n",
    "Generadores de gráficos online\n",
    "Calculadoras estadísticas web\n"
   ]
  },
  {
   "cell_type": "markdown",
   "id": "f70b89ec",
   "metadata": {},
   "source": [
    "\n",
    "FASE 4: Presentación de Resultados (Días 13-14)\n",
    "Actividades:\n",
    "\tElaboración de informe técnico\n",
    "\tCreación de presentación digital \n",
    "\tParticipación en foro de discusión grupal\n",
    "\tAutoevaluación y reflexión sobre el proceso\n",
    "Entregable: Informe final y participación en foro académico\n",
    "\n",
    "Estructura Detallada de la Encuesta\n",
    "Preguntas Sugeridas por Tipo de Variable\n",
    "Variables Cualitativas Nominales (2 preguntas):\n",
    "1.\t¿Cuál es tu programa académico actual? \n",
    "Opciones: Lista de carreras disponibles en la universidad\n",
    "2.\t¿Cuál es tu método preferido para tomar apuntes en clase? \n",
    "Opciones: A mano en cuaderno, digital en computador, grabaciones de audio, fotografías del tablero, aplicaciones móviles, otro\n",
    "\n",
    "Variables Cualitativas Ordinales (2 preguntas): \n",
    "3.\t¿Cómo calificarías tu nivel de satisfacción con la modalidad virtual de clases?\n",
    "Opciones: Muy insatisfecho, Insatisfecho, Neutral, Satisfecho, Muy satisfecho\n",
    "4.\t¿Cuál consideras que es tu nivel actual de competencia en herramientas digitales para el estudio? \n",
    "Opciones: Principiante, Básico, Intermedio, Avanzado, Experto\n",
    "\n",
    "Variables Cuantitativas Discretas (2 preguntas): \n",
    "5.\t¿Cuántas horas a la semana dedicas a actividades extracurriculares (deportes, voluntariado, trabajo, etc.)?\n",
    "Respuesta: Número entero de 0 a 40\n",
    "6.\t¿Cuántos dispositivos tecnológicos (computador, tablet, smartphone) utilizas regularmente para tus estudios? \n",
    "Respuesta: Número entero de 0 a 10\n",
    "\n",
    "Variables Cuantitativas Continuas (2 preguntas): \n",
    "7.\t¿Cuántas horas diarias dedicas en promedio al estudio personal (fuera de clases)?\n",
    "Respuesta: Número decimal de 0.0 a 12.0 horas\n",
    "8.\t¿Cuál es tu promedio académico acumulado actual? (Escala de 0.0 a 5.0) \n",
    "Respuesta: Número decimal con una cifra decimal\n",
    "\n",
    "Pregunta Adicional de Contexto: \n",
    "9.\t ¿En qué semestre académico te encuentras actualmente?\n",
    "Opciones: 1° a 10° semestre\n",
    "\n",
    "Producto Esperado\n",
    "Componentes del Entregable Final\n",
    "1.\tPortada e Introducción \n",
    "\tTítulo del proyecto\n",
    "\tNombres del curso, estudiante y docente.\n",
    "\tObjetivos de la investigación\n",
    "\tJustificación de la temática elegida\n",
    "\n",
    "2.\tMetodología \n",
    "\tDescripción del instrumento diseñado\n",
    "\tJustificación de cada pregunta y su clasificación por tipo de variable\n",
    "\tDescripción de la población objetivo y método de muestreo\n",
    "\n",
    "3.\tPresentación de Resultados \n",
    "\tTablas de distribución de frecuencias para cada variable\n",
    "\tGráficos apropiados según el tipo de variable\n",
    "\tDescripción narrativa de los hallazgos principales\n",
    "\n",
    "4.\tAnálisis e Interpretación \n",
    "Identificación de patrones y tendencias\n",
    "Comparación entre variables cuando sea pertinente\n",
    "Reflexiones sobre la representatividad de los datos\n",
    "\n",
    "5.\tConclusiones y Reflexiones \n",
    "\tSíntesis de los hallazgos principales\n",
    "\tLimitaciones del estudio\n",
    "\tAprendizajes sobre el proceso de investigación\n",
    "\tAplicaciones pedagógicas para la enseñanza de estadística\n",
    "\n",
    "6.\tReferencias y Anexos \n",
    "\tFuentes consultadas\n",
    "\tInstrumento completo (captura de pantalla)\n",
    "\tBase de datos (opcional, respetando confidencialidad)\n",
    "\n",
    "Evaluación Sugerida\n",
    "Criterios de Evaluación (100 puntos total)\n",
    "Componente\tCriterio\tPuntaje\tIndicadores de Calidad\n",
    "Diseño de Instrumento\tCalidad técnica de las preguntas\t20 pts\t- Claridad en la redacción.\n",
    "- Correcta clasificación de variables.\n",
    "- Pertinencia temática.\n",
    "- Consideraciones éticas.\n",
    "Recolección de Datos\tCompletitud y calidad de datos\t15 pts\t- 10 respuestas completas.\n",
    "- Datos consistentes.\n",
    "- Proceso documentado.\n",
    "Análisis Estadístico\tAplicación correcta de conceptos\t25 pts\t- Tablas de frecuencias correctas.\n",
    "- Gráficos apropiados.\n",
    "- Cálculos precisos.\n",
    "- Clasificación acertada de variables.\n",
    "Interpretación\tCapacidad de análisis\t20 pts\t- Identificación de patrones.\n",
    "- Interpretación coherente.\n",
    "- Conexión teoría-práctica\n",
    "Comunicación\tCalidad del informe\t15 pts\t- Estructura clara.\n",
    "- Redacción académica.\n",
    "- Presentación visual.\n",
    "- Cumplimiento de formato\n",
    "Reflexión Pedagógica\tConexión con formación docente\t5 pts\t- Aplicaciones educativas.\n",
    "- Reflexión sobre el proceso.\n",
    "- Lecciones aprendidas\n",
    "\n",
    "Rúbrica Detallada\n",
    "Excelente (90-100%):\n",
    "\tDemuestra dominio completo de los conceptos de variables estadísticas\n",
    "\tAplica correctamente todas las técnicas de análisis descriptivo\n",
    "\tPresenta interpretaciones profundas y conexiones teórico-prácticas\n",
    "\tInforme de alta calidad técnica y comunicativa\n",
    "Bueno (80-89%):\n",
    "\tComprende bien los conceptos básicos con aplicación mayormente correcta\n",
    "\tRealiza análisis apropiado con interpretaciones coherentes\n",
    "\tInforme bien estructurado con presentación clara\n",
    "\tAlgunas oportunidades menores de mejora\n",
    "\n",
    "Satisfactorio (70-79%):\n",
    "\tComprensión básica de conceptos con aplicación aceptable\n",
    "\tAnálisis simple pero correcto en elementos fundamentales\n",
    "\tInforme cumple requisitos mínimos con claridad adecuada\n",
    "\tNecesita fortalecimiento en algunos aspectos\n",
    "\n",
    "Insuficiente (<70%):\n",
    "\tComprensión limitada de conceptos fundamentales\n",
    "\tErrores significativos en clasificación o análisis\n",
    "\tInforme incompleto o con problemas importantes de calidad\n",
    "\tRequiere refuerzo conceptual y metodológico\n",
    "\n",
    "\n",
    "\n",
    "Recursos Adicionales\n",
    "Tutoriales y Guías\n",
    "\tVideo tutorial: \"Creación de encuestas efectivas en Google Forms\"\n",
    "\tGuía PDF: \"Análisis básico de datos en hojas de cálculo\"\n",
    "\tChecklist: \"Verificación de calidad en recolección de datos\"\n",
    "\n",
    "Herramientas Recomendadas\n",
    "\tPara encuestas: Google Forms, Microsoft Forms, SurveyMonkey (versión gratuita)\n",
    "\tPara análisis: Google Sheets, Excel Online, Calc (LibreOffice)\n",
    "\tPara gráficos: Chart.js, Canva, herramientas integradas en hojas de cálculo\n",
    "\n",
    "Soporte Técnico\n",
    "\tForo de consultas técnicas en plataforma o presencial\n",
    "\tSesiones de tutoría virtual (horarios programados)\n",
    "\tBanco de preguntas frecuentes actualizado\n",
    "\n",
    "Cronograma Detallado\n",
    "Día\tActividad Principal\tTiempo Estimado\tSoporte Docente\n",
    "1-2\tDiseño de preguntas y creación de encuesta\t3-4 horas\tTutorial disponible\n",
    "3\tValidación piloto y ajustes\t1-2 horas\tConsulta en foro\n",
    "4-6\tAplicación de encuesta\t30 min/día\tSeguimiento pasivo\n",
    "7-8\tRecolección y organización de datos\t2 horas\tTutoría disponible\n",
    "9-11\tAnálisis estadístico y creación de gráficos\t4-5 horas\tSesión grupal virtual\n",
    "12-13\tElaboración de informe\t3-4 horas\tRevisión de borradores\n",
    "14\tRevisión final y entrega\t1-2 horas\tEntrega en plataforma\n",
    "\n",
    "\n",
    "\n",
    "\n",
    "Consideraciones para Futuros Docentes\n",
    "Esta actividad no solo desarrolla competencias estadísticas, sino que también modela estrategias pedagógicas que los estudiantes podrán implementar en sus futuras aulas:\n",
    "\tAprendizaje activo: Los estudiantes construyen su propio conocimiento\n",
    "\tTecnología educativa: Integración natural de herramientas digitales\n",
    "\tInvestigación en el aula: Metodología de indagación aplicada\n",
    "\tTrabajo colaborativo: Interacción constructiva entre pares\n",
    "\tEvaluación auténtica: Productos reales con aplicación práctica\n",
    " \n",
    "GUÍA DE REDACCIÓN DE PREGUNTAS PARA ENCUESTAS\n",
    "¿Qué es?\n",
    "Es un documento metodológico que proporciona criterios técnicos y mejores prácticas para formular preguntas efectivas según el tipo de variable estadística que se desea medir.\n",
    "\n",
    "Estructura de la Guía\n",
    "SECCIÓN 1: Principios Generales de Redacción\n",
    "Características de una Buena Pregunta:\n",
    "\tClaridad: Lenguaje simple y directo\n",
    "\tPrecisión: Una sola idea por pregunta\n",
    "\tNeutralidad: Evitar sesgos o direccionamiento\n",
    "\tRelevancia: Pertinente al objetivo de investigación\n",
    "\tFactibilidad: Que el respondiente pueda contestar\n",
    "\n",
    "Errores Comunes a Evitar:\n",
    "❌ Pregunta doble: \"¿Estudias matemáticas y te gusta?\"\n",
    "✅ Pregunta simple: \"¿Te gusta estudiar matemáticas?\"\n",
    "\n",
    "❌ Pregunta sesgada: \"¿No crees que las clases virtuales son aburridas?\"\n",
    "✅ Pregunta neutra: \"¿Cómo calificarías tu experiencia con las clases virtuales?\"\n",
    "\n",
    "❌ Lenguaje técnico: \"¿Cuál es tu nivel de metacognición?\"\n",
    "✅ Lenguaje claro: \"¿Qué tan consciente eres de tus procesos de aprendizaje?\"\n",
    "\n",
    "SECCIÓN 2: Redacción por Tipo de Variable\n",
    "Para Variables Cualitativas Nominales:\n",
    "Estructura: \"¿Cuál es tu [característica]?\"\n",
    "Opciones: Lista exhaustiva y mutuamente excluyente\n",
    "\n",
    "Ejemplo:\n",
    "Pregunta: \"¿Cuál es tu carrera universitaria?\"\n",
    "Opciones: \n",
    "\tIngeniería de Sistemas\n",
    "\tLicenciatura en Matemáticas  \n",
    "\tMedicina\n",
    "\tDerecho\n",
    "\tPsicología\n",
    "\tOtra (especificar)\n",
    "\n",
    "Para Variables Cualitativas Ordinales:\n",
    "Estructura: \"¿Cómo calificarías/clasificarías [aspecto]?\"\n",
    "Opciones: Escala ordenada con 3-7 niveles\n",
    "\n",
    "Ejemplo:\n",
    "Pregunta: \"¿Cómo calificarías tu nivel de satisfacción con el campus universitario?\"\n",
    "Opciones:\n",
    "\tMuy insatisfecho\n",
    "\tInsatisfecho  \n",
    "\tNeutral\n",
    "\tSatisfecho\n",
    "\tMuy satisfecho\n",
    "\n",
    "Para Variables Cuantitativas Discretas:\n",
    "Estructura: \"¿Cuántos/as [elemento contable]?\"\n",
    "Respuesta: Número entero con rango definido\n",
    "\n",
    "Ejemplo:\n",
    "Pregunta: \"¿Cuántos cursos tienes matriculados este semestre?\"\n",
    "Validación: Número entero entre 1 y 8\n",
    "\n",
    "Para Variables Cuantitativas Continuas:\n",
    "Estructura: \"¿Cuánto/a [medida]?\" o \"¿Cuál es tu [valor medible]?\"\n",
    "Respuesta: Número decimal con rango y unidades\n",
    "\n",
    "Ejemplo:\n",
    "Pregunta: \"¿Cuántas horas diarias dedicas al estudio personal?\"\n",
    "Validación: Número decimal entre 0.0 y 12.0\n",
    "Unidad: Horas\n",
    "\n",
    "SECCIÓN 3: Consideraciones Éticas\n",
    "Consentimiento informado\n",
    "\tPreguntas sensibles (edad, ingresos, datos personales)\n",
    "\tDerecho a no responder\n",
    "\tUso apropiado de la información\n"
   ]
  }
 ],
 "metadata": {
  "kernelspec": {
   "display_name": ".venv",
   "language": "python",
   "name": "python3"
  },
  "language_info": {
   "codemirror_mode": {
    "name": "ipython",
    "version": 3
   },
   "file_extension": ".py",
   "mimetype": "text/x-python",
   "name": "python",
   "nbconvert_exporter": "python",
   "pygments_lexer": "ipython3",
   "version": "3.12.6"
  }
 },
 "nbformat": 4,
 "nbformat_minor": 5
}
