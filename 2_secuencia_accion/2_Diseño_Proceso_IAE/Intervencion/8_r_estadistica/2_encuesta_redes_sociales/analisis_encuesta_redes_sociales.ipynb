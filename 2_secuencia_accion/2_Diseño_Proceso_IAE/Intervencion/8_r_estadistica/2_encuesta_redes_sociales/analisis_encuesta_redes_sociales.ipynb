{
 "cells": [
  {
   "cell_type": "markdown",
   "id": "dc06dec7",
   "metadata": {
    "slideshow": {
     "slide_type": "slide"
    }
   },
   "source": [
    "<table align=\"left\">\n",
    "  <td>\n",
    "    <a href=\"https://colab.research.google.com/github/ageron/handson-ml3/blob/main/tools_numpy.ipynb\" target=\"_parent\"><img src=\"https://colab.research.google.com/assets/colab-badge.svg\" alt=\"Open In Colab\"/></a>\n",
    "  </td>\n",
    "  <td>\n",
    "    <a target=\"_blank\" href=\"https://kaggle.com/kernels/welcome?src=https://github.com/ageron/handson-ml3/blob/main/tools_numpy.ipynb\"><img src=\"https://kaggle.com/static/images/open-in-kaggle.svg\" /></a>\n",
    "  </td>\n",
    "</table>"
   ]
  },
  {
   "cell_type": "markdown",
   "id": "e0c5b198",
   "metadata": {
    "slideshow": {
     "slide_type": "slide"
    }
   },
   "source": [
    "### [Video de apoyo a la lectura interactiva y experimental de este cuaderno]()"
   ]
  },
  {
   "cell_type": "markdown",
   "id": "41e82203",
   "metadata": {
    "slideshow": {
     "slide_type": "slide"
    }
   },
   "source": [
    "### [Vínculo al programa del curso:  ]()\n",
    "\n"
   ]
  },
  {
   "cell_type": "markdown",
   "id": "d11ab06d",
   "metadata": {
    "slideshow": {
     "slide_type": "slide"
    }
   },
   "source": [
    "Un reconocimiento a mis estudiantes que han construido conmigo este saber pedagógico:\n",
    "\n",
    "<img src = ''> \n",
    "\n"
   ]
  },
  {
   "cell_type": "markdown",
   "id": "8a74a56c-0ce6-4ad6-b985-553fd7fb68bb",
   "metadata": {},
   "source": [
    "Reconocimiento a las profesoras destacadas en enseñanza de la matemática en Colombia\n"
   ]
  },
  {
   "cell_type": "code",
   "execution_count": 1,
   "id": "c6cb7aac",
   "metadata": {},
   "outputs": [],
   "source": [
    "def registrar_asistente():\n",
    "    import csv\n",
    "    import os\n",
    "    from datetime import datetime\n",
    "\n",
    "    # Solicitar información del asistente\n",
    "    nombre = input(\"Ingrese el nombre del asistente: \")\n",
    "    edad = input(\"Ingrese la edad del asistente: \")\n",
    "    genero = input(\"Ingrese el género del asistente (M/F): \")\n",
    "    correo = input(\"Ingrese el correo electrónico del asistente: \")\n",
    "    curso = input(\"Ingrese el nombre del curso al que pertenece su inquietud: \")\n",
    "    institucion = input(\"Ingrese la institución de donde viene: \")\n",
    "    dificultad = input(\"Describa brevemente en qué consiste su dificultad: \")\n",
    "\n",
    "    # Obtener la fecha actual en formato AAAA-MM-DD\n",
    "    fecha = datetime.today().strftime('%Y-%m-%d')\n",
    "\n",
    "    # Definir la ruta completa del archivo\n",
    "    ruta_base = r\"C:\\Users\\marco\\Documentos\\investigacion\\investigacion_en_asesoria\\2_secuencia_accion\\3_Creacion_Comunidad_Aprendizaje\"\n",
    "    archivo = os.path.join(ruta_base, 'registro_asistentes.csv')\n",
    "    encabezados = ['Nombre', 'Edad', 'Género', 'Correo', 'Curso', 'Institución', 'Dificultad', 'Fecha']\n",
    "\n",
    "    # Verificar si la carpeta existe, si no, crearla\n",
    "    if not os.path.exists(ruta_base):\n",
    "        os.makedirs(ruta_base)\n",
    "\n",
    "    # Verificar si el archivo ya existe\n",
    "    archivo_existe = os.path.isfile(archivo)\n",
    "\n",
    "    # Escribir los datos\n",
    "    with open(archivo, 'a', newline='', encoding='utf-8') as f:\n",
    "        writer = csv.writer(f, delimiter=',')\n",
    "        if not archivo_existe:\n",
    "            writer.writerow(encabezados)\n",
    "        writer.writerow([nombre, edad, genero, correo, curso, institucion, dificultad, fecha])\n",
    "\n",
    "    print(f\"Registro exitoso. Los datos se han guardado en: {archivo}\")"
   ]
  },
  {
   "cell_type": "code",
   "execution_count": null,
   "id": "2b5d8195",
   "metadata": {},
   "outputs": [],
   "source": [
    "registrar_asistente()"
   ]
  },
  {
   "cell_type": "markdown",
   "id": "d7598d0a-d9b7-4ae0-b029-a0ed6ed1130b",
   "metadata": {},
   "source": [
    "\n",
    "# Principios de mi labor docente"
   ]
  },
  {
   "cell_type": "markdown",
   "id": "4f9d8cf9",
   "metadata": {
    "slideshow": {
     "slide_type": "slide"
    }
   },
   "source": [
    "## Modelo general de clase: [aula invertida](https://www3.gobiernodecanarias.org/medusa/ecoescuela/pedagotic/aprendizaje-invertido-flipped-classroom/)"
   ]
  },
  {
   "cell_type": "markdown",
   "id": "eb6ed03a",
   "metadata": {},
   "source": [
    "<img src = 'https://resources.maneuveringthemiddle.com/wp-content/uploads/2020/07/04212706/1-5.png' width = 200>  \n",
    "\n"
   ]
  },
  {
   "cell_type": "markdown",
   "id": "34319cce-a71b-4f64-aab8-b53e521efa40",
   "metadata": {},
   "source": [
    "# Metodología de Aprendizaje Basado en Problemas y Proyectos (ABPP)\n"
   ]
  },
  {
   "cell_type": "markdown",
   "id": "c4f73d81",
   "metadata": {},
   "source": [
    "\n",
    "<img src = 'https://www.unir.net/wp-content/uploads/2020/07/aprendizaje-problemas2-1-1-1-1.jpeg' width = 200>"
   ]
  },
  {
   "cell_type": "markdown",
   "id": "841a985c-bd9b-4dd3-8e4c-893983980af2",
   "metadata": {},
   "source": [
    "# Desarrollo del pensamiento computacional con Lenguaje Python y R; y con archivos Markdown orientado a la formación en ciencia de datos \n",
    "\n"
   ]
  },
  {
   "cell_type": "markdown",
   "id": "3d0eba94",
   "metadata": {},
   "source": [
    "\n",
    "<img src = 'https://i.ytimg.com/vi/mcG_wcR4e6M/maxresdefault.jpg' width = 200>"
   ]
  },
  {
   "cell_type": "markdown",
   "id": "65aa0404-f7ae-495e-864c-1aec01b4255e",
   "metadata": {},
   "source": [
    "# Principio de fomento a la ciencia abierta, enseñar en el acceso a los datos públicos y el uso de software de código abierto  \n"
   ]
  },
  {
   "cell_type": "markdown",
   "id": "18ae9b87",
   "metadata": {},
   "source": [
    "\n",
    "<img src = 'https://unesdoc.unesco.org/in/rest/Thumb/image?id=p%3A%3Ausmarcdef_0000379949_spa&author=UNESCO&title=Recomendaci%C3%B3n+de+la+UNESCO+sobre+la+Ciencia+Abierta&year=2021&publisher=UNESCO&TypeOfDocument=UnescoPhysicalDocument&mat=PGD&ct=true&size=512&isPhysical=1' width = 200>"
   ]
  },
  {
   "cell_type": "markdown",
   "id": "d9559f85",
   "metadata": {},
   "source": [
    "El enfoque STEAMS en educación preescolar, primaria y secundaria es una extensión del enfoque STEM (Ciencia, Tecnología, Ingeniería y Matemáticas) y su variante STEAM, que incorpora el Arte. "
   ]
  },
  {
   "cell_type": "markdown",
   "id": "39967d63",
   "metadata": {},
   "source": [
    "\n",
    "El enfoque STEAMS pretende desarrollar un aprendizaje **interdisciplinario** que integre estas áreas para fomentar un pensamiento más holístico y práctico. "
   ]
  },
  {
   "cell_type": "markdown",
   "id": "706d3917",
   "metadata": {},
   "source": [
    "# Y el enfoque de Teoría de Registros de Representación Semiótica (TRRS) de Raymond Duval\n",
    "\n"
   ]
  },
  {
   "cell_type": "markdown",
   "id": "96775931",
   "metadata": {
    "slideshow": {
     "slide_type": "slide"
    }
   },
   "source": [
    "## Título de la Asesoría: \n",
    "\n"
   ]
  },
  {
   "cell_type": "code",
   "execution_count": null,
   "id": "81235e9f",
   "metadata": {},
   "outputs": [],
   "source": [
    "path_image = r'C:/Users/marco/Downloads'\n",
    "def save_fig(nombre_archivo_imagen):\n",
    "    import os \n",
    "    import matplotlib.pyplot as plt \n",
    "    imagen_path = os.path.join(path_image, nombre_archivo_imagen)\n",
    "    plt.savefig(imagen_path, bbox_inches='tight')"
   ]
  },
  {
   "cell_type": "markdown",
   "id": "2587b803",
   "metadata": {},
   "source": [
    "# Estructura general para todas las clases\n",
    "\n",
    "Dame, por favor, un diseño de clase, con el enfoque: \"Aula Invertida, STEAMS y De aprendizaje basado en problemas y proyectos(ABPP)\" sobre: \"El método de integración numérica llamado Sumas Izquierdas de Riemann \", siguiendo la estructura:  \n",
    "\n",
    "1. Título de la clase   \n",
    "   \n",
    "2. Objetivos de aprendizaje que incluyan los indicadores del logro de estos objetivos.\n",
    "   \n",
    "3. Un mapa conceptual que resuma la clase elaborado en Graphviz de Python con nodos y edges de diferentes formas, colores y rellenos y renderizado en la siguiente ubicación: `\"C:/Users/marco/Downloads\"`. No olvides el parámetro `view = True` para el método `render()` de Graphviz. Para este mapa controla las superposiciones de los nodos con: graph [overlap=false]; // Elimina superposiciones (puede aumentar el espacio) \n",
    "graph [overlap=\"scalexy\"]; // Escala el gráfico para evitar overlaps\n",
    "graph [overlap=\"compress\"]; // Comprime el grafo sin overlaps  \n",
    "   \n",
    "4. Dame elementos históricos y epistemológicos asociados a esta clase, pero contados como un cuento al estilo de un cuentero antioqueño en Colombia. Incluye imágenes de los protagonistas históricos de esta clase.   \n",
    "   \n",
    "5. Contenido de la clase. Que el contenido parta de una situación real para llegar a una constitución del modelo matemático que represente tal situación real.    \n",
    "   \n",
    "\n",
    "6. Deducción de una función de usuario de Python, que permita determinar el número de rectángulos $n$ necesarios para una precisión de la suma de Riemann dada $\\epsilon = 0.0001$.    \n",
    "   \n",
    "7. Actividades de aprendizaje: que incluya pruebas de escritorio para los algoritmos en forma verbal y seudo código, diagrama de flujo, y la implementación del algoritmo en lenguaje Python.   \n",
    "   \n",
    "8. Incluye una canción o un poema que ayude a interiorizar y fijar los conceptos asociados a esta clase.   \n",
    "   \n",
    "9.  Tarea o actividades de ejercitación y fijación.  \n",
    "    \n",
    "10. Evaluación incluyendo diez proyectos, un ejemplo de quiz y un ejemplo de parcial.  \n",
    "    \n",
    "11. Diseño de actividad de retroalimentación.   \n",
    "    \n",
    "12. Dame un vocabulario y frases del idioma inglés asociadas a esta clase.  \n",
    "\n",
    "13.  Incluye apéndice para la clase sobre desarrollo de habilidades para trabajar en equipo y de asertividad y empatía para relacionarnos. También elementos de la inteligencia emocional para presentar pruebas sin temor y sin realizar fraude en ellas. Y Actividades para desarrollar la habilidad de la Tolerancia    \n",
    "     \n",
    "14. Incluye 5 referentes en didáctica de la matemática que estén de acuerdo a la propuesta didáctica de esta clase. Adiciona a estos referentes a Raymond Duval (Representaciones y cambios de representación para la adquisición de conceptos matemáticos) y a Jeannette Wing (Desarrollo del pensamiento computacional). Dejame todos estos referentes ordenados de acuerdo a las normas APA. Incluye un referente en didáctica de la matemática que fundamente el uso del Enfoque de Aula Invertida, uno que fundamente el enfoque STEAMS y finalmente otro que fundamente el enfoque de Aprendizaje Basado en Problemas y Proyectos (ABPP)\n",
    "  \n",
    "\n",
    "Pero  que este diseño sea para que el estudiante pueda aprender experimentando en cuadernos Jupyter con funciones de usuario y animaciones y visualizaciones en Python.    \n",
    "\n",
    "En particular utiliza para el diseño de clase a Numpy, Pandas, SymPy, Matplotlib.pyplot, Seaborn, Plotly, ipywidgets, matplotlib.animation y Jupyter Notebook.    \n",
    "\n",
    "Cada vez que utilices `matplotlib.animacion` no olvides incluir el uso de `IPython. display` para la renderización de estas animaciones a través de Jupyter Notebook.    \n",
    "\n",
    "No olvides darme los diseños de clase con las ecuaciones matemáticas delimitadas con signo de dólar $ para que VS Code si me renderice estas expresiones del lenguaje latex. Cuando vallas a utilizar ipywidgets ten en cuenta la siguiente importación inicial para garantizar que la visualización interactiva si se renderice en VS Code:    \n",
    " \n"
   ]
  },
  {
   "cell_type": "code",
   "execution_count": 4,
   "id": "b63fef00",
   "metadata": {},
   "outputs": [],
   "source": [
    "import pandas as pd   \n",
    "\n",
    "def cargar_datos_excel(ruta_archivo):\n",
    "    try:\n",
    "        datos = pd.read_excel(ruta_archivo)\n",
    "        print(\"Datos cargados exitosamente.\")\n",
    "        return datos\n",
    "    except FileNotFoundError:\n",
    "        print(f\"El archivo en la ruta {ruta_archivo} no fue encontrado.\")\n",
    "        return None\n",
    "    except pd.errors.EmptyDataError:\n",
    "        print(\"El archivo está vacío.\")\n",
    "        return None\n",
    "    except pd.errors.ParserError:\n",
    "        print(\"Error al parsear el archivo.\")\n",
    "        return None\n",
    "    except Exception as e:\n",
    "        print(f\"Ocurrió un error inesperado: {e}\")\n",
    "        return None"
   ]
  },
  {
   "cell_type": "code",
   "execution_count": 6,
   "id": "11b56a4c",
   "metadata": {},
   "outputs": [
    {
     "name": "stdout",
     "output_type": "stream",
     "text": [
      "Datos cargados exitosamente.\n"
     ]
    },
    {
     "data": {
      "application/vnd.microsoft.datawrangler.viewer.v0+json": {
       "columns": [
        {
         "name": "index",
         "rawType": "int64",
         "type": "integer"
        },
        {
         "name": "Tiempo de redes sociales",
         "rawType": "object",
         "type": "string"
        },
        {
         "name": "Tiempo_horas",
         "rawType": "float64",
         "type": "float"
        }
       ],
       "ref": "9e720a51-1dfb-4453-8c72-f58c69e7e21f",
       "rows": [
        [
         "0",
         "8:30",
         "8.5"
        ],
        [
         "1",
         "3:00",
         "3.0"
        ],
        [
         "2",
         "3:00",
         "3.0"
        ],
        [
         "3",
         "5:30",
         "5.5"
        ],
        [
         "4",
         "3:30",
         "3.5"
        ],
        [
         "5",
         "2:15",
         "2.25"
        ],
        [
         "6",
         "5:00",
         "5.0"
        ],
        [
         "7",
         "8:08",
         "8.133333333333333"
        ],
        [
         "8",
         "2:30",
         "2.5"
        ],
        [
         "9",
         "5:05",
         "5.083333333333333"
        ],
        [
         "10",
         "4:06",
         "4.1"
        ],
        [
         "11",
         "4:09",
         "4.15"
        ],
        [
         "12",
         "7:30",
         "7.5"
        ],
        [
         "13",
         "5:30",
         "5.5"
        ],
        [
         "14",
         "4:06",
         "4.1"
        ]
       ],
       "shape": {
        "columns": 2,
        "rows": 15
       }
      },
      "text/html": [
       "<div>\n",
       "<style scoped>\n",
       "    .dataframe tbody tr th:only-of-type {\n",
       "        vertical-align: middle;\n",
       "    }\n",
       "\n",
       "    .dataframe tbody tr th {\n",
       "        vertical-align: top;\n",
       "    }\n",
       "\n",
       "    .dataframe thead th {\n",
       "        text-align: right;\n",
       "    }\n",
       "</style>\n",
       "<table border=\"1\" class=\"dataframe\">\n",
       "  <thead>\n",
       "    <tr style=\"text-align: right;\">\n",
       "      <th></th>\n",
       "      <th>Tiempo de redes sociales</th>\n",
       "      <th>Tiempo_horas</th>\n",
       "    </tr>\n",
       "  </thead>\n",
       "  <tbody>\n",
       "    <tr>\n",
       "      <th>0</th>\n",
       "      <td>8:30</td>\n",
       "      <td>8.500000</td>\n",
       "    </tr>\n",
       "    <tr>\n",
       "      <th>1</th>\n",
       "      <td>3:00</td>\n",
       "      <td>3.000000</td>\n",
       "    </tr>\n",
       "    <tr>\n",
       "      <th>2</th>\n",
       "      <td>3:00</td>\n",
       "      <td>3.000000</td>\n",
       "    </tr>\n",
       "    <tr>\n",
       "      <th>3</th>\n",
       "      <td>5:30</td>\n",
       "      <td>5.500000</td>\n",
       "    </tr>\n",
       "    <tr>\n",
       "      <th>4</th>\n",
       "      <td>3:30</td>\n",
       "      <td>3.500000</td>\n",
       "    </tr>\n",
       "    <tr>\n",
       "      <th>5</th>\n",
       "      <td>2:15</td>\n",
       "      <td>2.250000</td>\n",
       "    </tr>\n",
       "    <tr>\n",
       "      <th>6</th>\n",
       "      <td>5:00</td>\n",
       "      <td>5.000000</td>\n",
       "    </tr>\n",
       "    <tr>\n",
       "      <th>7</th>\n",
       "      <td>8:08</td>\n",
       "      <td>8.133333</td>\n",
       "    </tr>\n",
       "    <tr>\n",
       "      <th>8</th>\n",
       "      <td>2:30</td>\n",
       "      <td>2.500000</td>\n",
       "    </tr>\n",
       "    <tr>\n",
       "      <th>9</th>\n",
       "      <td>5:05</td>\n",
       "      <td>5.083333</td>\n",
       "    </tr>\n",
       "    <tr>\n",
       "      <th>10</th>\n",
       "      <td>4:06</td>\n",
       "      <td>4.100000</td>\n",
       "    </tr>\n",
       "    <tr>\n",
       "      <th>11</th>\n",
       "      <td>4:09</td>\n",
       "      <td>4.150000</td>\n",
       "    </tr>\n",
       "    <tr>\n",
       "      <th>12</th>\n",
       "      <td>7:30</td>\n",
       "      <td>7.500000</td>\n",
       "    </tr>\n",
       "    <tr>\n",
       "      <th>13</th>\n",
       "      <td>5:30</td>\n",
       "      <td>5.500000</td>\n",
       "    </tr>\n",
       "    <tr>\n",
       "      <th>14</th>\n",
       "      <td>4:06</td>\n",
       "      <td>4.100000</td>\n",
       "    </tr>\n",
       "  </tbody>\n",
       "</table>\n",
       "</div>"
      ],
      "text/plain": [
       "   Tiempo de redes sociales  Tiempo_horas\n",
       "0                      8:30      8.500000\n",
       "1                      3:00      3.000000\n",
       "2                      3:00      3.000000\n",
       "3                      5:30      5.500000\n",
       "4                      3:30      3.500000\n",
       "5                      2:15      2.250000\n",
       "6                      5:00      5.000000\n",
       "7                      8:08      8.133333\n",
       "8                      2:30      2.500000\n",
       "9                      5:05      5.083333\n",
       "10                     4:06      4.100000\n",
       "11                     4:09      4.150000\n",
       "12                     7:30      7.500000\n",
       "13                     5:30      5.500000\n",
       "14                     4:06      4.100000"
      ]
     },
     "execution_count": 6,
     "metadata": {},
     "output_type": "execute_result"
    }
   ],
   "source": [
    "path = 'encuesta_redes_sociales.xlsx'\n",
    "df = cargar_datos_excel(ruta_archivo=path)  \n",
    "df "
   ]
  },
  {
   "cell_type": "code",
   "execution_count": 7,
   "id": "5b508c89",
   "metadata": {},
   "outputs": [
    {
     "name": "stdout",
     "output_type": "stream",
     "text": [
      "Número de intervalos de clase sugeridos: 5\n"
     ]
    }
   ],
   "source": [
    "import numpy as np\n",
    "\n",
    "# Calcular el número de intervalos de clase usando la regla de Sturges\n",
    "n = len(df) # Número de datos \n",
    "k = int(np.ceil(1 + 3.322 * np.log10(n)))\n",
    "print(f\"Número de intervalos de clase sugeridos: {k}\")"
   ]
  },
  {
   "cell_type": "code",
   "execution_count": 8,
   "id": "d3268ce6",
   "metadata": {},
   "outputs": [
    {
     "name": "stdout",
     "output_type": "stream",
     "text": [
      "El rango de la variable 'Tiempo_horas' es: 6.25 horas\n"
     ]
    },
    {
     "data": {
      "text/plain": [
       "np.float64(6.25)"
      ]
     },
     "execution_count": 8,
     "metadata": {},
     "output_type": "execute_result"
    }
   ],
   "source": [
    "def calcular_rango_tiempo(df):\n",
    "    \"\"\"\n",
    "    Calcula el rango de la variable 'Tiempo_horas' en el DataFrame df.\n",
    "    Retorna el rango como float.\n",
    "    \"\"\"\n",
    "    rango = df['Tiempo_horas'].max() - df['Tiempo_horas'].min()\n",
    "    print(f\"El rango de la variable 'Tiempo_horas' es: {rango:.2f} horas\")\n",
    "    return rango\n",
    "\n",
    "# Uso de la función\n",
    "calcular_rango_tiempo(df)"
   ]
  },
  {
   "cell_type": "code",
   "execution_count": 10,
   "id": "d7bf8622",
   "metadata": {},
   "outputs": [
    {
     "name": "stdout",
     "output_type": "stream",
     "text": [
      "El rango de la variable 'Tiempo_horas' es: 6.25 horas\n",
      "La amplitud de los intervalos de clase es: 1.20 horas\n"
     ]
    }
   ],
   "source": [
    "def calcular_amplitud_intervalo(rango, k):\n",
    "    \"\"\"\n",
    "    Calcula la amplitud A de los intervalos de clase.\n",
    "    rango: rango de la variable (float)\n",
    "    k: número de intervalos de clase (int)\n",
    "    Retorna la amplitud A (float)\n",
    "    \"\"\"\n",
    "    A = round(rango / k, 1)\n",
    "    print(f\"La amplitud de los intervalos de clase es: {A:.2f} horas\")\n",
    "    return A\n",
    "\n",
    "# Ejemplo de uso con los valores ya calculados:\n",
    "rango = calcular_rango_tiempo(df)\n",
    "amplitud = calcular_amplitud_intervalo(rango, k)"
   ]
  },
  {
   "cell_type": "code",
   "execution_count": 11,
   "id": "066ed4d3",
   "metadata": {},
   "outputs": [
    {
     "data": {
      "application/vnd.microsoft.datawrangler.viewer.v0+json": {
       "columns": [
        {
         "name": "index",
         "rawType": "int64",
         "type": "integer"
        },
        {
         "name": "item_intervalo",
         "rawType": "int64",
         "type": "integer"
        },
        {
         "name": "Límite_inferior",
         "rawType": "float64",
         "type": "float"
        },
        {
         "name": "Límite_superior",
         "rawType": "float64",
         "type": "float"
        },
        {
         "name": "Intervalo",
         "rawType": "object",
         "type": "string"
        }
       ],
       "ref": "7e380ecd-179d-469b-884f-ef6fe2a34e94",
       "rows": [
        [
         "0",
         "1",
         "2.25",
         "3.45",
         "2.25 - 3.45"
        ],
        [
         "1",
         "2",
         "3.45",
         "4.65",
         "3.45 - 4.65"
        ],
        [
         "2",
         "3",
         "4.65",
         "5.85",
         "4.65 - 5.85"
        ],
        [
         "3",
         "4",
         "5.85",
         "7.05",
         "5.85 - 7.05"
        ],
        [
         "4",
         "5",
         "7.05",
         "8.25",
         "7.05 - 8.25"
        ]
       ],
       "shape": {
        "columns": 4,
        "rows": 5
       }
      },
      "text/html": [
       "<div>\n",
       "<style scoped>\n",
       "    .dataframe tbody tr th:only-of-type {\n",
       "        vertical-align: middle;\n",
       "    }\n",
       "\n",
       "    .dataframe tbody tr th {\n",
       "        vertical-align: top;\n",
       "    }\n",
       "\n",
       "    .dataframe thead th {\n",
       "        text-align: right;\n",
       "    }\n",
       "</style>\n",
       "<table border=\"1\" class=\"dataframe\">\n",
       "  <thead>\n",
       "    <tr style=\"text-align: right;\">\n",
       "      <th></th>\n",
       "      <th>item_intervalo</th>\n",
       "      <th>Límite_inferior</th>\n",
       "      <th>Límite_superior</th>\n",
       "      <th>Intervalo</th>\n",
       "    </tr>\n",
       "  </thead>\n",
       "  <tbody>\n",
       "    <tr>\n",
       "      <th>0</th>\n",
       "      <td>1</td>\n",
       "      <td>2.25</td>\n",
       "      <td>3.45</td>\n",
       "      <td>2.25 - 3.45</td>\n",
       "    </tr>\n",
       "    <tr>\n",
       "      <th>1</th>\n",
       "      <td>2</td>\n",
       "      <td>3.45</td>\n",
       "      <td>4.65</td>\n",
       "      <td>3.45 - 4.65</td>\n",
       "    </tr>\n",
       "    <tr>\n",
       "      <th>2</th>\n",
       "      <td>3</td>\n",
       "      <td>4.65</td>\n",
       "      <td>5.85</td>\n",
       "      <td>4.65 - 5.85</td>\n",
       "    </tr>\n",
       "    <tr>\n",
       "      <th>3</th>\n",
       "      <td>4</td>\n",
       "      <td>5.85</td>\n",
       "      <td>7.05</td>\n",
       "      <td>5.85 - 7.05</td>\n",
       "    </tr>\n",
       "    <tr>\n",
       "      <th>4</th>\n",
       "      <td>5</td>\n",
       "      <td>7.05</td>\n",
       "      <td>8.25</td>\n",
       "      <td>7.05 - 8.25</td>\n",
       "    </tr>\n",
       "  </tbody>\n",
       "</table>\n",
       "</div>"
      ],
      "text/plain": [
       "   item_intervalo  Límite_inferior  Límite_superior    Intervalo\n",
       "0               1             2.25             3.45  2.25 - 3.45\n",
       "1               2             3.45             4.65  3.45 - 4.65\n",
       "2               3             4.65             5.85  4.65 - 5.85\n",
       "3               4             5.85             7.05  5.85 - 7.05\n",
       "4               5             7.05             8.25  7.05 - 8.25"
      ]
     },
     "execution_count": 11,
     "metadata": {},
     "output_type": "execute_result"
    }
   ],
   "source": [
    "# Crear los límites de los intervalos\n",
    "limite_inferior = df['Tiempo_horas'].min()\n",
    "intervalos = []\n",
    "for i in range(k):\n",
    "    li = limite_inferior + i * amplitud\n",
    "    ls = li + amplitud\n",
    "    intervalos.append((i+1, round(li, 2), round(ls, 2), f\"{round(li,2)} - {round(ls,2)}\"))\n",
    "\n",
    "# Crear el DataFrame\n",
    "df_intervalos = pd.DataFrame(intervalos, columns=['item_intervalo', 'Límite_inferior', 'Límite_superior', 'Intervalo'])\n",
    "df_intervalos"
   ]
  },
  {
   "cell_type": "code",
   "execution_count": 12,
   "id": "61b574ea",
   "metadata": {},
   "outputs": [
    {
     "data": {
      "application/vnd.microsoft.datawrangler.viewer.v0+json": {
       "columns": [
        {
         "name": "index",
         "rawType": "int64",
         "type": "integer"
        },
        {
         "name": "item_intervalo",
         "rawType": "int64",
         "type": "integer"
        },
        {
         "name": "Límite_inferior",
         "rawType": "float64",
         "type": "float"
        },
        {
         "name": "Límite_superior",
         "rawType": "float64",
         "type": "float"
        },
        {
         "name": "Intervalo",
         "rawType": "object",
         "type": "string"
        },
        {
         "name": "marca de clase",
         "rawType": "float64",
         "type": "float"
        }
       ],
       "ref": "0cb30450-12d9-4a40-94c5-e5425cdbe246",
       "rows": [
        [
         "0",
         "1",
         "2.25",
         "3.45",
         "2.25 - 3.45",
         "2.85"
        ],
        [
         "1",
         "2",
         "3.45",
         "4.65",
         "3.45 - 4.65",
         "4.050000000000001"
        ],
        [
         "2",
         "3",
         "4.65",
         "5.85",
         "4.65 - 5.85",
         "5.25"
        ],
        [
         "3",
         "4",
         "5.85",
         "7.05",
         "5.85 - 7.05",
         "6.449999999999999"
        ],
        [
         "4",
         "5",
         "7.05",
         "8.25",
         "7.05 - 8.25",
         "7.65"
        ]
       ],
       "shape": {
        "columns": 5,
        "rows": 5
       }
      },
      "text/html": [
       "<div>\n",
       "<style scoped>\n",
       "    .dataframe tbody tr th:only-of-type {\n",
       "        vertical-align: middle;\n",
       "    }\n",
       "\n",
       "    .dataframe tbody tr th {\n",
       "        vertical-align: top;\n",
       "    }\n",
       "\n",
       "    .dataframe thead th {\n",
       "        text-align: right;\n",
       "    }\n",
       "</style>\n",
       "<table border=\"1\" class=\"dataframe\">\n",
       "  <thead>\n",
       "    <tr style=\"text-align: right;\">\n",
       "      <th></th>\n",
       "      <th>item_intervalo</th>\n",
       "      <th>Límite_inferior</th>\n",
       "      <th>Límite_superior</th>\n",
       "      <th>Intervalo</th>\n",
       "      <th>marca de clase</th>\n",
       "    </tr>\n",
       "  </thead>\n",
       "  <tbody>\n",
       "    <tr>\n",
       "      <th>0</th>\n",
       "      <td>1</td>\n",
       "      <td>2.25</td>\n",
       "      <td>3.45</td>\n",
       "      <td>2.25 - 3.45</td>\n",
       "      <td>2.85</td>\n",
       "    </tr>\n",
       "    <tr>\n",
       "      <th>1</th>\n",
       "      <td>2</td>\n",
       "      <td>3.45</td>\n",
       "      <td>4.65</td>\n",
       "      <td>3.45 - 4.65</td>\n",
       "      <td>4.05</td>\n",
       "    </tr>\n",
       "    <tr>\n",
       "      <th>2</th>\n",
       "      <td>3</td>\n",
       "      <td>4.65</td>\n",
       "      <td>5.85</td>\n",
       "      <td>4.65 - 5.85</td>\n",
       "      <td>5.25</td>\n",
       "    </tr>\n",
       "    <tr>\n",
       "      <th>3</th>\n",
       "      <td>4</td>\n",
       "      <td>5.85</td>\n",
       "      <td>7.05</td>\n",
       "      <td>5.85 - 7.05</td>\n",
       "      <td>6.45</td>\n",
       "    </tr>\n",
       "    <tr>\n",
       "      <th>4</th>\n",
       "      <td>5</td>\n",
       "      <td>7.05</td>\n",
       "      <td>8.25</td>\n",
       "      <td>7.05 - 8.25</td>\n",
       "      <td>7.65</td>\n",
       "    </tr>\n",
       "  </tbody>\n",
       "</table>\n",
       "</div>"
      ],
      "text/plain": [
       "   item_intervalo  Límite_inferior  Límite_superior    Intervalo  \\\n",
       "0               1             2.25             3.45  2.25 - 3.45   \n",
       "1               2             3.45             4.65  3.45 - 4.65   \n",
       "2               3             4.65             5.85  4.65 - 5.85   \n",
       "3               4             5.85             7.05  5.85 - 7.05   \n",
       "4               5             7.05             8.25  7.05 - 8.25   \n",
       "\n",
       "   marca de clase  \n",
       "0            2.85  \n",
       "1            4.05  \n",
       "2            5.25  \n",
       "3            6.45  \n",
       "4            7.65  "
      ]
     },
     "execution_count": 12,
     "metadata": {},
     "output_type": "execute_result"
    }
   ],
   "source": [
    "# Agregar la columna \"marca de clase\" al DataFrame df_intervalos\n",
    "df_intervalos[\"marca de clase\"] = (df_intervalos[\"Límite_inferior\"] + df_intervalos[\"Límite_superior\"]) / 2\n",
    "df_intervalos"
   ]
  },
  {
   "cell_type": "code",
   "execution_count": 14,
   "id": "2e7ad42a",
   "metadata": {},
   "outputs": [
    {
     "data": {
      "application/vnd.microsoft.datawrangler.viewer.v0+json": {
       "columns": [
        {
         "name": "index",
         "rawType": "int64",
         "type": "integer"
        },
        {
         "name": "item_intervalo",
         "rawType": "int64",
         "type": "integer"
        },
        {
         "name": "Límite_inferior",
         "rawType": "float64",
         "type": "float"
        },
        {
         "name": "Límite_superior",
         "rawType": "float64",
         "type": "float"
        },
        {
         "name": "Intervalo",
         "rawType": "object",
         "type": "string"
        },
        {
         "name": "marca de clase",
         "rawType": "float64",
         "type": "float"
        },
        {
         "name": "Frecuencia absoluta",
         "rawType": "int64",
         "type": "integer"
        },
        {
         "name": "Frecuencia relativa",
         "rawType": "float64",
         "type": "float"
        },
        {
         "name": "Frecuencia acumulada",
         "rawType": "int64",
         "type": "integer"
        }
       ],
       "ref": "21be1f42-da10-4ccf-a9ef-8ed429f2ae60",
       "rows": [
        [
         "0",
         "1",
         "2.25",
         "3.45",
         "2.25 - 3.45",
         "2.85",
         "4",
         "0.27",
         "4"
        ],
        [
         "1",
         "2",
         "3.45",
         "4.65",
         "3.45 - 4.65",
         "4.050000000000001",
         "4",
         "0.27",
         "8"
        ],
        [
         "2",
         "3",
         "4.65",
         "5.85",
         "4.65 - 5.85",
         "5.25",
         "4",
         "0.27",
         "12"
        ],
        [
         "3",
         "4",
         "5.85",
         "7.05",
         "5.85 - 7.05",
         "6.449999999999999",
         "0",
         "0.0",
         "12"
        ],
        [
         "4",
         "5",
         "7.05",
         "8.25",
         "7.05 - 8.25",
         "7.65",
         "2",
         "0.13",
         "14"
        ]
       ],
       "shape": {
        "columns": 8,
        "rows": 5
       }
      },
      "text/html": [
       "<div>\n",
       "<style scoped>\n",
       "    .dataframe tbody tr th:only-of-type {\n",
       "        vertical-align: middle;\n",
       "    }\n",
       "\n",
       "    .dataframe tbody tr th {\n",
       "        vertical-align: top;\n",
       "    }\n",
       "\n",
       "    .dataframe thead th {\n",
       "        text-align: right;\n",
       "    }\n",
       "</style>\n",
       "<table border=\"1\" class=\"dataframe\">\n",
       "  <thead>\n",
       "    <tr style=\"text-align: right;\">\n",
       "      <th></th>\n",
       "      <th>item_intervalo</th>\n",
       "      <th>Límite_inferior</th>\n",
       "      <th>Límite_superior</th>\n",
       "      <th>Intervalo</th>\n",
       "      <th>marca de clase</th>\n",
       "      <th>Frecuencia absoluta</th>\n",
       "      <th>Frecuencia relativa</th>\n",
       "      <th>Frecuencia acumulada</th>\n",
       "    </tr>\n",
       "  </thead>\n",
       "  <tbody>\n",
       "    <tr>\n",
       "      <th>0</th>\n",
       "      <td>1</td>\n",
       "      <td>2.25</td>\n",
       "      <td>3.45</td>\n",
       "      <td>2.25 - 3.45</td>\n",
       "      <td>2.85</td>\n",
       "      <td>4</td>\n",
       "      <td>0.27</td>\n",
       "      <td>4</td>\n",
       "    </tr>\n",
       "    <tr>\n",
       "      <th>1</th>\n",
       "      <td>2</td>\n",
       "      <td>3.45</td>\n",
       "      <td>4.65</td>\n",
       "      <td>3.45 - 4.65</td>\n",
       "      <td>4.05</td>\n",
       "      <td>4</td>\n",
       "      <td>0.27</td>\n",
       "      <td>8</td>\n",
       "    </tr>\n",
       "    <tr>\n",
       "      <th>2</th>\n",
       "      <td>3</td>\n",
       "      <td>4.65</td>\n",
       "      <td>5.85</td>\n",
       "      <td>4.65 - 5.85</td>\n",
       "      <td>5.25</td>\n",
       "      <td>4</td>\n",
       "      <td>0.27</td>\n",
       "      <td>12</td>\n",
       "    </tr>\n",
       "    <tr>\n",
       "      <th>3</th>\n",
       "      <td>4</td>\n",
       "      <td>5.85</td>\n",
       "      <td>7.05</td>\n",
       "      <td>5.85 - 7.05</td>\n",
       "      <td>6.45</td>\n",
       "      <td>0</td>\n",
       "      <td>0.00</td>\n",
       "      <td>12</td>\n",
       "    </tr>\n",
       "    <tr>\n",
       "      <th>4</th>\n",
       "      <td>5</td>\n",
       "      <td>7.05</td>\n",
       "      <td>8.25</td>\n",
       "      <td>7.05 - 8.25</td>\n",
       "      <td>7.65</td>\n",
       "      <td>2</td>\n",
       "      <td>0.13</td>\n",
       "      <td>14</td>\n",
       "    </tr>\n",
       "  </tbody>\n",
       "</table>\n",
       "</div>"
      ],
      "text/plain": [
       "   item_intervalo  Límite_inferior  Límite_superior    Intervalo  \\\n",
       "0               1             2.25             3.45  2.25 - 3.45   \n",
       "1               2             3.45             4.65  3.45 - 4.65   \n",
       "2               3             4.65             5.85  4.65 - 5.85   \n",
       "3               4             5.85             7.05  5.85 - 7.05   \n",
       "4               5             7.05             8.25  7.05 - 8.25   \n",
       "\n",
       "   marca de clase  Frecuencia absoluta  Frecuencia relativa  \\\n",
       "0            2.85                    4                 0.27   \n",
       "1            4.05                    4                 0.27   \n",
       "2            5.25                    4                 0.27   \n",
       "3            6.45                    0                 0.00   \n",
       "4            7.65                    2                 0.13   \n",
       "\n",
       "   Frecuencia acumulada  \n",
       "0                     4  \n",
       "1                     8  \n",
       "2                    12  \n",
       "3                    12  \n",
       "4                    14  "
      ]
     },
     "execution_count": 14,
     "metadata": {},
     "output_type": "execute_result"
    }
   ],
   "source": [
    "# Calcular la frecuencia absoluta para cada intervalo\n",
    "frecuencias = pd.cut(df['Tiempo_horas'], \n",
    "                     bins=[row['Límite_inferior'] for _, row in df_intervalos.iterrows()] + [df_intervalos['Límite_superior'].iloc[-1]],\n",
    "                     right=False, include_lowest=True, labels=df_intervalos['Intervalo'])\n",
    "\n",
    "# Frecuencia absoluta\n",
    "df_intervalos['Frecuencia absoluta'] = frecuencias.value_counts(sort=False).values\n",
    "\n",
    "# Frecuencia relativa\n",
    "df_intervalos['Frecuencia relativa'] = (df_intervalos['Frecuencia absoluta'] / n).round(2)\n",
    "\n",
    "# Frecuencia acumulada\n",
    "df_intervalos['Frecuencia acumulada'] = df_intervalos['Frecuencia absoluta'].cumsum()\n",
    "\n",
    "df_intervalos"
   ]
  },
  {
   "cell_type": "markdown",
   "id": "72327614",
   "metadata": {},
   "source": [
    "El histograma muestra cómo se distribuye el tiempo (en horas) que las personas dedican a redes sociales.\n"
   ]
  },
  {
   "cell_type": "code",
   "execution_count": 22,
   "id": "73853a1b",
   "metadata": {},
   "outputs": [
    {
     "name": "stdout",
     "output_type": "stream",
     "text": [
      "Número de intervalos de clase sugeridos (Sturges): 5\n",
      "Rango de la variable: 6.25 horas\n",
      "Amplitud de los intervalos: 1.20 horas\n",
      "\n",
      "Tabla de frecuencias:\n",
      "    Intervalo  Límite_inferior  Límite_superior  Marca de clase  \\\n",
      "0  [2.2, 3.4)             2.25             3.45            2.85   \n",
      "1  [3.4, 4.6)             3.45             4.65            4.05   \n",
      "2  [4.6, 5.9)             4.65             5.85            5.25   \n",
      "3  [5.9, 7.0)             5.85             7.05            6.45   \n",
      "4  [7.0, 8.2)             7.05             8.25            7.65   \n",
      "5  [8.2, 9.5)             8.25             9.45            8.85   \n",
      "\n",
      "   Frecuencia absoluta  Frecuencia relativa  Frecuencia acumulada  \n",
      "0                    4                 0.27                     4  \n",
      "1                    4                 0.27                     8  \n",
      "2                    4                 0.27                    12  \n",
      "3                    0                 0.00                    12  \n",
      "4                    2                 0.13                    14  \n",
      "5                    1                 0.07                    15  \n"
     ]
    },
    {
     "data": {
      "image/png": "[encoded data removed]",
      "text/plain": [
       "<Figure size 640x480 with 1 Axes>"
      ]
     },
     "metadata": {},
     "output_type": "display_data"
    }
   ],
   "source": [
    "import pandas as pd\n",
    "import matplotlib.pyplot as plt\n",
    "import numpy as np\n",
    "\n",
    "# -----------------------\n",
    "# 1. Cargar los datos\n",
    "# -----------------------\n",
    "path = 'encuesta_redes_sociales.xlsx'\n",
    "df = pd.read_excel(path, sheet_name=\"Sheet1\")\n",
    "\n",
    "# -----------------------\n",
    "# 2. Calcular número de intervalos (Sturges)\n",
    "# -----------------------\n",
    "n = len(df)  # Número de datos\n",
    "k = int(np.ceil(1 + 3.322 * np.log10(n)))\n",
    "print(f\"Número de intervalos de clase sugeridos (Sturges): {k}\")\n",
    "\n",
    "# -----------------------\n",
    "# 3. Calcular rango y amplitud\n",
    "# -----------------------\n",
    "rango = df['Tiempo_horas'].max() - df['Tiempo_horas'].min()\n",
    "print(f\"Rango de la variable: {rango:.2f} horas\")\n",
    "\n",
    "A = round(rango / k, 1)  # Amplitud\n",
    "print(f\"Amplitud de los intervalos: {A:.2f} horas\")\n",
    "\n",
    "# -----------------------\n",
    "# 4. Construir tabla de intervalos\n",
    "# -----------------------\n",
    "min_val = df['Tiempo_horas'].min()\n",
    "max_val = df['Tiempo_horas'].max()\n",
    "\n",
    "# Crear bordes de intervalos\n",
    "bins = np.arange(min_val, max_val + A, A)\n",
    "\n",
    "# Etiquetas de intervalos\n",
    "labels = [f\"[{round(bins[i],1)}, {round(bins[i+1],1)})\" for i in range(len(bins)-1)]\n",
    "\n",
    "# Agrupar datos en intervalos\n",
    "frecuencias = pd.cut(df['Tiempo_horas'], bins=bins, right=False, labels=labels, include_lowest=True)\n",
    "\n",
    "# Crear tabla de frecuencias\n",
    "df_intervalos = pd.DataFrame({\n",
    "    \"Intervalo\": labels,\n",
    "    \"Límite_inferior\": bins[:-1],\n",
    "    \"Límite_superior\": bins[1:],\n",
    "    \"Marca de clase\": (bins[:-1] + bins[1:]) / 2,\n",
    "    \"Frecuencia absoluta\": frecuencias.value_counts(sort=False).values\n",
    "})\n",
    "df_intervalos[\"Frecuencia relativa\"] = (df_intervalos[\"Frecuencia absoluta\"] / n).round(2)\n",
    "df_intervalos[\"Frecuencia acumulada\"] = df_intervalos[\"Frecuencia absoluta\"].cumsum()\n",
    "\n",
    "print(\"\\nTabla de frecuencias:\")\n",
    "print(df_intervalos)\n",
    "\n",
    "# -----------------------\n",
    "# 5. Crear histograma\n",
    "# -----------------------\n",
    "plt.hist(df['Tiempo_horas'], bins=bins, edgecolor='black')\n",
    "plt.title(\"Histograma de tiempo en redes sociales\")\n",
    "plt.xlabel(\"Horas en redes sociales\")\n",
    "plt.ylabel(\"Frecuencia\")\n",
    "plt.xticks(bins)  # marcas en cada límite de clase\n",
    "plt.savefig('histo_encuesta_redes_sociales.jpg')\n",
    "plt.show()\n"
   ]
  },
  {
   "cell_type": "code",
   "execution_count": null,
   "id": "126e1924",
   "metadata": {},
   "outputs": [],
   "source": []
  },
  {
   "cell_type": "markdown",
   "id": "239427f7",
   "metadata": {},
   "source": [
    "# Calendario académico \n",
    "\n",
    "\n"
   ]
  },
  {
   "cell_type": "markdown",
   "id": "8ba64aed",
   "metadata": {},
   "source": [
    "# Cursos que orienta el profesor Marco Julio Cañas Campillo en 2025  \n",
    "\n",
    "1. Cálculo Vectorial para Ingeniería Agropecuaria\n",
    "2. Análisis Numérico para Licenciatura en Matemáticas. \n",
    "3. Práctica Pedagógica V para Licenciatura en Educación Infantil\n",
    "4. Fundamentos de Lógica para Licenciatura en Matemáticas. \n",
    "\n"
   ]
  },
  {
   "cell_type": "markdown",
   "id": "8d41fe58",
   "metadata": {
    "slideshow": {
     "slide_type": "slide"
    }
   },
   "source": [
    "# Horario de clases del profesor Marco\n",
    "\n",
    "* Lunes 8-12: Cálculo Vectorial\n",
    "* Martes 8-12 M: Fundamentos de Aritmética. \n",
    "* Miércoles 8 a 12 M: Fundamentos de la Lógica\n",
    "* Jueves 2 a 6 PM: Desarrollo del pensamiento matemático en la infancia. \n",
    "* Viernes 8 - 12 M: Desarrollo del pensamiento matemático en la infancia. \n",
    "* Sábados 8-12 Asesorías y espacio para retroalimentación y apoyo al trabajo independiente. "
   ]
  },
  {
   "cell_type": "markdown",
   "id": "ae114e14",
   "metadata": {
    "slideshow": {
     "slide_type": "slide"
    }
   },
   "source": [
    "# Horarios de monitoría y asesoría  \n",
    "\n",
    "Coordinador de los cursos de la Facultad de Educación para regiones:    \n",
    "\n",
    "Andrés Vélez: regioneducacion.fedu@udea.edu.co  \n",
    "Coordinador Regiones  \n",
    "Facultad de Educación  \n",
    "Universidad de Antioquia  "
   ]
  },
  {
   "cell_type": "markdown",
   "id": "b1db4b6c",
   "metadata": {
    "slideshow": {
     "slide_type": "slide"
    }
   },
   "source": [
    "## Monitores\n",
    "\n",
    "* Manuel San Juan Serrano: Contactar escribiendo al correo: manuel.serrano1@udea.edu.co  \n",
    "* Yeifry Sebastian Uribe: yeifry.uribe@udea.edu.co\n"
   ]
  },
  {
   "cell_type": "markdown",
   "id": "10bce0d0",
   "metadata": {
    "slideshow": {
     "slide_type": "slide"
    }
   },
   "source": [
    "## Referentes "
   ]
  },
  {
   "cell_type": "markdown",
   "id": "1db3c468",
   "metadata": {
    "slideshow": {
     "slide_type": "slide"
    }
   },
   "source": [
    "* [Cómo enseñar con cuadernos Jupyter](https://jupyter4edu.github.io/jupyter-edu-book/)  \n",
    "  \n",
    "* [Cómo enseñar matemáticas con calculadora Casio LA991 cw](chrome-extension://efaidnbmnnnibpcajpcglclefindmkaj/https://bibliotecadigital.udea.edu.co/bitstream/10495/32857/4/ParraZapata_2024_DesarrolloPensamientoMatematico2aed_versionweb.pdf)  \n",
    "\n",
    "* [CALCULO I DE UNA VARIABLE Ron Larson-Bruce Edwards. Mc Graw Hill. 9º Edición](https://www.academia.edu/42139251/CALCULO_I_DE_UNA_VARIABLE_Ron_Larson_Bruce_Edwards_Mc_Graw_Hill_9o_Edici%C3%B3n)   \n",
    "  \n",
    "\n",
    "* [Grajales Vanegas, L. M., Restrepo Estrada, C. E., Restrepo Ochoa, S. I., & Ruíz De Villalba, F. (2015). Matemáticas I para las ciencias económicas.](https://bibliotecadigital.udea.edu.co/handle/10495/3010)\n",
    "  \n",
    "* R. Duval y Semiosis y pensamiento humano, 2.ª ed. Cali, Colombia: Programa Editorial Universidad del Valle, 2017. [En línea]. Disponible en: https://programaeditorial.univalle.edu.co/gpd-semiosis-y-pensamiento-humano-9789587655278-63324cdb0f6b3.html\n",
    "\n",
    "* [Aylwin, C. U. (2011). Lógica, conjuntos y números. Universidad de los Andes, Consejo de Publicaciones, Colección: Ciencias Básicas, Serie: Matemáticas.](chrome-extension://efaidnbmnnnibpcajpcglclefindmkaj/https://www.u-cursos.cl/ciencias/2011/1/MC110/1/material_docente/bajar?id_material=574722)\n",
    "  \n",
    "* [Recomendación de la UNESCO sobre ciencia abierta](https://unesdoc.unesco.org/ark:/48223/pf0000379949_spa)\n",
    "\n",
    "* [chatGPT](https://openai.com/blog/chatgpt)  \n",
    "* \n",
    "\n",
    "* [Géron, A. (2017). Hands-on machine learning with scikit-learn and tensorflow: Concepts. Tools, and Techniques to build intelligent systems.](chrome-extension://efaidnbmnnnibpcajpcglclefindmkaj/http://14.139.161.31/OddSem-0822-1122/Hands-On_Machine_Learning_with_Scikit-Learn-Keras-and-TensorFlow-2nd-Edition-Aurelien-Geron.pdf)   \n"
   ]
  },
  {
   "cell_type": "markdown",
   "id": "df925560",
   "metadata": {},
   "source": [
    "\n",
    "* [McKinney, W. (2012). Python for data analysis: Data wrangling with Pandas, NumPy, and IPython. \" O'Reilly Media, Inc.\".](https://wesmckinney.com/book/) "
   ]
  },
  {
   "cell_type": "markdown",
   "id": "8e65d6f9",
   "metadata": {},
   "source": [
    "# Como estudiante, encuentro que...   \n",
    "\n",
    "F: Mis Fortalezas son:     \n",
    "O: Mis Oportunidades son:    \n",
    "D: Mis Debilidades son:    \n",
    "A: Lo que Amenazas mi aprendizaje es:  "
   ]
  },
  {
   "cell_type": "markdown",
   "id": "6b9e56a8",
   "metadata": {
    "slideshow": {
     "slide_type": "slide"
    }
   },
   "source": [
    "### [Evaluamos al profesor Marco Cañas Aquí](https://forms.office.com/Pages/ResponsePage.aspx?id=IefhmYRxjkmK_7KtTlPBwkanXIs1i1FEujpsZgO6dXpUREJPV1kxUk1JV1ozTFJIQVNIQjY5WEY3US4u)"
   ]
  },
  {
   "cell_type": "markdown",
   "id": "10f43536",
   "metadata": {
    "slideshow": {
     "slide_type": "slide"
    }
   },
   "source": [
    "### Continue su aprendizaje en la siguiente clase a través del siguiente [vínculo]()"
   ]
  },
  {
   "cell_type": "markdown",
   "id": "53cc9115",
   "metadata": {
    "slideshow": {
     "slide_type": "slide"
    }
   },
   "source": [
    "## Agradecimientos  \n",
    "\n",
    "Doy gracias a Dios por la vida de mi Hijo Joseph Cañas Osorio y la madurez que ha alcanzado. Este hijo me enorgullece y me hace falta abrazarlo cada día. \n",
    "\n",
    "Y a mi esposa Yasmira Emperatriz Barboza Mogollón por su apoyo, orientación y acompañamiento. "
   ]
  }
 ],
 "metadata": {
  "celltoolbar": "Slideshow",
  "kernelspec": {
   "display_name": ".venv",
   "language": "python",
   "name": "python3"
  },
  "language_info": {
   "codemirror_mode": {
    "name": "ipython",
    "version": 3
   },
   "file_extension": ".py",
   "mimetype": "text/x-python",
   "name": "python",
   "nbconvert_exporter": "python",
   "pygments_lexer": "ipython3",
   "version": "3.12.6"
  },
  "rise": {
   "enable_chalkboard": true,
   "theme": "sky",
   "transition": "zoom"
  }
 },
 "nbformat": 4,
 "nbformat_minor": 5
}
