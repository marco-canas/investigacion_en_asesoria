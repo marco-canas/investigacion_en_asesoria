{
 "cells": [
  {
   "cell_type": "markdown",
   "id": "dc06dec7",
   "metadata": {
    "slideshow": {
     "slide_type": "slide"
    }
   },
   "source": [
    "<table align=\"left\">\n",
    "  <td>\n",
    "    <a href=\"https://colab.research.google.com/github/ageron/handson-ml3/blob/main/tools_numpy.ipynb\" target=\"_parent\"><img src=\"https://colab.research.google.com/assets/colab-badge.svg\" alt=\"Open In Colab\"/></a>\n",
    "  </td>\n",
    "  <td>\n",
    "    <a target=\"_blank\" href=\"https://kaggle.com/kernels/welcome?src=https://github.com/ageron/handson-ml3/blob/main/tools_numpy.ipynb\"><img src=\"https://kaggle.com/static/images/open-in-kaggle.svg\" /></a>\n",
    "  </td>\n",
    "</table>"
   ]
  },
  {
   "cell_type": "markdown",
   "id": "e0c5b198",
   "metadata": {
    "slideshow": {
     "slide_type": "slide"
    }
   },
   "source": [
    "### [Video de apoyo a la lectura interactiva y experimental de este cuaderno]()"
   ]
  },
  {
   "cell_type": "markdown",
   "id": "41e82203",
   "metadata": {
    "slideshow": {
     "slide_type": "slide"
    }
   },
   "source": [
    "### [Vínculo al programa del curso:  ]()\n",
    "\n"
   ]
  },
  {
   "cell_type": "markdown",
   "id": "d11ab06d",
   "metadata": {
    "slideshow": {
     "slide_type": "slide"
    }
   },
   "source": [
    "Un reconocimiento a mis estudiantes que han construido conmigo este saber pedagógico:\n",
    "\n",
    "<img src = ''> \n",
    "\n"
   ]
  },
  {
   "cell_type": "markdown",
   "id": "8a74a56c-0ce6-4ad6-b985-553fd7fb68bb",
   "metadata": {},
   "source": [
    "Reconocimiento a las profesoras destacadas en enseñanza de la matemática en Colombia\n"
   ]
  },
  {
   "cell_type": "code",
   "execution_count": null,
   "id": "6cb89c0b",
   "metadata": {},
   "outputs": [
    {
     "data": {
      "application/vnd.microsoft.datawrangler.viewer.v0+json": {
       "columns": [
        {
         "name": "index",
         "rawType": "int64",
         "type": "integer"
        },
        {
         "name": "Cedula",
         "rawType": "int64",
         "type": "integer"
        },
        {
         "name": "Nombre",
         "rawType": "object",
         "type": "string"
        },
        {
         "name": "Email",
         "rawType": "object",
         "type": "string"
        },
        {
         "name": "Parcial",
         "rawType": "float64",
         "type": "float"
        },
        {
         "name": "Asistencia",
         "rawType": "float64",
         "type": "float"
        }
       ],
       "conversionMethod": "pd.DataFrame",
       "ref": "6b84fd7a-7d91-41e7-acd8-76d316e02aff",
       "rows": [
        [
         "1",
         "1007528664",
         "AYALA MENDOZA MARISOL YACIRA",
         "marisol.ayala@udea.edu.co",
         "0.0",
         null
        ],
        [
         "2",
         "1064188463",
         "MASS MIRANDA RIVALDO JOSE",
         "rivaldo.mass@udea.edu.co",
         "0.0",
         null
        ],
        [
         "3",
         "1066570075",
         "MONTERROSA SOTO ABRIL",
         "a.monterrosa@udea.edu.co",
         "0.0",
         null
        ],
        [
         "4",
         "1193404816",
         "AMARIS FERNANDEZ SEBASTIAN CAMILO",
         "sebastian.amaris@udea.edu.co",
         null,
         null
        ]
       ],
       "shape": {
        "columns": 5,
        "rows": 4
       }
      },
      "text/html": [
       "<div>\n",
       "<style scoped>\n",
       "    .dataframe tbody tr th:only-of-type {\n",
       "        vertical-align: middle;\n",
       "    }\n",
       "\n",
       "    .dataframe tbody tr th {\n",
       "        vertical-align: top;\n",
       "    }\n",
       "\n",
       "    .dataframe thead th {\n",
       "        text-align: right;\n",
       "    }\n",
       "</style>\n",
       "<table border=\"1\" class=\"dataframe\">\n",
       "  <thead>\n",
       "    <tr style=\"text-align: right;\">\n",
       "      <th></th>\n",
       "      <th>Cedula</th>\n",
       "      <th>Nombre</th>\n",
       "      <th>Email</th>\n",
       "      <th>Parcial</th>\n",
       "      <th>Asistencia</th>\n",
       "    </tr>\n",
       "  </thead>\n",
       "  <tbody>\n",
       "    <tr>\n",
       "      <th>1</th>\n",
       "      <td>1007528664</td>\n",
       "      <td>AYALA MENDOZA MARISOL YACIRA</td>\n",
       "      <td>marisol.ayala@udea.edu.co</td>\n",
       "      <td>0.0</td>\n",
       "      <td>NaN</td>\n",
       "    </tr>\n",
       "    <tr>\n",
       "      <th>2</th>\n",
       "      <td>1064188463</td>\n",
       "      <td>MASS MIRANDA RIVALDO JOSE</td>\n",
       "      <td>rivaldo.mass@udea.edu.co</td>\n",
       "      <td>0.0</td>\n",
       "      <td>NaN</td>\n",
       "    </tr>\n",
       "    <tr>\n",
       "      <th>3</th>\n",
       "      <td>1066570075</td>\n",
       "      <td>MONTERROSA SOTO ABRIL</td>\n",
       "      <td>a.monterrosa@udea.edu.co</td>\n",
       "      <td>0.0</td>\n",
       "      <td>NaN</td>\n",
       "    </tr>\n",
       "    <tr>\n",
       "      <th>4</th>\n",
       "      <td>1193404816</td>\n",
       "      <td>AMARIS FERNANDEZ SEBASTIAN CAMILO</td>\n",
       "      <td>sebastian.amaris@udea.edu.co</td>\n",
       "      <td>NaN</td>\n",
       "      <td>NaN</td>\n",
       "    </tr>\n",
       "  </tbody>\n",
       "</table>\n",
       "</div>"
      ],
      "text/plain": [
       "       Cedula                             Nombre  \\\n",
       "1  1007528664       AYALA MENDOZA MARISOL YACIRA   \n",
       "2  1064188463          MASS MIRANDA RIVALDO JOSE   \n",
       "3  1066570075              MONTERROSA SOTO ABRIL   \n",
       "4  1193404816  AMARIS FERNANDEZ SEBASTIAN CAMILO   \n",
       "\n",
       "                          Email  Parcial  Asistencia  \n",
       "1     marisol.ayala@udea.edu.co      0.0         NaN  \n",
       "2      rivaldo.mass@udea.edu.co      0.0         NaN  \n",
       "3      a.monterrosa@udea.edu.co      0.0         NaN  \n",
       "4  sebastian.amaris@udea.edu.co      NaN         NaN  "
      ]
     },
     "execution_count": 1,
     "metadata": {},
     "output_type": "execute_result"
    }
   ],
   "source": [
    "import pandas as pd\n",
    "import numpy as np\n",
    "\n",
    "# Cargar la lista de estudiantes desde el archivo CSV\n",
    "path = 'C:/Users/marco/Documentos/docencia/groups_list/asesoria.xlsx'\n",
    "estudiantes = pd.read_excel(path)\n",
    "estudiantes.index = range(1, len(estudiantes) + 1)\n",
    "estudiantes.head(17) "
   ]
  },
  {
   "cell_type": "markdown",
   "id": "d7598d0a-d9b7-4ae0-b029-a0ed6ed1130b",
   "metadata": {},
   "source": [
    "\n",
    "# Principios de mi labor docente"
   ]
  },
  {
   "cell_type": "markdown",
   "id": "4f9d8cf9",
   "metadata": {
    "slideshow": {
     "slide_type": "slide"
    }
   },
   "source": [
    "## Modelo general de clase: [aula invertida](https://www3.gobiernodecanarias.org/medusa/ecoescuela/pedagotic/aprendizaje-invertido-flipped-classroom/)"
   ]
  },
  {
   "cell_type": "markdown",
   "id": "eb6ed03a",
   "metadata": {},
   "source": [
    "<img src = 'https://resources.maneuveringthemiddle.com/wp-content/uploads/2020/07/04212706/1-5.png' width = 200>  \n",
    "\n"
   ]
  },
  {
   "cell_type": "markdown",
   "id": "34319cce-a71b-4f64-aab8-b53e521efa40",
   "metadata": {},
   "source": [
    "# Metodología de Aprendizaje Basado en Problemas y Proyectos (ABPP)\n"
   ]
  },
  {
   "cell_type": "markdown",
   "id": "c4f73d81",
   "metadata": {},
   "source": [
    "\n",
    "<img src = 'https://www.unir.net/wp-content/uploads/2020/07/aprendizaje-problemas2-1-1-1-1.jpeg' width = 200>"
   ]
  },
  {
   "cell_type": "markdown",
   "id": "841a985c-bd9b-4dd3-8e4c-893983980af2",
   "metadata": {},
   "source": [
    "# Desarrollo del pensamiento computacional con Lenguaje Python y R; y con archivos Markdown orientado a la formación en ciencia de datos \n",
    "\n"
   ]
  },
  {
   "cell_type": "markdown",
   "id": "3d0eba94",
   "metadata": {},
   "source": [
    "\n",
    "<img src = 'https://i.ytimg.com/vi/mcG_wcR4e6M/maxresdefault.jpg' width = 200>"
   ]
  },
  {
   "cell_type": "markdown",
   "id": "65aa0404-f7ae-495e-864c-1aec01b4255e",
   "metadata": {},
   "source": [
    "# Principio de fomento a la ciencia abierta, enseñar en el acceso a los datos públicos y el uso de software de código abierto  \n"
   ]
  },
  {
   "cell_type": "markdown",
   "id": "18ae9b87",
   "metadata": {},
   "source": [
    "\n",
    "<img src = 'https://unesdoc.unesco.org/in/rest/Thumb/image?id=p%3A%3Ausmarcdef_0000379949_spa&author=UNESCO&title=Recomendaci%C3%B3n+de+la+UNESCO+sobre+la+Ciencia+Abierta&year=2021&publisher=UNESCO&TypeOfDocument=UnescoPhysicalDocument&mat=PGD&ct=true&size=512&isPhysical=1' width = 200>"
   ]
  },
  {
   "cell_type": "markdown",
   "id": "d9559f85",
   "metadata": {},
   "source": [
    "El enfoque STEAMS en educación preescolar, primaria y secundaria es una extensión del enfoque STEM (Ciencia, Tecnología, Ingeniería y Matemáticas) y su variante STEAM, que incorpora el Arte. "
   ]
  },
  {
   "cell_type": "markdown",
   "id": "706d3917",
   "metadata": {},
   "source": [
    "# Y el enfoque de Teoría de Registros de Representación Semiótica (TRRS) de Raymond Duval\n",
    "\n"
   ]
  },
  {
   "cell_type": "markdown",
   "id": "96775931",
   "metadata": {
    "slideshow": {
     "slide_type": "slide"
    }
   },
   "source": [
    "## Título de la Asesoría: Circunferencias, cuaerdas, ángulos centrales, arcos mayores y menores, y ángulos inscritos en la circunferencia.  \n",
    "\n",
    "\n",
    "\n"
   ]
  },
  {
   "cell_type": "markdown",
   "id": "10e55ccf",
   "metadata": {},
   "source": [
    "# Estructura general para todas las clases\n",
    "\n",
    "Dame, por favor, un diseño de clase, con el enfoque: \"Aula Invertida, STEAMS y de Aprendizaje Basado en Problemas y Proyectos(ABPP)\" sobre: \"\", siguiendo la estructura:  \n",
    "\n",
    "1. Título de la clase   \n",
    "   \n",
    "2. Objetivos de aprendizaje que incluyan los indicadores del logro de estos objetivos.  \n",
    "   \n",
    "3. Un mapa conceptual que resuma la clase elaborado en Graphviz de python con nodos y edges de diferentes formas, colores y rellenos y renderizado en la siguiente ubicación: `\"C:/Users/marco/Downloads\"`. No olvides el parámetro `view = True` para el método `render()` de Graphviz. Para este mapa controla las superposiciones de los nodos con: graph [overlap=false]; // Elimina superposiciones (puede aumentar el espacio)\n",
    "graph [overlap=\"scalexy\"]; // Escala el gráfico para evitar overlaps\n",
    "graph [overlap=\"compress\"]; // Comprime el grafo sin overlaps  \n",
    "\n",
    "4. Dame elementos históricos y epistemológicos asociados a esta clase, pero contados como un cuento al estilo de un cuentero antioqueño en Colombia. Incluye imágenes de los protagonistas históricos de esta clase.   \n",
    "   \n",
    "5. Contenido de la clase. Que el contenido parta de una situación real para llegar a una constitución del modelo matemático que represente tal situación real.   \n",
    "   \n",
    "6. Actividades de aprendizaje: \n",
    "     - Diseña una actividad de aprendizaje a través del uso de la Calculadora Casio 991 LA cw  \n",
    "   \n",
    "7. Incluye una canción o un poema que ayude a interiorizar y fijar los conceptos asociados a esta clase.   \n",
    "   \n",
    "8. Tarea o actividades de ejercitación y fijación.   \n",
    "   \n",
    "9.  Evaluación incluyendo diez proyectos, un ejemplo de quiz (de tres preguntas) y un ejemplo de parcial (de cinco puntos)  \n",
    "    \n",
    "10.  Diseño de actividad de retroalimentación.   \n",
    "    \n",
    "11.  Dame un vocabulario y frases del idioma inglés asociadas a esta clase.   \n",
    "    \n",
    "12.  Incluye apéndice para la clase sobre desarrollo de habilidades para trabajar en equipo y de asertividad y empatía para relacionarnos. También elementos de la inteligencia emocional para presentar pruebas sin temor y sin realizar fraude en ellas.    \n",
    "     \n",
    "13. Incluye 10 referentes en didáctica de la matemática que estén de acuerdo a la propuesta didáctica de esta clase. Adiciona a estos referentes a Raymond Duval (Representaciones y cambios de representación para la adquisición de conceptos matemáticos) y a Jeannette Wing (Desarrollo del pensamiento computacional). Dejame todos estos referentes ordenados de acuerdo a las normas APA. Dejame todos estos referentes ordenados de acuerdo a las normas APA. Incluye las citaciones a estos referentes a medida que vallas diseñando la clase. \n",
    "\n",
    "Pero  que este diseño sea para que el estudiante pueda aprender experimentando en cuadernos Jupyter con funciones de usuario y animaciones y visualizaciones en python. En particular utiliza para el diseño de clase a Numpy, Pandas, SymPy, Matplotlib.pyplot, Seaborn, Plotly, ipywidgets, matplotlib.animation y Jupyter Notebook.    \n",
    "\n",
    "Cada vez que utilices `matplotlib.animacion` no olvides incluir el uso de `IPython. display` para la rederización de estas animaciones a través de Jupyter Notebook.   \n",
    "\n",
    "No olvides darme los diseños de clase con las ecuaciones matemáticas delimitadas con signo de dolar $ para que VS Code si me renderize estas expresiones del lenguaje latex. Cuando vallas a utilizar ipywidgets ten en cuenta la siguiente importación inicial para garantizar que la visualización interactiva si se renderize en VS Code:  \n",
    "\n",
    "import numpy as np  \n",
    "import matplotlib.pyplot as plt  \n",
    "import ipywidgets as widgets  \n",
    "from IPython.display import display, clear_output  \n",
    "from matplotlib.patches import Rectangle  \n",
    "\n",
    "# Configuración inicial para visualización estática  \n",
    "%matplotlib inline "
   ]
  },
  {
   "cell_type": "code",
   "execution_count": 2,
   "id": "81235e9f",
   "metadata": {},
   "outputs": [],
   "source": [
    "path_image = r'C:/Users/marco/Downloads'\n",
    "def save_fig(nombre_archivo_imagen):\n",
    "    import os \n",
    "    import matplotlib.pyplot as plt \n",
    "    imagen_path = os.path.join(path_image, nombre_archivo_imagen)\n",
    "    plt.savefig(imagen_path, bbox_inches='tight')"
   ]
  },
  {
   "cell_type": "markdown",
   "id": "f227c429",
   "metadata": {},
   "source": [
    "# Geometría de Baldor  \n",
    "\n",
    "Página 132 del PDF de Geometría de Baldor que corresponde a la página 128 del Libro.   \n",
    "\n"
   ]
  },
  {
   "cell_type": "markdown",
   "id": "07e5fdbe",
   "metadata": {},
   "source": [
    "### **Estrategias para escribir demostraciones de teoremas sobre circunferencias en Geometría Euclidiana**  \n"
   ]
  },
  {
   "cell_type": "markdown",
   "id": "9537e859",
   "metadata": {},
   "source": [
    "\n",
    "#### **1. Dominar los conceptos básicos**  \n",
    "- **Definiciones clave:**  \n",
    "  - Circunferencia, radio, diámetro, cuerda, arco, sector, segmento circular.  \n",
    "  - Rectas asociadas: tangente, secante, exterior.  \n",
    "- **Teoremas fundamentales:**  \n",
    "  - *\"La perpendicular desde el centro a una cuerda la biseca\"*.  \n",
    "  - *\"Los ángulos inscritos que subtienden el mismo arco son iguales\"*.  \n"
   ]
  },
  {
   "cell_type": "markdown",
   "id": "0e7127d2",
   "metadata": {},
   "source": [
    "\n",
    "#### **2. Identificar el tipo de teorema**  \n",
    "Clasificar el enunciado para elegir el método de demostración adecuado:  \n",
    "- **Propiedades métricas** (ej: longitudes de cuerdas, tangentes).  \n",
    "- **Relaciones angulares** (ej: ángulo central vs. ángulo inscrito).  \n",
    "- **Existencia o unicidad** (ej: circunferencia circunscrita a un triángulo).  \n"
   ]
  },
  {
   "cell_type": "markdown",
   "id": "a64a71a8",
   "metadata": {},
   "source": [
    "\n",
    "#### **3. Métodos de demostración aplicables**  \n",
    "- **Método directo:**  \n",
    "  - Usar axiomas y teoremas previos (ej: congruencia de triángulos para probar igualdad de radios).  \n",
    "  - Ejemplo: *Demostrar que \"Las tangentes desde un punto exterior a una circunferencia son congruentes\"*.  \n",
    "- **Contrarrecíproco:**  \n",
    "  - Útil para teoremas del tipo *\"Si no P, entonces no Q\"*.  \n",
    "  - Ejemplo: *\"Si una recta no es perpendicular al radio en su punto de intersección, no es tangente\"*.  \n",
    "- **Reducción al absurdo:**  \n",
    "  - Aplicar cuando la negación del teorema lleva a una contradicción.  \n",
    "  - Ejemplo: *Demostrar que \"Por tres puntos no colineales pasa una única circunferencia\"*.  \n",
    "- **Inducción geométrica:**  \n",
    "  - Para teoremas que involucren *n* elementos (ej: *n* cuerdas iguales).  \n"
   ]
  },
  {
   "cell_type": "markdown",
   "id": "13df4ccb",
   "metadata": {},
   "source": [
    "\n",
    "#### **4. Uso de herramientas geométricas**  \n",
    "- **Triángulos congruentes/semejantes:**  \n",
    "  - Buscar triángulos formados por radios, cuerdas o tangentes.  \n",
    "- **Potencias de puntos:**  \n",
    "  - Teorema de las cuerdas: $PA \\cdot PB = PC \\cdot PD$.  \n",
    "- **Ángulos en la circunferencia:**  \n",
    "  - Ángulo central = 2 × ángulo inscrito que subtiende el mismo arco.  \n"
   ]
  },
  {
   "cell_type": "markdown",
   "id": "aca51386",
   "metadata": {},
   "source": [
    "\n",
    "#### **5. Pasos estructurados para escribir la demostración**  \n",
    "1. **Dibujar un diagrama claro** con los elementos relevantes.  \n",
    "2. **Listar hipótesis y tesis** de forma explícita.  \n",
    "3. **Citar proposiciones previas** (ej: Euclides III.3 para propiedades de tangentes).  \n",
    "4. **Justificar cada paso** (ej: *\"Por el teorema de Pitágoras, $OA^2 = OT^2 + AT^2 $...\"*.  \n",
    "5. **Concluir** retomando la tesis.  \n"
   ]
  },
  {
   "cell_type": "markdown",
   "id": "24db71d6",
   "metadata": {},
   "source": [
    "\n",
    "#### **6. Ejemplo práctico**  \n",
    "**Teorema:** *\"Los ángulos opuestos de un cuadrilátero cíclico son suplementarios\"*.  \n",
    "- **Hipótesis:** $ABCD$ está inscrito en una circunferencia.  \n",
    "- **Tesis:** $\\angle A + \\angle C = 180^\\circ$.  \n",
    "- **Demostración:**  \n",
    "  1. Trazar los radios $OA$ y $OC$.  \n",
    "  2. Usar que $\\angle A = \\frac{1}{2} \\angle BOC$ (ángulo inscrito).  \n",
    "  3. Sumar ángulos alrededor del punto $O$.  \n"
   ]
  },
  {
   "cell_type": "markdown",
   "id": "446c1db4",
   "metadata": {},
   "source": [
    "\n",
    "#### **7. Errores comunes a evitar**  \n",
    "- Asumir propiedades no demostradas (ej: que una cuerda biseca un ángulo).  \n",
    "- Diagramas ambiguos (ej: puntos no alineados correctamente).  \n",
    "- Olvidar casos degenerados (ej: cuerdas que son diámetros).  \n"
   ]
  },
  {
   "cell_type": "markdown",
   "id": "7a35b184",
   "metadata": {},
   "source": [
    "\n",
    "#### **8. Recursos de apoyo**  \n",
    "- *Libros:* \"Elementos\" de Euclides (Libro III), \"Geometría Moderna\" de Coxeter.  \n",
    "- *Software:* Geogebra para verificar construcciones.  \n",
    "\n"
   ]
  },
  {
   "cell_type": "markdown",
   "id": "0babe165",
   "metadata": {},
   "source": [
    "\n",
    "\n",
    "**Consejo final:** Practicar con teoremas clásicos como:  \n",
    "- *\"El radio perpendicular a una cuerda la biseca\"*.  \n",
    "- *\"La medida del ángulo semiinscrito\"*.  \n",
    "- *\"Teorema de Ptolomeo para cuadriláteros cíclicos\"*.  \n",
    "\n",
    "¿Necesitas ayuda con la demostración de un teorema específico?"
   ]
  },
  {
   "cell_type": "markdown",
   "id": "a2a97494",
   "metadata": {},
   "source": [
    "### **Estrategias para Fomentar el Buen Trato entre Estudiantes en Asesorías de Geometría**  \n"
   ]
  },
  {
   "cell_type": "markdown",
   "id": "c310d166",
   "metadata": {},
   "source": [
    "\n",
    "#### **1. Establecer Normas de Convivencia Claras**  \n",
    "- **Crear un \"acuerdo de grupo\"** en la primera sesión, donde los estudiantes propongan reglas básicas (ej: respetar turnos de palabra, evitar burlas).  \n",
    "- **Incluir normas como:**  \n",
    "  - *\"Escuchar activamente cuando un compañero explica\"*.  \n",
    "  - *\"Corregir con respeto, usando frases como: ‘Yo lo vi de otra manera…’\"*.  \n"
   ]
  },
  {
   "cell_type": "markdown",
   "id": "baeb5925",
   "metadata": {},
   "source": [
    "\n",
    "#### **2. Dinámicas de Integración Inicial**  \n",
    "- **Ejercicios rompehielos:**  \n",
    "  - *\"Encontrar el error\":* Dar una demostración geométrica con un fallo intencional y pedir que la discutan en parejas.  \n",
    "  - *\"Geometría colaborativa\":* Resolver un problema entre todos, donde cada estudiante aporte un paso.  \n",
    "\n",
    "#### **3. Roles Rotativos en las Sesiones**  \n",
    "- Asignar roles para promover la participación equitativa:  \n",
    "  - **Moderador:** Organiza los turnos de intervención.  \n",
    "  - **Relator:** Toma notas de las ideas principales.  \n",
    "  - **Verificador:** Asegura que todos comprendieron cada paso.  \n",
    "\n",
    "#### **4. Aprendizaje Cooperativo**  \n",
    "- **Técnicas como:**  \n",
    "  - *\"1-2-4\":* Individual → Parejas → Grupo de 4, para discutir un problema.  \n",
    "  - *\"Tutoría entre pares\":* Los estudiantes más avanzados guían a quienes tienen dificultades (ej: explicar cómo trazar una tangente).  \n",
    "\n",
    "#### **5. Uso de Lenguaje Inclusivo**  \n",
    "- **Modelar frases positivas:**  \n",
    "  - *\"¿Qué opinas de esta solución, [nombre]?\"*  \n",
    "  - *\"Tu idea me hizo pensar en…\"*.  \n",
    "- **Evitar comparaciones:** No usar ejemplos como *\"X lo hizo mejor que Y\"*.  \n",
    "\n",
    "#### **6. Reflexión Grupal sobre el Proceso**  \n",
    "- **Al finalizar cada sesión:**  \n",
    "  - Dedicar 5 minutos a compartir *\"una cosa que aprendí de un compañero\"*.  \n",
    "  - Usar una *\"nube de palabras\"* (en pizarra o digital) donde escriban valores trabajados (ej: paciencia, colaboración).  \n",
    "\n",
    "#### **7. Incorporar Elementos Lúdicos**  \n",
    "- **Competencias sanas:**  \n",
    "  - *\"Carrera de problemas\":* Grupos resuelven ejercicios en un tiempo límite, ganan puntos por velocidad + precisión.  \n",
    "  - *\"Geometría con materiales\":* Usar palillos o cuerdas para construir figuras en equipo.  \n",
    "\n",
    "#### **8. Manejo Proactivo de Conflictos**  \n",
    "- **Si surge tensión:**  \n",
    "  - Redirigir el foco al problema matemático: *\"Ambos quieren llegar a la solución, ¿cómo podemos combinar sus ideas?\"*.  \n",
    "  - Usar *\"pausas activas\"* (ej: un minuto para respirar si hay frustración).  \n",
    "\n",
    "#### **9. Reconocimiento Colectivo**  \n",
    "- **Celebrar logros grupales:**  \n",
    "  - *\"Hoy todos contribuyeron a demostrar el teorema del ángulo central\"*.  \n",
    "  - Pegar un *\"árbol de logros\"* en la pared donde cada uno añada una hoja con su aporte.  \n",
    "\n",
    "#### **10. Ejemplo Práctico: Demostración Colaborativa**  \n",
    "**Problema:** *\"Demostrar que dos cuerdas congruentes equidistan del centro\"*.  \n",
    "- **Paso 1:** Cada estudiante dibuja el diagrama en su cuaderno.  \n",
    "- **Paso 2:** En parejas, discuten qué teoremas usar (ej: congruencia de triángulos).  \n",
    "- **Paso 3:** Un voluntero escribe en la pizarra mientras el grupo sugiere ajustes.  \n",
    "\n",
    "\n",
    "\n",
    "### **Beneficios Esperados**  \n",
    "- **Ambiente seguro:** Reduce el miedo a equivocarse.  \n",
    "- **Aprendizaje más profundo:** La discusión refuerza conceptos.  \n",
    "- **Habilidades blandas:** Trabajo en equipo, comunicación asertiva.  \n",
    "\n",
    "**Consejo clave:** El docente o asesor debe modelar el buen trato (ej: agradecer aportes, evitar correcciones bruscas).  \n",
    "\n",
    "¿Quieres adaptar alguna estrategia para un tema específico de geometría (ej: ángulos en la circunferencia)?"
   ]
  },
  {
   "cell_type": "markdown",
   "id": "292f13e4",
   "metadata": {},
   "source": [
    "### **Estrategias para Fomentar la Capacidad de Seguir una Línea Deductiva en Geometría Euclidiana**  \n"
   ]
  },
  {
   "cell_type": "markdown",
   "id": "98811c1f",
   "metadata": {},
   "source": [
    "\n",
    "#### **1. Enseñanza Explícita de la Estructura Lógica**  \n",
    "- **Presentar el esquema básico de una demostración:**  \n",
    "  - *Hipótesis* (datos o condiciones iniciales).  \n",
    "  - *Tesis* (lo que se quiere demostrar).  \n",
    "  - *Proposiciones intermedias* (pasos lógicos que conectan hipótesis y tesis).  \n",
    "- **Ejemplo guiado:**  \n",
    "  - *Teorema:* \"Si dos ángulos son opuestos por el vértice, entonces son congruentes\".  \n",
    "  - *Pasos:*  \n",
    "    1. Identificar los ángulos y la hipótesis (\"opuestos por el vértice\").  \n",
    "    2. Usar postulados (ej: \"ángulos adyacentes son suplementarios\").  \n",
    "    3. Concluir la congruencia.  \n"
   ]
  },
  {
   "cell_type": "markdown",
   "id": "a6388782",
   "metadata": {},
   "source": [
    "\n",
    "#### **2. Uso de Diagramas Anotados**  \n",
    "- **Exigir que los estudiantes etiqueten sus dibujos** con:  \n",
    "  - Datos dados (ej: segmentos congruentes marcados con iguales).  \n",
    "  - Conclusiones parciales (ej: ángulos iguales identificados).  \n",
    "- **Herramienta:** Geogebra para visualizar y manipular figuras.  \n"
   ]
  },
  {
   "cell_type": "markdown",
   "id": "9a638efe",
   "metadata": {},
   "source": [
    "\n",
    "#### **3. Desglose en Pasos Pequeños**  \n",
    "- **Fragmentar teoremas complejos en lemas o corolarios.**  \n",
    "  - *Ejemplo (Teorema de Tales):*  \n",
    "    1. Demostrar primero que \"rectas paralelas cortan proporcionalmente a dos rectas secantes\".  \n",
    "    2. Aplicarlo a triángulos.  \n"
   ]
  },
  {
   "cell_type": "markdown",
   "id": "a7f4bfe4",
   "metadata": {},
   "source": [
    "\n",
    "#### **4. Práctica con \"Demostraciones con Huecos\"**  \n",
    "- **Dar demostraciones incompletas** para que los estudiantes:  \n",
    "  - Identifiquen el paso faltante (ej: \"¿Qué postulado justifica esta igualdad?\").  \n",
    "  - Seleccionen entre opciones lógicas (tipo *multiple choice* deductivo).  \n"
   ]
  },
  {
   "cell_type": "markdown",
   "id": "fa596f2c",
   "metadata": {},
   "source": [
    "\n",
    "#### **5. Método Socrático de Preguntas Guía**  \n",
    "- **Plantear preguntas para dirigir el razonamiento:**  \n",
    "  - *\"¿Qué sabemos sobre estos triángulos?\"*  \n",
    "  - *\"¿Qué postulado relaciona ángulos y lados congruentes?\"*  \n",
    "  - *\"¿Por qué este paso implica el siguiente?\"*  \n"
   ]
  },
  {
   "cell_type": "markdown",
   "id": "5153f797",
   "metadata": {},
   "source": [
    "\n",
    "#### **6. Análisis de Errores Comunes**  \n",
    "- **Mostrar \"demostraciones incorrectas\"** y pedir detectar fallos:  \n",
    "  - *Error típico:* Asumir lo que se quiere demostrar (petición de principio).  \n",
    "  - *Ejemplo:* Usar la semejanza de triángulos sin probar primero los criterios.  \n"
   ]
  },
  {
   "cell_type": "markdown",
   "id": "0d0c94a8",
   "metadata": {},
   "source": [
    "\n",
    "#### **7. Trabajo con Pruebas en Distintos Formatos**  \n",
    "- **Variar la presentación de demostraciones:**  \n",
    "  - *Flujogramas lógicos* (cajas con pasos conectados por flechas).  \n",
    "  - *Narrativas* (\"Supongamos que... entonces...\").  \n",
    "  - *Simbólico* (usando notación lógica: $\\forall, \\exists, \\Rightarrow$).  \n"
   ]
  },
  {
   "cell_type": "markdown",
   "id": "eb70412a",
   "metadata": {},
   "source": [
    "\n",
    "#### **8. Retroalimentación Detallada**  \n",
    "- **Corregir enfatizando la estructura, no solo el resultado:**  \n",
    "  - *\"Este paso necesita citar el postulado de congruencia SAS\"*.  \n",
    "  - *\"La conexión entre A y B requiere un paso intermedio\"*.  \n",
    "\n",
    "#### **9. Ejercicios de Reconstrucción**  \n",
    "- **Dar la tesis y pedir reconstruir la demostración** a partir de pistas:  \n",
    "  - *Ejemplo:* \"Demuestre que los ángulos base de un triángulo isósceles son congruentes. *Pista:* Use la bisectriz del ángulo vértice\".  \n",
    "\n",
    "#### **10. Conexión con Axiomas y Postulados**  \n",
    "- **Relacionar cada paso con los fundamentos de Euclides:**  \n",
    "  - *Ejemplo:* Al demostrar propiedades de paralelas, recordar el 5° postulado.  \n",
    "\n",
    "---\n",
    "\n",
    "### **Ejemplo Práctico: Demostración Dirigida**  \n",
    "**Teorema:** *\"Las medianas de un triángulo se intersecan en un punto que divide a cada una en razón 2:1\"*.  \n",
    "\n",
    "1. **Hipótesis:** $ABC$ es un triángulo con medianas $AM$, $BN$, $CP$.  \n",
    "2. **Preguntas guía:**  \n",
    "   - *\"¿Qué propiedad tienen las medianas?\"* (Bisecan los lados).  \n",
    "   - *\"¿Podemos usar vectores o coordenadas para ubicar el punto de intersección?\"*.  \n",
    "3. **Diagrama:** Marcar puntos medios y trazar medianas.  \n",
    "4. **Pasos deductivos:**  \n",
    "   - Probar que dos medianas se cortan en un punto $G$ que las divide 2:1.  \n",
    "   - Usar transitividad para incluir la tercera mediana.  \n",
    "\n",
    "---\n",
    "\n",
    "### **Evaluación del Progreso**  \n",
    "- **Rúbricas con criterios como:**  \n",
    "  - *Claridad lógica* (0-3 puntos).  \n",
    "  - *Uso correcto de postulados* (0-3 puntos).  \n",
    "  - *Flujo coherente* (0-2 puntos).  \n",
    "\n",
    "**Consejo final:** Empezar con teoremas sencillos (ej: propiedades de ángulos) antes de abordar problemas complejos (ej: teorema de Ceva).  \n",
    "\n",
    "¿Necesitas actividades específicas para un tema (ej: congruencia de triángulos)?"
   ]
  },
  {
   "cell_type": "markdown",
   "id": "f546e7c7",
   "metadata": {},
   "source": [
    "**Sí, existe un teorema que aborda esa situación.** Se conoce como el **Teorema de la Desigualdad del Triángulo Relacionada con Ángulos** (a veces llamado *Teorema de la Hinge* en inglés o *Teorema de las Bisagras* por su analogía con la apertura de una puerta). Aquí está la formalización:\n",
    "\n",
    "---\n",
    "\n",
    "### **Enunciado del Teorema:**  \n",
    "*Si dos triángulos tienen dos pares de lados respectivamente congruentes, pero el ángulo comprendido entre ellos en un triángulo es mayor que el ángulo correspondiente en el otro, entonces el lado opuesto al ángulo mayor será **más largo** que el lado opuesto al ángulo menor.*  \n",
    "\n",
    "- **Notación:**  \n",
    "  Dados \\( \\triangle ABC \\) y \\( \\triangle DEF \\) con:\n",
    "  - \\( AB = DE \\),\n",
    "  - \\( AC = DF \\),\n",
    "  - \\( \\angle BAC > \\angle EDF \\),  \n",
    "  **Entonces:** \\( BC > EF \\).\n",
    "\n",
    "---\n",
    "\n",
    "### **Ejemplo Gráfico:**  \n",
    "1. Dibuja dos triángulos con lados \\( AB = DE = 5 \\) cm y \\( AC = DF = 7 \\) cm.  \n",
    "2. En \\( \\triangle ABC \\), \\( \\angle BAC = 50^\\circ \\).  \n",
    "3. En \\( \\triangle DEF \\), \\( \\angle EDF = 30^\\circ \\).  \n",
    "**Conclusión:** Como \\( 50^\\circ > 30^\\circ \\), el lado \\( BC \\) será más largo que \\( EF \\).\n",
    "\n"
   ]
  },
  {
   "cell_type": "markdown",
   "id": "0f55f3d5",
   "metadata": {},
   "source": [
    "\n",
    "\n",
    "### **Demostración (Esquema):**  \n",
    "1. **Construcción auxiliar:**  \n",
    "   - Copiar \\( \\triangle DEF \\) en \\( \\triangle ABC \\) haciendo coincidir \\( AB = DE \\) y \\( AC \\) sobre \\( DF \\).  \n",
    "   - Como \\( \\angle BAC > \\angle EDF \\), el lado \\( DF \\) quedará \"dentro\" de \\( \\angle BAC \\).  \n",
    "\n",
    "2. **Uso de la desigualdad triangular:**  \n",
    "   - Se forma un nuevo triángulo \\( AEF' \\) (con \\( F' \\) en el interior de \\( \\angle BAC \\)).  \n",
    "   - Compara las longitudes \\( BC \\) y \\( EF \\) usando que \\( EF' = EF \\) y la propiedad de que en un triángulo, un lado opuesto a un ángulo mayor es más largo.  \n",
    "\n",
    "---\n",
    "\n",
    "### **Recíproco del Teorema:**  \n",
    "*Si dos triángulos tienen dos pares de lados congruentes y el tercer lado desigual, entonces el ángulo opuesto al lado mayor será **mayor** que el ángulo opuesto al lado menor.*  \n",
    "\n",
    "---\n",
    "\n",
    "### **Aplicaciones Prácticas:**  \n",
    "- **Geometría euclidiana:** Comparar distancias indirectamente (ej: en problemas de optimización).  \n",
    "- **Física:** Analizar fuerzas resultantes con ángulos variables.  \n",
    "\n",
    "**Fuente clásica:** Este teorema aparece implícito en los *Elementos de Euclides* (Libro I, Proposición 24) y se formaliza mejor en textos modernos de geometría.  \n",
    "\n",
    "¿Necesitas la demostración detallada paso a paso o ejemplos adicionales?"
   ]
  },
  {
   "cell_type": "markdown",
   "id": "239427f7",
   "metadata": {},
   "source": [
    "# ARTÍCULO 1. Definir el calendario académico para los diferentes programas de pregrado de los campus\n",
    "regionalizados, correspondiente al primer periodo académico del año 2025, así:\n",
    "\n",
    "\n",
    "* Terminación de clases 08 de junio de 2025.\n",
    "* Exámenes finales 09 al 15 de junio de 2025\n",
    "* Habilitación y validación 16 al 22 de junio de 2025\n",
    "* Terminación oficial 23 de junio de 2025."
   ]
  },
  {
   "cell_type": "markdown",
   "id": "8ba64aed",
   "metadata": {},
   "source": [
    "# Cursos que orienta el profesor Marco Julio Cañas Campillo en 2025  \n",
    "\n",
    "1. Cálculo Vectorial para Ingeniería Agropecuaria\n",
    "2. Análisis Numérico para Licenciatura en Matemáticas. \n",
    "3. Práctica Pedagógica V para Licenciatura en Educación Infantil\n",
    "4. Fundamentos de Lógica para Licenciatura en Matemáticas. \n",
    "\n"
   ]
  },
  {
   "cell_type": "markdown",
   "id": "8d41fe58",
   "metadata": {
    "slideshow": {
     "slide_type": "slide"
    }
   },
   "source": [
    "# Horario de clases del profesor Marco\n",
    "\n",
    "* Lunes 8-12: Cálculo Vectorial\n",
    "* Martes 8-12 M: Fundamentos de Aritmética. \n",
    "* Miércoles 8 a 12 M: Fundamentos de la Lógica\n",
    "* Jueves 2 a 6 PM: Desarrollo del pensamiento matemático en la infancia. \n",
    "* Viernes 8 - 12 M: Desarrollo del pensamiento matemático en la infancia. \n",
    "* Sábados 8-12 Asesorías y espacio para retroalimentación y apoyo al trabajo independiente. "
   ]
  },
  {
   "cell_type": "markdown",
   "id": "ae114e14",
   "metadata": {
    "slideshow": {
     "slide_type": "slide"
    }
   },
   "source": [
    "# Horarios de monitoría y asesoría  \n",
    "\n",
    "Coordinador de los cursos de la Facultad de Educación para regiones:    \n",
    "\n",
    "Andrés Vélez: regioneducacion.fedu@udea.edu.co  \n",
    "Coordinador Regiones  \n",
    "Facultad de Educación  \n",
    "Universidad de Antioquia  "
   ]
  },
  {
   "cell_type": "markdown",
   "id": "b1db4b6c",
   "metadata": {
    "slideshow": {
     "slide_type": "slide"
    }
   },
   "source": [
    "## Monitores\n",
    "\n",
    "* Manuel San Juan Serrano: Contactar escribiendo al correo: manuel.serrano1@udea.edu.co  \n",
    "* Yeifry Sebastian Uribe: yeifry.uribe@udea.edu.co\n"
   ]
  },
  {
   "cell_type": "markdown",
   "id": "10bce0d0",
   "metadata": {
    "slideshow": {
     "slide_type": "slide"
    }
   },
   "source": [
    "## Referentes "
   ]
  },
  {
   "cell_type": "markdown",
   "id": "1db3c468",
   "metadata": {
    "slideshow": {
     "slide_type": "slide"
    }
   },
   "source": [
    "* [Cómo enseñar con cuadernos Jupyter](https://jupyter4edu.github.io/jupyter-edu-book/)  \n",
    "  \n",
    "* [Cómo enseñar matemáticas con calculadora Casio LA991 cw](chrome-extension://efaidnbmnnnibpcajpcglclefindmkaj/https://bibliotecadigital.udea.edu.co/bitstream/10495/32857/4/ParraZapata_2024_DesarrolloPensamientoMatematico2aed_versionweb.pdf)  \n",
    "\n",
    "* [CALCULO I DE UNA VARIABLE Ron Larson-Bruce Edwards. Mc Graw Hill. 9º Edición](https://www.academia.edu/42139251/CALCULO_I_DE_UNA_VARIABLE_Ron_Larson_Bruce_Edwards_Mc_Graw_Hill_9o_Edici%C3%B3n)   \n",
    "  \n",
    "\n",
    "* [Grajales Vanegas, L. M., Restrepo Estrada, C. E., Restrepo Ochoa, S. I., & Ruíz De Villalba, F. (2015). Matemáticas I para las ciencias económicas.](https://bibliotecadigital.udea.edu.co/handle/10495/3010)\n",
    "  \n",
    "* R. Duval y Semiosis y pensamiento humano, 2.ª ed. Cali, Colombia: Programa Editorial Universidad del Valle, 2017. [En línea]. Disponible en: https://programaeditorial.univalle.edu.co/gpd-semiosis-y-pensamiento-humano-9789587655278-63324cdb0f6b3.html\n",
    "\n",
    "* [Aylwin, C. U. (2011). Lógica, conjuntos y números. Universidad de los Andes, Consejo de Publicaciones, Colección: Ciencias Básicas, Serie: Matemáticas.](chrome-extension://efaidnbmnnnibpcajpcglclefindmkaj/https://www.u-cursos.cl/ciencias/2011/1/MC110/1/material_docente/bajar?id_material=574722)\n",
    "  \n",
    "* [Recomendación de la UNESCO sobre ciencia abierta](https://unesdoc.unesco.org/ark:/48223/pf0000379949_spa)\n",
    "\n",
    "* [chatGPT](https://openai.com/blog/chatgpt)  \n",
    "* \n",
    "\n",
    "* [Géron, A. (2017). Hands-on machine learning with scikit-learn and tensorflow: Concepts. Tools, and Techniques to build intelligent systems.](chrome-extension://efaidnbmnnnibpcajpcglclefindmkaj/http://14.139.161.31/OddSem-0822-1122/Hands-On_Machine_Learning_with_Scikit-Learn-Keras-and-TensorFlow-2nd-Edition-Aurelien-Geron.pdf)   \n"
   ]
  },
  {
   "cell_type": "markdown",
   "id": "df925560",
   "metadata": {},
   "source": [
    "\n",
    "* [McKinney, W. (2012). Python for data analysis: Data wrangling with Pandas, NumPy, and IPython. \" O'Reilly Media, Inc.\".](https://wesmckinney.com/book/) "
   ]
  },
  {
   "cell_type": "markdown",
   "id": "8e65d6f9",
   "metadata": {},
   "source": [
    "# Como estudiante, encuentro que...   \n",
    "\n",
    "F: Mis Fortalezas son:     \n",
    "O: Mis Oportunidades son:    \n",
    "D: Mis Debilidades son:    \n",
    "A: Lo que Amenazas mi aprendizaje es:  "
   ]
  },
  {
   "cell_type": "markdown",
   "id": "6b9e56a8",
   "metadata": {
    "slideshow": {
     "slide_type": "slide"
    }
   },
   "source": [
    "### [Evaluamos al profesor Marco Cañas Aquí](https://forms.office.com/Pages/ResponsePage.aspx?id=IefhmYRxjkmK_7KtTlPBwkanXIs1i1FEujpsZgO6dXpUREJPV1kxUk1JV1ozTFJIQVNIQjY5WEY3US4u)"
   ]
  },
  {
   "cell_type": "markdown",
   "id": "10f43536",
   "metadata": {
    "slideshow": {
     "slide_type": "slide"
    }
   },
   "source": [
    "### Continue su aprendizaje en la siguiente clase a través del siguiente [vínculo]()"
   ]
  },
  {
   "cell_type": "markdown",
   "id": "53cc9115",
   "metadata": {
    "slideshow": {
     "slide_type": "slide"
    }
   },
   "source": [
    "## Agradecimientos  \n",
    "\n",
    "Doy gracias a Dios por la vida de mi Hijo Joseph Cañas Osorio y la madurez que ha alcanzado. Este hijo me enorgullece y me hace falta abrazarlo cada día. \n",
    "\n",
    "Y a mi esposa Yasmira Emperatriz Barboza Mogollón por su apoyo, orientación y acompañamiento. "
   ]
  },
  {
   "cell_type": "markdown",
   "id": "b6ba1c23",
   "metadata": {},
   "source": [
    "# Apéndice sobre calendarios y coordinaciones \n",
    "\n",
    "A continuación le envío el horario de la asignatura Cálculo Vectorial  \n",
    "\n",
    "Días:  \n",
    "Lunes - Hora: 7:00 a 12:00M  \n",
    "Fechas:  \n",
    "Febrero: 10-17-24                                          \n",
    " Marzo: 3-10-17-31                                                  \n",
    "Abril:7-21-28                                                   \n",
    "Mayo:5-12-19  \n",
    "\n",
    "Agradezco su apoyo, y si presenta alguna dificultad puede contactarme.  \n",
    "\n",
    "Cordialmente,  \n",
    "Juan Felipe Rivera Hernández  \n",
    "Contacto: 3106314300  "
   ]
  },
  {
   "cell_type": "markdown",
   "id": "0e66cd7c",
   "metadata": {},
   "source": [
    "# Clase de análisis numérico los Martes de 8 a 12 del medio día. "
   ]
  },
  {
   "cell_type": "markdown",
   "id": "c5ff61b1",
   "metadata": {},
   "source": []
  }
 ],
 "metadata": {
  "celltoolbar": "Slideshow",
  "kernelspec": {
   "display_name": ".venv",
   "language": "python",
   "name": "python3"
  },
  "language_info": {
   "codemirror_mode": {
    "name": "ipython",
    "version": 3
   },
   "file_extension": ".py",
   "mimetype": "text/x-python",
   "name": "python",
   "nbconvert_exporter": "python",
   "pygments_lexer": "ipython3",
   "version": "3.12.6"
  },
  "rise": {
   "enable_chalkboard": true,
   "theme": "sky",
   "transition": "zoom"
  }
 },
 "nbformat": 4,
 "nbformat_minor": 5
}
