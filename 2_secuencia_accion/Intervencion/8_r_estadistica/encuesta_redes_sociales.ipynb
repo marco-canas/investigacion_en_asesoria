{
 "cells": [
  {
   "cell_type": "markdown",
   "id": "ce1f8d3e",
   "metadata": {},
   "source": [
    "<table align=\"left\">\n",
    "  <td>\n",
    "    <a href=\"https://colab.research.google.com/github/marco-canas/investigacion_en_asesoria/blob/main/2_secuencia_accion/2_Dise%C3%B1o_Proceso_IAE/Intervencion/8_r_estadistica/encuesta_1.ipynb\" target=\"_parent\"><img src=\"https://colab.research.google.com/assets/colab-badge.svg\" alt=\"Open In Colab\"/></a>\n",
    "  </td>\n",
    "  <td>\n",
    "    <a target=\"_blank\" href=\"https://kaggle.com/kernels/welcome?src=https://github.com/marco-canas/investigacion_en_asesoria/blob/main/2_secuencia_accion/2_Dise%C3%B1o_Proceso_IAE/Intervencion/8_r_estadistica/encuesta_1.ipynb\"><img src=\"https://kaggle.com/static/images/open-in-kaggle.svg\" /></a>\n",
    "  </td>\n",
    "</table>"
   ]
  },
  {
   "cell_type": "code",
   "execution_count": 1,
   "id": "5a689a31",
   "metadata": {},
   "outputs": [],
   "source": [
    "#funcion para generar qr"
   ]
  },
  {
   "cell_type": "markdown",
   "id": "d5d4b8e6",
   "metadata": {},
   "source": [
    "# Encuestas sobre uso de redes sociales  \n",
    "\n"
   ]
  },
  {
   "cell_type": "markdown",
   "id": "69ebee0f",
   "metadata": {},
   "source": [
    "## Fórmulas asociadas al análisis descriptivo de variables cualitativas continuas  \n",
    "\n",
    "Dame, por favor, las fórmulas asociadas al análisis descriptivo de variables cualitativas continuas.  \n",
    "\n",
    "Marco, te hago una precisión importante:\n",
    "las **variables cualitativas** (nominales u ordinales) **no son continuas**.\n",
    "\n",
    "👉 Una variable **cualitativa** describe categorías o cualidades (ejemplo: género, color, estado civil).\n",
    "👉 Una variable **cuantitativa continua** describe magnitudes numéricas que pueden tomar infinitos valores en un intervalo (ejemplo: altura, peso, temperatura).\n",
    "\n",
    "Entonces, para ser fiel al análisis estadístico, hay **dos casos distintos**:\n",
    "\n",
    "---\n",
    "\n",
    "## 🔹 1. Variables cualitativas (nominales u ordinales)\n",
    "\n",
    "En análisis descriptivo usamos **frecuencias y porcentajes**:\n",
    "\n",
    "* **Frecuencia absoluta**:\n",
    "\n",
    "$$\n",
    "f_i = \\text{número de observaciones en la categoría } i\n",
    "$$\n",
    "\n",
    "* **Frecuencia relativa**:\n",
    "\n",
    "$$\n",
    "h_i = \\frac{f_i}{n}\n",
    "$$\n",
    "\n",
    "* **Frecuencia acumulada (en ordinales)**:\n",
    "\n",
    "$$\n",
    "F_i = \\sum_{j=1}^{i} f_j\n",
    "$$\n",
    "\n",
    "* **Frecuencia relativa acumulada**:\n",
    "\n",
    "$$\n",
    "H_i = \\sum_{j=1}^{i} h_j\n",
    "$$\n",
    "\n",
    "Donde $n$ es el tamaño total de la muestra.\n",
    "\n",
    "🔸 Además, se suelen usar medidas de **tendencia central y dispersión categórica**:\n",
    "\n",
    "* **Moda**: categoría con mayor frecuencia.\n",
    "* **Índice de diversidad de Simpson**:\n",
    "\n",
    "$$\n",
    "D = 1 - \\sum_{i=1}^k h_i^2\n",
    "$$\n"
   ]
  },
  {
   "cell_type": "markdown",
   "id": "1585be29",
   "metadata": {},
   "source": [
    "\n",
    "* **Índice de entropía (Shannon)**:\n",
    "\n",
    "$$\n",
    "H = - \\sum_{i=1}^k h_i \\log(h_i)\n",
    "$$\n",
    "\n",
    "---\n",
    "\n",
    "## 🔹 2. Variables cuantitativas continuas\n",
    "\n",
    "En este caso se construyen **intervalos de clase** y se aplican fórmulas de frecuencias:\n",
    "\n",
    "* **Punto medio de la clase**:\n",
    "\n",
    "$$\n",
    "x_i = \\frac{L_i + L_{i+1}}{2}\n",
    "$$\n",
    "\n",
    "* **Frecuencia absoluta de la clase**:\n",
    "\n",
    "$$\n",
    "f_i = \\text{número de observaciones en el intervalo } i\n",
    "$$\n",
    "\n",
    "* **Frecuencia relativa**:\n",
    "\n",
    "$$\n",
    "h_i = \\frac{f_i}{n}\n",
    "$$\n",
    "\n",
    "* **Frecuencia acumulada**:\n",
    "\n",
    "$$\n",
    "F_i = \\sum_{j=1}^{i} f_j\n",
    "$$\n",
    "\n",
    "* **Frecuencia relativa acumulada**:\n",
    "\n",
    "$$\n",
    "H_i = \\sum_{j=1}^{i} h_j\n",
    "$$\n"
   ]
  },
  {
   "cell_type": "markdown",
   "id": "7fd9e145",
   "metadata": {},
   "source": [
    "\n",
    "Con estas frecuencias, luego se calculan medidas clásicas de posición y dispersión (media, varianza, desviación típica, percentiles, etc.).\n",
    "\n",
    "---\n"
   ]
  },
  {
   "cell_type": "markdown",
   "id": "bc28314f",
   "metadata": {},
   "source": [
    "\n",
    "Pregunta para ti:\n",
    "¿Quieres que te prepare una **tabla comparativa** con las fórmulas de análisis descriptivo para **variables cualitativas** y para **cuantitativas continuas** (para que te sirva de guía en tus clases)?\n"
   ]
  },
  {
   "cell_type": "markdown",
   "id": "77c0b354",
   "metadata": {},
   "source": [
    "# Construcción de la tabla de distribución de frecuencias para variable cuentitativa continua  \n",
    "\n"
   ]
  },
  {
   "cell_type": "code",
   "execution_count": 6,
   "id": "7f63d1df",
   "metadata": {},
   "outputs": [],
   "source": [
    "import pandas as pd \n",
    "\n",
    "df = pd.read_csv(\"encuesta_redes_sociales.csv\")\n",
    "df.index = range(1, len(df) + 1)"
   ]
  },
  {
   "cell_type": "code",
   "execution_count": 18,
   "id": "bb18ff45",
   "metadata": {},
   "outputs": [
    {
     "data": {
      "application/vnd.microsoft.datawrangler.viewer.v0+json": {
       "columns": [
        {
         "name": "index",
         "rawType": "int64",
         "type": "integer"
        },
        {
         "name": "Tiempo de redes sociales",
         "rawType": "object",
         "type": "string"
        },
        {
         "name": "Tiempo_horas",
         "rawType": "float64",
         "type": "float"
        }
       ],
       "ref": "265fd490-fa78-4b56-b497-363b0285d7e9",
       "rows": [
        [
         "0",
         "1:30",
         "1.5"
        ],
        [
         "1",
         "2:15",
         "2.25"
        ],
        [
         "2",
         "0:45",
         "0.75"
        ],
        [
         "3",
         "3:10",
         "3.17"
        ],
        [
         "4",
         "2:50",
         "2.83"
        ],
        [
         "5",
         "1:40",
         "1.67"
        ],
        [
         "6",
         "2:05",
         "2.08"
        ],
        [
         "7",
         "1:55",
         "1.92"
        ],
        [
         "8",
         "0:30",
         "0.5"
        ],
        [
         "9",
         "3:20",
         "3.33"
        ],
        [
         "10",
         "2:25",
         "2.42"
        ],
        [
         "11",
         "1:15",
         "1.25"
        ],
        [
         "12",
         "2:35",
         "2.58"
        ],
        [
         "13",
         "3:05",
         "3.08"
        ],
        [
         "14",
         "1:50",
         "1.83"
        ]
       ],
       "shape": {
        "columns": 2,
        "rows": 15
       }
      },
      "text/html": [
       "<div>\n",
       "<style scoped>\n",
       "    .dataframe tbody tr th:only-of-type {\n",
       "        vertical-align: middle;\n",
       "    }\n",
       "\n",
       "    .dataframe tbody tr th {\n",
       "        vertical-align: top;\n",
       "    }\n",
       "\n",
       "    .dataframe thead th {\n",
       "        text-align: right;\n",
       "    }\n",
       "</style>\n",
       "<table border=\"1\" class=\"dataframe\">\n",
       "  <thead>\n",
       "    <tr style=\"text-align: right;\">\n",
       "      <th></th>\n",
       "      <th>Tiempo de redes sociales</th>\n",
       "      <th>Tiempo_horas</th>\n",
       "    </tr>\n",
       "  </thead>\n",
       "  <tbody>\n",
       "    <tr>\n",
       "      <th>0</th>\n",
       "      <td>1:30</td>\n",
       "      <td>1.50</td>\n",
       "    </tr>\n",
       "    <tr>\n",
       "      <th>1</th>\n",
       "      <td>2:15</td>\n",
       "      <td>2.25</td>\n",
       "    </tr>\n",
       "    <tr>\n",
       "      <th>2</th>\n",
       "      <td>0:45</td>\n",
       "      <td>0.75</td>\n",
       "    </tr>\n",
       "    <tr>\n",
       "      <th>3</th>\n",
       "      <td>3:10</td>\n",
       "      <td>3.17</td>\n",
       "    </tr>\n",
       "    <tr>\n",
       "      <th>4</th>\n",
       "      <td>2:50</td>\n",
       "      <td>2.83</td>\n",
       "    </tr>\n",
       "    <tr>\n",
       "      <th>5</th>\n",
       "      <td>1:40</td>\n",
       "      <td>1.67</td>\n",
       "    </tr>\n",
       "    <tr>\n",
       "      <th>6</th>\n",
       "      <td>2:05</td>\n",
       "      <td>2.08</td>\n",
       "    </tr>\n",
       "    <tr>\n",
       "      <th>7</th>\n",
       "      <td>1:55</td>\n",
       "      <td>1.92</td>\n",
       "    </tr>\n",
       "    <tr>\n",
       "      <th>8</th>\n",
       "      <td>0:30</td>\n",
       "      <td>0.50</td>\n",
       "    </tr>\n",
       "    <tr>\n",
       "      <th>9</th>\n",
       "      <td>3:20</td>\n",
       "      <td>3.33</td>\n",
       "    </tr>\n",
       "    <tr>\n",
       "      <th>10</th>\n",
       "      <td>2:25</td>\n",
       "      <td>2.42</td>\n",
       "    </tr>\n",
       "    <tr>\n",
       "      <th>11</th>\n",
       "      <td>1:15</td>\n",
       "      <td>1.25</td>\n",
       "    </tr>\n",
       "    <tr>\n",
       "      <th>12</th>\n",
       "      <td>2:35</td>\n",
       "      <td>2.58</td>\n",
       "    </tr>\n",
       "    <tr>\n",
       "      <th>13</th>\n",
       "      <td>3:05</td>\n",
       "      <td>3.08</td>\n",
       "    </tr>\n",
       "    <tr>\n",
       "      <th>14</th>\n",
       "      <td>1:50</td>\n",
       "      <td>1.83</td>\n",
       "    </tr>\n",
       "  </tbody>\n",
       "</table>\n",
       "</div>"
      ],
      "text/plain": [
       "   Tiempo de redes sociales  Tiempo_horas\n",
       "0                      1:30          1.50\n",
       "1                      2:15          2.25\n",
       "2                      0:45          0.75\n",
       "3                      3:10          3.17\n",
       "4                      2:50          2.83\n",
       "5                      1:40          1.67\n",
       "6                      2:05          2.08\n",
       "7                      1:55          1.92\n",
       "8                      0:30          0.50\n",
       "9                      3:20          3.33\n",
       "10                     2:25          2.42\n",
       "11                     1:15          1.25\n",
       "12                     2:35          2.58\n",
       "13                     3:05          3.08\n",
       "14                     1:50          1.83"
      ]
     },
     "execution_count": 18,
     "metadata": {},
     "output_type": "execute_result"
    }
   ],
   "source": [
    "df.head(15)"
   ]
  },
  {
   "cell_type": "code",
   "execution_count": 11,
   "id": "252bbf01",
   "metadata": {},
   "outputs": [],
   "source": [
    "# Convertir la columna \"Tiempo de redes sociales\" de \"hora:minutos\" a horas en formato float\n",
    "df['Tiempo_horas'] = df['Tiempo de redes sociales'].apply(\n",
    "    lambda x: int(x.split(':')[0]) + int(x.split(':')[1]) / 60\n",
    ").round(2)"
   ]
  },
  {
   "cell_type": "code",
   "execution_count": 17,
   "id": "65d1f8ea",
   "metadata": {},
   "outputs": [
    {
     "data": {
      "application/vnd.microsoft.datawrangler.viewer.v0+json": {
       "columns": [
        {
         "name": "index",
         "rawType": "int64",
         "type": "integer"
        },
        {
         "name": "Tiempo de redes sociales",
         "rawType": "object",
         "type": "string"
        },
        {
         "name": "Tiempo_horas",
         "rawType": "float64",
         "type": "float"
        }
       ],
       "ref": "da471665-d0b6-49b4-bcd8-40ad8154cff3",
       "rows": [
        [
         "0",
         "1:30",
         "1.5"
        ],
        [
         "1",
         "2:15",
         "2.25"
        ],
        [
         "2",
         "0:45",
         "0.75"
        ],
        [
         "3",
         "3:10",
         "3.17"
        ],
        [
         "4",
         "2:50",
         "2.83"
        ],
        [
         "5",
         "1:40",
         "1.67"
        ],
        [
         "6",
         "2:05",
         "2.08"
        ],
        [
         "7",
         "1:55",
         "1.92"
        ],
        [
         "8",
         "0:30",
         "0.5"
        ],
        [
         "9",
         "3:20",
         "3.33"
        ],
        [
         "10",
         "2:25",
         "2.42"
        ],
        [
         "11",
         "1:15",
         "1.25"
        ],
        [
         "12",
         "2:35",
         "2.58"
        ],
        [
         "13",
         "3:05",
         "3.08"
        ],
        [
         "14",
         "1:50",
         "1.83"
        ]
       ],
       "shape": {
        "columns": 2,
        "rows": 15
       }
      },
      "text/html": [
       "<div>\n",
       "<style scoped>\n",
       "    .dataframe tbody tr th:only-of-type {\n",
       "        vertical-align: middle;\n",
       "    }\n",
       "\n",
       "    .dataframe tbody tr th {\n",
       "        vertical-align: top;\n",
       "    }\n",
       "\n",
       "    .dataframe thead th {\n",
       "        text-align: right;\n",
       "    }\n",
       "</style>\n",
       "<table border=\"1\" class=\"dataframe\">\n",
       "  <thead>\n",
       "    <tr style=\"text-align: right;\">\n",
       "      <th></th>\n",
       "      <th>Tiempo de redes sociales</th>\n",
       "      <th>Tiempo_horas</th>\n",
       "    </tr>\n",
       "  </thead>\n",
       "  <tbody>\n",
       "    <tr>\n",
       "      <th>0</th>\n",
       "      <td>1:30</td>\n",
       "      <td>1.50</td>\n",
       "    </tr>\n",
       "    <tr>\n",
       "      <th>1</th>\n",
       "      <td>2:15</td>\n",
       "      <td>2.25</td>\n",
       "    </tr>\n",
       "    <tr>\n",
       "      <th>2</th>\n",
       "      <td>0:45</td>\n",
       "      <td>0.75</td>\n",
       "    </tr>\n",
       "    <tr>\n",
       "      <th>3</th>\n",
       "      <td>3:10</td>\n",
       "      <td>3.17</td>\n",
       "    </tr>\n",
       "    <tr>\n",
       "      <th>4</th>\n",
       "      <td>2:50</td>\n",
       "      <td>2.83</td>\n",
       "    </tr>\n",
       "    <tr>\n",
       "      <th>5</th>\n",
       "      <td>1:40</td>\n",
       "      <td>1.67</td>\n",
       "    </tr>\n",
       "    <tr>\n",
       "      <th>6</th>\n",
       "      <td>2:05</td>\n",
       "      <td>2.08</td>\n",
       "    </tr>\n",
       "    <tr>\n",
       "      <th>7</th>\n",
       "      <td>1:55</td>\n",
       "      <td>1.92</td>\n",
       "    </tr>\n",
       "    <tr>\n",
       "      <th>8</th>\n",
       "      <td>0:30</td>\n",
       "      <td>0.50</td>\n",
       "    </tr>\n",
       "    <tr>\n",
       "      <th>9</th>\n",
       "      <td>3:20</td>\n",
       "      <td>3.33</td>\n",
       "    </tr>\n",
       "    <tr>\n",
       "      <th>10</th>\n",
       "      <td>2:25</td>\n",
       "      <td>2.42</td>\n",
       "    </tr>\n",
       "    <tr>\n",
       "      <th>11</th>\n",
       "      <td>1:15</td>\n",
       "      <td>1.25</td>\n",
       "    </tr>\n",
       "    <tr>\n",
       "      <th>12</th>\n",
       "      <td>2:35</td>\n",
       "      <td>2.58</td>\n",
       "    </tr>\n",
       "    <tr>\n",
       "      <th>13</th>\n",
       "      <td>3:05</td>\n",
       "      <td>3.08</td>\n",
       "    </tr>\n",
       "    <tr>\n",
       "      <th>14</th>\n",
       "      <td>1:50</td>\n",
       "      <td>1.83</td>\n",
       "    </tr>\n",
       "  </tbody>\n",
       "</table>\n",
       "</div>"
      ],
      "text/plain": [
       "   Tiempo de redes sociales  Tiempo_horas\n",
       "0                      1:30          1.50\n",
       "1                      2:15          2.25\n",
       "2                      0:45          0.75\n",
       "3                      3:10          3.17\n",
       "4                      2:50          2.83\n",
       "5                      1:40          1.67\n",
       "6                      2:05          2.08\n",
       "7                      1:55          1.92\n",
       "8                      0:30          0.50\n",
       "9                      3:20          3.33\n",
       "10                     2:25          2.42\n",
       "11                     1:15          1.25\n",
       "12                     2:35          2.58\n",
       "13                     3:05          3.08\n",
       "14                     1:50          1.83"
      ]
     },
     "execution_count": 17,
     "metadata": {},
     "output_type": "execute_result"
    }
   ],
   "source": [
    "df.head(15)"
   ]
  },
  {
   "cell_type": "code",
   "execution_count": 10,
   "id": "44965662",
   "metadata": {},
   "outputs": [],
   "source": [
    "df.to_excel(\"encuesta_redes_sociales.xlsx\", index=False)"
   ]
  },
  {
   "cell_type": "code",
   "execution_count": 19,
   "id": "1eff2d74",
   "metadata": {},
   "outputs": [
    {
     "name": "stdout",
     "output_type": "stream",
     "text": [
      "Rango: 6.25\n",
      "Número de clases (k): 5\n",
      "Amplitud: 2.0\n",
      "Marca de clase por intervalo:\n",
      "2.25 - 4.25: 3.25\n",
      "4.25 - 6.25: 5.25\n",
      "6.25 - 8.25: 7.25\n",
      "8.25 - 10.25: 9.25\n"
     ]
    }
   ],
   "source": [
    "# Rango\n",
    "print(f\"Rango: {range_val}\")\n",
    "\n",
    "# Número de clases\n",
    "print(f\"Número de clases (k): {k}\")\n",
    "\n",
    "# Amplitud\n",
    "print(f\"Amplitud: {amplitud}\")\n",
    "\n",
    "# Marca de clase para cada intervalo\n",
    "marca_clase = [(bins[i] + bins[i+1]) / 2 for i in range(len(bins)-1)]\n",
    "print(\"Marca de clase por intervalo:\")\n",
    "for label, mc in zip(labels, marca_clase):\n",
    "    print(f\"{label}: {mc}\")"
   ]
  },
  {
   "cell_type": "code",
   "execution_count": 20,
   "id": "3efc68a4",
   "metadata": {},
   "outputs": [
    {
     "data": {
      "text/plain": [
       "array([-14,  10,  -2])"
      ]
     },
     "execution_count": 20,
     "metadata": {},
     "output_type": "execute_result"
    }
   ],
   "source": [
    "import numpy as np\n",
    "\n",
    "a = np.array([1, 2, 3])\n",
    "b = np.array([3, 4, -1])\n",
    "\n",
    "np. cross(a, b)"
   ]
  }
 ],
 "metadata": {
  "kernelspec": {
   "display_name": ".venv",
   "language": "python",
   "name": "python3"
  },
  "language_info": {
   "codemirror_mode": {
    "name": "ipython",
    "version": 3
   },
   "file_extension": ".py",
   "mimetype": "text/x-python",
   "name": "python",
   "nbconvert_exporter": "python",
   "pygments_lexer": "ipython3",
   "version": "3.12.6"
  }
 },
 "nbformat": 4,
 "nbformat_minor": 5
}
