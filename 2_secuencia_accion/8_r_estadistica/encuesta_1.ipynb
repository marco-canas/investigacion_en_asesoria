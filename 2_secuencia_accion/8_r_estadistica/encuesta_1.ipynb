{
 "cells": [
  {
   "cell_type": "markdown",
   "id": "d739adc7",
   "metadata": {},
   "source": [
    "<table align=\"left\">\n",
    "  <td>\n",
    "    <a href=\"https://colab.research.google.com/github/marco-canas/investigacion_en_asesoria/blob/main/2_secuencia_accion/2_Dise%C3%B1o_Proceso_IAE/Intervencion/8_r_estadistica/encuesta_1.ipynb\" target=\"_parent\"><img src=\"https://colab.research.google.com/assets/colab-badge.svg\" alt=\"Open In Colab\"/></a>\n",
    "  </td>\n",
    "  <td>\n",
    "    <a target=\"_blank\" href=\"https://kaggle.com/kernels/welcome?src=https://github.com/marco-canas/investigacion_en_asesoria/blob/main/2_secuencia_accion/2_Dise%C3%B1o_Proceso_IAE/Intervencion/8_r_estadistica/encuesta_1.ipynb\"><img src=\"https://kaggle.com/static/images/open-in-kaggle.svg\" /></a>\n",
    "  </td>\n",
    "</table>"
   ]
  },
  {
   "cell_type": "markdown",
   "id": "5d281c99",
   "metadata": {},
   "source": [
    "<img src = 'asesoría_21_agosto_estadistica_intro_python_analisis_numerico.jpg' width = 400>"
   ]
  },
  {
   "cell_type": "markdown",
   "id": "15f15fbf",
   "metadata": {},
   "source": [
    "## ACTIVIDAD 2 - LABORATORIO VIRTUAL: DISEÑO Y ANÁLISIS DE ENCUESTAS ESTADÍSTICAS\n"
   ]
  },
  {
   "cell_type": "markdown",
   "id": "93a82d3c",
   "metadata": {},
   "source": [
    "## Información General\n"
   ]
  },
  {
   "cell_type": "markdown",
   "id": "c048beb7",
   "metadata": {},
   "source": [
    "Modalidad: Virtual\n"
   ]
  },
  {
   "cell_type": "markdown",
   "id": "fe0e828b",
   "metadata": {},
   "source": [
    "Duración: 2 semanas (14 días)\n"
   ]
  },
  {
   "cell_type": "markdown",
   "id": "dc23aa69",
   "metadata": {},
   "source": [
    "Plataforma sugerida: Google Forms + Google Sheets / Microsoft Forms + Excel Online\n"
   ]
  },
  {
   "cell_type": "markdown",
   "id": "8b58a32e",
   "metadata": {},
   "source": [
    "Participantes: Estudiantes del curso Fundamentos de Estadística\n"
   ]
  },
  {
   "cell_type": "markdown",
   "id": "e29f9eab",
   "metadata": {},
   "source": [
    "Tipo de trabajo: Individual con componente colaborativo*\n"
   ]
  },
  {
   "cell_type": "markdown",
   "id": "32e74719",
   "metadata": {},
   "source": [
    "Objetivo General\n",
    "Desarrollar competencias en el diseño, aplicación y análisis de instrumentos de recolección de datos, fortaleciendo la comprensión práctica de los tipos de variables estadísticas y sus aplicaciones en contextos educativos reales.\n"
   ]
  },
  {
   "cell_type": "markdown",
   "id": "d27410bb",
   "metadata": {},
   "source": [
    "Objetivos Específicos\n",
    "\tDiseñar preguntas apropiadas para cada tipo de variable estadística\n"
   ]
  },
  {
   "cell_type": "markdown",
   "id": "d1af8c36",
   "metadata": {},
   "source": [
    "*\tAplicar herramientas digitales para la recolección sistemática de datos\n"
   ]
  },
  {
   "cell_type": "markdown",
   "id": "fe8d2816",
   "metadata": {},
   "source": [
    "\tAnalizar e interpretar resultados utilizando conceptos estadísticos básicos\n"
   ]
  },
  {
   "cell_type": "markdown",
   "id": "37a223f9",
   "metadata": {},
   "source": [
    "\tDesarrollar habilidades de comunicación científica a través de informes técnicos\n"
   ]
  },
  {
   "cell_type": "markdown",
   "id": "df5f6217",
   "metadata": {},
   "source": [
    "\tReflexionar sobre las implicaciones éticas en la recolección de datos\n"
   ]
  },
  {
   "cell_type": "markdown",
   "id": "2b8d6b4d",
   "metadata": {},
   "source": [
    "# Descripción de la Actividad\n"
   ]
  },
  {
   "cell_type": "markdown",
   "id": "1b9faca3",
   "metadata": {},
   "source": [
    "Los estudiantes diseñarán y aplicarán una encuesta digital sobre \"Hábitos de estudio, vida académica universitaria, vida estudiantil, hábitos académicos, actividades recreativas” que incluya los cuatro tipos de variables estadísticas. La encuesta será aplicada a 10 compañeros de la universidad, y posteriormente se realizará un análisis estadístico descriptivo de los resultados obtenidos.\n"
   ]
  },
  {
   "cell_type": "markdown",
   "id": "09554741",
   "metadata": {},
   "source": [
    "\n",
    "# Fases de la Actividad\n"
   ]
  },
  {
   "cell_type": "markdown",
   "id": "4ebc929d",
   "metadata": {},
   "source": [
    "## FASE 1: Diseño del Instrumento (Días 1-3)\n"
   ]
  },
  {
   "cell_type": "markdown",
   "id": "a06c5bbe",
   "metadata": {},
   "source": [
    "**Actividades:**  \n",
    "\n",
    "\tInvestigación previa sobre buenas prácticas en diseño de encuestas    \n",
    "\tElaboración de 8 preguntas mínimo (2 por cada tipo de variable)  \n",
    "\tCreación de la encuesta en plataforma digital  \n",
    "\tValidación del instrumento con 2 compañeros piloto  \n"
   ]
  },
  {
   "cell_type": "markdown",
   "id": "e380c67b",
   "metadata": {},
   "source": [
    "Entregable: [Enlace de la encuesta digital](https://docs.google.com/forms/d/e/1FAIpQLSeEdSjAU8Fi-2OYUorv07vOc17f1KRcvWy38mfCAzqeaHEgEg/viewform?usp=header) y documento de justificación del diseño.\n"
   ]
  },
  {
   "cell_type": "markdown",
   "id": "ddf3a649",
   "metadata": {},
   "source": [
    "Recursos proporcionados: \n",
    "\tTutorial sobre uso de Google Forms/Microsoft Forms.\n",
    "\tGuía de redacción de preguntas para encuestas.\n",
    "\tLista de verificación para validación de instrumentos.\n"
   ]
  },
  {
   "cell_type": "markdown",
   "id": "ec0eee79",
   "metadata": {},
   "source": [
    "\n",
    "# FASE 2: Aplicación y Recolección (Días 4-8)\n"
   ]
  },
  {
   "cell_type": "markdown",
   "id": "92868664",
   "metadata": {},
   "source": [
    "**Actividades:**  \n"
   ]
  },
  {
   "cell_type": "markdown",
   "id": "5b562d06",
   "metadata": {},
   "source": [
    "\n",
    "*\tAplicación de la encuesta a 10 compañeros universitarios\n",
    "*\tSeguimiento y recordatorios para completar respuestas\n",
    "\tDescarga y organización de datos en hoja de cálculo\n",
    "\tVerificación de calidad y completitud de los datos\n",
    "Entregable: Base de datos completa con 10 respuestas válidas\n"
   ]
  },
  {
   "cell_type": "markdown",
   "id": "8495b040",
   "metadata": {},
   "source": [
    "Consideraciones éticas:\n",
    "\tSolicitar consentimiento informado de los participantes\n"
   ]
  },
  {
   "cell_type": "markdown",
   "id": "52354ee3",
   "metadata": {},
   "source": [
    "### Diseño del consentimiento informado  \n",
    "\n"
   ]
  },
  {
   "cell_type": "markdown",
   "id": "971ff8af",
   "metadata": {},
   "source": [
    "\tGarantizar anonimato y confidencialidad\n"
   ]
  },
  {
   "cell_type": "markdown",
   "id": "ef57a8c4",
   "metadata": {},
   "source": [
    "\tExplicar el propósito académico de la actividad\n"
   ]
  },
  {
   "cell_type": "markdown",
   "id": "1d0e1392",
   "metadata": {},
   "source": [
    "\n",
    "# FASE 3: Análisis Estadístico (Días 9-12)\n"
   ]
  },
  {
   "cell_type": "markdown",
   "id": "693ccd6f",
   "metadata": {},
   "source": [
    "**Actividades:**  \n"
   ]
  },
  {
   "cell_type": "markdown",
   "id": "620379fb",
   "metadata": {},
   "source": [
    "*\tClasificación y codificación de variables\n"
   ]
  },
  {
   "cell_type": "markdown",
   "id": "4c4f1293",
   "metadata": {},
   "source": [
    "## Prompt  \n",
    "por favor, dime que se entiende por codificar una variables estadística de una encuesta   \n"
   ]
  },
  {
   "cell_type": "markdown",
   "id": "bd4cccba",
   "metadata": {},
   "source": [
    "# Estructura del análisis estadístico  \n",
    "\n",
    "1.\tDiseño de la encuesta\n",
    "2.\tObtención de datos original (dada por Google form)\n",
    "3.\tLimpieza del dataset \n",
    "4.\tAnálisis descriptivo de las variables categóricas. (distribuciones de frecuencia, diagramas circulares, diagramas de barras) (son cuatro categorías, y son cuatro representaciones para cada una)\n",
    "5.\tAnálisis descriptivo de las variables numéricas (4 variables numéricas, una tabla con los estadístivos, y para cada una de ellas los histogramas)\n"
   ]
  },
  {
   "cell_type": "markdown",
   "id": "6a2226e6",
   "metadata": {},
   "source": [
    "\n",
    "Codificar una variable estadística de una encuesta significa **asignar valores numéricos o categorías estandarizadas a las respuestas** que se obtienen, con el fin de facilitar su almacenamiento, análisis e interpretación.\n"
   ]
  },
  {
   "cell_type": "markdown",
   "id": "94a3006d",
   "metadata": {},
   "source": [
    "\n",
    "En otras palabras, se traduce la información cualitativa (texto, opciones de respuesta, opiniones) en un formato que pueda ser procesado por programas estadísticos o de análisis de datos.\n"
   ]
  },
  {
   "cell_type": "markdown",
   "id": "16361710",
   "metadata": {},
   "source": [
    "\n",
    "Por ejemplo:\n",
    "\n",
    "* **Variable cualitativa nominal (género):**\n",
    "\n",
    "  * Masculino → 1\n",
    "  * Femenino → 2\n",
    "  * Otro → 3\n",
    "\n",
    "* **Variable ordinal (nivel educativo):**\n",
    "\n",
    "  * Primaria → 1\n",
    "  * Secundaria → 2\n",
    "  * Universitario → 3\n",
    "  * Posgrado → 4\n"
   ]
  },
  {
   "cell_type": "markdown",
   "id": "d9389849",
   "metadata": {},
   "source": [
    "\n",
    "* **Variable cuantitativa (edad):**\n",
    "  Se puede registrar directamente el número reportado por la persona (23, 35, 42…).\n",
    "\n",
    "La **codificación** también puede implicar agrupar respuestas abiertas en categorías. Por ejemplo, si en una encuesta se pregunta *“¿Qué medio de transporte usa con más frecuencia?”*, y las respuestas son diversas (\"carro\", \"bus\", \"caminar\", \"bici\"), el investigador podría asignar:\n",
    "\n",
    "* Carro → 1\n",
    "* Bus → 2\n",
    "* Bicicleta → 3\n",
    "* Caminar → 4\n"
   ]
  },
  {
   "cell_type": "markdown",
   "id": "80ba1f85",
   "metadata": {},
   "source": [
    "\n",
    "En resumen: **codificar es transformar las respuestas en un lenguaje numérico o simbólico uniforme** que permita aplicar métodos estadísticos y hacer análisis comparativos.\n",
    "\n",
    "¿Quieres que te prepare una **tabla de ejemplo con variables de una encuesta y su codificación** para que la uses con tus estudiantes?\n"
   ]
  },
  {
   "cell_type": "markdown",
   "id": "eb6baeb6",
   "metadata": {},
   "source": []
  },
  {
   "cell_type": "markdown",
   "id": "3b781518",
   "metadata": {},
   "source": [
    "## *\tCálculo de frecuencias absolutas y relativas\n",
    "\n"
   ]
  },
  {
   "cell_type": "code",
   "execution_count": 1,
   "id": "d79e9a0d",
   "metadata": {},
   "outputs": [
    {
     "data": {
      "application/vnd.microsoft.datawrangler.viewer.v0+json": {
       "columns": [
        {
         "name": "index",
         "rawType": "int64",
         "type": "integer"
        },
        {
         "name": "Marca temporal",
         "rawType": "datetime64[ns]",
         "type": "datetime"
        },
        {
         "name": "Puntuación",
         "rawType": "int64",
         "type": "integer"
        },
        {
         "name": "¿Cuántas materias estas cursando este semestre?",
         "rawType": "int64",
         "type": "integer"
        },
        {
         "name": "¿Cuántos hermanos/as tienes?",
         "rawType": "int64",
         "type": "integer"
        },
        {
         "name": "¿Cuál es tu peso en kilogramos?",
         "rawType": "float64",
         "type": "float"
        },
        {
         "name": "¿Cuál es tu estatura?",
         "rawType": "float64",
         "type": "float"
        },
        {
         "name": "¿Cuál es tu mascota favorita?",
         "rawType": "object",
         "type": "string"
        },
        {
         "name": "¿Cuál es el medio de transporte que mas utilizas?",
         "rawType": "object",
         "type": "string"
        },
        {
         "name": "¿Qué tan satisfecho estas con el servicio de internet de la universidad? Siendo 1 muy insatisfecho y 4 muy satisfecho.",
         "rawType": "object",
         "type": "string"
        },
        {
         "name": "¿Qué nivel de ingles estas cursando?",
         "rawType": "object",
         "type": "string"
        }
       ],
       "ref": "c8803bd4-ab10-43a3-ab64-de18301aaf1c",
       "rows": [
        [
         "1",
         "2025-08-15 11:30:04.145000",
         "0",
         "6",
         "4",
         "75.5",
         "1.81",
         "Ardilla ",
         "Moto ",
         "Insatisfecho",
         "Nivel 3"
        ],
        [
         "2",
         "2025-08-15 11:34:19.440000",
         "0",
         "6",
         "2",
         "70.0",
         "1.69",
         "Perro",
         "Los pies",
         "Muy insatisfecho",
         "Nivel 2"
        ],
        [
         "3",
         "2025-08-15 11:41:19.708000",
         "0",
         "6",
         "2",
         "78.5",
         "1.62",
         "Perro",
         "Moto",
         "Satisfecho",
         "Nivel 3"
        ],
        [
         "4",
         "2025-08-15 17:09:56.992000",
         "0",
         "6",
         "3",
         "69.0",
         "1.72",
         "Perros",
         "Moto",
         "Insatisfecho",
         "Nivel 5"
        ],
        [
         "5",
         "2025-08-16 08:36:35.417000",
         "0",
         "4",
         "3",
         "80.5",
         "1.65",
         "no tengo mascota ",
         "moto",
         "Satisfecho",
         "Nivel 1"
        ],
        [
         "6",
         "2025-08-16 08:45:34.533000",
         "0",
         "6",
         "4",
         "90.2",
         "1.71",
         "Perro",
         "Moto ",
         "Muy satisfecho",
         "Nivel 3"
        ],
        [
         "7",
         "2025-08-16 08:56:26.388000",
         "0",
         "6",
         "2",
         "64.0",
         "1.6",
         "Gato ",
         "Moto",
         "Satisfecho",
         "Nivel 3"
        ],
        [
         "8",
         "2025-08-16 09:04:04.180000",
         "0",
         "5",
         "0",
         "63.8",
         "1.74",
         "Cuervo",
         "Moto",
         "Satisfecho",
         "Nivel 1"
        ],
        [
         "9",
         "2025-08-16 09:05:25.083000",
         "0",
         "5",
         "0",
         "45.0",
         "1.72",
         "Gato",
         "Moto",
         "Satisfecho",
         "Nivel 1"
        ],
        [
         "10",
         "2025-08-16 09:13:50.687000",
         "0",
         "5",
         "1",
         "56.2",
         "1.79",
         "Gato",
         "Moto",
         "Insatisfecho",
         "Nivel 1"
        ]
       ],
       "shape": {
        "columns": 10,
        "rows": 10
       }
      },
      "text/html": [
       "<div>\n",
       "<style scoped>\n",
       "    .dataframe tbody tr th:only-of-type {\n",
       "        vertical-align: middle;\n",
       "    }\n",
       "\n",
       "    .dataframe tbody tr th {\n",
       "        vertical-align: top;\n",
       "    }\n",
       "\n",
       "    .dataframe thead th {\n",
       "        text-align: right;\n",
       "    }\n",
       "</style>\n",
       "<table border=\"1\" class=\"dataframe\">\n",
       "  <thead>\n",
       "    <tr style=\"text-align: right;\">\n",
       "      <th></th>\n",
       "      <th>Marca temporal</th>\n",
       "      <th>Puntuación</th>\n",
       "      <th>¿Cuántas materias estas cursando este semestre?</th>\n",
       "      <th>¿Cuántos hermanos/as tienes?</th>\n",
       "      <th>¿Cuál es tu peso en kilogramos?</th>\n",
       "      <th>¿Cuál es tu estatura?</th>\n",
       "      <th>¿Cuál es tu mascota favorita?</th>\n",
       "      <th>¿Cuál es el medio de transporte que mas utilizas?</th>\n",
       "      <th>¿Qué tan satisfecho estas con el servicio de internet de la universidad? Siendo 1 muy insatisfecho y 4 muy satisfecho.</th>\n",
       "      <th>¿Qué nivel de ingles estas cursando?</th>\n",
       "    </tr>\n",
       "  </thead>\n",
       "  <tbody>\n",
       "    <tr>\n",
       "      <th>1</th>\n",
       "      <td>2025-08-15 11:30:04.145</td>\n",
       "      <td>0</td>\n",
       "      <td>6</td>\n",
       "      <td>4</td>\n",
       "      <td>75.5</td>\n",
       "      <td>1.81</td>\n",
       "      <td>Ardilla</td>\n",
       "      <td>Moto</td>\n",
       "      <td>Insatisfecho</td>\n",
       "      <td>Nivel 3</td>\n",
       "    </tr>\n",
       "    <tr>\n",
       "      <th>2</th>\n",
       "      <td>2025-08-15 11:34:19.440</td>\n",
       "      <td>0</td>\n",
       "      <td>6</td>\n",
       "      <td>2</td>\n",
       "      <td>70.0</td>\n",
       "      <td>1.69</td>\n",
       "      <td>Perro</td>\n",
       "      <td>Los pies</td>\n",
       "      <td>Muy insatisfecho</td>\n",
       "      <td>Nivel 2</td>\n",
       "    </tr>\n",
       "    <tr>\n",
       "      <th>3</th>\n",
       "      <td>2025-08-15 11:41:19.708</td>\n",
       "      <td>0</td>\n",
       "      <td>6</td>\n",
       "      <td>2</td>\n",
       "      <td>78.5</td>\n",
       "      <td>1.62</td>\n",
       "      <td>Perro</td>\n",
       "      <td>Moto</td>\n",
       "      <td>Satisfecho</td>\n",
       "      <td>Nivel 3</td>\n",
       "    </tr>\n",
       "    <tr>\n",
       "      <th>4</th>\n",
       "      <td>2025-08-15 17:09:56.992</td>\n",
       "      <td>0</td>\n",
       "      <td>6</td>\n",
       "      <td>3</td>\n",
       "      <td>69.0</td>\n",
       "      <td>1.72</td>\n",
       "      <td>Perros</td>\n",
       "      <td>Moto</td>\n",
       "      <td>Insatisfecho</td>\n",
       "      <td>Nivel 5</td>\n",
       "    </tr>\n",
       "    <tr>\n",
       "      <th>5</th>\n",
       "      <td>2025-08-16 08:36:35.417</td>\n",
       "      <td>0</td>\n",
       "      <td>4</td>\n",
       "      <td>3</td>\n",
       "      <td>80.5</td>\n",
       "      <td>1.65</td>\n",
       "      <td>no tengo mascota</td>\n",
       "      <td>moto</td>\n",
       "      <td>Satisfecho</td>\n",
       "      <td>Nivel 1</td>\n",
       "    </tr>\n",
       "    <tr>\n",
       "      <th>6</th>\n",
       "      <td>2025-08-16 08:45:34.533</td>\n",
       "      <td>0</td>\n",
       "      <td>6</td>\n",
       "      <td>4</td>\n",
       "      <td>90.2</td>\n",
       "      <td>1.71</td>\n",
       "      <td>Perro</td>\n",
       "      <td>Moto</td>\n",
       "      <td>Muy satisfecho</td>\n",
       "      <td>Nivel 3</td>\n",
       "    </tr>\n",
       "    <tr>\n",
       "      <th>7</th>\n",
       "      <td>2025-08-16 08:56:26.388</td>\n",
       "      <td>0</td>\n",
       "      <td>6</td>\n",
       "      <td>2</td>\n",
       "      <td>64.0</td>\n",
       "      <td>1.60</td>\n",
       "      <td>Gato</td>\n",
       "      <td>Moto</td>\n",
       "      <td>Satisfecho</td>\n",
       "      <td>Nivel 3</td>\n",
       "    </tr>\n",
       "    <tr>\n",
       "      <th>8</th>\n",
       "      <td>2025-08-16 09:04:04.180</td>\n",
       "      <td>0</td>\n",
       "      <td>5</td>\n",
       "      <td>0</td>\n",
       "      <td>63.8</td>\n",
       "      <td>1.74</td>\n",
       "      <td>Cuervo</td>\n",
       "      <td>Moto</td>\n",
       "      <td>Satisfecho</td>\n",
       "      <td>Nivel 1</td>\n",
       "    </tr>\n",
       "    <tr>\n",
       "      <th>9</th>\n",
       "      <td>2025-08-16 09:05:25.083</td>\n",
       "      <td>0</td>\n",
       "      <td>5</td>\n",
       "      <td>0</td>\n",
       "      <td>45.0</td>\n",
       "      <td>1.72</td>\n",
       "      <td>Gato</td>\n",
       "      <td>Moto</td>\n",
       "      <td>Satisfecho</td>\n",
       "      <td>Nivel 1</td>\n",
       "    </tr>\n",
       "    <tr>\n",
       "      <th>10</th>\n",
       "      <td>2025-08-16 09:13:50.687</td>\n",
       "      <td>0</td>\n",
       "      <td>5</td>\n",
       "      <td>1</td>\n",
       "      <td>56.2</td>\n",
       "      <td>1.79</td>\n",
       "      <td>Gato</td>\n",
       "      <td>Moto</td>\n",
       "      <td>Insatisfecho</td>\n",
       "      <td>Nivel 1</td>\n",
       "    </tr>\n",
       "  </tbody>\n",
       "</table>\n",
       "</div>"
      ],
      "text/plain": [
       "            Marca temporal  Puntuación  \\\n",
       "1  2025-08-15 11:30:04.145           0   \n",
       "2  2025-08-15 11:34:19.440           0   \n",
       "3  2025-08-15 11:41:19.708           0   \n",
       "4  2025-08-15 17:09:56.992           0   \n",
       "5  2025-08-16 08:36:35.417           0   \n",
       "6  2025-08-16 08:45:34.533           0   \n",
       "7  2025-08-16 08:56:26.388           0   \n",
       "8  2025-08-16 09:04:04.180           0   \n",
       "9  2025-08-16 09:05:25.083           0   \n",
       "10 2025-08-16 09:13:50.687           0   \n",
       "\n",
       "    ¿Cuántas materias estas cursando este semestre?  \\\n",
       "1                                                 6   \n",
       "2                                                 6   \n",
       "3                                                 6   \n",
       "4                                                 6   \n",
       "5                                                 4   \n",
       "6                                                 6   \n",
       "7                                                 6   \n",
       "8                                                 5   \n",
       "9                                                 5   \n",
       "10                                                5   \n",
       "\n",
       "    ¿Cuántos hermanos/as tienes?  ¿Cuál es tu peso en kilogramos?  \\\n",
       "1                              4                             75.5   \n",
       "2                              2                             70.0   \n",
       "3                              2                             78.5   \n",
       "4                              3                             69.0   \n",
       "5                              3                             80.5   \n",
       "6                              4                             90.2   \n",
       "7                              2                             64.0   \n",
       "8                              0                             63.8   \n",
       "9                              0                             45.0   \n",
       "10                             1                             56.2   \n",
       "\n",
       "    ¿Cuál es tu estatura? ¿Cuál es tu mascota favorita?  \\\n",
       "1                    1.81                      Ardilla    \n",
       "2                    1.69                         Perro   \n",
       "3                    1.62                         Perro   \n",
       "4                    1.72                        Perros   \n",
       "5                    1.65             no tengo mascota    \n",
       "6                    1.71                         Perro   \n",
       "7                    1.60                         Gato    \n",
       "8                    1.74                        Cuervo   \n",
       "9                    1.72                          Gato   \n",
       "10                   1.79                          Gato   \n",
       "\n",
       "   ¿Cuál es el medio de transporte que mas utilizas?  \\\n",
       "1                                              Moto    \n",
       "2                                           Los pies   \n",
       "3                                               Moto   \n",
       "4                                               Moto   \n",
       "5                                               moto   \n",
       "6                                              Moto    \n",
       "7                                               Moto   \n",
       "8                                               Moto   \n",
       "9                                               Moto   \n",
       "10                                              Moto   \n",
       "\n",
       "   ¿Qué tan satisfecho estas con el servicio de internet de la universidad? Siendo 1 muy insatisfecho y 4 muy satisfecho.  \\\n",
       "1                                        Insatisfecho                                                                       \n",
       "2                                    Muy insatisfecho                                                                       \n",
       "3                                          Satisfecho                                                                       \n",
       "4                                        Insatisfecho                                                                       \n",
       "5                                          Satisfecho                                                                       \n",
       "6                                      Muy satisfecho                                                                       \n",
       "7                                          Satisfecho                                                                       \n",
       "8                                          Satisfecho                                                                       \n",
       "9                                          Satisfecho                                                                       \n",
       "10                                       Insatisfecho                                                                       \n",
       "\n",
       "   ¿Qué nivel de ingles estas cursando?  \n",
       "1                               Nivel 3  \n",
       "2                               Nivel 2  \n",
       "3                               Nivel 3  \n",
       "4                               Nivel 5  \n",
       "5                               Nivel 1  \n",
       "6                               Nivel 3  \n",
       "7                               Nivel 3  \n",
       "8                               Nivel 1  \n",
       "9                               Nivel 1  \n",
       "10                              Nivel 1  "
      ]
     },
     "execution_count": 1,
     "metadata": {},
     "output_type": "execute_result"
    }
   ],
   "source": [
    "# obtener los datos \n",
    "\n",
    "import pandas as pd  \n",
    "df = pd.read_excel('Cuestionario_Respuestas.xlsx', decimal = ',') \n",
    "\n",
    "df.index = range(1, len(df) + 1)  # Cambiar el índice para que comience en 1 \n",
    "df "
   ]
  },
  {
   "cell_type": "code",
   "execution_count": 2,
   "id": "da57b843",
   "metadata": {},
   "outputs": [],
   "source": [
    "# convertir a tabla de excel \n",
    "\n",
    "df.to_excel('Cuestionario_Respuestas_original.xlsx', index=False) "
   ]
  },
  {
   "cell_type": "code",
   "execution_count": 3,
   "id": "db657fab",
   "metadata": {},
   "outputs": [
    {
     "data": {
      "text/plain": [
       "Index(['Marca temporal', 'Puntuación',\n",
       "       '¿Cuántas materias estas cursando este semestre?',\n",
       "       '¿Cuántos hermanos/as tienes?', '¿Cuál es tu peso en kilogramos?',\n",
       "       '¿Cuál es tu estatura?', '¿Cuál es tu mascota favorita?',\n",
       "       '¿Cuál es el medio de transporte que mas utilizas?',\n",
       "       '¿Qué tan satisfecho estas con el servicio de internet de la universidad? Siendo 1 muy insatisfecho y 4 muy satisfecho.',\n",
       "       '¿Qué nivel de ingles estas cursando?'],\n",
       "      dtype='object')"
      ]
     },
     "execution_count": 3,
     "metadata": {},
     "output_type": "execute_result"
    }
   ],
   "source": [
    "df.keys() # nombres de las variables originales "
   ]
  },
  {
   "cell_type": "code",
   "execution_count": 4,
   "id": "4bc7cae3",
   "metadata": {},
   "outputs": [
    {
     "data": {
      "application/vnd.microsoft.datawrangler.viewer.v0+json": {
       "columns": [
        {
         "name": "index",
         "rawType": "int64",
         "type": "integer"
        },
        {
         "name": "¿Cuántas materias estas cursando este semestre?",
         "rawType": "int64",
         "type": "integer"
        },
        {
         "name": "¿Cuántos hermanos/as tienes?",
         "rawType": "int64",
         "type": "integer"
        },
        {
         "name": "¿Cuál es tu peso en kilogramos?",
         "rawType": "float64",
         "type": "float"
        },
        {
         "name": "¿Cuál es tu estatura?",
         "rawType": "float64",
         "type": "float"
        },
        {
         "name": "¿Cuál es tu mascota favorita?",
         "rawType": "object",
         "type": "string"
        },
        {
         "name": "¿Cuál es el medio de transporte que mas utilizas?",
         "rawType": "object",
         "type": "string"
        },
        {
         "name": "¿Qué tan satisfecho estas con el servicio de internet de la universidad? Siendo 1 muy insatisfecho y 4 muy satisfecho.",
         "rawType": "object",
         "type": "string"
        },
        {
         "name": "¿Qué nivel de ingles estas cursando?",
         "rawType": "object",
         "type": "string"
        }
       ],
       "ref": "073faa05-3dfd-441d-8498-5d4bcd3bbb07",
       "rows": [
        [
         "1",
         "6",
         "4",
         "75.5",
         "1.81",
         "Ardilla ",
         "Moto ",
         "Insatisfecho",
         "Nivel 3"
        ],
        [
         "2",
         "6",
         "2",
         "70.0",
         "1.69",
         "Perro",
         "Los pies",
         "Muy insatisfecho",
         "Nivel 2"
        ],
        [
         "3",
         "6",
         "2",
         "78.5",
         "1.62",
         "Perro",
         "Moto",
         "Satisfecho",
         "Nivel 3"
        ],
        [
         "4",
         "6",
         "3",
         "69.0",
         "1.72",
         "Perros",
         "Moto",
         "Insatisfecho",
         "Nivel 5"
        ],
        [
         "5",
         "4",
         "3",
         "80.5",
         "1.65",
         "no tengo mascota ",
         "moto",
         "Satisfecho",
         "Nivel 1"
        ],
        [
         "6",
         "6",
         "4",
         "90.2",
         "1.71",
         "Perro",
         "Moto ",
         "Muy satisfecho",
         "Nivel 3"
        ],
        [
         "7",
         "6",
         "2",
         "64.0",
         "1.6",
         "Gato ",
         "Moto",
         "Satisfecho",
         "Nivel 3"
        ],
        [
         "8",
         "5",
         "0",
         "63.8",
         "1.74",
         "Cuervo",
         "Moto",
         "Satisfecho",
         "Nivel 1"
        ],
        [
         "9",
         "5",
         "0",
         "45.0",
         "1.72",
         "Gato",
         "Moto",
         "Satisfecho",
         "Nivel 1"
        ],
        [
         "10",
         "5",
         "1",
         "56.2",
         "1.79",
         "Gato",
         "Moto",
         "Insatisfecho",
         "Nivel 1"
        ]
       ],
       "shape": {
        "columns": 8,
        "rows": 10
       }
      },
      "text/html": [
       "<div>\n",
       "<style scoped>\n",
       "    .dataframe tbody tr th:only-of-type {\n",
       "        vertical-align: middle;\n",
       "    }\n",
       "\n",
       "    .dataframe tbody tr th {\n",
       "        vertical-align: top;\n",
       "    }\n",
       "\n",
       "    .dataframe thead th {\n",
       "        text-align: right;\n",
       "    }\n",
       "</style>\n",
       "<table border=\"1\" class=\"dataframe\">\n",
       "  <thead>\n",
       "    <tr style=\"text-align: right;\">\n",
       "      <th></th>\n",
       "      <th>¿Cuántas materias estas cursando este semestre?</th>\n",
       "      <th>¿Cuántos hermanos/as tienes?</th>\n",
       "      <th>¿Cuál es tu peso en kilogramos?</th>\n",
       "      <th>¿Cuál es tu estatura?</th>\n",
       "      <th>¿Cuál es tu mascota favorita?</th>\n",
       "      <th>¿Cuál es el medio de transporte que mas utilizas?</th>\n",
       "      <th>¿Qué tan satisfecho estas con el servicio de internet de la universidad? Siendo 1 muy insatisfecho y 4 muy satisfecho.</th>\n",
       "      <th>¿Qué nivel de ingles estas cursando?</th>\n",
       "    </tr>\n",
       "  </thead>\n",
       "  <tbody>\n",
       "    <tr>\n",
       "      <th>1</th>\n",
       "      <td>6</td>\n",
       "      <td>4</td>\n",
       "      <td>75.5</td>\n",
       "      <td>1.81</td>\n",
       "      <td>Ardilla</td>\n",
       "      <td>Moto</td>\n",
       "      <td>Insatisfecho</td>\n",
       "      <td>Nivel 3</td>\n",
       "    </tr>\n",
       "    <tr>\n",
       "      <th>2</th>\n",
       "      <td>6</td>\n",
       "      <td>2</td>\n",
       "      <td>70.0</td>\n",
       "      <td>1.69</td>\n",
       "      <td>Perro</td>\n",
       "      <td>Los pies</td>\n",
       "      <td>Muy insatisfecho</td>\n",
       "      <td>Nivel 2</td>\n",
       "    </tr>\n",
       "    <tr>\n",
       "      <th>3</th>\n",
       "      <td>6</td>\n",
       "      <td>2</td>\n",
       "      <td>78.5</td>\n",
       "      <td>1.62</td>\n",
       "      <td>Perro</td>\n",
       "      <td>Moto</td>\n",
       "      <td>Satisfecho</td>\n",
       "      <td>Nivel 3</td>\n",
       "    </tr>\n",
       "    <tr>\n",
       "      <th>4</th>\n",
       "      <td>6</td>\n",
       "      <td>3</td>\n",
       "      <td>69.0</td>\n",
       "      <td>1.72</td>\n",
       "      <td>Perros</td>\n",
       "      <td>Moto</td>\n",
       "      <td>Insatisfecho</td>\n",
       "      <td>Nivel 5</td>\n",
       "    </tr>\n",
       "    <tr>\n",
       "      <th>5</th>\n",
       "      <td>4</td>\n",
       "      <td>3</td>\n",
       "      <td>80.5</td>\n",
       "      <td>1.65</td>\n",
       "      <td>no tengo mascota</td>\n",
       "      <td>moto</td>\n",
       "      <td>Satisfecho</td>\n",
       "      <td>Nivel 1</td>\n",
       "    </tr>\n",
       "    <tr>\n",
       "      <th>6</th>\n",
       "      <td>6</td>\n",
       "      <td>4</td>\n",
       "      <td>90.2</td>\n",
       "      <td>1.71</td>\n",
       "      <td>Perro</td>\n",
       "      <td>Moto</td>\n",
       "      <td>Muy satisfecho</td>\n",
       "      <td>Nivel 3</td>\n",
       "    </tr>\n",
       "    <tr>\n",
       "      <th>7</th>\n",
       "      <td>6</td>\n",
       "      <td>2</td>\n",
       "      <td>64.0</td>\n",
       "      <td>1.60</td>\n",
       "      <td>Gato</td>\n",
       "      <td>Moto</td>\n",
       "      <td>Satisfecho</td>\n",
       "      <td>Nivel 3</td>\n",
       "    </tr>\n",
       "    <tr>\n",
       "      <th>8</th>\n",
       "      <td>5</td>\n",
       "      <td>0</td>\n",
       "      <td>63.8</td>\n",
       "      <td>1.74</td>\n",
       "      <td>Cuervo</td>\n",
       "      <td>Moto</td>\n",
       "      <td>Satisfecho</td>\n",
       "      <td>Nivel 1</td>\n",
       "    </tr>\n",
       "    <tr>\n",
       "      <th>9</th>\n",
       "      <td>5</td>\n",
       "      <td>0</td>\n",
       "      <td>45.0</td>\n",
       "      <td>1.72</td>\n",
       "      <td>Gato</td>\n",
       "      <td>Moto</td>\n",
       "      <td>Satisfecho</td>\n",
       "      <td>Nivel 1</td>\n",
       "    </tr>\n",
       "    <tr>\n",
       "      <th>10</th>\n",
       "      <td>5</td>\n",
       "      <td>1</td>\n",
       "      <td>56.2</td>\n",
       "      <td>1.79</td>\n",
       "      <td>Gato</td>\n",
       "      <td>Moto</td>\n",
       "      <td>Insatisfecho</td>\n",
       "      <td>Nivel 1</td>\n",
       "    </tr>\n",
       "  </tbody>\n",
       "</table>\n",
       "</div>"
      ],
      "text/plain": [
       "    ¿Cuántas materias estas cursando este semestre?  \\\n",
       "1                                                 6   \n",
       "2                                                 6   \n",
       "3                                                 6   \n",
       "4                                                 6   \n",
       "5                                                 4   \n",
       "6                                                 6   \n",
       "7                                                 6   \n",
       "8                                                 5   \n",
       "9                                                 5   \n",
       "10                                                5   \n",
       "\n",
       "    ¿Cuántos hermanos/as tienes?  ¿Cuál es tu peso en kilogramos?  \\\n",
       "1                              4                             75.5   \n",
       "2                              2                             70.0   \n",
       "3                              2                             78.5   \n",
       "4                              3                             69.0   \n",
       "5                              3                             80.5   \n",
       "6                              4                             90.2   \n",
       "7                              2                             64.0   \n",
       "8                              0                             63.8   \n",
       "9                              0                             45.0   \n",
       "10                             1                             56.2   \n",
       "\n",
       "    ¿Cuál es tu estatura? ¿Cuál es tu mascota favorita?  \\\n",
       "1                    1.81                      Ardilla    \n",
       "2                    1.69                         Perro   \n",
       "3                    1.62                         Perro   \n",
       "4                    1.72                        Perros   \n",
       "5                    1.65             no tengo mascota    \n",
       "6                    1.71                         Perro   \n",
       "7                    1.60                         Gato    \n",
       "8                    1.74                        Cuervo   \n",
       "9                    1.72                          Gato   \n",
       "10                   1.79                          Gato   \n",
       "\n",
       "   ¿Cuál es el medio de transporte que mas utilizas?  \\\n",
       "1                                              Moto    \n",
       "2                                           Los pies   \n",
       "3                                               Moto   \n",
       "4                                               Moto   \n",
       "5                                               moto   \n",
       "6                                              Moto    \n",
       "7                                               Moto   \n",
       "8                                               Moto   \n",
       "9                                               Moto   \n",
       "10                                              Moto   \n",
       "\n",
       "   ¿Qué tan satisfecho estas con el servicio de internet de la universidad? Siendo 1 muy insatisfecho y 4 muy satisfecho.  \\\n",
       "1                                        Insatisfecho                                                                       \n",
       "2                                    Muy insatisfecho                                                                       \n",
       "3                                          Satisfecho                                                                       \n",
       "4                                        Insatisfecho                                                                       \n",
       "5                                          Satisfecho                                                                       \n",
       "6                                      Muy satisfecho                                                                       \n",
       "7                                          Satisfecho                                                                       \n",
       "8                                          Satisfecho                                                                       \n",
       "9                                          Satisfecho                                                                       \n",
       "10                                       Insatisfecho                                                                       \n",
       "\n",
       "   ¿Qué nivel de ingles estas cursando?  \n",
       "1                               Nivel 3  \n",
       "2                               Nivel 2  \n",
       "3                               Nivel 3  \n",
       "4                               Nivel 5  \n",
       "5                               Nivel 1  \n",
       "6                               Nivel 3  \n",
       "7                               Nivel 3  \n",
       "8                               Nivel 1  \n",
       "9                               Nivel 1  \n",
       "10                              Nivel 1  "
      ]
     },
     "execution_count": 4,
     "metadata": {},
     "output_type": "execute_result"
    }
   ],
   "source": [
    "df = df.drop(columns=['Marca temporal', 'Puntuación']) # borrar las columnas sobrantes \n",
    "df "
   ]
  },
  {
   "cell_type": "code",
   "execution_count": 5,
   "id": "29200de0",
   "metadata": {},
   "outputs": [
    {
     "data": {
      "application/vnd.microsoft.datawrangler.viewer.v0+json": {
       "columns": [
        {
         "name": "index",
         "rawType": "int64",
         "type": "integer"
        },
        {
         "name": "materias_semestre",
         "rawType": "int64",
         "type": "integer"
        },
        {
         "name": "hermanos",
         "rawType": "int64",
         "type": "integer"
        },
        {
         "name": "peso_kg",
         "rawType": "float64",
         "type": "float"
        },
        {
         "name": "estatura_m",
         "rawType": "float64",
         "type": "float"
        },
        {
         "name": "mascota_favorita",
         "rawType": "object",
         "type": "string"
        },
        {
         "name": "transporte",
         "rawType": "object",
         "type": "string"
        },
        {
         "name": "satisfaccion_internet",
         "rawType": "object",
         "type": "string"
        },
        {
         "name": "nivel_ingles",
         "rawType": "object",
         "type": "string"
        }
       ],
       "ref": "c4c3c644-76a2-4830-a271-7a86505b4273",
       "rows": [
        [
         "1",
         "6",
         "4",
         "75.5",
         "1.81",
         "Ardilla ",
         "Moto ",
         "Insatisfecho",
         "Nivel 3"
        ],
        [
         "2",
         "6",
         "2",
         "70.0",
         "1.69",
         "Perro",
         "Los pies",
         "Muy insatisfecho",
         "Nivel 2"
        ],
        [
         "3",
         "6",
         "2",
         "78.5",
         "1.62",
         "Perro",
         "Moto",
         "Satisfecho",
         "Nivel 3"
        ],
        [
         "4",
         "6",
         "3",
         "69.0",
         "1.72",
         "Perros",
         "Moto",
         "Insatisfecho",
         "Nivel 5"
        ],
        [
         "5",
         "4",
         "3",
         "80.5",
         "1.65",
         "no tengo mascota ",
         "moto",
         "Satisfecho",
         "Nivel 1"
        ]
       ],
       "shape": {
        "columns": 8,
        "rows": 5
       }
      },
      "text/html": [
       "<div>\n",
       "<style scoped>\n",
       "    .dataframe tbody tr th:only-of-type {\n",
       "        vertical-align: middle;\n",
       "    }\n",
       "\n",
       "    .dataframe tbody tr th {\n",
       "        vertical-align: top;\n",
       "    }\n",
       "\n",
       "    .dataframe thead th {\n",
       "        text-align: right;\n",
       "    }\n",
       "</style>\n",
       "<table border=\"1\" class=\"dataframe\">\n",
       "  <thead>\n",
       "    <tr style=\"text-align: right;\">\n",
       "      <th></th>\n",
       "      <th>materias_semestre</th>\n",
       "      <th>hermanos</th>\n",
       "      <th>peso_kg</th>\n",
       "      <th>estatura_m</th>\n",
       "      <th>mascota_favorita</th>\n",
       "      <th>transporte</th>\n",
       "      <th>satisfaccion_internet</th>\n",
       "      <th>nivel_ingles</th>\n",
       "    </tr>\n",
       "  </thead>\n",
       "  <tbody>\n",
       "    <tr>\n",
       "      <th>1</th>\n",
       "      <td>6</td>\n",
       "      <td>4</td>\n",
       "      <td>75.5</td>\n",
       "      <td>1.81</td>\n",
       "      <td>Ardilla</td>\n",
       "      <td>Moto</td>\n",
       "      <td>Insatisfecho</td>\n",
       "      <td>Nivel 3</td>\n",
       "    </tr>\n",
       "    <tr>\n",
       "      <th>2</th>\n",
       "      <td>6</td>\n",
       "      <td>2</td>\n",
       "      <td>70.0</td>\n",
       "      <td>1.69</td>\n",
       "      <td>Perro</td>\n",
       "      <td>Los pies</td>\n",
       "      <td>Muy insatisfecho</td>\n",
       "      <td>Nivel 2</td>\n",
       "    </tr>\n",
       "    <tr>\n",
       "      <th>3</th>\n",
       "      <td>6</td>\n",
       "      <td>2</td>\n",
       "      <td>78.5</td>\n",
       "      <td>1.62</td>\n",
       "      <td>Perro</td>\n",
       "      <td>Moto</td>\n",
       "      <td>Satisfecho</td>\n",
       "      <td>Nivel 3</td>\n",
       "    </tr>\n",
       "    <tr>\n",
       "      <th>4</th>\n",
       "      <td>6</td>\n",
       "      <td>3</td>\n",
       "      <td>69.0</td>\n",
       "      <td>1.72</td>\n",
       "      <td>Perros</td>\n",
       "      <td>Moto</td>\n",
       "      <td>Insatisfecho</td>\n",
       "      <td>Nivel 5</td>\n",
       "    </tr>\n",
       "    <tr>\n",
       "      <th>5</th>\n",
       "      <td>4</td>\n",
       "      <td>3</td>\n",
       "      <td>80.5</td>\n",
       "      <td>1.65</td>\n",
       "      <td>no tengo mascota</td>\n",
       "      <td>moto</td>\n",
       "      <td>Satisfecho</td>\n",
       "      <td>Nivel 1</td>\n",
       "    </tr>\n",
       "  </tbody>\n",
       "</table>\n",
       "</div>"
      ],
      "text/plain": [
       "   materias_semestre  hermanos  peso_kg  estatura_m   mascota_favorita  \\\n",
       "1                  6         4     75.5        1.81           Ardilla    \n",
       "2                  6         2     70.0        1.69              Perro   \n",
       "3                  6         2     78.5        1.62              Perro   \n",
       "4                  6         3     69.0        1.72             Perros   \n",
       "5                  4         3     80.5        1.65  no tengo mascota    \n",
       "\n",
       "  transporte satisfaccion_internet nivel_ingles  \n",
       "1      Moto           Insatisfecho      Nivel 3  \n",
       "2   Los pies      Muy insatisfecho      Nivel 2  \n",
       "3       Moto            Satisfecho      Nivel 3  \n",
       "4       Moto          Insatisfecho      Nivel 5  \n",
       "5       moto            Satisfecho      Nivel 1  "
      ]
     },
     "execution_count": 5,
     "metadata": {},
     "output_type": "execute_result"
    }
   ],
   "source": [
    "# renombrar las variables para facilitar su manejo\n",
    "import pandas as pd\n",
    "\n",
    "# Supongamos que tu dataset está en un DataFrame llamado \"df\"\n",
    "# df = pd.read_csv(\"tu_dataset.csv\")\n",
    "\n",
    "# Diccionario con nombres originales -> nombres nuevos\n",
    "nuevos_nombres = {\n",
    "    'Marca temporal': 'timestamp',\n",
    "    'Puntuación': 'puntuacion',\n",
    "    '¿Cuántas materias estas cursando este semestre?': 'materias_semestre',\n",
    "    '¿Cuántos hermanos/as tienes?': 'hermanos',\n",
    "    '¿Cuál es tu peso en kilogramos?': 'peso_kg',\n",
    "    '¿Cuál es tu estatura?': 'estatura_m',\n",
    "    '¿Cuál es tu mascota favorita?': 'mascota_favorita',\n",
    "    '¿Cuál es el medio de transporte que mas utilizas?': 'transporte',\n",
    "    '¿Qué tan satisfecho estas con el servicio de internet de la universidad? Siendo 1 muy insatisfecho y 4 muy satisfecho.': 'satisfaccion_internet',\n",
    "    '¿Qué nivel de ingles estas cursando?': 'nivel_ingles'\n",
    "}\n",
    "\n",
    "# Renombrar columnas\n",
    "df = df.rename(columns=nuevos_nombres)\n",
    "\n",
    "# Verificar cambios\n",
    "df.head()\n"
   ]
  },
  {
   "cell_type": "code",
   "execution_count": 6,
   "id": "e029129a",
   "metadata": {},
   "outputs": [],
   "source": [
    "df['transporte'] = df['transporte'].str.lower().replace(\"los pies\", \"a pie\")\n"
   ]
  },
  {
   "cell_type": "code",
   "execution_count": 7,
   "id": "0dbb497c",
   "metadata": {},
   "outputs": [
    {
     "data": {
      "application/vnd.microsoft.datawrangler.viewer.v0+json": {
       "columns": [
        {
         "name": "index",
         "rawType": "int64",
         "type": "integer"
        },
        {
         "name": "transporte",
         "rawType": "object",
         "type": "string"
        }
       ],
       "ref": "18b6e0e9-3720-4683-b164-45c2f00a8310",
       "rows": [
        [
         "1",
         "moto "
        ],
        [
         "2",
         "a pie"
        ],
        [
         "3",
         "moto"
        ],
        [
         "4",
         "moto"
        ],
        [
         "5",
         "moto"
        ],
        [
         "6",
         "moto "
        ],
        [
         "7",
         "moto"
        ],
        [
         "8",
         "moto"
        ],
        [
         "9",
         "moto"
        ],
        [
         "10",
         "moto"
        ]
       ],
       "shape": {
        "columns": 1,
        "rows": 10
       }
      },
      "text/plain": [
       "1     moto \n",
       "2     a pie\n",
       "3      moto\n",
       "4      moto\n",
       "5      moto\n",
       "6     moto \n",
       "7      moto\n",
       "8      moto\n",
       "9      moto\n",
       "10     moto\n",
       "Name: transporte, dtype: object"
      ]
     },
     "execution_count": 7,
     "metadata": {},
     "output_type": "execute_result"
    }
   ],
   "source": [
    "df['transporte'] # Verificar los valores únicos de la columna 'transporte'"
   ]
  },
  {
   "cell_type": "code",
   "execution_count": 8,
   "id": "e46cac6e",
   "metadata": {},
   "outputs": [
    {
     "data": {
      "application/vnd.microsoft.datawrangler.viewer.v0+json": {
       "columns": [
        {
         "name": "transporte",
         "rawType": "object",
         "type": "string"
        },
        {
         "name": "count",
         "rawType": "int64",
         "type": "integer"
        }
       ],
       "ref": "5de95cf2-a8ce-4f32-97f2-0f8df333d621",
       "rows": [
        [
         "moto",
         "7"
        ],
        [
         "moto ",
         "2"
        ],
        [
         "a pie",
         "1"
        ]
       ],
       "shape": {
        "columns": 1,
        "rows": 3
       }
      },
      "text/plain": [
       "transporte\n",
       "moto     7\n",
       "moto     2\n",
       "a pie    1\n",
       "Name: count, dtype: int64"
      ]
     },
     "execution_count": 8,
     "metadata": {},
     "output_type": "execute_result"
    }
   ],
   "source": [
    "df.transporte.value_counts()"
   ]
  },
  {
   "cell_type": "code",
   "execution_count": 9,
   "id": "9fe810dd",
   "metadata": {},
   "outputs": [
    {
     "name": "stdout",
     "output_type": "stream",
     "text": [
      "<class 'pandas.core.frame.DataFrame'>\n",
      "RangeIndex: 10 entries, 1 to 10\n",
      "Data columns (total 8 columns):\n",
      " #   Column                 Non-Null Count  Dtype  \n",
      "---  ------                 --------------  -----  \n",
      " 0   materias_semestre      10 non-null     int64  \n",
      " 1   hermanos               10 non-null     int64  \n",
      " 2   peso_kg                10 non-null     float64\n",
      " 3   estatura_m             10 non-null     float64\n",
      " 4   mascota_favorita       10 non-null     object \n",
      " 5   transporte             10 non-null     object \n",
      " 6   satisfaccion_internet  10 non-null     object \n",
      " 7   nivel_ingles           10 non-null     object \n",
      "dtypes: float64(2), int64(2), object(4)\n",
      "memory usage: 772.0+ bytes\n"
     ]
    }
   ],
   "source": [
    "df.info()"
   ]
  },
  {
   "cell_type": "code",
   "execution_count": 10,
   "id": "f824b330",
   "metadata": {},
   "outputs": [
    {
     "name": "stdout",
     "output_type": "stream",
     "text": [
      "\n",
      "Columna: mascota_favorita\n",
      "['ardilla' 'perro' 'no tengo mascota' 'gato' 'cuervo']\n",
      "\n",
      "Columna: transporte\n",
      "['moto' 'a pie']\n",
      "\n",
      "Columna: satisfaccion_internet\n",
      "['insatisfecho' 'muy insatisfecho' 'satisfecho' 'muy satisfecho']\n",
      "\n",
      "Columna: nivel_ingles\n",
      "['nivel 3' 'nivel 2' 'nivel 5' 'nivel 1']\n"
     ]
    }
   ],
   "source": [
    "# corregir las respuestas en las variables categóricas nominales para que queden el minúscula y en singular. \n",
    "\n",
    "import pandas as pd\n",
    "import inflect\n",
    "\n",
    "# Crear motor de singularización\n",
    "p = inflect.engine()\n",
    "\n",
    "# Seleccionar solo las columnas categóricas\n",
    "categorical_cols = df.select_dtypes(include=['object', 'category']).columns\n",
    "\n",
    "# Limpiar valores categóricos: minúsculas y singular\n",
    "for col in categorical_cols:\n",
    "    df[col] = (\n",
    "        df[col]\n",
    "        .astype(str)               # asegurar que sean string\n",
    "        .str.strip()               # quitar espacios extra\n",
    "        .str.lower()               # pasar a minúsculas\n",
    "        .apply(lambda x: p.singular_noun(x) if p.singular_noun(x) else x)  # singularizar\n",
    "    )\n",
    "\n",
    "# Verificar resultado en algunas columnas\n",
    "for col in categorical_cols:\n",
    "    print(f\"\\nColumna: {col}\")\n",
    "    print(df[col].unique())\n"
   ]
  },
  {
   "cell_type": "code",
   "execution_count": 11,
   "id": "02c31ba7",
   "metadata": {},
   "outputs": [],
   "source": [
    "var_categoricas = [\n",
    "    'mascota_favorita', \n",
    "    'transporte', \n",
    "    'satisfaccion_internet', \n",
    "    'nivel_ingles'\n",
    "]\n",
    "var_categoricas_nominales = ['mascota_favorita', 'transporte'] \n",
    "var_categoricas_ordinales = ['satisfaccion_internet', 'nivel_ingles']  \n"
   ]
  },
  {
   "cell_type": "markdown",
   "id": "9d231b06",
   "metadata": {},
   "source": [
    "# Declarar las variables categóricas ordinales   \n",
    "\n",
    "Cuando una variable categórica es **ordinal**, en **pandas** debemos declararla como `CategoricalDtype` con un **orden definido**.\n",
    "\n",
    "Aquí te dejo el script para tus dos variables:\n"
   ]
  },
  {
   "cell_type": "code",
   "execution_count": 12,
   "id": "a8350d80",
   "metadata": {},
   "outputs": [
    {
     "data": {
      "application/vnd.microsoft.datawrangler.viewer.v0+json": {
       "columns": [
        {
         "name": "nivel_ingles",
         "rawType": "object",
         "type": "string"
        },
        {
         "name": "count",
         "rawType": "int64",
         "type": "integer"
        }
       ],
       "ref": "912b6469-c76d-41aa-b3ed-3df5673da24d",
       "rows": [
        [
         "nivel 3",
         "4"
        ],
        [
         "nivel 1",
         "4"
        ],
        [
         "nivel 2",
         "1"
        ],
        [
         "nivel 5",
         "1"
        ]
       ],
       "shape": {
        "columns": 1,
        "rows": 4
       }
      },
      "text/plain": [
       "nivel_ingles\n",
       "nivel 3    4\n",
       "nivel 1    4\n",
       "nivel 2    1\n",
       "nivel 5    1\n",
       "Name: count, dtype: int64"
      ]
     },
     "execution_count": 12,
     "metadata": {},
     "output_type": "execute_result"
    }
   ],
   "source": [
    "df.nivel_ingles.value_counts() # revisar los niveles de la variable nivel_ingles"
   ]
  },
  {
   "cell_type": "code",
   "execution_count": 13,
   "id": "8051b6d4",
   "metadata": {},
   "outputs": [
    {
     "data": {
      "application/vnd.microsoft.datawrangler.viewer.v0+json": {
       "columns": [
        {
         "name": "satisfaccion_internet",
         "rawType": "object",
         "type": "string"
        },
        {
         "name": "count",
         "rawType": "int64",
         "type": "integer"
        }
       ],
       "ref": "17002ba3-61c6-4c71-9bdb-998a12c5e6eb",
       "rows": [
        [
         "satisfecho",
         "5"
        ],
        [
         "insatisfecho",
         "3"
        ],
        [
         "muy insatisfecho",
         "1"
        ],
        [
         "muy satisfecho",
         "1"
        ]
       ],
       "shape": {
        "columns": 1,
        "rows": 4
       }
      },
      "text/plain": [
       "satisfaccion_internet\n",
       "satisfecho          5\n",
       "insatisfecho        3\n",
       "muy insatisfecho    1\n",
       "muy satisfecho      1\n",
       "Name: count, dtype: int64"
      ]
     },
     "execution_count": 13,
     "metadata": {},
     "output_type": "execute_result"
    }
   ],
   "source": [
    "df.satisfaccion_internet.value_counts() # revisar los niveles de la variable satisfaccion_internet"
   ]
  },
  {
   "cell_type": "code",
   "execution_count": 14,
   "id": "4da0e7fc",
   "metadata": {},
   "outputs": [
    {
     "name": "stdout",
     "output_type": "stream",
     "text": [
      "category\n",
      "category\n"
     ]
    }
   ],
   "source": [
    "import pandas as pd\n",
    "from pandas.api.types import CategoricalDtype\n",
    "\n",
    "# Orden lógico de la variable nivel_ingles (ejemplo: 4 niveles)\n",
    "orden_nivel_ingles = [\"nivel 1\", \"nivel 2\", \"nivel 3\", \"nivel 4\", \"nivel 5\"]\n",
    "nivel_ingles_cat = CategoricalDtype(categories=orden_nivel_ingles, ordered=True)\n",
    "\n",
    "df[\"nivel_ingles\"] = df[\"nivel_ingles\"].astype(nivel_ingles_cat)\n",
    "\n",
    "# Orden lógico de la variable satisfaccion_internet (ejemplo: escala Likert 1 a 5)\n",
    "orden_satisfaccion = [\"muy insatisfecho\", \"insatisfecho\", \"satisfecho\", \"muy satisfecho\"] \n",
    "satisfaccion_cat = CategoricalDtype(categories=orden_satisfaccion, ordered=True)\n",
    "\n",
    "df[\"satisfaccion_internet\"] = df[\"satisfaccion_internet\"].astype(satisfaccion_cat)\n",
    "\n",
    "# Verificar que quedaron como ordinales\n",
    "print(df[\"nivel_ingles\"].dtype)\n",
    "print(df[\"satisfaccion_internet\"].dtype)\n",
    "\n"
   ]
  },
  {
   "cell_type": "code",
   "execution_count": 15,
   "id": "17d205f2",
   "metadata": {},
   "outputs": [
    {
     "data": {
      "application/vnd.microsoft.datawrangler.viewer.v0+json": {
       "columns": [
        {
         "name": "satisfaccion_internet",
         "rawType": "category",
         "type": "unknown"
        },
        {
         "name": "count",
         "rawType": "int64",
         "type": "integer"
        }
       ],
       "ref": "accee0b2-d059-4dd6-bba2-0b4556de35d6",
       "rows": [
        [
         "muy insatisfecho",
         "1"
        ],
        [
         "muy satisfecho",
         "1"
        ],
        [
         "insatisfecho",
         "3"
        ],
        [
         "satisfecho",
         "5"
        ]
       ],
       "shape": {
        "columns": 1,
        "rows": 4
       }
      },
      "text/plain": [
       "satisfaccion_internet\n",
       "muy insatisfecho    1\n",
       "muy satisfecho      1\n",
       "insatisfecho        3\n",
       "satisfecho          5\n",
       "Name: count, dtype: int64"
      ]
     },
     "execution_count": 15,
     "metadata": {},
     "output_type": "execute_result"
    }
   ],
   "source": [
    "df.satisfaccion_internet.value_counts(ascending=True) # revisar los niveles de la variable satisfaccion_internet"
   ]
  },
  {
   "cell_type": "markdown",
   "id": "2a1a5435",
   "metadata": {},
   "source": [
    "\n",
    "## Explicación:\n",
    "\n",
    "* **`CategoricalDtype(categories=[...], ordered=True)`** → convierte la variable en **ordinal**.\n",
    "* En `\"nivel_ingles\"` puse un orden progresivo `\"nivel 1\" → \"nivel 4\"`.\n",
    "* En `\"satisfaccion_internet\"` asumí una escala **Likert** de `\"1\"` (muy insatisfecho) hasta `\"5\"` (muy satisfecho).\n",
    "\n",
    "---\n"
   ]
  },
  {
   "cell_type": "markdown",
   "id": "e0f02a6a",
   "metadata": {},
   "source": [
    "\n",
    "¿Quieres que prepare además un **mapa numérico** (ejemplo: `nivel 1 → 1, ..., nivel 4 → 4`) para que estas variables queden listas para **modelos estadísticos o machine learning**?\n"
   ]
  },
  {
   "cell_type": "markdown",
   "id": "28d89d3b",
   "metadata": {},
   "source": [
    "#\tElaboración de tablas de distribución de frecuencias\n"
   ]
  },
  {
   "cell_type": "code",
   "execution_count": 16,
   "id": "3c639eed",
   "metadata": {},
   "outputs": [
    {
     "data": {
      "text/plain": [
       "Index(['materias_semestre', 'hermanos', 'peso_kg', 'estatura_m',\n",
       "       'mascota_favorita', 'transporte', 'satisfaccion_internet',\n",
       "       'nivel_ingles'],\n",
       "      dtype='object')"
      ]
     },
     "execution_count": 16,
     "metadata": {},
     "output_type": "execute_result"
    }
   ],
   "source": [
    "df.keys() "
   ]
  },
  {
   "cell_type": "code",
   "execution_count": 17,
   "id": "9d719081",
   "metadata": {},
   "outputs": [
    {
     "data": {
      "application/vnd.microsoft.datawrangler.viewer.v0+json": {
       "columns": [
        {
         "name": "mascota_favorita",
         "rawType": "object",
         "type": "string"
        },
        {
         "name": "count",
         "rawType": "int64",
         "type": "integer"
        }
       ],
       "ref": "e1e9ff35-1a1c-46fd-aadf-3ff03a88e5f2",
       "rows": [
        [
         "perro",
         "4"
        ],
        [
         "gato",
         "3"
        ],
        [
         "ardilla",
         "1"
        ],
        [
         "no tengo mascota",
         "1"
        ],
        [
         "cuervo",
         "1"
        ]
       ],
       "shape": {
        "columns": 1,
        "rows": 5
       }
      },
      "text/plain": [
       "mascota_favorita\n",
       "perro               4\n",
       "gato                3\n",
       "ardilla             1\n",
       "no tengo mascota    1\n",
       "cuervo              1\n",
       "Name: count, dtype: int64"
      ]
     },
     "execution_count": 17,
     "metadata": {},
     "output_type": "execute_result"
    }
   ],
   "source": [
    "# Tabla de distribución de frecuencias para todas las variables categóricas\n",
    "\n",
    "f\"Distribución de frecuencias para: {'mascota_favorita'}\"\n",
    "df['mascota_favorita'].value_counts()\n"
   ]
  },
  {
   "cell_type": "code",
   "execution_count": 21,
   "id": "f34a7d16",
   "metadata": {},
   "outputs": [],
   "source": [
    "import pandas as pd\n",
    "\n",
    "def exportar_frecuencias(df, variable, nombre_archivo=\"frecuencias.xlsx\"):\n",
    "    \"\"\"\n",
    "    Genera la tabla de frecuencias absolutas y relativas de una variable categórica \n",
    "    y la exporta a un archivo Excel.\n",
    "    \n",
    "    Parámetros:\n",
    "    -----------\n",
    "    df : pd.DataFrame\n",
    "        DataFrame que contiene la variable categórica.\n",
    "    variable : str\n",
    "        Nombre de la columna categórica.\n",
    "    nombre_archivo : str, opcional\n",
    "        Nombre del archivo Excel a exportar (default: 'frecuencias.xlsx').\n",
    "    \n",
    "    Retorna:\n",
    "    --------\n",
    "    df_frecuencias : pd.DataFrame\n",
    "        DataFrame con frecuencias absolutas y relativas.\n",
    "    \"\"\"\n",
    "    \n",
    "    # Calcular frecuencias absolutas\n",
    "    freq_abs = df[variable].value_counts().to_frame(name=\"Frecuencia Absoluta\")\n",
    "    \n",
    "    # Calcular frecuencias relativas\n",
    "    freq_rel = df[variable].value_counts(normalize=True).to_frame(name=\"Frecuencia Relativa\")\n",
    "    \n",
    "    # Unir ambas tablas\n",
    "    df_frecuencias = freq_abs.join(freq_rel)\n",
    "    \n",
    "    # Resetear índice para tener la categoría como columna\n",
    "    df_frecuencias = df_frecuencias.reset_index()\n",
    "    df_frecuencias.columns = [variable, \"Frecuencia Absoluta\", \"Frecuencia Relativa\"]\n",
    "    \n",
    "    # Exportar a Excel\n",
    "    df_frecuencias.to_excel(nombre_archivo, index=False)\n",
    "    \n",
    "    print(f\"✅ Tabla de frecuencias exportada a '{nombre_archivo}' correctamente.\")\n",
    "    \n",
    "    return df_frecuencias\n",
    "\n"
   ]
  },
  {
   "cell_type": "code",
   "execution_count": 30,
   "id": "74090513",
   "metadata": {},
   "outputs": [
    {
     "name": "stdout",
     "output_type": "stream",
     "text": [
      "✅ Tabla de frecuencias exportada a 'frecuencias_mascota.xlsx' correctamente.\n",
      "✅ Tabla de frecuencias exportada a 'frecuencias_transporte.xlsx' correctamente.\n",
      "✅ Tabla de frecuencias exportada a 'frecuencias_satisfaccion.xlsx' correctamente.\n",
      "✅ Tabla de frecuencias exportada a 'frecuencias_nivel_ingles.xlsx' correctamente.\n"
     ]
    },
    {
     "data": {
      "application/vnd.microsoft.datawrangler.viewer.v0+json": {
       "columns": [
        {
         "name": "index",
         "rawType": "int64",
         "type": "integer"
        },
        {
         "name": "nivel_ingles",
         "rawType": "category",
         "type": "unknown"
        },
        {
         "name": "Frecuencia Absoluta",
         "rawType": "int64",
         "type": "integer"
        },
        {
         "name": "Frecuencia Relativa",
         "rawType": "float64",
         "type": "float"
        }
       ],
       "ref": "f725f736-a32a-4f09-bfce-5c7293e71777",
       "rows": [
        [
         "0",
         "nivel 1",
         "4",
         "0.4"
        ],
        [
         "1",
         "nivel 3",
         "4",
         "0.4"
        ],
        [
         "2",
         "nivel 2",
         "1",
         "0.1"
        ],
        [
         "3",
         "nivel 5",
         "1",
         "0.1"
        ],
        [
         "4",
         "nivel 4",
         "0",
         "0.0"
        ]
       ],
       "shape": {
        "columns": 3,
        "rows": 5
       }
      },
      "text/html": [
       "<div>\n",
       "<style scoped>\n",
       "    .dataframe tbody tr th:only-of-type {\n",
       "        vertical-align: middle;\n",
       "    }\n",
       "\n",
       "    .dataframe tbody tr th {\n",
       "        vertical-align: top;\n",
       "    }\n",
       "\n",
       "    .dataframe thead th {\n",
       "        text-align: right;\n",
       "    }\n",
       "</style>\n",
       "<table border=\"1\" class=\"dataframe\">\n",
       "  <thead>\n",
       "    <tr style=\"text-align: right;\">\n",
       "      <th></th>\n",
       "      <th>nivel_ingles</th>\n",
       "      <th>Frecuencia Absoluta</th>\n",
       "      <th>Frecuencia Relativa</th>\n",
       "    </tr>\n",
       "  </thead>\n",
       "  <tbody>\n",
       "    <tr>\n",
       "      <th>0</th>\n",
       "      <td>nivel 1</td>\n",
       "      <td>4</td>\n",
       "      <td>0.4</td>\n",
       "    </tr>\n",
       "    <tr>\n",
       "      <th>1</th>\n",
       "      <td>nivel 3</td>\n",
       "      <td>4</td>\n",
       "      <td>0.4</td>\n",
       "    </tr>\n",
       "    <tr>\n",
       "      <th>2</th>\n",
       "      <td>nivel 2</td>\n",
       "      <td>1</td>\n",
       "      <td>0.1</td>\n",
       "    </tr>\n",
       "    <tr>\n",
       "      <th>3</th>\n",
       "      <td>nivel 5</td>\n",
       "      <td>1</td>\n",
       "      <td>0.1</td>\n",
       "    </tr>\n",
       "    <tr>\n",
       "      <th>4</th>\n",
       "      <td>nivel 4</td>\n",
       "      <td>0</td>\n",
       "      <td>0.0</td>\n",
       "    </tr>\n",
       "  </tbody>\n",
       "</table>\n",
       "</div>"
      ],
      "text/plain": [
       "  nivel_ingles  Frecuencia Absoluta  Frecuencia Relativa\n",
       "0      nivel 1                    4                  0.4\n",
       "1      nivel 3                    4                  0.4\n",
       "2      nivel 2                    1                  0.1\n",
       "3      nivel 5                    1                  0.1\n",
       "4      nivel 4                    0                  0.0"
      ]
     },
     "execution_count": 30,
     "metadata": {},
     "output_type": "execute_result"
    }
   ],
   "source": [
    "exportar_frecuencias(df, 'mascota_favorita', 'frecuencias_mascota.xlsx')\n",
    "exportar_frecuencias(df, 'transporte', 'frecuencias_transporte.xlsx')\n",
    "exportar_frecuencias(df, 'satisfaccion_internet', 'frecuencias_satisfaccion.xlsx')\n",
    "exportar_frecuencias(df, 'nivel_ingles', 'frecuencias_nivel_ingles.xlsx')\n"
   ]
  },
  {
   "cell_type": "code",
   "execution_count": 31,
   "id": "7579dc70",
   "metadata": {},
   "outputs": [
    {
     "name": "stdout",
     "output_type": "stream",
     "text": [
      "✅ Tabla de frecuencias exportada a 'frecuencias_hermanos.xlsx' correctamente.\n",
      "✅ Tabla de frecuencias exportada a 'frecuencias_materias.xlsx' correctamente.\n"
     ]
    },
    {
     "data": {
      "application/vnd.microsoft.datawrangler.viewer.v0+json": {
       "columns": [
        {
         "name": "index",
         "rawType": "int64",
         "type": "integer"
        },
        {
         "name": "materias_semestre",
         "rawType": "int64",
         "type": "integer"
        },
        {
         "name": "Frecuencia Absoluta",
         "rawType": "int64",
         "type": "integer"
        },
        {
         "name": "Frecuencia Relativa",
         "rawType": "float64",
         "type": "float"
        }
       ],
       "ref": "961146a1-3920-4550-8feb-ea519a4cf58e",
       "rows": [
        [
         "0",
         "6",
         "6",
         "0.6"
        ],
        [
         "1",
         "5",
         "3",
         "0.3"
        ],
        [
         "2",
         "4",
         "1",
         "0.1"
        ]
       ],
       "shape": {
        "columns": 3,
        "rows": 3
       }
      },
      "text/html": [
       "<div>\n",
       "<style scoped>\n",
       "    .dataframe tbody tr th:only-of-type {\n",
       "        vertical-align: middle;\n",
       "    }\n",
       "\n",
       "    .dataframe tbody tr th {\n",
       "        vertical-align: top;\n",
       "    }\n",
       "\n",
       "    .dataframe thead th {\n",
       "        text-align: right;\n",
       "    }\n",
       "</style>\n",
       "<table border=\"1\" class=\"dataframe\">\n",
       "  <thead>\n",
       "    <tr style=\"text-align: right;\">\n",
       "      <th></th>\n",
       "      <th>materias_semestre</th>\n",
       "      <th>Frecuencia Absoluta</th>\n",
       "      <th>Frecuencia Relativa</th>\n",
       "    </tr>\n",
       "  </thead>\n",
       "  <tbody>\n",
       "    <tr>\n",
       "      <th>0</th>\n",
       "      <td>6</td>\n",
       "      <td>6</td>\n",
       "      <td>0.6</td>\n",
       "    </tr>\n",
       "    <tr>\n",
       "      <th>1</th>\n",
       "      <td>5</td>\n",
       "      <td>3</td>\n",
       "      <td>0.3</td>\n",
       "    </tr>\n",
       "    <tr>\n",
       "      <th>2</th>\n",
       "      <td>4</td>\n",
       "      <td>1</td>\n",
       "      <td>0.1</td>\n",
       "    </tr>\n",
       "  </tbody>\n",
       "</table>\n",
       "</div>"
      ],
      "text/plain": [
       "   materias_semestre  Frecuencia Absoluta  Frecuencia Relativa\n",
       "0                  6                    6                  0.6\n",
       "1                  5                    3                  0.3\n",
       "2                  4                    1                  0.1"
      ]
     },
     "execution_count": 31,
     "metadata": {},
     "output_type": "execute_result"
    }
   ],
   "source": [
    "# tabla de frecuencias para variables numéricas discretas  \n",
    "exportar_frecuencias(df, 'hermanos', 'frecuencias_hermanos.xlsx')\n",
    "exportar_frecuencias(df, 'materias_semestre', 'frecuencias_materias.xlsx')  "
   ]
  },
  {
   "cell_type": "code",
   "execution_count": 32,
   "id": "4a5a3bd9",
   "metadata": {},
   "outputs": [],
   "source": [
    "# función de usuario de Python para exportar distribución de frecuencias para variables numéricas continuas   \n",
    "\n",
    "import pandas as pd\n",
    "\n",
    "def exportar_frecuencias_continuas(df, variable, nombre_archivo=\"frecuencias.xlsx\", num_intervalos=5):\n",
    "    \"\"\"\n",
    "    Genera la tabla de frecuencias absolutas y relativas de una variable \n",
    "    cuantitativa continua agrupada en intervalos, y la exporta a un archivo Excel.\n",
    "    \n",
    "    Parámetros:\n",
    "    -----------\n",
    "    df : pd.DataFrame\n",
    "        DataFrame que contiene la variable cuantitativa.\n",
    "    variable : str\n",
    "        Nombre de la columna cuantitativa.\n",
    "    nombre_archivo : str, opcional\n",
    "        Nombre del archivo Excel a exportar (default: 'frecuencias.xlsx').\n",
    "    num_intervalos : int, opcional\n",
    "        Número de intervalos de clase (default: 5).\n",
    "    \n",
    "    Retorna:\n",
    "    --------\n",
    "    df_frecuencias : pd.DataFrame\n",
    "        DataFrame con frecuencias absolutas, relativas y acumuladas.\n",
    "    \"\"\"\n",
    "    \n",
    "    # Construir intervalos de clase\n",
    "    intervalos = pd.cut(df[variable], bins=num_intervalos)\n",
    "    \n",
    "    # Calcular frecuencias absolutas\n",
    "    freq_abs = intervalos.value_counts().sort_index()\n",
    "    \n",
    "    # Calcular frecuencias relativas\n",
    "    freq_rel = intervalos.value_counts(normalize=True).sort_index()\n",
    "    \n",
    "    # Calcular frecuencias acumuladas\n",
    "    freq_acum = freq_abs.cumsum()\n",
    "    freq_rel_acum = freq_rel.cumsum()\n",
    "    \n",
    "    # Crear DataFrame de frecuencias\n",
    "    df_frecuencias = pd.DataFrame({\n",
    "        \"Intervalo\": freq_abs.index.astype(str),\n",
    "        \"Frecuencia Absoluta\": freq_abs.values,\n",
    "        \"Frecuencia Relativa\": freq_rel.values,\n",
    "        \"Frecuencia Acumulada\": freq_acum.values,\n",
    "        \"Frecuencia Relativa Acumulada\": freq_rel_acum.values\n",
    "    })\n",
    "    \n",
    "    # Exportar a Excel\n",
    "    df_frecuencias.to_excel(nombre_archivo, index=False)\n",
    "    \n",
    "    print(f\"✅ Tabla de frecuencias exportada a '{nombre_archivo}' correctamente.\")\n",
    "    \n",
    "    return df_frecuencias\n"
   ]
  },
  {
   "cell_type": "code",
   "execution_count": 33,
   "id": "9ed20031",
   "metadata": {},
   "outputs": [
    {
     "name": "stdout",
     "output_type": "stream",
     "text": [
      "✅ Tabla de frecuencias exportada a 'frecuencias_peso.xlsx' correctamente.\n",
      "✅ Tabla de frecuencias exportada a 'frecuencias_estatura.xlsx' correctamente.\n"
     ]
    },
    {
     "data": {
      "application/vnd.microsoft.datawrangler.viewer.v0+json": {
       "columns": [
        {
         "name": "index",
         "rawType": "int64",
         "type": "integer"
        },
        {
         "name": "Intervalo",
         "rawType": "object",
         "type": "string"
        },
        {
         "name": "Frecuencia Absoluta",
         "rawType": "int64",
         "type": "integer"
        },
        {
         "name": "Frecuencia Relativa",
         "rawType": "float64",
         "type": "float"
        },
        {
         "name": "Frecuencia Acumulada",
         "rawType": "int64",
         "type": "integer"
        },
        {
         "name": "Frecuencia Relativa Acumulada",
         "rawType": "float64",
         "type": "float"
        }
       ],
       "ref": "058a0702-481a-462f-b032-f8870519626a",
       "rows": [
        [
         "0",
         "(1.6, 1.642]",
         "2",
         "0.2",
         "2",
         "0.2"
        ],
        [
         "1",
         "(1.642, 1.684]",
         "1",
         "0.1",
         "3",
         "0.30000000000000004"
        ],
        [
         "2",
         "(1.684, 1.726]",
         "4",
         "0.4",
         "7",
         "0.7000000000000001"
        ],
        [
         "3",
         "(1.726, 1.768]",
         "1",
         "0.1",
         "8",
         "0.8"
        ],
        [
         "4",
         "(1.768, 1.81]",
         "2",
         "0.2",
         "10",
         "1.0"
        ]
       ],
       "shape": {
        "columns": 5,
        "rows": 5
       }
      },
      "text/html": [
       "<div>\n",
       "<style scoped>\n",
       "    .dataframe tbody tr th:only-of-type {\n",
       "        vertical-align: middle;\n",
       "    }\n",
       "\n",
       "    .dataframe tbody tr th {\n",
       "        vertical-align: top;\n",
       "    }\n",
       "\n",
       "    .dataframe thead th {\n",
       "        text-align: right;\n",
       "    }\n",
       "</style>\n",
       "<table border=\"1\" class=\"dataframe\">\n",
       "  <thead>\n",
       "    <tr style=\"text-align: right;\">\n",
       "      <th></th>\n",
       "      <th>Intervalo</th>\n",
       "      <th>Frecuencia Absoluta</th>\n",
       "      <th>Frecuencia Relativa</th>\n",
       "      <th>Frecuencia Acumulada</th>\n",
       "      <th>Frecuencia Relativa Acumulada</th>\n",
       "    </tr>\n",
       "  </thead>\n",
       "  <tbody>\n",
       "    <tr>\n",
       "      <th>0</th>\n",
       "      <td>(1.6, 1.642]</td>\n",
       "      <td>2</td>\n",
       "      <td>0.2</td>\n",
       "      <td>2</td>\n",
       "      <td>0.2</td>\n",
       "    </tr>\n",
       "    <tr>\n",
       "      <th>1</th>\n",
       "      <td>(1.642, 1.684]</td>\n",
       "      <td>1</td>\n",
       "      <td>0.1</td>\n",
       "      <td>3</td>\n",
       "      <td>0.3</td>\n",
       "    </tr>\n",
       "    <tr>\n",
       "      <th>2</th>\n",
       "      <td>(1.684, 1.726]</td>\n",
       "      <td>4</td>\n",
       "      <td>0.4</td>\n",
       "      <td>7</td>\n",
       "      <td>0.7</td>\n",
       "    </tr>\n",
       "    <tr>\n",
       "      <th>3</th>\n",
       "      <td>(1.726, 1.768]</td>\n",
       "      <td>1</td>\n",
       "      <td>0.1</td>\n",
       "      <td>8</td>\n",
       "      <td>0.8</td>\n",
       "    </tr>\n",
       "    <tr>\n",
       "      <th>4</th>\n",
       "      <td>(1.768, 1.81]</td>\n",
       "      <td>2</td>\n",
       "      <td>0.2</td>\n",
       "      <td>10</td>\n",
       "      <td>1.0</td>\n",
       "    </tr>\n",
       "  </tbody>\n",
       "</table>\n",
       "</div>"
      ],
      "text/plain": [
       "        Intervalo  Frecuencia Absoluta  Frecuencia Relativa  \\\n",
       "0    (1.6, 1.642]                    2                  0.2   \n",
       "1  (1.642, 1.684]                    1                  0.1   \n",
       "2  (1.684, 1.726]                    4                  0.4   \n",
       "3  (1.726, 1.768]                    1                  0.1   \n",
       "4   (1.768, 1.81]                    2                  0.2   \n",
       "\n",
       "   Frecuencia Acumulada  Frecuencia Relativa Acumulada  \n",
       "0                     2                            0.2  \n",
       "1                     3                            0.3  \n",
       "2                     7                            0.7  \n",
       "3                     8                            0.8  \n",
       "4                    10                            1.0  "
      ]
     },
     "execution_count": 33,
     "metadata": {},
     "output_type": "execute_result"
    }
   ],
   "source": [
    "exportar_frecuencias_continuas(df, 'peso_kg', 'frecuencias_peso.xlsx', num_intervalos=5)\n",
    "exportar_frecuencias_continuas(df, 'estatura_m', 'frecuencias_estatura.xlsx', num_intervalos=5) "
   ]
  },
  {
   "cell_type": "code",
   "execution_count": 20,
   "id": "87bee6cf",
   "metadata": {},
   "outputs": [
    {
     "data": {
      "text/plain": [
       "Index(['materias_semestre', 'hermanos', 'peso_kg', 'estatura_m',\n",
       "       'mascota_favorita', 'transporte', 'satisfaccion_internet',\n",
       "       'nivel_ingles'],\n",
       "      dtype='object')"
      ]
     },
     "execution_count": 20,
     "metadata": {},
     "output_type": "execute_result"
    }
   ],
   "source": [
    "df.keys() "
   ]
  },
  {
   "cell_type": "code",
   "execution_count": 28,
   "id": "52b4ca58",
   "metadata": {},
   "outputs": [],
   "source": [
    "var_numericas = ['hermanos', 'materias_semestre', 'peso_kg', 'estatura_m']"
   ]
  },
  {
   "cell_type": "code",
   "execution_count": 29,
   "id": "e3a8aedf",
   "metadata": {},
   "outputs": [],
   "source": [
    "df_cat = df[var_categoricas]  # Filtrar solo las variables categóricas\n",
    "df_num = df[var_numericas]  # Filtrar solo las variables numéricas"
   ]
  },
  {
   "cell_type": "code",
   "execution_count": null,
   "id": "6254c2fd",
   "metadata": {},
   "outputs": [],
   "source": [
    "# tablas de frecuencias absolutas \n",
    "import pandas as pd\n",
    "\n",
    "# Convertir la Serie en DataFrame\n",
    "df = df[''].value_counts().to_frame()  \n",
    "\n",
    "# (Opcional) Resetear el índice si quieres que aparezca como columna\n",
    "df = df.reset_index()\n",
    "df.columns = [\"Índice\", \"Valores\"]\n",
    "\n",
    "# Guardar el DataFrame en un archivo Excel\n",
    "df.to_excel(\"mi_serie.xlsx\", index=False)\n",
    "\n",
    "print(\"✅ Serie convertida en DataFrame y exportada a Excel correctamente.\")\n"
   ]
  },
  {
   "cell_type": "code",
   "execution_count": null,
   "id": "862dbc11",
   "metadata": {},
   "outputs": [],
   "source": []
  },
  {
   "cell_type": "code",
   "execution_count": 35,
   "id": "cbe32a6c",
   "metadata": {},
   "outputs": [],
   "source": [
    "import matplotlib.pyplot as plt\n",
    "import pandas as pd\n",
    "\n",
    "def graficar_circulares(df, var_categoricas):\n",
    "    \"\"\"\n",
    "    Genera diagramas circulares para variables categóricas.\n",
    "    - Si la variable es ordinal, respeta el orden definido en las categorías.\n",
    "    - Si no lo es, ordena los valores alfabéticamente.\n",
    "\n",
    "    Parámetros:\n",
    "    -----------\n",
    "    df : pd.DataFrame\n",
    "        DataFrame con las variables.\n",
    "    var_categoricas : list\n",
    "        Lista de nombres de variables categóricas en df.\n",
    "    \"\"\"\n",
    "    for var in var_categoricas:\n",
    "        # Si la variable es categórica ordinal con categorías ordenadas\n",
    "        if pd.api.types.is_categorical_dtype(df[var]) and df[var].cat.ordered:\n",
    "            counts = df[var].value_counts(sort=False)  # Respetar orden de categorías\n",
    "            counts = counts.reindex(df[var].cat.categories)  # Orden ascendente\n",
    "        else:\n",
    "            counts = df[var].value_counts().sort_index()  # Ordenar alfabéticamente\n",
    "\n",
    "        plt.figure(figsize=(6, 6))\n",
    "        plt.pie(\n",
    "            counts,\n",
    "            labels=counts.index,\n",
    "            autopct='%1.1f%%',\n",
    "            startangle=90\n",
    "        )\n",
    "        plt.title(f'Diagrama circular: {var}')\n",
    "        plt.axis('equal')\n",
    "        plt.savefig(f'diagrama_circular_{var}.png')  # Guardar la figura\n",
    "        plt.show()\n"
   ]
  },
  {
   "cell_type": "code",
   "execution_count": 36,
   "id": "222a7aad",
   "metadata": {},
   "outputs": [
    {
     "name": "stderr",
     "output_type": "stream",
     "text": [
      "C:\\Users\\marco\\AppData\\Local\\Temp\\ipykernel_10860\\1689195990.py:19: DeprecationWarning: is_categorical_dtype is deprecated and will be removed in a future version. Use isinstance(dtype, pd.CategoricalDtype) instead\n",
      "  if pd.api.types.is_categorical_dtype(df[var]) and df[var].cat.ordered:\n"
     ]
    },
    {
     "data": {
      "image/png": "[encoded data removed]",
      "text/plain": [
       "<Figure size 600x600 with 1 Axes>"
      ]
     },
     "metadata": {},
     "output_type": "display_data"
    },
    {
     "name": "stderr",
     "output_type": "stream",
     "text": [
      "C:\\Users\\marco\\AppData\\Local\\Temp\\ipykernel_10860\\1689195990.py:19: DeprecationWarning: is_categorical_dtype is deprecated and will be removed in a future version. Use isinstance(dtype, pd.CategoricalDtype) instead\n",
      "  if pd.api.types.is_categorical_dtype(df[var]) and df[var].cat.ordered:\n"
     ]
    },
    {
     "data": {
      "image/png": "[encoded data removed]",
      "text/plain": [
       "<Figure size 600x600 with 1 Axes>"
      ]
     },
     "metadata": {},
     "output_type": "display_data"
    },
    {
     "name": "stderr",
     "output_type": "stream",
     "text": [
      "C:\\Users\\marco\\AppData\\Local\\Temp\\ipykernel_10860\\1689195990.py:19: DeprecationWarning: is_categorical_dtype is deprecated and will be removed in a future version. Use isinstance(dtype, pd.CategoricalDtype) instead\n",
      "  if pd.api.types.is_categorical_dtype(df[var]) and df[var].cat.ordered:\n"
     ]
    },
    {
     "data": {
      "image/png": "[encoded data removed]",
      "text/plain": [
       "<Figure size 600x600 with 1 Axes>"
      ]
     },
     "metadata": {},
     "output_type": "display_data"
    },
    {
     "name": "stderr",
     "output_type": "stream",
     "text": [
      "C:\\Users\\marco\\AppData\\Local\\Temp\\ipykernel_10860\\1689195990.py:19: DeprecationWarning: is_categorical_dtype is deprecated and will be removed in a future version. Use isinstance(dtype, pd.CategoricalDtype) instead\n",
      "  if pd.api.types.is_categorical_dtype(df[var]) and df[var].cat.ordered:\n"
     ]
    },
    {
     "data": {
      "image/png": "[encoded data removed]",
      "text/plain": [
       "<Figure size 600x600 with 1 Axes>"
      ]
     },
     "metadata": {},
     "output_type": "display_data"
    }
   ],
   "source": [
    "graficar_circulares(df, var_categoricas_nominales) # diagramas circulares para variables categóricas nominales\n",
    "graficar_circulares(df, var_categoricas_ordinales) # diagramas de barras para variables categóricas ordinales  "
   ]
  },
  {
   "cell_type": "code",
   "execution_count": null,
   "id": "db78c624",
   "metadata": {},
   "outputs": [
    {
     "data": {
      "image/png": "[encoded data removed]",
      "text/plain": [
       "<Figure size 600x600 with 1 Axes>"
      ]
     },
     "metadata": {},
     "output_type": "display_data"
    },
    {
     "data": {
      "image/png": "[encoded data removed]",
      "text/plain": [
       "<Figure size 600x600 with 1 Axes>"
      ]
     },
     "metadata": {},
     "output_type": "display_data"
    },
    {
     "data": {
      "image/png": "[encoded data removed]",
      "text/plain": [
       "<Figure size 600x600 with 1 Axes>"
      ]
     },
     "metadata": {},
     "output_type": "display_data"
    },
    {
     "data": {
      "image/png": "[encoded data removed]",
      "text/plain": [
       "<Figure size 600x600 with 1 Axes>"
      ]
     },
     "metadata": {},
     "output_type": "display_data"
    }
   ],
   "source": [
    "# diagramas circulares para variables categóricas nominales\n",
    "import matplotlib.pyplot as plt\n",
    "\n",
    "for var in var_categoricas:\n",
    "    counts = df[var].value_counts()\n",
    "    plt.figure(figsize=(6, 6))\n",
    "    plt.pie(counts, labels=counts.index, autopct='%1.1f%%', startangle=90)\n",
    "    plt.title(f'Diagrama circular: {var}')\n",
    "    plt.axis('equal')\n",
    "    plt.savefig(f'diagrama_circular_{var}.png')  # Guardar la figura\n",
    "    plt.show()"
   ]
  },
  {
   "cell_type": "code",
   "execution_count": null,
   "id": "319ea6a3",
   "metadata": {},
   "outputs": [],
   "source": [
    "# diagramas de barras para variables categóricas ordinales "
   ]
  },
  {
   "cell_type": "code",
   "execution_count": null,
   "id": "93017c4b",
   "metadata": {
    "vscode": {
     "languageId": "javascript"
    }
   },
   "outputs": [],
   "source": [
    "import matplotlib.pyplot as plt\n",
    "\n",
    "for var in var_categoricas:\n",
    "    # Respetar el orden de categorías si existe\n",
    "    if hasattr(df[var], \"cat\"):\n",
    "        counts = df[var].value_counts(sort=False).reindex(df[var].cat.categories)\n",
    "    else:\n",
    "        counts = df[var].value_counts()\n",
    "\n",
    "    rel_freq = counts / counts.sum()  # Frecuencia relativa\n",
    "\n",
    "    plt.figure(figsize=(7, 5))\n",
    "    ax = counts.plot(kind='bar', color='skyblue', edgecolor='black')\n",
    "    plt.title(f'Diagrama de barras: {var}')\n",
    "    plt.xlabel(var)  # Etiqueta del eje x\n",
    "    plt.ylabel('Número de estudiantes') # Etiqueta del eje y\n",
    "    plt.xticks(rotation=45, ha='right')\n",
    "    plt.yticks(range(0, counts.max() + 1, 1))  # Ajustar el rango del eje y\n",
    "    plt.tight_layout()\n",
    "    plt.grid(alpha=0.4)\n",
    "\n",
    "    # Etiquetas con valor absoluto y porcentaje\n",
    "    for idx, cat in enumerate(counts.index):\n",
    "        value = counts[cat]\n",
    "        freq = rel_freq[cat]\n",
    "        plt.text(idx, value + 0.1, \n",
    "                 f\"{value}\\n({freq:.1%})\",  # número + porcentaje\n",
    "                 ha='center', va='bottom', fontsize=9, color=\"black\")\n",
    "    \n",
    "    plt.show()\n"
   ]
  },
  {
   "cell_type": "markdown",
   "id": "d9137ae3",
   "metadata": {},
   "source": [
    "# Diagramas de barras  \n",
    "\n"
   ]
  },
  {
   "cell_type": "code",
   "execution_count": 60,
   "id": "9ff10b31",
   "metadata": {
    "vscode": {
     "languageId": "javascript"
    }
   },
   "outputs": [],
   "source": [
    "import matplotlib.pyplot as plt\n",
    "import pandas as pd\n",
    "\n",
    "def plot_absolute_freq(df, var):\n",
    "    \"\"\"\n",
    "    Genera un diagrama de barras de frecuencia absoluta para una variable categórica.\n",
    "    \n",
    "    Parámetros:\n",
    "    -----------\n",
    "    df : pandas.DataFrame\n",
    "        El DataFrame que contiene los datos.\n",
    "    var : str\n",
    "        El nombre de la variable categórica dentro del DataFrame.\n",
    "    \"\"\"\n",
    "    # Calcular frecuencias absolutas\n",
    "    counts_abs = df[var].value_counts()  # conteos\n",
    "    counts_abs = counts_abs.sort_index()  # Ordenar por índice si es necesario\n",
    "    \n",
    "    # Graficar\n",
    "    plt.figure(figsize=(8, 5))\n",
    "    plt.bar(counts_abs.index.astype(str), counts_abs.values, width=0.6, color=\"lightgreen\", edgecolor=\"black\")\n",
    "    \n",
    "    # Personalización\n",
    "    plt.title(f\"Frecuencia absoluta de {var}\", fontsize=14)\n",
    "    plt.xlabel(var, fontsize=12)\n",
    "    plt.ylabel(\"Frecuencia absoluta\", fontsize=12)\n",
    "    plt.xticks(rotation=45)\n",
    "    \n",
    "    # Mostrar conteos sobre las barras\n",
    "    for i, val in enumerate(counts_abs.values):\n",
    "        plt.text(i, val + 0.5, f\"{val}\", ha=\"center\", fontsize=10)\n",
    "    plt.savefig(f\"frecuencia_absoluta_{var}.png\", dpi=300, bbox_inches='tight')\n",
    "    plt.show()\n"
   ]
  },
  {
   "cell_type": "code",
   "execution_count": 61,
   "id": "a4bf7043",
   "metadata": {
    "vscode": {
     "languageId": "javascript"
    }
   },
   "outputs": [
    {
     "data": {
      "image/png": "[encoded data removed]",
      "text/plain": [
       "<Figure size 800x500 with 1 Axes>"
      ]
     },
     "metadata": {},
     "output_type": "display_data"
    }
   ],
   "source": [
    "plot_absolute_freq(df, 'nivel_ingles')  # Reemplaza 'nivel_ingles' con la variable deseada"
   ]
  },
  {
   "cell_type": "code",
   "execution_count": 50,
   "id": "dd93ce92",
   "metadata": {
    "vscode": {
     "languageId": "javascript"
    }
   },
   "outputs": [],
   "source": [
    "import matplotlib.pyplot as plt\n",
    "import pandas as pd\n",
    "\n",
    "def plot_relative_freq(df, var):\n",
    "    \"\"\"\n",
    "    Genera un diagrama de barras de frecuencia relativa para una variable categórica.\n",
    "    \n",
    "    Parámetros:\n",
    "    -----------\n",
    "    df : pandas.DataFrame\n",
    "        El DataFrame que contiene los datos.\n",
    "    var : str\n",
    "        El nombre de la variable categórica dentro del DataFrame.\n",
    "    \"\"\"\n",
    "    # Calcular frecuencias relativas\n",
    "    counts_rel = df[var].value_counts(normalize=True)  # proporciones\n",
    "    counts_rel = counts_rel.sort_index()  # Ordenar por índice si es necesario\n",
    "    \n",
    "    # Graficar\n",
    "    plt.figure(figsize=(8, 5))\n",
    "    plt.bar(counts_rel.index.astype(str), counts_rel.values, width=0.6, color=\"skyblue\", edgecolor=\"black\")\n",
    "    \n",
    "    # Personalización\n",
    "    plt.title(f\"Frecuencia relativa de {var}\", fontsize=14)\n",
    "    plt.xlabel(var, fontsize=12)\n",
    "    plt.ylabel(\"Frecuencia relativa\", fontsize=12)\n",
    "    plt.xticks(rotation=45)\n",
    "    plt.ylim(0, 1)  # porque es frecuencia relativa\n",
    "    \n",
    "    # Mostrar porcentajes sobre las barras\n",
    "    for i, val in enumerate(counts_rel.values):\n",
    "        plt.text(i, val + 0.01, f\"{val:.2%}\", ha=\"center\", fontsize=10)\n",
    "    plt.savefig(f\"frecuencia_relativa_{var}.png\", dpi=300, bbox_inches='tight')\n",
    "    plt.show()\n"
   ]
  },
  {
   "cell_type": "code",
   "execution_count": 52,
   "id": "123b9b00",
   "metadata": {
    "vscode": {
     "languageId": "javascript"
    }
   },
   "outputs": [
    {
     "data": {
      "text/plain": [
       "Index(['materias_semestre', 'hermanos', 'peso_kg', 'estatura_m',\n",
       "       'mascota_favorita', 'transporte', 'satisfaccion_internet',\n",
       "       'nivel_ingles'],\n",
       "      dtype='object')"
      ]
     },
     "execution_count": 52,
     "metadata": {},
     "output_type": "execute_result"
    }
   ],
   "source": [
    "df.keys() "
   ]
  },
  {
   "cell_type": "code",
   "execution_count": 57,
   "id": "11ee92ec",
   "metadata": {
    "vscode": {
     "languageId": "javascript"
    }
   },
   "outputs": [
    {
     "data": {
      "image/png": "[encoded data removed]",
      "text/plain": [
       "<Figure size 800x500 with 1 Axes>"
      ]
     },
     "metadata": {},
     "output_type": "display_data"
    }
   ],
   "source": [
    "plot_relative_freq(df, 'nivel_ingles')   "
   ]
  },
  {
   "cell_type": "code",
   "execution_count": null,
   "id": "04a91499",
   "metadata": {
    "vscode": {
     "languageId": "javascript"
    }
   },
   "outputs": [],
   "source": []
  },
  {
   "cell_type": "code",
   "execution_count": 48,
   "id": "78ad0423",
   "metadata": {
    "vscode": {
     "languageId": "javascript"
    }
   },
   "outputs": [
    {
     "data": {
      "text/plain": [
       "Index(['materias_semestre', 'hermanos', 'peso_kg', 'estatura_m',\n",
       "       'mascota_favorita', 'transporte', 'satisfaccion_internet',\n",
       "       'nivel_ingles'],\n",
       "      dtype='object')"
      ]
     },
     "execution_count": 48,
     "metadata": {},
     "output_type": "execute_result"
    }
   ],
   "source": [
    "df.keys()"
   ]
  },
  {
   "cell_type": "code",
   "execution_count": 45,
   "id": "fc6242ce",
   "metadata": {
    "vscode": {
     "languageId": "javascript"
    }
   },
   "outputs": [],
   "source": [
    "import matplotlib.pyplot as plt\n",
    "\n",
    "def plot_categorical_vars(df, var_categoricas):\n",
    "    \"\"\"\n",
    "    Genera gráficos de barras (frecuencia absoluta y relativa)\n",
    "    para cada variable categórica en una sola matriz de gráficos.\n",
    "\n",
    "    Parámetros\n",
    "    ----------\n",
    "    df : pd.DataFrame\n",
    "        DataFrame que contiene las variables categóricas\n",
    "    var_categoricas : list\n",
    "        Lista de nombres de columnas categóricas\n",
    "    \"\"\"\n",
    "    \n",
    "    n_vars = len(var_categoricas)\n",
    "    fig, axes = plt.subplots(n_vars, 2, figsize=(12, 5 * n_vars))\n",
    "\n",
    "    # En caso de que solo haya 1 variable, mantener estructura bidimensional\n",
    "    if n_vars == 1:\n",
    "        axes = [axes]\n",
    "\n",
    "    for i, var in enumerate(var_categoricas):\n",
    "        counts_abs = df[var].value_counts()\n",
    "        counts_rel = df[var].value_counts(normalize=True)\n",
    "\n",
    "        # Convertir índices (incluso MultiIndex) a string\n",
    "        counts_abs.index = counts_abs.index.map(str)\n",
    "        counts_rel.index = counts_rel.index.map(str)\n",
    "\n",
    "        # Frecuencia absoluta\n",
    "        axes[i][0].bar(counts_abs.index, counts_abs.values)\n",
    "        axes[i][0].set_title(f'{var} - Frecuencia Absoluta')\n",
    "        axes[i][0].set_xlabel(var)\n",
    "        axes[i][0].set_ylabel(\"Frecuencia\")\n",
    "        axes[i][0].tick_params(axis='x', rotation=45)\n",
    "\n",
    "        # Frecuencia relativa\n",
    "        axes[i][1].bar(counts_rel.index, counts_rel.values)\n",
    "        axes[i][1].set_title(f'{var} - Frecuencia Relativa')\n",
    "        axes[i][1].set_xlabel(var)\n",
    "        axes[i][1].set_ylabel(\"Proporción\")\n",
    "        axes[i][1].tick_params(axis='x', rotation=45)\n",
    "\n",
    "    plt.tight_layout()\n",
    "    plt.show()\n"
   ]
  },
  {
   "cell_type": "code",
   "execution_count": 39,
   "id": "12780f80",
   "metadata": {
    "vscode": {
     "languageId": "javascript"
    }
   },
   "outputs": [
    {
     "data": {
      "text/plain": [
       "['mascota_favorita', 'transporte', 'satisfaccion_internet', 'nivel_ingles']"
      ]
     },
     "execution_count": 39,
     "metadata": {},
     "output_type": "execute_result"
    }
   ],
   "source": [
    "var_categoricas "
   ]
  },
  {
   "cell_type": "code",
   "execution_count": 44,
   "id": "97294153",
   "metadata": {
    "vscode": {
     "languageId": "javascript"
    }
   },
   "outputs": [
    {
     "data": {
      "image/png": "[encoded data removed]",
      "text/plain": [
       "<Figure size 1200x500 with 2 Axes>"
      ]
     },
     "metadata": {},
     "output_type": "display_data"
    }
   ],
   "source": [
    "plot_categorical_vars(df, [var_categoricas])"
   ]
  },
  {
   "cell_type": "markdown",
   "id": "1b6bc5fa",
   "metadata": {},
   "source": [
    "# Análisis descriptivo de las variables numéricas "
   ]
  },
  {
   "cell_type": "code",
   "execution_count": null,
   "id": "cf0c282f",
   "metadata": {
    "vscode": {
     "languageId": "javascript"
    }
   },
   "outputs": [],
   "source": [
    "df.keys()"
   ]
  },
  {
   "cell_type": "code",
   "execution_count": null,
   "id": "4d3de4bd",
   "metadata": {
    "vscode": {
     "languageId": "javascript"
    }
   },
   "outputs": [],
   "source": [
    "var_cuantitativas = ['estatura_m', 'peso_kg', 'materias_semestre', 'hermanos'] \n",
    "var_cuantitativas_discretas = ['materias_semestre', 'hermanos']  # Variables discretas\n",
    "var_cuantitativas_continuas = ['estatura_m', 'peso_kg']  # Variables continuas"
   ]
  },
  {
   "cell_type": "code",
   "execution_count": null,
   "id": "c7696392",
   "metadata": {
    "vscode": {
     "languageId": "javascript"
    }
   },
   "outputs": [],
   "source": [
    "\n",
    "df_num = df[var_cuantitativas]\n",
    "df_num"
   ]
  },
  {
   "cell_type": "code",
   "execution_count": null,
   "id": "7cd53986",
   "metadata": {
    "vscode": {
     "languageId": "javascript"
    }
   },
   "outputs": [],
   "source": [
    "df_num.describe().T  # Estadísticas descriptivas de las variables numéricas"
   ]
  },
  {
   "cell_type": "code",
   "execution_count": null,
   "id": "d0faade3",
   "metadata": {
    "vscode": {
     "languageId": "javascript"
    }
   },
   "outputs": [],
   "source": [
    "df.info()\n"
   ]
  },
  {
   "cell_type": "code",
   "execution_count": null,
   "id": "d989076b",
   "metadata": {
    "vscode": {
     "languageId": "javascript"
    }
   },
   "outputs": [],
   "source": [
    "# \n",
    "import matplotlib.pyplot as plt\n",
    "import numpy as np\n",
    "\n",
    "# Definimos número de clases (bins)\n",
    "num_bins = 10  \n",
    "\n",
    "for var in var_cuantitativas_continuas:\n",
    "    plt.figure(figsize=(7, 5))\n",
    "    \n",
    "    # Determinar extremos del histograma\n",
    "    min_val = df[var].min()\n",
    "    max_val = df[var].max()\n",
    "    \n",
    "    # Construir intervalos de clase con np.linspace\n",
    "    bins = np.linspace(min_val, max_val, num_bins + 1)\n",
    "    \n",
    "    # Graficar histograma con bins definidos\n",
    "    plt.hist(df[var].dropna(), bins=bins, color='skyblue', edgecolor='black', alpha=0.7, align='mid', rwidth=1.0)\n",
    "    \n",
    "    # Ajustar ticks del eje x para que coincidan con los extremos de los intervalos\n",
    "    plt.xticks(bins, rotation=45)\n",
    "    \n",
    "    # Títulos y etiquetas\n",
    "    plt.title(f'Histograma de {var}', fontsize=14)\n",
    "    plt.xlabel(var, fontsize=12)\n",
    "    plt.ylabel('Frecuencia', fontsize=12)\n",
    "    plt.grid(axis='y', alpha=0.4)\n",
    "    \n",
    "    plt.tight_layout()\n",
    "    plt.savefig(f'histograma_{var}.png')  # Guardar figura\n",
    "    plt.show()\n"
   ]
  },
  {
   "cell_type": "markdown",
   "id": "680421ca",
   "metadata": {},
   "source": [
    "* Creación de gráficos apropiados para cada tipo de variable\n",
    "* Identificación de patrones y tendencias principales\n",
    "Entregable: Análisis estadístico descriptivo completo\n",
    "Herramientas sugeridas:\n",
    "Excel/Google Sheets para cálculos\n",
    "Generadores de gráficos online\n",
    "Calculadoras estadísticas web\n"
   ]
  },
  {
   "cell_type": "markdown",
   "id": "f70b89ec",
   "metadata": {},
   "source": [
    "\n",
    "FASE 4: Presentación de Resultados (Días 13-14)\n",
    "Actividades:\n",
    "\tElaboración de informe técnico\n",
    "\tCreación de presentación digital \n",
    "\tParticipación en foro de discusión grupal\n",
    "\tAutoevaluación y reflexión sobre el proceso\n",
    "Entregable: Informe final y participación en foro académico\n",
    "\n",
    "Estructura Detallada de la Encuesta\n",
    "Preguntas Sugeridas por Tipo de Variable\n",
    "Variables Cualitativas Nominales (2 preguntas):\n",
    "1.\t¿Cuál es tu programa académico actual? \n",
    "Opciones: Lista de carreras disponibles en la universidad\n",
    "2.\t¿Cuál es tu método preferido para tomar apuntes en clase? \n",
    "Opciones: A mano en cuaderno, digital en computador, grabaciones de audio, fotografías del tablero, aplicaciones móviles, otro\n",
    "\n",
    "Variables Cualitativas Ordinales (2 preguntas): \n",
    "3.\t¿Cómo calificarías tu nivel de satisfacción con la modalidad virtual de clases?\n",
    "Opciones: Muy insatisfecho, Insatisfecho, Neutral, Satisfecho, Muy satisfecho\n",
    "4.\t¿Cuál consideras que es tu nivel actual de competencia en herramientas digitales para el estudio? \n",
    "Opciones: Principiante, Básico, Intermedio, Avanzado, Experto\n",
    "\n",
    "Variables Cuantitativas Discretas (2 preguntas): \n",
    "5.\t¿Cuántas horas a la semana dedicas a actividades extracurriculares (deportes, voluntariado, trabajo, etc.)?\n",
    "Respuesta: Número entero de 0 a 40\n",
    "6.\t¿Cuántos dispositivos tecnológicos (computador, tablet, smartphone) utilizas regularmente para tus estudios? \n",
    "Respuesta: Número entero de 0 a 10\n",
    "\n",
    "Variables Cuantitativas Continuas (2 preguntas): \n",
    "7.\t¿Cuántas horas diarias dedicas en promedio al estudio personal (fuera de clases)?\n",
    "Respuesta: Número decimal de 0.0 a 12.0 horas\n",
    "8.\t¿Cuál es tu promedio académico acumulado actual? (Escala de 0.0 a 5.0) \n",
    "Respuesta: Número decimal con una cifra decimal\n",
    "\n",
    "Pregunta Adicional de Contexto: \n",
    "9.\t ¿En qué semestre académico te encuentras actualmente?\n",
    "Opciones: 1° a 10° semestre\n",
    "\n",
    "Producto Esperado\n",
    "Componentes del Entregable Final\n",
    "1.\tPortada e Introducción \n",
    "\tTítulo del proyecto\n",
    "\tNombres del curso, estudiante y docente.\n",
    "\tObjetivos de la investigación\n",
    "\tJustificación de la temática elegida\n",
    "\n",
    "2.\tMetodología \n",
    "\tDescripción del instrumento diseñado\n",
    "\tJustificación de cada pregunta y su clasificación por tipo de variable\n",
    "\tDescripción de la población objetivo y método de muestreo\n",
    "\n",
    "3.\tPresentación de Resultados \n",
    "\tTablas de distribución de frecuencias para cada variable\n",
    "\tGráficos apropiados según el tipo de variable\n",
    "\tDescripción narrativa de los hallazgos principales\n",
    "\n",
    "4.\tAnálisis e Interpretación \n",
    "Identificación de patrones y tendencias\n",
    "Comparación entre variables cuando sea pertinente\n",
    "Reflexiones sobre la representatividad de los datos\n",
    "\n",
    "5.\tConclusiones y Reflexiones \n",
    "\tSíntesis de los hallazgos principales\n",
    "\tLimitaciones del estudio\n",
    "\tAprendizajes sobre el proceso de investigación\n",
    "\tAplicaciones pedagógicas para la enseñanza de estadística\n",
    "\n",
    "6.\tReferencias y Anexos \n",
    "\tFuentes consultadas\n",
    "\tInstrumento completo (captura de pantalla)\n",
    "\tBase de datos (opcional, respetando confidencialidad)\n",
    "\n",
    "Evaluación Sugerida\n",
    "Criterios de Evaluación (100 puntos total)\n",
    "Componente\tCriterio\tPuntaje\tIndicadores de Calidad\n",
    "Diseño de Instrumento\tCalidad técnica de las preguntas\t20 pts\t- Claridad en la redacción.\n",
    "- Correcta clasificación de variables.\n",
    "- Pertinencia temática.\n",
    "- Consideraciones éticas.\n",
    "Recolección de Datos\tCompletitud y calidad de datos\t15 pts\t- 10 respuestas completas.\n",
    "- Datos consistentes.\n",
    "- Proceso documentado.\n",
    "Análisis Estadístico\tAplicación correcta de conceptos\t25 pts\t- Tablas de frecuencias correctas.\n",
    "- Gráficos apropiados.\n",
    "- Cálculos precisos.\n",
    "- Clasificación acertada de variables.\n",
    "Interpretación\tCapacidad de análisis\t20 pts\t- Identificación de patrones.\n",
    "- Interpretación coherente.\n",
    "- Conexión teoría-práctica\n",
    "Comunicación\tCalidad del informe\t15 pts\t- Estructura clara.\n",
    "- Redacción académica.\n",
    "- Presentación visual.\n",
    "- Cumplimiento de formato\n",
    "Reflexión Pedagógica\tConexión con formación docente\t5 pts\t- Aplicaciones educativas.\n",
    "- Reflexión sobre el proceso.\n",
    "- Lecciones aprendidas\n",
    "\n",
    "Rúbrica Detallada\n",
    "Excelente (90-100%):\n",
    "\tDemuestra dominio completo de los conceptos de variables estadísticas\n",
    "\tAplica correctamente todas las técnicas de análisis descriptivo\n",
    "\tPresenta interpretaciones profundas y conexiones teórico-prácticas\n",
    "\tInforme de alta calidad técnica y comunicativa\n",
    "Bueno (80-89%):\n",
    "\tComprende bien los conceptos básicos con aplicación mayormente correcta\n",
    "\tRealiza análisis apropiado con interpretaciones coherentes\n",
    "\tInforme bien estructurado con presentación clara\n",
    "\tAlgunas oportunidades menores de mejora\n",
    "\n",
    "Satisfactorio (70-79%):\n",
    "\tComprensión básica de conceptos con aplicación aceptable\n",
    "\tAnálisis simple pero correcto en elementos fundamentales\n",
    "\tInforme cumple requisitos mínimos con claridad adecuada\n",
    "\tNecesita fortalecimiento en algunos aspectos\n",
    "\n",
    "Insuficiente (<70%):\n",
    "\tComprensión limitada de conceptos fundamentales\n",
    "\tErrores significativos en clasificación o análisis\n",
    "\tInforme incompleto o con problemas importantes de calidad\n",
    "\tRequiere refuerzo conceptual y metodológico\n",
    "\n",
    "\n",
    "\n",
    "Recursos Adicionales\n",
    "Tutoriales y Guías\n",
    "\tVideo tutorial: \"Creación de encuestas efectivas en Google Forms\"\n",
    "\tGuía PDF: \"Análisis básico de datos en hojas de cálculo\"\n",
    "\tChecklist: \"Verificación de calidad en recolección de datos\"\n",
    "\n",
    "Herramientas Recomendadas\n",
    "\tPara encuestas: Google Forms, Microsoft Forms, SurveyMonkey (versión gratuita)\n",
    "\tPara análisis: Google Sheets, Excel Online, Calc (LibreOffice)\n",
    "\tPara gráficos: Chart.js, Canva, herramientas integradas en hojas de cálculo\n",
    "\n",
    "Soporte Técnico\n",
    "\tForo de consultas técnicas en plataforma o presencial\n",
    "\tSesiones de tutoría virtual (horarios programados)\n",
    "\tBanco de preguntas frecuentes actualizado\n",
    "\n",
    "Cronograma Detallado\n",
    "Día\tActividad Principal\tTiempo Estimado\tSoporte Docente\n",
    "1-2\tDiseño de preguntas y creación de encuesta\t3-4 horas\tTutorial disponible\n",
    "3\tValidación piloto y ajustes\t1-2 horas\tConsulta en foro\n",
    "4-6\tAplicación de encuesta\t30 min/día\tSeguimiento pasivo\n",
    "7-8\tRecolección y organización de datos\t2 horas\tTutoría disponible\n",
    "9-11\tAnálisis estadístico y creación de gráficos\t4-5 horas\tSesión grupal virtual\n",
    "12-13\tElaboración de informe\t3-4 horas\tRevisión de borradores\n",
    "14\tRevisión final y entrega\t1-2 horas\tEntrega en plataforma\n",
    "\n",
    "\n",
    "\n",
    "\n",
    "Consideraciones para Futuros Docentes\n",
    "Esta actividad no solo desarrolla competencias estadísticas, sino que también modela estrategias pedagógicas que los estudiantes podrán implementar en sus futuras aulas:\n",
    "\tAprendizaje activo: Los estudiantes construyen su propio conocimiento\n",
    "\tTecnología educativa: Integración natural de herramientas digitales\n",
    "\tInvestigación en el aula: Metodología de indagación aplicada\n",
    "\tTrabajo colaborativo: Interacción constructiva entre pares\n",
    "\tEvaluación auténtica: Productos reales con aplicación práctica\n",
    " \n",
    "GUÍA DE REDACCIÓN DE PREGUNTAS PARA ENCUESTAS\n",
    "¿Qué es?\n",
    "Es un documento metodológico que proporciona criterios técnicos y mejores prácticas para formular preguntas efectivas según el tipo de variable estadística que se desea medir.\n",
    "\n",
    "Estructura de la Guía\n",
    "SECCIÓN 1: Principios Generales de Redacción\n",
    "Características de una Buena Pregunta:\n",
    "\tClaridad: Lenguaje simple y directo\n",
    "\tPrecisión: Una sola idea por pregunta\n",
    "\tNeutralidad: Evitar sesgos o direccionamiento\n",
    "\tRelevancia: Pertinente al objetivo de investigación\n",
    "\tFactibilidad: Que el respondiente pueda contestar\n",
    "\n",
    "Errores Comunes a Evitar:\n",
    "❌ Pregunta doble: \"¿Estudias matemáticas y te gusta?\"\n",
    "✅ Pregunta simple: \"¿Te gusta estudiar matemáticas?\"\n",
    "\n",
    "❌ Pregunta sesgada: \"¿No crees que las clases virtuales son aburridas?\"\n",
    "✅ Pregunta neutra: \"¿Cómo calificarías tu experiencia con las clases virtuales?\"\n",
    "\n",
    "❌ Lenguaje técnico: \"¿Cuál es tu nivel de metacognición?\"\n",
    "✅ Lenguaje claro: \"¿Qué tan consciente eres de tus procesos de aprendizaje?\"\n",
    "\n",
    "SECCIÓN 2: Redacción por Tipo de Variable\n",
    "Para Variables Cualitativas Nominales:\n",
    "Estructura: \"¿Cuál es tu [característica]?\"\n",
    "Opciones: Lista exhaustiva y mutuamente excluyente\n",
    "\n",
    "Ejemplo:\n",
    "Pregunta: \"¿Cuál es tu carrera universitaria?\"\n",
    "Opciones: \n",
    "\tIngeniería de Sistemas\n",
    "\tLicenciatura en Matemáticas  \n",
    "\tMedicina\n",
    "\tDerecho\n",
    "\tPsicología\n",
    "\tOtra (especificar)\n",
    "\n",
    "Para Variables Cualitativas Ordinales:\n",
    "Estructura: \"¿Cómo calificarías/clasificarías [aspecto]?\"\n",
    "Opciones: Escala ordenada con 3-7 niveles\n",
    "\n",
    "Ejemplo:\n",
    "Pregunta: \"¿Cómo calificarías tu nivel de satisfacción con el campus universitario?\"\n",
    "Opciones:\n",
    "\tMuy insatisfecho\n",
    "\tInsatisfecho  \n",
    "\tNeutral\n",
    "\tSatisfecho\n",
    "\tMuy satisfecho\n",
    "\n",
    "Para Variables Cuantitativas Discretas:\n",
    "Estructura: \"¿Cuántos/as [elemento contable]?\"\n",
    "Respuesta: Número entero con rango definido\n",
    "\n",
    "Ejemplo:\n",
    "Pregunta: \"¿Cuántos cursos tienes matriculados este semestre?\"\n",
    "Validación: Número entero entre 1 y 8\n",
    "\n",
    "Para Variables Cuantitativas Continuas:\n",
    "Estructura: \"¿Cuánto/a [medida]?\" o \"¿Cuál es tu [valor medible]?\"\n",
    "Respuesta: Número decimal con rango y unidades\n",
    "\n",
    "Ejemplo:\n",
    "Pregunta: \"¿Cuántas horas diarias dedicas al estudio personal?\"\n",
    "Validación: Número decimal entre 0.0 y 12.0\n",
    "Unidad: Horas\n",
    "\n",
    "SECCIÓN 3: Consideraciones Éticas\n",
    "Consentimiento informado\n",
    "\tPreguntas sensibles (edad, ingresos, datos personales)\n",
    "\tDerecho a no responder\n",
    "\tUso apropiado de la información\n"
   ]
  }
 ],
 "metadata": {
  "kernelspec": {
   "display_name": ".venv",
   "language": "python",
   "name": "python3"
  },
  "language_info": {
   "codemirror_mode": {
    "name": "ipython",
    "version": 3
   },
   "file_extension": ".py",
   "mimetype": "text/x-python",
   "name": "python",
   "nbconvert_exporter": "python",
   "pygments_lexer": "ipython3",
   "version": "3.12.6"
  }
 },
 "nbformat": 4,
 "nbformat_minor": 5
}
