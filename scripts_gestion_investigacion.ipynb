{
 "cells": [
  {
   "cell_type": "markdown",
   "metadata": {
    "vscode": {
     "languageId": "plaintext"
    }
   },
   "source": []
  },
  {
   "cell_type": "markdown",
   "metadata": {},
   "source": [
    "# Promt para diseño de secuencia de carpetas y archivos \n",
    "\n",
    "Dame un script de Python que cree la secuencia de carpetas y archivos .md para guiar la ejecución de esta secuencia de acciones para constituir el espacio de asesoría en un espacio investigativo según la secuencia que acabas de darme. Esta secuencia de carpetas la debes crear en la siguiente ubicación: \"C:\\Users\\marco\\Documentos\\investigacion\\investigacion_en_asesoria\\secuencia_accio_espacio_asesoria_invest\""
   ]
  },
  {
   "cell_type": "code",
   "execution_count": null,
   "metadata": {},
   "outputs": [
    {
     "name": "stdout",
     "output_type": "stream",
     "text": [
      "Estructura de carpetas y archivos creada exitosamente.\n"
     ]
    }
   ],
   "source": [
    "import os\n",
    "\n",
    "def crear_estructura(base_path):\n",
    "    estructura = {\n",
    "        \"1_Definir_Marco_Conceptual\": [\"explicacion_enfoques.md\", \"uso_plataformas.md\", \"justificacion_herramientas.md\", \"IAE_en_asesoria.md\"],\n",
    "        \"2_Diseño_Proceso_IAE\": {\n",
    "            \"Diagnostico\": [\"encuestas_entrevistas.md\", \"analisis_rendimiento.md\"],\n",
    "            \"Planificacion\": [\"estrategia_asesoria.md\", \"plan_contenido.md\", \"seleccion_problemas.md\"],\n",
    "            \"Intervencion\": [\"implementacion_asesoria.md\", \"uso_python_IA.md\", \"actividades_Jupyter.md\"],\n",
    "            \"Observacion_Evaluacion\": [\"recoleccion_evidencias.md\", \"analitica_datos.md\", \"encuestas_comparativas.md\"],\n",
    "            \"Reflexion_Ajustes\": [\"analisis_resultados.md\", \"documentacion_hallazgos.md\", \"ajustes_metodologia.md\"]\n",
    "        },\n",
    "        \"3_Creacion_Comunidad_Aprendizaje\": [\"red_colaboracion.md\", \"produccion_conocimiento_abierto.md\"],\n",
    "        \"4_Evaluacion_Sostenibilidad\": [\"metricas_impacto.md\", \"busqueda_financiacion.md\", \"expansion_metodologia.md\"]\n",
    "    }\n",
    "    \n",
    "    def crear_carpetas_y_archivos(ruta, contenido):\n",
    "        if isinstance(contenido, list):  # Si es una lista de archivos\n",
    "            os.makedirs(ruta, exist_ok=True)\n",
    "            for archivo in contenido:\n",
    "                with open(os.path.join(ruta, archivo), 'w', encoding='utf-8') as f:\n",
    "                    f.write(f\"# {archivo.replace('_', ' ').replace('.md', '')}\\n\\n\")\n",
    "        elif isinstance(contenido, dict):  # Si es un diccionario de subcarpetas\n",
    "            os.makedirs(ruta, exist_ok=True)\n",
    "            for subcarpeta, archivos in contenido.items():\n",
    "                crear_carpetas_y_archivos(os.path.join(ruta, subcarpeta), archivos)\n",
    "    \n",
    "    crear_carpetas_y_archivos(base_path, estructura)\n",
    "\n",
    "# Define la ubicación donde se crearán las carpetas y archivos\n",
    "base_path = r\"C:/Users/marco/Documentos/investigacion/investigacion_en_asesoria/2_secuencia_accio_espacio_asesoria_invest\"\n",
    "crear_estructura(base_path)\n",
    "print(\"Estructura de carpetas y archivos creada exitosamente.\")\n"
   ]
  },
  {
   "cell_type": "code",
   "execution_count": null,
   "metadata": {},
   "outputs": [],
   "source": []
  }
 ],
 "metadata": {
  "kernelspec": {
   "display_name": ".venv",
   "language": "python",
   "name": "python3"
  },
  "language_info": {
   "codemirror_mode": {
    "name": "ipython",
    "version": 3
   },
   "file_extension": ".py",
   "mimetype": "text/x-python",
   "name": "python",
   "nbconvert_exporter": "python",
   "pygments_lexer": "ipython3",
   "version": "3.12.6"
  }
 },
 "nbformat": 4,
 "nbformat_minor": 2
}
