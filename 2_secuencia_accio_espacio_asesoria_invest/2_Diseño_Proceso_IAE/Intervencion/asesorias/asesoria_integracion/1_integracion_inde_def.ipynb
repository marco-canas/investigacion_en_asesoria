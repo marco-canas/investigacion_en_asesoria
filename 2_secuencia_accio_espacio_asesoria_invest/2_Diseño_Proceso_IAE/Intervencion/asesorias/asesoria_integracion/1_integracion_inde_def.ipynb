{
 "cells": [
  {
   "cell_type": "markdown",
   "id": "dc06dec7",
   "metadata": {
    "slideshow": {
     "slide_type": "slide"
    }
   },
   "source": [
    "<table align=\"left\">\n",
    "  <td>\n",
    "    <a href=\"https://colab.research.google.com/github/ageron/handson-ml3/blob/main/tools_numpy.ipynb\" target=\"_parent\"><img src=\"https://colab.research.google.com/assets/colab-badge.svg\" alt=\"Open In Colab\"/></a>\n",
    "  </td>\n",
    "  <td>\n",
    "    <a target=\"_blank\" href=\"https://kaggle.com/kernels/welcome?src=https://github.com/ageron/handson-ml3/blob/main/tools_numpy.ipynb\"><img src=\"https://kaggle.com/static/images/open-in-kaggle.svg\" /></a>\n",
    "  </td>\n",
    "</table>"
   ]
  },
  {
   "cell_type": "markdown",
   "id": "e0c5b198",
   "metadata": {
    "slideshow": {
     "slide_type": "slide"
    }
   },
   "source": [
    "### [Video de apoyo a la lectura interactiva y experimental de este cuaderno]()"
   ]
  },
  {
   "cell_type": "markdown",
   "id": "41e82203",
   "metadata": {
    "slideshow": {
     "slide_type": "slide"
    }
   },
   "source": [
    "### [Vínculo al programa del curso:  ]()\n",
    "\n"
   ]
  },
  {
   "cell_type": "markdown",
   "id": "d11ab06d",
   "metadata": {
    "slideshow": {
     "slide_type": "slide"
    }
   },
   "source": [
    "Un reconocimiento a mis estudiantes que han construido conmigo este saber pedagógico:\n",
    "\n",
    "<img src = ''> \n",
    "\n"
   ]
  },
  {
   "cell_type": "markdown",
   "id": "8a74a56c-0ce6-4ad6-b985-553fd7fb68bb",
   "metadata": {},
   "source": [
    "Reconocimiento a las profesoras destacadas en enseñanza de la matemática en Colombia\n"
   ]
  },
  {
   "cell_type": "code",
   "execution_count": 1,
   "id": "6cb89c0b",
   "metadata": {},
   "outputs": [
    {
     "data": {
      "application/vnd.microsoft.datawrangler.viewer.v0+json": {
       "columns": [
        {
         "name": "index",
         "rawType": "int64",
         "type": "integer"
        },
        {
         "name": "Cedula",
         "rawType": "int64",
         "type": "integer"
        },
        {
         "name": "Nombre",
         "rawType": "object",
         "type": "string"
        },
        {
         "name": "Email",
         "rawType": "object",
         "type": "string"
        },
        {
         "name": "Parcial",
         "rawType": "float64",
         "type": "float"
        },
        {
         "name": "Asistencia",
         "rawType": "float64",
         "type": "float"
        }
       ],
       "conversionMethod": "pd.DataFrame",
       "ref": "6b84fd7a-7d91-41e7-acd8-76d316e02aff",
       "rows": [
        [
         "1",
         "1007528664",
         "AYALA MENDOZA MARISOL YACIRA",
         "marisol.ayala@udea.edu.co",
         "0.0",
         null
        ],
        [
         "2",
         "1064188463",
         "MASS MIRANDA RIVALDO JOSE",
         "rivaldo.mass@udea.edu.co",
         "0.0",
         null
        ],
        [
         "3",
         "1066570075",
         "MONTERROSA SOTO ABRIL",
         "a.monterrosa@udea.edu.co",
         "0.0",
         null
        ],
        [
         "4",
         "1193404816",
         "AMARIS FERNANDEZ SEBASTIAN CAMILO",
         "sebastian.amaris@udea.edu.co",
         null,
         null
        ]
       ],
       "shape": {
        "columns": 5,
        "rows": 4
       }
      },
      "text/html": [
       "<div>\n",
       "<style scoped>\n",
       "    .dataframe tbody tr th:only-of-type {\n",
       "        vertical-align: middle;\n",
       "    }\n",
       "\n",
       "    .dataframe tbody tr th {\n",
       "        vertical-align: top;\n",
       "    }\n",
       "\n",
       "    .dataframe thead th {\n",
       "        text-align: right;\n",
       "    }\n",
       "</style>\n",
       "<table border=\"1\" class=\"dataframe\">\n",
       "  <thead>\n",
       "    <tr style=\"text-align: right;\">\n",
       "      <th></th>\n",
       "      <th>Cedula</th>\n",
       "      <th>Nombre</th>\n",
       "      <th>Email</th>\n",
       "      <th>Parcial</th>\n",
       "      <th>Asistencia</th>\n",
       "    </tr>\n",
       "  </thead>\n",
       "  <tbody>\n",
       "    <tr>\n",
       "      <th>1</th>\n",
       "      <td>1007528664</td>\n",
       "      <td>AYALA MENDOZA MARISOL YACIRA</td>\n",
       "      <td>marisol.ayala@udea.edu.co</td>\n",
       "      <td>0.0</td>\n",
       "      <td>NaN</td>\n",
       "    </tr>\n",
       "    <tr>\n",
       "      <th>2</th>\n",
       "      <td>1064188463</td>\n",
       "      <td>MASS MIRANDA RIVALDO JOSE</td>\n",
       "      <td>rivaldo.mass@udea.edu.co</td>\n",
       "      <td>0.0</td>\n",
       "      <td>NaN</td>\n",
       "    </tr>\n",
       "    <tr>\n",
       "      <th>3</th>\n",
       "      <td>1066570075</td>\n",
       "      <td>MONTERROSA SOTO ABRIL</td>\n",
       "      <td>a.monterrosa@udea.edu.co</td>\n",
       "      <td>0.0</td>\n",
       "      <td>NaN</td>\n",
       "    </tr>\n",
       "    <tr>\n",
       "      <th>4</th>\n",
       "      <td>1193404816</td>\n",
       "      <td>AMARIS FERNANDEZ SEBASTIAN CAMILO</td>\n",
       "      <td>sebastian.amaris@udea.edu.co</td>\n",
       "      <td>NaN</td>\n",
       "      <td>NaN</td>\n",
       "    </tr>\n",
       "  </tbody>\n",
       "</table>\n",
       "</div>"
      ],
      "text/plain": [
       "       Cedula                             Nombre  \\\n",
       "1  1007528664       AYALA MENDOZA MARISOL YACIRA   \n",
       "2  1064188463          MASS MIRANDA RIVALDO JOSE   \n",
       "3  1066570075              MONTERROSA SOTO ABRIL   \n",
       "4  1193404816  AMARIS FERNANDEZ SEBASTIAN CAMILO   \n",
       "\n",
       "                          Email  Parcial  Asistencia  \n",
       "1     marisol.ayala@udea.edu.co      0.0         NaN  \n",
       "2      rivaldo.mass@udea.edu.co      0.0         NaN  \n",
       "3      a.monterrosa@udea.edu.co      0.0         NaN  \n",
       "4  sebastian.amaris@udea.edu.co      NaN         NaN  "
      ]
     },
     "execution_count": 1,
     "metadata": {},
     "output_type": "execute_result"
    }
   ],
   "source": [
    "import pandas as pd\n",
    "import numpy as np\n",
    "\n",
    "# Cargar la lista de estudiantes desde el archivo CSV\n",
    "path = 'C:/Users/marco/Documentos/docencia/groups_list/vectorial.xlsx'\n",
    "estudiantes = pd.read_excel(path)\n",
    "estudiantes.index = range(1, len(estudiantes) + 1)\n",
    "estudiantes.head(17) "
   ]
  },
  {
   "cell_type": "code",
   "execution_count": 2,
   "id": "7604880f",
   "metadata": {
    "slideshow": {
     "slide_type": "slide"
    }
   },
   "outputs": [
    {
     "name": "stdout",
     "output_type": "stream",
     "text": [
      "Llamando a AYALA MENDOZA MARISOL YACIRA...\n",
      "Llamando a MASS MIRANDA RIVALDO JOSE...\n",
      "Llamando a MONTERROSA SOTO ABRIL...\n",
      "Llamando a AMARIS FERNANDEZ SEBASTIAN CAMILO...\n",
      "Cambios guardados en el archivo CSV.\n"
     ]
    }
   ],
   "source": [
    "# Convertir la columna 'Nombre' a una lista de Python\n",
    "lista_estudiantes = estudiantes['Nombre'].tolist()\n",
    "\n",
    "# Función para llamar a un estudiante aleatoriamente y registrar su nota de seguimiento\n",
    "def asistencia():\n",
    "    global lista_estudiantes\n",
    "    if lista_estudiantes:\n",
    "        estudiante_aleatorio = np.random.choice(lista_estudiantes)\n",
    "        print(f\"Llamando a {estudiante_aleatorio}...\")\n",
    "        asistencia = input(f\"¿Asistió {estudiante_aleatorio}? (s/n): \").strip().lower()\n",
    "        \n",
    "        # Validación de entrada\n",
    "        if asistencia == 'n':\n",
    "            # Obtener el índice del estudiante en el DataFrame\n",
    "            indice = estudiantes[estudiantes['Nombre'] == estudiante_aleatorio].index[0]\n",
    "            # Incrementar su valor en la columna 'Parcial'\n",
    "            estudiantes.at[indice, 'Asistencia'] += 4\n",
    "            print(f\"Actualizado: {estudiante_aleatorio} ahora tiene {estudiantes.at[indice,\\\n",
    "                'Asistencia']} en la columna 'Asistencia'.\")\n",
    "        \n",
    "        elif asistencia != 's':\n",
    "            print(\"Entrada inválida. Por favor, introduce 's' para sí o 'n' para no.\")\n",
    "            return  # Volver a preguntar para el mismo estudiante si la entrada es inválida\n",
    "        \n",
    "        # Remover al estudiante de la lista para no llamarlo de nuevo\n",
    "        lista_estudiantes.remove(estudiante_aleatorio)\n",
    "    else:\n",
    "        print(\"Se han llamado a todos los estudiantes del grupo completo.\")\n",
    "\n",
    "# Función para guardar cambios al final de la sesión\n",
    "def guardar_cambios():\n",
    "    estudiantes.to_csv(path, index=False)\n",
    "    print(\"Cambios guardados en el archivo CSV.\")\n",
    "\n",
    "# Ejemplo de uso\n",
    "while lista_estudiantes:\n",
    "    asistencia()\n",
    "\n",
    "# Guardar los cambios una vez que todos los estudiantes hayan sido llamados\n",
    "guardar_cambios()\n",
    "\n"
   ]
  },
  {
   "cell_type": "markdown",
   "id": "d7598d0a-d9b7-4ae0-b029-a0ed6ed1130b",
   "metadata": {},
   "source": [
    "\n",
    "# Principios de mi labor docente"
   ]
  },
  {
   "cell_type": "markdown",
   "id": "4f9d8cf9",
   "metadata": {
    "slideshow": {
     "slide_type": "slide"
    }
   },
   "source": [
    "## Modelo general de clase: [aula invertida](https://www3.gobiernodecanarias.org/medusa/ecoescuela/pedagotic/aprendizaje-invertido-flipped-classroom/)"
   ]
  },
  {
   "cell_type": "markdown",
   "id": "eb6ed03a",
   "metadata": {},
   "source": [
    "<img src = 'https://resources.maneuveringthemiddle.com/wp-content/uploads/2020/07/04212706/1-5.png' width = 200>  \n",
    "\n"
   ]
  },
  {
   "cell_type": "markdown",
   "id": "34319cce-a71b-4f64-aab8-b53e521efa40",
   "metadata": {},
   "source": [
    "# Metodología de enseñanza basada en problemas (ABP)\n"
   ]
  },
  {
   "cell_type": "markdown",
   "id": "c4f73d81",
   "metadata": {},
   "source": [
    "\n",
    "<img src = 'https://www.unir.net/wp-content/uploads/2020/07/aprendizaje-problemas2-1-1-1-1.jpeg' width = 200>"
   ]
  },
  {
   "cell_type": "markdown",
   "id": "841a985c-bd9b-4dd3-8e4c-893983980af2",
   "metadata": {},
   "source": [
    "# Desarrollo del pensamiento computacional con Lenguaje Python y R y con archivos Markdown, orientado a la formación en ciencia de datos \n",
    "\n"
   ]
  },
  {
   "cell_type": "markdown",
   "id": "3d0eba94",
   "metadata": {},
   "source": [
    "\n",
    "<img src = 'https://i.ytimg.com/vi/mcG_wcR4e6M/maxresdefault.jpg' width = 200>"
   ]
  },
  {
   "cell_type": "markdown",
   "id": "65aa0404-f7ae-495e-864c-1aec01b4255e",
   "metadata": {},
   "source": [
    "# Principio de fomento a la ciencia abierta, enseñar en el acceso a los datos públicos y el uso de software de código abierto  \n"
   ]
  },
  {
   "cell_type": "markdown",
   "id": "18ae9b87",
   "metadata": {},
   "source": [
    "\n",
    "<img src = 'https://unesdoc.unesco.org/in/rest/Thumb/image?id=p%3A%3Ausmarcdef_0000379949_spa&author=UNESCO&title=Recomendaci%C3%B3n+de+la+UNESCO+sobre+la+Ciencia+Abierta&year=2021&publisher=UNESCO&TypeOfDocument=UnescoPhysicalDocument&mat=PGD&ct=true&size=512&isPhysical=1' width = 200>"
   ]
  },
  {
   "cell_type": "markdown",
   "id": "d9559f85",
   "metadata": {},
   "source": [
    "El enfoque STEAMS en educación preescolar, primaria y secundaria es una extensión del enfoque STEM (Ciencia, Tecnología, Ingeniería y Matemáticas) y su variante STEAM, que incorpora el Arte. "
   ]
  },
  {
   "cell_type": "markdown",
   "id": "72e1cfd2",
   "metadata": {},
   "source": [
    "El acrónimo STEAMS incluye:\n"
   ]
  },
  {
   "cell_type": "markdown",
   "id": "03182fd1",
   "metadata": {},
   "source": [
    "\n",
    "1. **Science (Ciencia):** Fomenta la curiosidad por el mundo natural y el desarrollo de habilidades científicas, como la observación, experimentación y análisis.\n"
   ]
  },
  {
   "cell_type": "markdown",
   "id": "1306d0fa",
   "metadata": {},
   "source": [
    "\n",
    "2. **Technology (Tecnología):** Integra herramientas tecnológicas para potenciar el aprendizaje y la resolución de problemas, promoviendo la alfabetización digital desde edades tempranas.\n"
   ]
  },
  {
   "cell_type": "markdown",
   "id": "3b1a53e8",
   "metadata": {},
   "source": [
    "\n",
    "3. **Engineering (Ingeniería):** Introduce el pensamiento lógico y la resolución de problemas estructurados, fomentando habilidades como el diseño y la construcción de soluciones.\n"
   ]
  },
  {
   "cell_type": "markdown",
   "id": "0196de87",
   "metadata": {},
   "source": [
    "\n",
    "4. **Arts (Arte):** Añade creatividad y pensamiento crítico, permitiendo a los estudiantes expresarse y explorar el aprendizaje a través de formas artísticas (plásticas, música, teatro).\n"
   ]
  },
  {
   "cell_type": "markdown",
   "id": "8bcc485a",
   "metadata": {},
   "source": [
    "\n",
    "5. **Mathematics (Matemáticas):** Refuerza las habilidades numéricas y el razonamiento lógico, fundamentales en la resolución de problemas y comprensión de conceptos abstractos.\n"
   ]
  },
  {
   "cell_type": "markdown",
   "id": "907935f4",
   "metadata": {},
   "source": [
    "\n",
    "6. **Social Sciences (Ciencias Sociales):** Incorpora la comprensión del entorno social, político, cultural y económico, promoviendo el desarrollo de la conciencia crítica sobre el mundo y su historia, además de habilidades de empatía y ciudadanía.\n"
   ]
  },
  {
   "cell_type": "markdown",
   "id": "39967d63",
   "metadata": {},
   "source": [
    "\n",
    "El enfoque STEAMS pretende desarrollar un aprendizaje **interdisciplinario** que integre estas áreas para fomentar un pensamiento más holístico y práctico. "
   ]
  },
  {
   "cell_type": "markdown",
   "id": "5145f077",
   "metadata": {},
   "source": [
    "Se busca que los estudiantes no solo aprendan conocimientos técnicos, sino también cómo aplicarlos creativa y críticamente en situaciones reales, promoviendo habilidades como el trabajo en equipo, la comunicación y la innovación. "
   ]
  },
  {
   "cell_type": "markdown",
   "id": "9d556584",
   "metadata": {},
   "source": [
    "En educación preescolar, primaria, secundaria y superior, se adapta a las diferentes etapas de desarrollo cognitivo y emocional de los estudiantes, promoviendo el aprendizaje activo y contextualizado.  \n"
   ]
  },
  {
   "cell_type": "markdown",
   "id": "0130ec1b",
   "metadata": {},
   "source": [
    "\n",
    "<img src = 'https://www.campuseducacion.com/blog/wp-content/uploads/2023/03/foto01-1.jpg' width = 200>"
   ]
  },
  {
   "cell_type": "markdown",
   "id": "9d15c10d-2c02-4158-9419-b1ed79b4c1ee",
   "metadata": {},
   "source": [
    "# Qué estamos haciendo por la internalización en esta clase y este curso  \n"
   ]
  },
  {
   "cell_type": "markdown",
   "id": "6e4feef2",
   "metadata": {},
   "source": [
    "Estas son mis acciones como docente de matemáticas en la Universidad de Antioquia con miras a la **internacionalización** de mi práctica docente y el desarrollo de competencias internacionales para mis estudiantes, ls cuales he estructurado con el siguiente enfoque:\n"
   ]
  },
  {
   "cell_type": "markdown",
   "id": "964d9de7-53ee-4255-9bcd-d8e6454f2993",
   "metadata": {},
   "source": [
    "### 1. **Visión Global en la Formación Académica**\n"
   ]
  },
  {
   "cell_type": "markdown",
   "id": "d9bdd3e2",
   "metadata": {},
   "source": [
    "   - **Competencias Internacionales**: Asegúrate de que el contenido de tus cursos fomente habilidades que sean reconocidas globalmente. "
   ]
  },
  {
   "cell_type": "markdown",
   "id": "843e9311",
   "metadata": {},
   "source": [
    "Al educar a los estudiantes en **Python, LaTeX, Markdown y Jupyter Notebooks** y en la **introducción a la ciencia de datos y técnicas de Machine Learning**, estás proporcionando competencias altamente demandadas en los sectores tecnológicos y académicos a nivel internacional.\n"
   ]
  },
  {
   "cell_type": "markdown",
   "id": "39b55206",
   "metadata": {},
   "source": [
    "   - **Relevancia de los Contenidos**: Destaca cómo los temas que enseñas, como el **desarrollo del pensamiento computacional** y la **ciencia de datos**, están alineados con las necesidades globales actuales en diversas industrias, desde la tecnología hasta las ciencias naturales y sociales.\n"
   ]
  },
  {
   "cell_type": "markdown",
   "id": "a054599e",
   "metadata": {},
   "source": [
    "   - **Referencias a Estándares Internacionales**: Puedes vincular tu enseñanza a estándares internacionales de competencias en programación y ciencia de datos (por ejemplo, frameworks del **IEEE, ACM**, y estándares de la **data science** o la **computación en la nube**)."
   ]
  },
  {
   "cell_type": "markdown",
   "id": "0f1d110c-3142-48fe-9e7d-5fbd9e8bb931",
   "metadata": {},
   "source": [
    "### 2. **Innovación Pedagógica con Enfoque Internacional**\n"
   ]
  },
  {
   "cell_type": "markdown",
   "id": "fae6ae34",
   "metadata": {},
   "source": [
    "   - **Aula Invertida y ABP**: Presenta cómo tu enfoque de **aula invertida** y **aprendizaje basado en problemas (ABP)** permite a los estudiantes trabajar de manera autónoma y colaborativa, lo que los prepara para escenarios laborales internacionales que requieren autoaprendizaje y habilidades de resolución de problemas en equipo.\n"
   ]
  },
  {
   "cell_type": "markdown",
   "id": "c83062d9",
   "metadata": {},
   "source": [
    "   - **Uso de Jupyter Notebooks**: El uso de **Jupyter Notebooks** en tus clases no solo facilita la **integración de código, matemáticas y texto**, sino que también es una plataforma utilizada globalmente en ambientes académicos y profesionales, lo que hace a tus estudiantes más competitivos internacionalmente."
   ]
  },
  {
   "cell_type": "markdown",
   "id": "960d52b7-03cd-4eb3-965e-5cdfeb7d9f8e",
   "metadata": {},
   "source": [
    "### 3. **Tecnología y Herramientas de Uso Global**\n"
   ]
  },
  {
   "cell_type": "markdown",
   "id": "4be7269f",
   "metadata": {},
   "source": [
    "   - **Lenguaje Python**: Python es uno de los lenguajes de programación más usados a nivel mundial, tanto en la academia como en la industria. "
   ]
  },
  {
   "cell_type": "markdown",
   "id": "5abb1c38",
   "metadata": {},
   "source": [
    "Al formar a tus estudiantes en Python para ciencia de datos y machine learning, los preparas para operar en entornos tecnológicos globales.\n"
   ]
  },
  {
   "cell_type": "markdown",
   "id": "102655af",
   "metadata": {},
   "source": [
    "   - **Herramientas de Ciencia Abierta**: Resalta cómo herramientas como **GitHub**, **Google Colab** y otras plataformas de código abierto están alineadas con el movimiento de **ciencia abierta**, el cual es internacionalmente reconocido y permite que los estudiantes colaboren y compartan proyectos a nivel global."
   ]
  },
  {
   "cell_type": "markdown",
   "id": "3b2ffa32-7a6f-4545-ba7b-c6a69f51109f",
   "metadata": {},
   "source": [
    "### 4. **Investigación y Publicaciones Internacionales**\n"
   ]
  },
  {
   "cell_type": "markdown",
   "id": "bdbf52a5",
   "metadata": {},
   "source": [
    "   - **Promoción de la Investigación**: Detalla cómo promueves que tus estudiantes participen en proyectos de **investigación aplicada**, con posibilidad de publicación en revistas internacionales. "
   ]
  },
  {
   "cell_type": "markdown",
   "id": "1bb10e37",
   "metadata": {},
   "source": [
    "Esto contribuye a la reputación internacional de la Universidad de Antioquia.\n"
   ]
  },
  {
   "cell_type": "markdown",
   "id": "ea01fcbc",
   "metadata": {},
   "source": [
    "   - **Colaboraciones Internacionales**: Si has colaborado con investigadores de otras instituciones o universidades en el extranjero, menciona estos proyectos y cómo han enriquecido tu enseñanza y proporcionado a los estudiantes una visión más globalizada."
   ]
  },
  {
   "cell_type": "markdown",
   "id": "5d1e396e-aece-4bf7-9421-32fa7809eaf4",
   "metadata": {},
   "source": [
    "## 5. **Uso del Inglés para la Internacionalización**\n"
   ]
  },
  {
   "cell_type": "markdown",
   "id": "29cabf26",
   "metadata": {},
   "source": [
    "   - **Comunicación Científica en Inglés**: "
   ]
  },
  {
   "cell_type": "markdown",
   "id": "8ec53ff3",
   "metadata": {},
   "source": [
    "Fomentar el aprendizaje del inglés como lengua científica es clave para que tus estudiantes puedan acceder a publicaciones internacionales, conferencias, y material académico que no está disponible en español. "
   ]
  },
  {
   "cell_type": "markdown",
   "id": "3319ddb0",
   "metadata": {},
   "source": [
    "Esto es esencial para que adquieran competencias que les permitan desempeñarse en cualquier contexto internacional.\n"
   ]
  },
  {
   "cell_type": "markdown",
   "id": "b831224f",
   "metadata": {},
   "source": [
    "   - **Material Bilingüe**: Al generar material educativo en Python, LaTeX y Markdown, considera ofrecer algunos de estos recursos en inglés, para que los estudiantes se familiaricen con el vocabulario técnico y científico internacional."
   ]
  },
  {
   "cell_type": "markdown",
   "id": "c6a8c3b0-426a-4692-a384-3065aea81c9a",
   "metadata": {},
   "source": [
    "### 6. **Certificaciones y Estándares Internacionales**\n"
   ]
  },
  {
   "cell_type": "markdown",
   "id": "b1f41da5",
   "metadata": {},
   "source": [
    "   - **Participación en Certificaciones Internacionales**: Impulsa que los estudiantes busquen certificaciones internacionales en Python o ciencia de datos (como las ofrecidas por **Coursera, edX,** o **Google**). "
   ]
  },
  {
   "cell_type": "markdown",
   "id": "3c935f24",
   "metadata": {},
   "source": [
    "Estas certificaciones no solo validan sus competencias, sino que también incrementan el reconocimiento de la Universidad de Antioquia en el contexto internacional.\n"
   ]
  },
  {
   "cell_type": "markdown",
   "id": "7cc66317",
   "metadata": {},
   "source": [
    "   - **Alineación con Acreditaciones Internacionales**: Vincula tu trabajo docente con los estándares de acreditación y certificación que garantizan que la universidad siga siendo reconocida internacionalmente. "
   ]
  },
  {
   "cell_type": "markdown",
   "id": "0f330d59",
   "metadata": {},
   "source": [
    "Puedes vincularte con organizaciones internacionales que promuevan la excelencia en la educación y tecnología, como **ABET** para la acreditación en ingeniería y ciencias computacionales."
   ]
  },
  {
   "cell_type": "markdown",
   "id": "65d3d9e1-ea84-43e0-8197-a2a9c9e21594",
   "metadata": {},
   "source": [
    "### 7. **Proyectos Abiertos y Ciencia Reproducible**\n"
   ]
  },
  {
   "cell_type": "markdown",
   "id": "f03f7b20",
   "metadata": {},
   "source": [
    "   - **GitHub y Open Science**: La utilización de **GitHub** para almacenar los proyectos y materiales de enseñanza en repositorios públicos permite que otros investigadores y educadores internacionales puedan revisar y replicar tu trabajo. "
   ]
  },
  {
   "cell_type": "markdown",
   "id": "b15e6443",
   "metadata": {},
   "source": [
    "Esto contribuye a la creación de una red de colaboración científica abierta.\n"
   ]
  },
  {
   "cell_type": "markdown",
   "id": "9fb139ef",
   "metadata": {},
   "source": [
    "   - **Transparencia y Reproducibilidad**: La ciencia de datos y machine learning están profundamente ligados a la reproducibilidad. "
   ]
  },
  {
   "cell_type": "markdown",
   "id": "6dcc0d62",
   "metadata": {},
   "source": [
    "Asegura que tus estudiantes desarrollen prácticas de transparencia y documentación en la investigación, que son pilares en la comunidad científica global.\n"
   ]
  },
  {
   "cell_type": "markdown",
   "id": "215cb551",
   "metadata": {},
   "source": [
    "\n",
    "### 8. **Participación en Redes y Conferencias Internacionales**\n"
   ]
  },
  {
   "cell_type": "markdown",
   "id": "489c0b8c",
   "metadata": {},
   "source": [
    "   - **Presentación en Conferencias Internacionales**: Destaca cómo tu participación en conferencias internacionales (como la **ASCOLFA** o eventos sobre educación en matemáticas) contribuye al prestigio de la universidad y permite que tus prácticas sean evaluadas y reconocidas a nivel global.\n"
   ]
  },
  {
   "cell_type": "markdown",
   "id": "cdf46e29",
   "metadata": {},
   "source": [
    "   - **Promoción de Estudiantes en Eventos Internacionales**: Impulsa la participación de tus estudiantes en competiciones internacionales de programación o hackathons, como los organizados por **Google**, **ACM** o **Kaggle**. "
   ]
  },
  {
   "cell_type": "markdown",
   "id": "2b0eb8a9",
   "metadata": {},
   "source": [
    "Esto no solo desarrolla sus habilidades, sino que también visibiliza el talento de la Universidad de Antioquia a nivel global.\n",
    "\n",
    "---"
   ]
  },
  {
   "cell_type": "markdown",
   "id": "233294a4-1983-4641-a7ad-866825e02315",
   "metadata": {},
   "source": [
    "Con esta estrategia, presento mis acciones docentes en términos de:  \n",
    "\n",
    "* competencias internacionales, \n",
    "* innovación pedagógica, \n",
    "* tecnología, \n",
    "* investigación y \n",
    "* participación en redes globales, \n",
    "  \n",
    "asegurando que mi práctica esté alineada con los estándares internacionales y que mis estudiantes estén preparados para competir en contextos internacionales."
   ]
  },
  {
   "cell_type": "markdown",
   "id": "77da458b",
   "metadata": {},
   "source": [
    "### **Metodología de Enseñanza: Aprendizaje Basado en Problemas y Proyectos (ABPP)**\n"
   ]
  },
  {
   "cell_type": "markdown",
   "id": "c943d273",
   "metadata": {},
   "source": [
    "\n",
    "El **Aprendizaje Basado en Problemas y Proyectos (ABPP)** es una metodología educativa que integra los enfoques del **Aprendizaje Basado en Problemas (ABP)** y el **Aprendizaje Basado en Proyectos (PBL, por sus siglas en inglés)**. "
   ]
  },
  {
   "cell_type": "markdown",
   "id": "ad0e0bf3",
   "metadata": {},
   "source": [
    "Es especialmente útil para la formación de futuros docentes, ingenieros y administradores, ya que combina el desarrollo de habilidades prácticas con el pensamiento crítico y reflexivo. "
   ]
  },
  {
   "cell_type": "markdown",
   "id": "137b18e2",
   "metadata": {},
   "source": [
    "A continuación, se presenta una descripción adaptada a la enseñanza de las matemáticas en educación infantil, Licenciatura en Matemáticas, Ingeniería Agropecuaria y Administración de Empresas:\n",
    "\n",
    "---\n"
   ]
  },
  {
   "cell_type": "markdown",
   "id": "0eeba3f5",
   "metadata": {},
   "source": [
    "\n",
    "### **1. Fundamentos del ABPP**\n"
   ]
  },
  {
   "cell_type": "markdown",
   "id": "fb051f2b",
   "metadata": {},
   "source": [
    "El ABPP se basa en:\n",
    "- **Resolución de Problemas Reales:** Los estudiantes analizan y resuelven problemas auténticos relacionados con su área de formación, fomentando la aplicación práctica del conocimiento.\n"
   ]
  },
  {
   "cell_type": "markdown",
   "id": "47bb5fcc",
   "metadata": {},
   "source": [
    "- **Proyectos como Herramientas Integradoras:** Los proyectos permiten desarrollar habilidades interdisciplinarias y ofrecer soluciones concretas a los problemas planteados.\n"
   ]
  },
  {
   "cell_type": "markdown",
   "id": "9f77ec82",
   "metadata": {},
   "source": [
    "- **Aprendizaje Activo:** Los estudiantes son responsables de su aprendizaje y participan activamente en el proceso de investigación, diseño y solución.\n",
    "\n",
    "---\n"
   ]
  },
  {
   "cell_type": "markdown",
   "id": "3728d010",
   "metadata": {},
   "source": [
    "\n",
    "### **2. Aplicación del ABPP en Áreas Específicas**\n"
   ]
  },
  {
   "cell_type": "markdown",
   "id": "695a22f2",
   "metadata": {},
   "source": [
    "\n",
    "#### **Educación Infantil (Licenciatura en Educación Infantil)**\n"
   ]
  },
  {
   "cell_type": "markdown",
   "id": "d8eeda88",
   "metadata": {},
   "source": [
    "- **Enfoque:** Desarrollo del pensamiento matemático en la infancia desde contextos lúdicos, familiares y culturales.\n"
   ]
  },
  {
   "cell_type": "markdown",
   "id": "06b737e1",
   "metadata": {},
   "source": [
    "- **Problemas típicos:** \n",
    "  - ¿Cómo enseñar los números naturales mediante actividades prácticas y juegos?\n",
    "  - ¿Qué estrategias pueden emplearse para abordar el concepto de cantidad en edades tempranas?\n"
   ]
  },
  {
   "cell_type": "markdown",
   "id": "e92ccc6d",
   "metadata": {},
   "source": [
    "- **Proyectos:** Diseño de secuencias didácticas que usen Python, Jupyter Notebooks y materiales manipulativos para enseñar matemáticas de forma interactiva.\n"
   ]
  },
  {
   "cell_type": "markdown",
   "id": "9c58539c",
   "metadata": {},
   "source": [
    "- **Competencias desarrolladas:** \n",
    "  - Uso de herramientas tecnológicas para diseñar actividades educativas.\n",
    "  - Comprensión del desarrollo cognitivo infantil y su relación con las matemáticas.\n"
   ]
  },
  {
   "cell_type": "markdown",
   "id": "481f614a",
   "metadata": {},
   "source": [
    "\n",
    "#### **Licenciatura en Matemáticas**\n"
   ]
  },
  {
   "cell_type": "markdown",
   "id": "ef50ed64",
   "metadata": {},
   "source": [
    "- **Enfoque:** Resolución de problemas matemáticos aplicados y profundización teórica en áreas como análisis matemático y modelado.\n"
   ]
  },
  {
   "cell_type": "markdown",
   "id": "69305cb7",
   "metadata": {},
   "source": [
    "- **Problemas típicos:**\n",
    "  - ¿Cómo se pueden resolver ecuaciones diferenciales aplicadas a modelos físicos o económicos?\n",
    "  - ¿Cómo modelar fenómenos naturales mediante funciones matemáticas?\n"
   ]
  },
  {
   "cell_type": "markdown",
   "id": "1e4ab50a",
   "metadata": {},
   "source": [
    "- **Proyectos:** \n",
    "  - Desarrollo de software educativo para explorar conceptos matemáticos.\n",
    "  - Aplicación de modelado matemático para resolver problemas reales en otras disciplinas.\n"
   ]
  },
  {
   "cell_type": "markdown",
   "id": "d7fa6846",
   "metadata": {},
   "source": [
    "- **Competencias desarrolladas:**\n",
    "  - Dominio de la matemática teórica y aplicada.\n",
    "  - Uso de tecnología para la enseñanza y la investigación.\n"
   ]
  },
  {
   "cell_type": "markdown",
   "id": "83ab236f",
   "metadata": {},
   "source": [
    "\n",
    "#### **Ingeniería Agropecuaria**\n",
    "- **Enfoque:** Modelado matemático y análisis de datos para mejorar la producción agrícola y la gestión de recursos.\n"
   ]
  },
  {
   "cell_type": "markdown",
   "id": "bd9a5958",
   "metadata": {},
   "source": [
    "- **Problemas típicos:**\n",
    "  - ¿Cómo modelar el crecimiento de cultivos considerando variables climáticas?\n",
    "  - ¿Cómo optimizar el uso del agua en sistemas de riego mediante análisis matemático?\n"
   ]
  },
  {
   "cell_type": "markdown",
   "id": "658211a3",
   "metadata": {},
   "source": [
    "- **Proyectos:** \n",
    "  - Desarrollo de modelos predictivos con Python y bibliotecas de aprendizaje automático.\n",
    "  - Implementación de proyectos que combinen matemáticas y ciencias de datos para resolver problemas agrícolas.\n"
   ]
  },
  {
   "cell_type": "markdown",
   "id": "f2c01339",
   "metadata": {},
   "source": [
    "- **Competencias desarrolladas:**\n",
    "  - Integración de matemáticas con tecnologías avanzadas.\n",
    "  - Resolución de problemas agropecuarios mediante análisis y modelado.\n"
   ]
  },
  {
   "cell_type": "markdown",
   "id": "c4519bb3",
   "metadata": {},
   "source": [
    "\n",
    "#### **Administración de Empresas**\n"
   ]
  },
  {
   "cell_type": "markdown",
   "id": "cab1407c",
   "metadata": {},
   "source": [
    "- **Enfoque:** Uso de las matemáticas y la ciencia de datos para la toma de decisiones estratégicas.\n"
   ]
  },
  {
   "cell_type": "markdown",
   "id": "fb28dc0c",
   "metadata": {},
   "source": [
    "- **Problemas típicos:**\n",
    "  - ¿Cómo identificar patrones de comportamiento del consumidor usando series de tiempo?\n",
    "  - ¿Qué estrategias matemáticas pueden optimizar la asignación de recursos en una empresa?\n"
   ]
  },
  {
   "cell_type": "markdown",
   "id": "4de70bc1",
   "metadata": {},
   "source": [
    "- **Proyectos:** \n",
    "  - Implementación de modelos de análisis financiero y simulaciones.\n",
    "  - Desarrollo de dashboards interactivos para la gestión de datos empresariales.\n"
   ]
  },
  {
   "cell_type": "markdown",
   "id": "5bcb6e9e",
   "metadata": {},
   "source": [
    "- **Competencias desarrolladas:**\n",
    "  - Habilidad para interpretar datos matemáticos en contextos de negocio.\n",
    "  - Capacidad para diseñar soluciones basadas en datos.\n",
    "\n",
    "---\n"
   ]
  },
  {
   "cell_type": "markdown",
   "id": "19be58d4",
   "metadata": {},
   "source": [
    "\n",
    "### **3. Beneficios del ABPP**\n"
   ]
  },
  {
   "cell_type": "markdown",
   "id": "4880978f",
   "metadata": {},
   "source": [
    "- **Desarrollo de competencias clave:**\n"
   ]
  },
  {
   "cell_type": "markdown",
   "id": "3ca107e2",
   "metadata": {},
   "source": [
    "  - Pensamiento crítico y creativo.\n",
    "  - Trabajo colaborativo.\n",
    "  - Comunicación efectiva.\n",
    "  - Uso de herramientas tecnológicas avanzadas.\n"
   ]
  },
  {
   "cell_type": "markdown",
   "id": "7cfc1250",
   "metadata": {},
   "source": [
    "- **Adaptación al contexto laboral:** Los estudiantes aprenden a enfrentar desafíos del mundo real y a diseñar soluciones prácticas y aplicables.\n"
   ]
  },
  {
   "cell_type": "markdown",
   "id": "da40f888",
   "metadata": {},
   "source": [
    "- **Flexibilidad e interdisciplinariedad:** La metodología se adapta a diversas áreas, fomentando el aprendizaje integrado.\n",
    "\n",
    "---\n"
   ]
  },
  {
   "cell_type": "markdown",
   "id": "e36034c3",
   "metadata": {},
   "source": [
    "\n",
    "### **4. Ejemplo General de Implementación**\n"
   ]
  },
  {
   "cell_type": "markdown",
   "id": "76763c0f",
   "metadata": {},
   "source": [
    "1. **Identificación del problema:** Se plantea un desafío concreto, como modelar el crecimiento poblacional de una comunidad rural (Ingeniería Agropecuaria) o diseñar una estrategia para enseñar fracciones a niños de 8 años (Educación Infantil).\n"
   ]
  },
  {
   "cell_type": "markdown",
   "id": "efe1e5dd",
   "metadata": {},
   "source": [
    "2. **Formación de equipos:** Los estudiantes trabajan en grupos, distribuyendo roles y tareas.\n"
   ]
  },
  {
   "cell_type": "markdown",
   "id": "9004e59b",
   "metadata": {},
   "source": [
    "3. **Investigación y diseño:** Los estudiantes investigan el problema, proponen soluciones y diseñan un proyecto.\n"
   ]
  },
  {
   "cell_type": "markdown",
   "id": "b3e682e4",
   "metadata": {},
   "source": [
    "4. **Implementación:** Se desarrolla el proyecto, como una herramienta tecnológica o una propuesta pedagógica.\n"
   ]
  },
  {
   "cell_type": "markdown",
   "id": "2e627c98",
   "metadata": {},
   "source": [
    "5. **Evaluación:** Los estudiantes presentan sus resultados en un informe o una exposición, recibiendo retroalimentación de sus compañeros y docentes.\n",
    "\n",
    "---\n"
   ]
  },
  {
   "cell_type": "markdown",
   "id": "5a8bc842",
   "metadata": {},
   "source": [
    "\n",
    "El ABPP es una metodología versátil que conecta el conocimiento teórico con la práctica, preparando a los estudiantes para los retos de sus profesiones en la enseñanza de la matemática, la ingeniería y la administración."
   ]
  },
  {
   "cell_type": "markdown",
   "id": "8d97dc80",
   "metadata": {
    "slideshow": {
     "slide_type": "slide"
    }
   },
   "source": [
    "## Fomento de la lectura literaria asociada a Ingeniería agropecuaria y licenciatura en Matemáticas\n",
    "\n",
    "[Inteligencia Emocional. Daniel Goleman]()"
   ]
  },
  {
   "cell_type": "markdown",
   "id": "96775931",
   "metadata": {
    "slideshow": {
     "slide_type": "slide"
    }
   },
   "source": [
    "## Título de la clase: Integración definida e indefinida con el método de u-sustitución (Ragla de la cadena para integración) para Ingeniería Agropecuaria con aplicaciones a problemas del Agro Caucasiano \n",
    "\n",
    "[Cálculo Diferencial e Integral de Purcell](chrome-extension://efaidnbmnnnibpcajpcglclefindmkaj/https://www.cimat.mx/ciencia_para_jovenes/bachillerato/libros/[Purcell,Varberg,Rigdon]Calculo/[Purcell,Varberg,Rigdon]Calculo.pdf)"
   ]
  },
  {
   "cell_type": "markdown",
   "id": "10e55ccf",
   "metadata": {},
   "source": [
    "# Estructura general para todas las clases\n",
    "\n",
    "Dame, por favor, un diseño de clase, con el enfoque: \"Aula Invertida, STEAMS y de Aprendizaje Basado en Problemas y Proyectos(ABPP)\" sobre: \"Integración definida e indefinida con el método de u-sustitución (Ragla de la cadena para integración) con aplicaciones a Ingeniería Agropecuaria\", siguiendo la estructura:  \n",
    "\n",
    "1. Título de la clase   \n",
    "   \n",
    "2. Objetivos de aprendizaje que incluyan los indicadores del logro de estos objetivos.  \n",
    "   \n",
    "3. Un mapa conceptual que resuma la clase elaborado en Graphviz de python con nodos y edges de diferentes formas, colores y rellenos y renderizado en la siguiente ubicación: `\"C:/Users/marco/Descargas\"`. No olvides el parámetro `view = True` para el método `render()` de Graphviz. Para este mapa controla las superposiciones de los nodos con: graph [overlap=false]; // Elimina superposiciones (puede aumentar el espacio)\n",
    "graph [overlap=\"scalexy\"]; // Escala el gráfico para evitar overlaps\n",
    "graph [overlap=\"compress\"]; // Comprime el grafo sin overlaps  \n",
    "\n",
    "4. Dame elementos históricos y epistemológicos asociados a esta clase, pero contados como una forma narrativa al estilo de un cuentero antioqueño en Colombia. Incluye imágenes de los protagonistas históricos de esta clase.   \n",
    "   \n",
    "5. Contenido de la clase. Que el contenido parta de una situación real para llegar a una constitución del modelo matemático que represente tal situación real.   \n",
    "   \n",
    "6. Actividades de aprendizaje: \n",
    "     - Actividad 1: Uso de la Calculadora Casio fx 991 LA cw para calcular integrales definidas por métodos numéricos. \n",
    "     - Actividad 2: ¿Cuál es el método numérico que utiliza la calculadora Casio fx 991 LA cw para calcular integrales  \n",
    "       definidas?\n",
    "   \n",
    "7. Incluye una canción o un poema que ayude a interiorizar y fijar los conceptos asociados a esta clase.   \n",
    "   \n",
    "8. Tarea o actividades de ejercitación y fijación.   \n",
    "   \n",
    "9.  Evaluación incluyendo diez proyectos, un ejemplo de quiz (de tres preguntas) y un ejemplo de parcial (de cinco puntos)  \n",
    "    \n",
    "10.  Diseño de actividad de retroalimentación.   \n",
    "    \n",
    "11.  Dame un vocabulario y frases del idioma inglés asociadas a esta clase.   \n",
    "    \n",
    "12.  Incluye apéndice para la clase sobre desarrollo de habilidades para trabajar en equipo y de asertividad y empatía para relacionarnos. También elementos de la inteligencia emocional para presentar pruebas sin temor y sin realizar fraude en ellas.    \n",
    "     \n",
    "13. Incluye 10 referentes en didáctica de la matemática que estén de acuerdo a la propuesta didáctica de esta clase. Adiciona a estos referentes a Raymond Duval (Representaciones y cambios de representación para la adquisición de conceptos matemáticos) y a Jeannette Wing (Desarrollo del pensamiento computacional). Dejame todos estos referentes ordenados de acuerdo a las normas APA. Dejame todos estos referentes ordenados de acuerdo a las normas APA. Incluye las citaciones a estos referentes a medida que vallas diseñando la clase. \n",
    "\n",
    "Pero  que este diseño sea para que el estudiante pueda aprender experimentando en cuadernos Jupyter con funciones de usuario y animaciones y visualizaciones en python. En particular utiliza para el diseño de clase a Numpy, Pandas, SymPy, Matplotlib.pyplot, Seaborn, Plotly, ipywidgets, matplotlib.animation y Jupyter Notebook.  Cada vez que utilices `matplotlib.animacion` no olvides incluir el uso de `IPython. display` para la rederización de estas animaciones a través de Jupyter Notebook. No olvides darme los diseños de clase con las ecuaciones matemáticas delimitadas con signo de dolar $ para que VS Code si me renderize estas expresiones del lenguaje latex. Cuando vallas a utilizar ipywidgets ten en cuenta la siguiente importación inicial para garantizar que la visualización interactiva si se renderize en VS Code:  \n",
    "import numpy as np  \n",
    "import matplotlib.pyplot as plt  \n",
    "import ipywidgets as widgets  \n",
    "from IPython.display import display, clear_output  \n",
    "from matplotlib.patches import Rectangle  \n",
    "\n",
    "# Configuración inicial para visualización estática  \n",
    "%matplotlib inline "
   ]
  },
  {
   "cell_type": "code",
   "execution_count": 4,
   "id": "81235e9f",
   "metadata": {},
   "outputs": [],
   "source": [
    "path_image = r'C:/Users/marco/Descargas'\n",
    "def save_fig(nombre_archivo_imagen):\n",
    "    import os \n",
    "    import matplotlib.pyplot as plt \n",
    "    imagen_path = os.path.join(path_image, nombre_archivo_imagen)\n",
    "    plt.savefig(imagen_path, bbox_inches='tight')"
   ]
  },
  {
   "cell_type": "markdown",
   "id": "77c36f6d",
   "metadata": {},
   "source": [
    "A continuación, te presento un diseño de clase detallado que integra el enfoque de \"Aula Invertida, STEAMS y Aprendizaje Basado en Problemas y Proyectos (ABPP)\" sobre el tema de \"Integración definida e indefinida con el método de sustitución (Regla de la cadena para integración)\". "
   ]
  },
  {
   "cell_type": "markdown",
   "id": "0248efdd",
   "metadata": {},
   "source": [
    "Este diseño está pensado para ser implementado en cuadernos Jupyter con funciones de usuario, animaciones y visualizaciones en Python, utilizando las bibliotecas mencionadas.\n",
    "\n",
    "\n"
   ]
  },
  {
   "cell_type": "markdown",
   "id": "94db78eb",
   "metadata": {},
   "source": [
    "\n",
    "# 1. **Título de la clase**  \n",
    "**\"Integración definida e indefinida con el método de sustitución: Aplicaciones en problemas reales usando Python\"**\n",
    "\n",
    "---\n"
   ]
  },
  {
   "cell_type": "markdown",
   "id": "a3c1b852",
   "metadata": {},
   "source": [
    "\n",
    "### 2. **Objetivos de aprendizaje**  \n",
    "- **Objetivo general:**  \n",
    "  Comprender y aplicar el método de sustitución (Regla de la cadena para integración) en la resolución de integrales definidas e indefinidas, utilizando herramientas computacionales como Python para visualizar y experimentar con los conceptos.  \n"
   ]
  },
  {
   "cell_type": "markdown",
   "id": "ce55263f",
   "metadata": {},
   "source": [
    "\n",
    "- **Objetivos específicos e indicadores de logro:**  \n"
   ]
  },
  {
   "cell_type": "markdown",
   "id": "c536d639",
   "metadata": {},
   "source": [
    "  1. Identificar situaciones reales que requieren el uso de integrales definidas e indefinidas.  \n",
    "     - *Indicador:* El estudiante describe al menos dos situaciones reales donde se aplica la integración.  \n",
    "  2. Aplicar el método de sustitución para resolver integrales indefinidas.  \n",
    "     - *Indicador:* El estudiante resuelve correctamente al menos tres integrales indefinidas usando sustitución.  \n",
    "  3. Utilizar el método de sustitución para calcular integrales definidas.  \n",
    "     - *Indicador:* El estudiante calcula correctamente al menos dos integrales definidas usando sustitución.  \n",
    "  4. Visualizar y animar el proceso de integración usando Python.  \n",
    "     - *Indicador:* El estudiante crea una animación en Python que muestra el proceso de integración.  \n",
    "  5. Trabajar en equipo para resolver un proyecto aplicado.  \n",
    "     - *Indicador:* El estudiante participa activamente en la resolución de un proyecto grupal.  \n",
    "\n",
    "---\n"
   ]
  },
  {
   "cell_type": "markdown",
   "id": "ead02424",
   "metadata": {},
   "source": [
    "\n",
    "### 3. **Mapa conceptual**  \n",
    "El mapa conceptual se genera usando Graphviz en Python. El código para generarlo es el siguiente:  \n",
    "\n",
    "\n"
   ]
  },
  {
   "cell_type": "code",
   "execution_count": 1,
   "id": "58ac159a",
   "metadata": {},
   "outputs": [
    {
     "data": {
      "text/plain": [
       "'C:\\\\Users\\\\marco\\\\Downloads\\\\mapa_integracion.png'"
      ]
     },
     "execution_count": 1,
     "metadata": {},
     "output_type": "execute_result"
    }
   ],
   "source": [
    "from graphviz import Digraph\n",
    "\n",
    "# Crear el gráfico\n",
    "graph = Digraph(comment='Integración por sustitución', format='png')\n",
    "graph.attr(overlap='scalexy')  # Evitar superposiciones\n",
    "\n",
    "# Nodos\n",
    "graph.node('A', 'Integración por sustitución', shape='ellipse', color='blue', style='filled', fillcolor='lightblue')\n",
    "graph.node('B', 'Integral indefinida', shape='box', color='red', style='filled', fillcolor='pink')\n",
    "graph.node('C', 'Integral definida', shape='box', color='red', style='filled', fillcolor='pink')\n",
    "graph.node('D', 'Regla de la cadena', shape='diamond', color='green', style='filled', fillcolor='lightgreen')\n",
    "graph.node('E', 'Aplicaciones reales', shape='ellipse', color='orange', style='filled', fillcolor='yellow')\n",
    "graph.node('F', 'Visualización en Python', shape='ellipse', color='purple', style='filled', fillcolor='lavender')\n",
    "\n",
    "# Edges (conexiones)\n",
    "graph.edge('A', 'B', label='Resuelve')\n",
    "graph.edge('A', 'C', label='Resuelve')\n",
    "graph.edge('A', 'D', label='Usa')\n",
    "graph.edge('B', 'E', label='Aplica en')\n",
    "graph.edge('C', 'E', label='Aplica en')\n",
    "graph.edge('E', 'F', label='Visualiza con')\n",
    "\n",
    "# Renderizar y guardar\n",
    "graph.render(directory='C:/Users/marco/Downloads', filename='mapa_integracion', view=True)\n"
   ]
  },
  {
   "cell_type": "markdown",
   "id": "39c464bc",
   "metadata": {},
   "source": [
    "### 4. **Elementos históricos y epistemológicos**  \n",
    "**El cuento de la integración por sustitución:**  \n",
    "Hace muchos años, en los albores del cálculo, dos grandes mentes, **Isaac Newton** y **Gottfried Leibniz**, estaban enfrascados en una batalla intelectual por descubrir los secretos del cambio y el movimiento. Newton, con su enfoque físico, y Leibniz, con su elegancia matemática, dieron vida al cálculo diferencial e integral.  \n",
    "\n",
    "Un día, Leibniz se encontró con un problema: ¿cómo simplificar integrales complicadas? Fue entonces cuando, inspirado por la regla de la cadena de la derivación, ideó el método de sustitución. \"Si podemos descomponer una función en partes más simples, ¿por qué no hacer lo mismo con las integrales?\", pensó.  \n",
    "\n",
    "Así nació la integración por sustitución, una técnica que permite transformar integrales complejas en otras más manejables. Hoy, esta técnica es fundamental en campos como la física, la ingeniería y la economía.  \n"
   ]
  },
  {
   "cell_type": "markdown",
   "id": "61d62d89",
   "metadata": {},
   "source": [
    "\n",
    "**Imágenes de los protagonistas:**  \n",
    "- [Isaac Newton](https://upload.wikimedia.org/wikipedia/commons/3/39/GodfreyKneller-IsaacNewton-1689.jpg)  \n",
    "- [Gottfried Leibniz](https://upload.wikimedia.org/wikipedia/commons/6/6a/Gottfried_Wilhelm_Leibniz.jpg)  \n",
    "\n",
    "<img src = 'newton_leibniz_integracion_agro.webp'>"
   ]
  },
  {
   "cell_type": "code",
   "execution_count": 4,
   "id": "3ecb11bb",
   "metadata": {},
   "outputs": [],
   "source": [
    "from PIL import Image\n",
    "\n",
    "def convertir_webp_a_jpeg(ruta_webp, ruta_jpeg, calidad=95):\n",
    "    \"\"\"\n",
    "    Convierte una imagen .webp a .jpeg.\n",
    "\n",
    "    Parámetros:\n",
    "    - ruta_webp (str): Ruta de la imagen .webp de entrada.\n",
    "    - ruta_jpeg (str): Ruta donde se guardará la imagen .jpeg.\n",
    "    - calidad (int): Calidad de la imagen .jpeg (por defecto 95).\n",
    "\n",
    "    Retorna:\n",
    "    - None\n",
    "    \"\"\"\n",
    "    try:\n",
    "        # Abrir la imagen .webp\n",
    "        with Image.open(ruta_webp) as img:\n",
    "            # Convertir y guardar como .jpeg\n",
    "            img.convert(\"RGB\").save(ruta_jpeg, \"JPEG\", quality=calidad)\n",
    "        print(f\"Imagen convertida y guardada en: {ruta_jpeg}\")\n",
    "    except Exception as e:\n",
    "        print(f\"Error al convertir la imagen: {e}\")\n"
   ]
  },
  {
   "cell_type": "code",
   "execution_count": 6,
   "id": "4fe3e821",
   "metadata": {},
   "outputs": [
    {
     "name": "stdout",
     "output_type": "stream",
     "text": [
      "Imagen convertida y guardada en: newton_leibniz_integracion_agro.jpeg\n"
     ]
    }
   ],
   "source": [
    "\n",
    "# Ejemplo de uso\n",
    "convertir_webp_a_jpeg(\"newton_leibniz_integracion_agro.webp\", \"newton_leibniz_integracion_agro.jpeg\")"
   ]
  },
  {
   "cell_type": "markdown",
   "id": "9d63dc62",
   "metadata": {},
   "source": [
    "\n",
    "### 5. **Contenido de la clase**  \n"
   ]
  },
  {
   "cell_type": "markdown",
   "id": "926fba26",
   "metadata": {},
   "source": [
    "**Situación real:**  \n",
    "Imagina que eres un ingeniero y necesitas calcular el trabajo realizado por una fuerza variable al mover un objeto a lo largo de una trayectoria. "
   ]
  },
  {
   "cell_type": "markdown",
   "id": "12f673fa",
   "metadata": {},
   "source": [
    "La fuerza está dada por la función $F(x) = 3x^2 + 2x$, y el objeto se mueve desde $x = 0$ hasta $x = 5$.  \n"
   ]
  },
  {
   "cell_type": "markdown",
   "id": "25e6ae21",
   "metadata": {},
   "source": [
    "\n",
    "**Construcción del modelo matemático:**  \n",
    "El trabajo se calcula como la integral definida de la fuerza respecto a la distancia:  \n",
    "$$ W = \\int_{0}^{5} (3x^2 + 2x) \\, dx $$  \n"
   ]
  },
  {
   "cell_type": "markdown",
   "id": "e396f7db",
   "metadata": {},
   "source": [
    "\n",
    "Para resolver esta integral, usamos el método de sustitución. Sea $u = x^2 + x$, entonces $du = (2x + 1) dx$.  \n",
    "\n",
    "\n"
   ]
  },
  {
   "cell_type": "markdown",
   "id": "b89a23e1",
   "metadata": {},
   "source": [
    "\n",
    "# 6. **Actividades de aprendizaje**  \n"
   ]
  },
  {
   "cell_type": "markdown",
   "id": "9f197083",
   "metadata": {},
   "source": [
    "1. **Actividad 1:**  \n",
    "   - Resuelve la integral $\\int (3x^2 + 2x) \\, dx$ usando sustitución.  \n",
    "   - Visualiza la función y su integral usando `matplotlib`.  \n",
    "\n",
    "2. **Actividad 2:**  \n",
    "   - Crea una animación en Python que muestre cómo cambia el área bajo la curva al variar los límites de integración.  \n",
    "\n",
    "3. **Actividad 3:**  \n",
    "   - En equipo, resuelve un problema de aplicación real (por ejemplo, calcular el costo total de producción usando una función de costo marginal).  \n",
    "\n",
    "---\n"
   ]
  },
  {
   "cell_type": "markdown",
   "id": "4a7446d8",
   "metadata": {},
   "source": [
    "# 4. Diseña una actividad de aprendizaje a través del uso de la Calculadora Casio 991 LA cw"
   ]
  },
  {
   "cell_type": "code",
   "execution_count": 11,
   "id": "0b4e3ae1",
   "metadata": {},
   "outputs": [
    {
     "name": "stdout",
     "output_type": "stream",
     "text": [
      "Error al convertir la imagen: [Errno 2] No such file or directory: 'imagen.webp'\n"
     ]
    }
   ],
   "source": [
    "from PIL import Image\n",
    "\n",
    "def convertir_webp_a_jpeg(ruta_webp, ruta_jpeg, calidad=95):\n",
    "    \"\"\"\n",
    "    Convierte una imagen .webp a .jpeg.\n",
    "\n",
    "    Parámetros:\n",
    "    - ruta_webp (str): Ruta de la imagen .webp de entrada.\n",
    "    - ruta_jpeg (str): Ruta donde se guardará la imagen .jpeg.\n",
    "    - calidad (int): Calidad de la imagen .jpeg (por defecto 95).\n",
    "\n",
    "    Retorna:\n",
    "    - None\n",
    "    \"\"\"\n",
    "    try:\n",
    "        # Abrir la imagen .webp\n",
    "        with Image.open(ruta_webp) as img:\n",
    "            # Convertir y guardar como .jpeg\n",
    "            img.convert(\"RGB\").save(ruta_jpeg, \"JPEG\", quality=calidad)\n",
    "        print(f\"Imagen convertida y guardada en: {ruta_jpeg}\")\n",
    "    except Exception as e:\n",
    "        print(f\"Error al convertir la imagen: {e}\")\n",
    "\n",
    "# Ejemplo de uso\n",
    "convertir_webp_a_jpeg(\"imagen.webp\", \"imagen_convertida.jpeg\")"
   ]
  },
  {
   "cell_type": "code",
   "execution_count": 12,
   "id": "40d40927",
   "metadata": {},
   "outputs": [
    {
     "name": "stdout",
     "output_type": "stream",
     "text": [
      "Error al convertir la imagen: [Errno 2] No such file or directory: 'ingeniero_calculadora_casio.wep'\n"
     ]
    }
   ],
   "source": [
    "convertir_webp_a_jpeg('ingeniero_calculadora_casio.wep', 'ingeniero_calculadora_casio.jpeg')"
   ]
  },
  {
   "cell_type": "markdown",
   "id": "27e7113b",
   "metadata": {},
   "source": [
    "<img src = 'ingeniero_calculadora_casio.webp'>"
   ]
  },
  {
   "cell_type": "markdown",
   "id": "9e0fda34",
   "metadata": {},
   "source": [
    "## **Actividad de Aprendizaje: Uso de la Calculadora Casio 991 LA cw para la Integración Definida e Indefinida**\n"
   ]
  },
  {
   "cell_type": "markdown",
   "id": "2583a3c2",
   "metadata": {},
   "source": [
    "\n",
    "#### **Título de la Actividad**  \n",
    "#### **\"Aplicación de la Calculadora Casio 991 LA cw en la Resolución de Integrales Definidas e Indefinidas para Ingeniería Agropecuaria\"**\n",
    "\n",
    "\n"
   ]
  },
  {
   "cell_type": "markdown",
   "id": "e517da6a",
   "metadata": {},
   "source": [
    "\n",
    "#### **Objetivo de la Actividad**  \n",
    "- Aprender a utilizar la Calculadora Casio 991 LA cw para resolver integrales definidas e indefinidas aplicadas a problemas de ingeniería agropecuaria, como el cálculo de áreas de cultivo, volúmenes de silos, o tasas de crecimiento de cultivos.  \n",
    "- Familiarizarse con el método de integración por sustitución (regla de la cadena) y su aplicación práctica.  \n",
    "\n",
    "---\n"
   ]
  },
  {
   "cell_type": "markdown",
   "id": "eff06d18",
   "metadata": {},
   "source": [
    "\n",
    "#### **Materiales Necesarios**  \n",
    "- Calculadora Casio 991 LA cw.  \n",
    "- Problemas prácticos de ingeniería agropecuaria (por ejemplo, calcular el área bajo una curva de crecimiento de cultivos).  \n",
    "- Guía paso a paso para el uso de la calculadora.  \n",
    "\n",
    "---\n"
   ]
  },
  {
   "cell_type": "markdown",
   "id": "3e9ed8a5",
   "metadata": {},
   "source": [
    "\n",
    "#### **Algoritmo para Calcular Integrales Definidas con la Calculadora Casio 991 LA X**  \n",
    "\n",
    "1. **Configurar la Unidad Angular a Radianes:**  \n",
    "   - Presiona el botón **CONFIG**.  \n",
    "   - Selecciona la opción **2 (Unidad angular)**.  \n",
    "   - Elige **2 (Radianes)**.  \n",
    "   - Presiona **AC** para salir del menú de configuración.  \n",
    "\n",
    "2. **Acceder a la Función de Integración:**  \n",
    "   - Presiona el botón **CATALOG**.  \n",
    "   - Navega hasta la opción **Análisis Func** (usando las flechas de navegación).  \n",
    "   - Selecciona la opción de **Integración (∫)**.  \n",
    "\n",
    "3. **Ingresar la Función y los Límites de Integración:**  \n",
    "   - Ingresa la función a integrar. Por ejemplo, para calcular $\\int_{1}^{2} (3x^2 + 2x) \\, dx$, ingresa:  \n",
    "     - **3x² + 2x**.  \n",
    "   - Presiona la tecla **,** (coma) para ingresar el límite inferior (1).  \n",
    "   - Presiona la tecla **,** (coma) para ingresar el límite superior (2).  \n",
    "   - Presiona **EXE** para calcular la integral.  \n",
    "\n",
    "4. **Interpretar el Resultado:**  \n",
    "   - La calculadora mostrará el valor numérico de la integral definida.  \n",
    "   - Anota el resultado y compáralo con la solución manual para verificar su precisión.  \n",
    "\n",
    "---\n"
   ]
  },
  {
   "cell_type": "markdown",
   "id": "ddaf3cec",
   "metadata": {},
   "source": [
    "\n",
    "#### **Actividad Práctica**  \n",
    "\n",
    "1. **Problema 1: Cálculo del Área de un Cultivo**  \n",
    "   - La tasa de crecimiento de un cultivo está dada por la función $f(x) = 2x^2 + 3x + 1$, donde $x$ es el tiempo en meses. Calcula el área bajo la curva entre $x = 0$ y $x = 5$ usando la calculadora.  \n",
    "\n",
    "   **Pasos:**  \n",
    "   - Configura la calculadora en radianes.  \n",
    "   - Ingresa la función $2x² + 3x + 1$.  \n",
    "   - Define los límites de integración (0 y 5).  \n",
    "   - Calcula la integral y anota el resultado.  \n"
   ]
  },
  {
   "cell_type": "markdown",
   "id": "408e4914",
   "metadata": {},
   "source": [
    "\n",
    "2. **Problema 2: Volumen de un Silo**  \n",
    "   - El perfil de un silo está descrito por la función $f(x) = \\sqrt{4 - x^2}$. Calcula el volumen del silo integrando la función entre $x = -2$ y $x = 2$.  \n",
    "\n",
    "   **Pasos:**  \n",
    "   - Ingresa la función $\\sqrt{4 - x²}$.  \n",
    "   - Define los límites de integración (-2 y 2).  \n",
    "   - Calcula la integral y anota el resultado.  \n",
    "\n",
    "---\n"
   ]
  },
  {
   "cell_type": "markdown",
   "id": "b7970622",
   "metadata": {},
   "source": [
    "\n",
    "#### **Reflexión y Discusión**  \n",
    "- Compara los resultados obtenidos con la calculadora con los cálculos manuales.  \n",
    "- Discute la importancia de la integración en la ingeniería agropecuaria, como en el cálculo de áreas, volúmenes y tasas de crecimiento.  \n",
    "\n",
    "---\n"
   ]
  },
  {
   "cell_type": "markdown",
   "id": "57599058",
   "metadata": {},
   "source": [
    "\n",
    "#### **Evaluación**  \n",
    "- Resuelve los siguientes problemas usando la calculadora:  \n",
    "  1. $\\int_{0}^{3} (x^3 + 2x) \\, dx$  \n",
    "  2. $\\int_{1}^{4} \\frac{1}{x} \\, dx$  \n",
    "  3. $\\int_{-1}^{1} \\sqrt{1 - x^2} \\, dx$  \n",
    "\n",
    "- Presenta los resultados y explica cómo aplicaste el método de integración por sustitución (regla de la cadena) en cada caso.  \n",
    "\n",
    "---\n"
   ]
  },
  {
   "cell_type": "markdown",
   "id": "a9bd3606",
   "metadata": {},
   "source": [
    "\n",
    "#### **Conclusión**  \n",
    "Esta actividad permite a los estudiantes familiarizarse con el uso de herramientas tecnológicas como la Calculadora Casio 991 LA cw para resolver problemas de integración en ingeniería agropecuaria, fomentando la precisión y la eficiencia en los cálculos. Además, refuerza el entendimiento del método de integración por sustitución y su aplicación en contextos reales.  \n",
    "\n"
   ]
  },
  {
   "cell_type": "markdown",
   "id": "401d0a2c",
   "metadata": {},
   "source": [
    "<img src = 'https://www.koetoficial.com/cdn/shop/files/Calcu-rosada.jpg?v=1742327242&width=600' width = 1000>"
   ]
  },
  {
   "cell_type": "markdown",
   "id": "c46329c3",
   "metadata": {},
   "source": [
    "### Actividad de Aprendizaje Activo: Explorando Métodos Numéricos para Cálculo de Integrales Definidas en la Calculadora Casio fx-991 LA X\n",
    "\n",
    "#### Objetivo:\n",
    "El objetivo de esta actividad es que los estudiantes exploren y comprendan los métodos numéricos que podrían estar detrás del cálculo de integrales definidas en una calculadora científica como la Casio fx-991 LA X. Utilizando un cuaderno Jupyter con kernel de Python, los estudiantes implementarán y compararán diferentes métodos numéricos para aproximar integrales definidas.\n",
    "\n",
    "#### Materiales:\n",
    "- Cuaderno Jupyter con kernel de Python.\n",
    "- Bibliotecas de Python: `numpy`, `matplotlib`, `scipy`.\n",
    "- Documentación de la calculadora Casio fx-991 LA X (opcional).\n",
    "\n",
    "#### Duración:\n",
    "- 2 horas.\n",
    "\n",
    "#### Actividades:\n",
    "\n",
    "1. **Introducción Teórica (15 minutos):**\n",
    "   - Breve explicación de los métodos numéricos comunes para calcular integrales definidas: **Regla del Trapecio**, **Regla de Simpson**, y **Método de Romberg**.\n",
    "   - Discusión sobre cómo las calculadoras científicas podrían implementar estos métodos.\n",
    "\n",
    "2. **Implementación de Métodos Numéricos (45 minutos):**\n",
    "   - **Regla del Trapecio:**\n",
    "     ```python\n",
    "     import numpy as np\n",
    "\n",
    "     def trapezoidal_rule(f, a, b, n):\n",
    "         h = (b - a) / n\n",
    "         x = np.linspace(a, b, n+1)\n",
    "         y = f(x)\n",
    "         return h * (np.sum(y) - 0.5 * (y[0] + y[-1]))\n",
    "\n",
    "     # Ejemplo de uso:\n",
    "     f = lambda x: np.sin(x)\n",
    "     a = 0\n",
    "     b = np.pi\n",
    "     n = 100\n",
    "     resultado = trapezoidal_rule(f, a, b, n)\n",
    "     print(f\"Resultado usando la regla del trapecio: {resultado}\")\n",
    "     ```\n",
    "\n",
    "   - **Regla de Simpson:**\n",
    "     ```python\n",
    "     def simpsons_rule(f, a, b, n):\n",
    "         h = (b - a) / n\n",
    "         x = np.linspace(a, b, n+1)\n",
    "         y = f(x)\n",
    "         return h/3 * (y[0] + 4*np.sum(y[1:-1:2]) + 2*np.sum(y[2:-2:2]) + y[-1])\n",
    "\n",
    "     # Ejemplo de uso:\n",
    "     resultado = simpsons_rule(f, a, b, n)\n",
    "     print(f\"Resultado usando la regla de Simpson: {resultado}\")\n",
    "     ```\n",
    "\n",
    "   - **Método de Romberg:**\n",
    "     ```python\n",
    "     from scipy.integrate import romberg\n",
    "\n",
    "     # Ejemplo de uso:\n",
    "     resultado = romberg(f, a, b)\n",
    "     print(f\"Resultado usando el método de Romberg: {resultado}\")\n",
    "     ```\n",
    "\n",
    "3. **Comparación de Resultados (30 minutos):**\n",
    "   - Los estudiantes deben comparar los resultados obtenidos con cada método numérico y discutir cuál de ellos podría ser el utilizado por la calculadora Casio fx-991 LA X.\n",
    "   - Preguntas guía:\n",
    "     - ¿Cuál método es más preciso?\n",
    "     - ¿Cuál método es más eficiente en términos de tiempo de cálculo?\n",
    "     - ¿Qué método crees que utiliza la calculadora y por qué?\n",
    "\n",
    "4. **Investigación y Conclusión (30 minutos):**\n",
    "   - Los estudiantes deben investigar en la documentación de la calculadora Casio fx-991 LA X o en fuentes confiables para confirmar cuál método numérico utiliza la calculadora.\n",
    "   - Conclusión: Los estudiantes deben escribir un breve informe en el cuaderno Jupyter explicando cuál método creen que utiliza la calculadora y justificar su respuesta basándose en los resultados obtenidos y la investigación realizada.\n",
    "\n",
    "#### Evaluación:\n",
    "- Los estudiantes serán evaluados en base a la correcta implementación de los métodos numéricos, la calidad de la comparación y análisis de resultados, y la justificación de su conclusión sobre el método utilizado por la calculadora.\n",
    "\n",
    "#### Extensión (Opcional):\n",
    "- Los estudiantes pueden explorar otros métodos numéricos como el **Método de Monte Carlo** o **Cuadratura Gaussiana** y compararlos con los métodos ya implementados.\n",
    "\n",
    "---\n",
    "\n",
    "Esta actividad no solo permite a los estudiantes comprender los métodos numéricos detrás del cálculo de integrales definidas, sino también desarrollar habilidades de programación y análisis crítico."
   ]
  },
  {
   "cell_type": "markdown",
   "id": "2ef85c2a",
   "metadata": {},
   "source": [
    "[Video para Yanine y Francisco sobre integración con Calculadora Casio]()"
   ]
  },
  {
   "cell_type": "markdown",
   "id": "2e55285e",
   "metadata": {},
   "source": [
    "\n",
    "### 7. **Canción o poema**  \n",
    "**Poema:**  \n",
    "*\"Integrar es descomponer,  \n",
    "en partes más simples poder ver.  \n",
    "Con sustitución, la clave está,  \n",
    "en cambiar la variable y avanzar.\"*  \n",
    "\n",
    "---\n"
   ]
  },
  {
   "cell_type": "markdown",
   "id": "f695a62c",
   "metadata": {},
   "source": [
    "\n",
    "### 8. **Tarea o actividades de ejercitación**  \n",
    "1. Resuelve las siguientes integrales usando sustitución:  \n",
    "   - $\\int 2x \\cdot e^{x^2} \\, dx$  \n",
    "   - $\\int \\frac{1}{x \\ln x} \\, dx$  \n",
    "\n",
    "2. Crea una visualización interactiva usando `ipywidgets` para explorar cómo cambia el valor de la integral al variar los límites.  \n",
    "\n",
    "---\n"
   ]
  },
  {
   "cell_type": "markdown",
   "id": "c998da22",
   "metadata": {},
   "source": [
    "\n",
    "### 9. **Evaluación**  \n",
    "**Proyectos:**  \n",
    "1. Modelar el crecimiento de una población usando integrales.  \n",
    "2. Calcular el área bajo una curva compleja.  \n",
    "\n",
    "**Quiz:**  \n",
    "1. ¿Qué es la regla de la cadena en integración?  \n",
    "2. Resuelve $\\int 3x^2 \\cdot \\cos(x^3) \\, dx$.  \n",
    "3. Explica cómo se aplica la sustitución en integrales definidas.  \n",
    "\n",
    "**Parcial:**  \n",
    "1. Resuelve $\\int \\frac{2x}{x^2 + 1} \\, dx$.  \n",
    "2. Calcula $\\int_{1}^{2} x \\cdot e^{x^2} \\, dx$.  \n",
    "3. Explica la importancia de la integración en la física.  \n",
    "\n",
    "---\n"
   ]
  },
  {
   "cell_type": "markdown",
   "id": "460b43f0",
   "metadata": {},
   "source": [
    "\n",
    "### 10. **Diseño de actividad de retroalimentación**  \n",
    "- Revisión en grupo de los proyectos, con discusión sobre los errores y aciertos.  \n",
    "- Uso de rúbricas para evaluar el trabajo en equipo y la claridad de las explicaciones.  \n",
    "\n",
    "---\n"
   ]
  },
  {
   "cell_type": "markdown",
   "id": "9c222b51",
   "metadata": {},
   "source": [
    "\n",
    "### 11. **Vocabulario y frases en inglés**  \n",
    "- **Integration by substitution:** Integración por sustitución.  \n",
    "- **Definite integral:** Integral definida.  \n",
    "- **Indefinite integral:** Integral indefinida.  \n",
    "- **Chain rule:** Regla de la cadena.  \n",
    "- **Visualization:** Visualización.  \n",
    "\n",
    "---\n"
   ]
  },
  {
   "cell_type": "markdown",
   "id": "5cf329cd",
   "metadata": {},
   "source": [
    "\n",
    "### 12. **Apéndice**  \n",
    "- **Trabajo en equipo:** Fomenta la comunicación y la división de tareas.  \n",
    "- **Inteligencia emocional:** Practica la asertividad y la empatía al resolver conflictos.  \n",
    "- **Evitar el fraude:** Promueve la honestidad académica y la confianza en tus habilidades.  \n",
    "\n",
    "---\n"
   ]
  },
  {
   "cell_type": "markdown",
   "id": "256cca18",
   "metadata": {},
   "source": [
    "\n",
    "### 13. **Referentes en didáctica de la matemática**  \n",
    "1. Duval, R. (1999). *Representations and changes of representation for the acquisition of mathematical concepts*.  \n",
    "2. Wing, J. (2006). *Computational thinking*.  \n",
    "3. Schoenfeld, A. H. (1985). *Mathematical problem solving*.  \n",
    "4. Polya, G. (1945). *How to solve it*.  \n",
    "5. Skemp, R. R. (1976). *Relational understanding and instrumental understanding*.  \n",
    "\n",
    "---\n"
   ]
  },
  {
   "cell_type": "markdown",
   "id": "5e32c118",
   "metadata": {},
   "source": [
    "\n",
    "Este diseño de clase combina teoría, práctica y herramientas tecnológicas para un aprendizaje significativo y experiencial."
   ]
  },
  {
   "cell_type": "markdown",
   "id": "adb91412",
   "metadata": {},
   "source": [
    "[Video de apoyo a la lectura de la estructura de esta clase]()"
   ]
  },
  {
   "cell_type": "markdown",
   "id": "87c6eb32",
   "metadata": {},
   "source": [
    "# Implementación de esta clase   \n"
   ]
  },
  {
   "cell_type": "markdown",
   "id": "fcfcd349",
   "metadata": {},
   "source": [
    "\n",
    "A continuación, te presento un diseño de clase detallado que integra el enfoque de \"Aula Invertida, STEAMS y Aprendizaje Basado en Problemas y Proyectos (ABPP)\" sobre el tema de \"Integración definida e indefinida con el método de sustitución (Regla de la cadena para integración)\". "
   ]
  },
  {
   "cell_type": "markdown",
   "id": "2e98e0c3",
   "metadata": {},
   "source": [
    "Este diseño está pensado para ser implementado en cuadernos Jupyter con funciones de usuario, animaciones y visualizaciones en Python, utilizando las bibliotecas mencionadas.\n",
    "\n"
   ]
  },
  {
   "cell_type": "markdown",
   "id": "96159982",
   "metadata": {},
   "source": [
    "\n",
    "### 1. **Título de la clase**  \n",
    "**\"Integración definida e indefinida con el método de sustitución: Aplicaciones en problemas reales usando Python\"**\n",
    "\n",
    "\n"
   ]
  },
  {
   "cell_type": "markdown",
   "id": "e298747c",
   "metadata": {},
   "source": [
    "\n",
    "### 2. **Objetivos de aprendizaje**  \n",
    "- **Objetivo general:**  \n",
    "  Comprender y aplicar el método de sustitución (Regla de la cadena para integración) en la resolución de integrales definidas e indefinidas, utilizando herramientas computacionales como Python para visualizar y experimentar con los conceptos.  \n"
   ]
  },
  {
   "cell_type": "markdown",
   "id": "299c9331",
   "metadata": {},
   "source": [
    "\n",
    "- **Objetivos específicos e indicadores de logro:**  \n",
    "  1. Identificar situaciones reales que requieren el uso de integrales definidas e indefinidas.  \n",
    "     - *Indicador:* El estudiante describe al menos dos situaciones reales donde se aplica la integración.  \n",
    "  2. Aplicar el método de sustitución para resolver integrales indefinidas.  \n",
    "     - *Indicador:* El estudiante resuelve correctamente al menos tres integrales indefinidas usando sustitución.  \n",
    "  3. Utilizar el método de sustitución para calcular integrales definidas.  \n",
    "     - *Indicador:* El estudiante calcula correctamente al menos dos integrales definidas usando sustitución.  \n",
    "  4. Visualizar y animar el proceso de integración usando Python.  \n",
    "     - *Indicador:* El estudiante crea una animación en Python que muestra el proceso de integración.  \n",
    "  5. Trabajar en equipo para resolver un proyecto aplicado.  \n",
    "     - *Indicador:* El estudiante participa activamente en la resolución de un proyecto grupal.  \n",
    "\n",
    "---\n"
   ]
  },
  {
   "cell_type": "markdown",
   "id": "021ed885",
   "metadata": {},
   "source": [
    "\n",
    "# 3. **Mapa conceptual**  \n"
   ]
  },
  {
   "cell_type": "markdown",
   "id": "c0b974f2",
   "metadata": {},
   "source": [
    "El mapa conceptual se genera usando Graphviz en Python. El código para generarlo es el siguiente:  \n",
    "\n"
   ]
  },
  {
   "cell_type": "code",
   "execution_count": null,
   "id": "30ecf905",
   "metadata": {},
   "outputs": [
    {
     "data": {
      "text/plain": [
       "'C:\\\\Users\\\\marco\\\\Descargas\\\\mapa_integracion.png'"
      ]
     },
     "execution_count": 5,
     "metadata": {},
     "output_type": "execute_result"
    }
   ],
   "source": [
    "from graphviz import Digraph\n",
    "\n",
    "# Crear el gráfico\n",
    "graph = Digraph(comment='Integración por sustitución', format='png')\n",
    "graph.attr(overlap='scalexy')  # Evitar superposiciones\n",
    "\n",
    "# Nodos\n",
    "graph.node('A', 'Integración por sustitución', shape='ellipse', color='blue', style='filled', fillcolor='lightblue')\n",
    "graph.node('B', 'Integral indefinida', shape='box', color='red', style='filled', fillcolor='pink')\n",
    "graph.node('C', 'Integral definida', shape='box', color='red', style='filled', fillcolor='pink')\n",
    "graph.node('D', 'Regla de la cadena', shape='diamond', color='green', style='filled', fillcolor='lightgreen')\n",
    "graph.node('E', 'Aplicaciones reales', shape='ellipse', color='orange', style='filled', fillcolor='yellow')\n",
    "graph.node('F', 'Visualización en Python', shape='ellipse', color='purple', style='filled', fillcolor='lavender')\n",
    "\n",
    "# Edges (conexiones)\n",
    "graph.edge('A', 'B', label='Resuelve')\n",
    "graph.edge('A', 'C', label='Resuelve')\n",
    "graph.edge('A', 'D', label='Usa')\n",
    "graph.edge('B', 'E', label='Aplica en')\n",
    "graph.edge('C', 'E', label='Aplica en')\n",
    "graph.edge('E', 'F', label='Visualiza con')\n",
    "\n",
    "# Renderizar y guardar\n",
    "graph.render(directory='C:/Users/marco/Downloads', filename='mapa_integracion', view=True)\n"
   ]
  },
  {
   "cell_type": "markdown",
   "id": "0059f7b1",
   "metadata": {},
   "source": [
    "### 4. **Elementos históricos y epistemológicos**  \n",
    "**El cuento de la integración por sustitución:**  \n",
    "Hace muchos años, en los albores del cálculo, dos grandes mentes, **Isaac Newton** y **Gottfried Leibniz**, estaban enfrascados en una batalla intelectual por descubrir los secretos del cambio y el movimiento. Newton, con su enfoque físico, y Leibniz, con su elegancia matemática, dieron vida al cálculo diferencial e integral.  \n",
    "\n",
    "Un día, Leibniz se encontró con un problema: ¿cómo simplificar integrales complicadas? Fue entonces cuando, inspirado por la regla de la cadena de la derivación, ideó el método de sustitución. \"Si podemos descomponer una función en partes más simples, ¿por qué no hacer lo mismo con las integrales?\", pensó.  \n",
    "\n",
    "Así nació la integración por sustitución, una técnica que permite transformar integrales complejas en otras más manejables. Hoy, esta técnica es fundamental en campos como la física, la ingeniería y la economía.  \n"
   ]
  },
  {
   "cell_type": "markdown",
   "id": "f6057d59",
   "metadata": {},
   "source": [
    "\n",
    "**Imágenes de los protagonistas:**  \n",
    "- [Isaac Newton](https://upload.wikimedia.org/wikipedia/commons/3/39/GodfreyKneller-IsaacNewton-1689.jpg)  \n",
    "- [Gottfried Leibniz](https://upload.wikimedia.org/wikipedia/commons/6/6a/Gottfried_Wilhelm_Leibniz.jpg)  \n",
    "\n",
    "---\n"
   ]
  },
  {
   "cell_type": "markdown",
   "id": "9f0a1673",
   "metadata": {},
   "source": [
    "\n",
    "### 5. **Contenido de la clase**  \n",
    "**Situación real:**  \n",
    "Imagina que eres un ingeniero y necesitas calcular el trabajo realizado por una fuerza variable al mover un objeto a lo largo de una trayectoria. La fuerza está dada por la función $F(x) = 3x^2 + 2x$, y el objeto se mueve desde $x = 0$ hasta $x = 5$.  \n",
    "\n",
    "**Construcción del modelo matemático:**  \n",
    "El trabajo se calcula como la integral definida de la fuerza respecto a la distancia:  \n",
    "$$ W = \\int_{0}^{5} (3x^2 + 2x) \\, dx $$  \n",
    "\n",
    "Para resolver esta integral, usamos el método de sustitución. Sea $u = x^2 + x$, entonces $du = (2x + 1) dx$.  \n",
    "\n",
    "---\n"
   ]
  },
  {
   "cell_type": "markdown",
   "id": "ce388d59",
   "metadata": {},
   "source": [
    "\n",
    "### 6. **Actividades de aprendizaje**  \n",
    "1. **Actividad 1:**  \n",
    "   - Resuelve la integral $\\int (3x^2 + 2x) \\, dx$ usando sustitución.  \n",
    "   - Visualiza la función y su integral usando `matplotlib`.  \n",
    "\n",
    "2. **Actividad 2:**  \n",
    "   - Crea una animación en Python que muestre cómo cambia el área bajo la curva al variar los límites de integración.  \n",
    "\n",
    "3. **Actividad 3:**  \n",
    "   - En equipo, resuelve un problema de aplicación real (por ejemplo, calcular el costo total de producción usando una función de costo marginal).  \n",
    "\n",
    "---\n"
   ]
  },
  {
   "cell_type": "markdown",
   "id": "e523eda1",
   "metadata": {},
   "source": [
    "\n",
    "### 7. **Canción o poema**  \n",
    "**Poema:**  \n",
    "*\"Integrar es descomponer,  \n",
    "en partes más simples poder ver.  \n",
    "Con sustitución, la clave está,  \n",
    "en cambiar la variable y avanzar.\"*  \n",
    "\n",
    "---\n"
   ]
  },
  {
   "cell_type": "markdown",
   "id": "80bfcd0e",
   "metadata": {},
   "source": [
    "\n",
    "### 8. **Tarea o actividades de ejercitación**  \n",
    "1. Resuelve las siguientes integrales usando sustitución:  \n",
    "   - $\\int 2x \\cdot e^{x^2} \\, dx$  \n",
    "   - $\\int \\frac{1}{x \\ln x} \\, dx$  \n",
    "\n",
    "2. Crea una visualización interactiva usando `ipywidgets` para explorar cómo cambia el valor de la integral al variar los límites.  \n",
    "\n",
    "---\n"
   ]
  },
  {
   "cell_type": "markdown",
   "id": "62d0ae17",
   "metadata": {},
   "source": [
    "\n",
    "# 9. **Evaluación**  \n"
   ]
  },
  {
   "cell_type": "markdown",
   "id": "2d9351ca",
   "metadata": {},
   "source": [
    "**Proyectos:**  \n",
    "1. Modelar el crecimiento de una población usando integrales.  \n",
    "2. Calcular el área bajo una curva compleja.  \n"
   ]
  },
  {
   "cell_type": "markdown",
   "id": "0dc609f1",
   "metadata": {},
   "source": [
    "\n",
    "**Quiz:**  \n",
    "1. ¿Qué es la regla de la cadena en integración?  \n",
    "2. Resuelve $\\int 3x^2 \\cdot \\cos(x^3) \\, dx$.  \n",
    "3. Explica cómo se aplica la sustitución en integrales definidas.  \n"
   ]
  },
  {
   "cell_type": "markdown",
   "id": "8a41648e",
   "metadata": {},
   "source": [
    "\n",
    "**Parcial:**  \n",
    "1. Resuelve $\\int \\frac{2x}{x^2 + 1} \\, dx$.  \n",
    "2. Calcula $\\int_{1}^{2} x \\cdot e^{x^2} \\, dx$.  \n",
    "3. Explica la importancia de la integración en la física.  \n"
   ]
  },
  {
   "cell_type": "markdown",
   "id": "532965f1",
   "metadata": {},
   "source": [
    "\n",
    "### 10. **Diseño de actividad de retroalimentación**  \n",
    "- Revisión en grupo de los proyectos, con discusión sobre los errores y aciertos.  \n",
    "- Uso de rúbricas para evaluar el trabajo en equipo y la claridad de las explicaciones.  \n",
    "\n",
    "---\n"
   ]
  },
  {
   "cell_type": "markdown",
   "id": "d9f78715",
   "metadata": {},
   "source": [
    "\n",
    "### 11. **Vocabulario y frases en inglés**  \n",
    "- **Integration by substitution:** Integración por sustitución.  \n",
    "- **Definite integral:** Integral definida.  \n",
    "- **Indefinite integral:** Integral indefinida.  \n",
    "- **Chain rule:** Regla de la cadena.  \n",
    "- **Visualization:** Visualización.  \n",
    "\n",
    "---\n"
   ]
  },
  {
   "cell_type": "markdown",
   "id": "43dbf919",
   "metadata": {},
   "source": [
    "\n",
    "### 12. **Apéndice**  \n",
    "- **Trabajo en equipo:** Fomenta la comunicación y la división de tareas.  \n",
    "- **Inteligencia emocional:** Practica la asertividad y la empatía al resolver conflictos.  \n",
    "- **Evitar el fraude:** Promueve la honestidad académica y la confianza en tus habilidades.  \n",
    "\n",
    "---\n"
   ]
  },
  {
   "cell_type": "markdown",
   "id": "a2f1bfd2",
   "metadata": {},
   "source": [
    "\n",
    "### 13. **Referentes en didáctica de la matemática**  \n",
    "1. Duval, R. (1999). *Representations and changes of representation for the acquisition of mathematical concepts*.  \n",
    "2. Wing, J. (2006). *Computational thinking*.  \n",
    "3. Schoenfeld, A. H. (1985). *Mathematical problem solving*.  \n",
    "4. Polya, G. (1945). *How to solve it*.  \n",
    "5. Skemp, R. R. (1976). *Relational understanding and instrumental understanding*.  \n",
    "\n",
    "---\n"
   ]
  },
  {
   "cell_type": "markdown",
   "id": "40690d1d",
   "metadata": {},
   "source": [
    "\n",
    "Este diseño de clase combina teoría, práctica y herramientas tecnológicas para un aprendizaje significativo y experiencial."
   ]
  },
  {
   "cell_type": "code",
   "execution_count": 5,
   "id": "740136cb",
   "metadata": {},
   "outputs": [
    {
     "data": {
      "text/latex": [
       "$\\displaystyle 0.34083915322288$"
      ],
      "text/plain": [
       "0.340839153222880"
      ]
     },
     "execution_count": 5,
     "metadata": {},
     "output_type": "execute_result"
    }
   ],
   "source": [
    "from sympy import * \n",
    "\n",
    "x = var('x') \n",
    "\n",
    "integrando = exp(cos(x))*sin(x)\n",
    "\n",
    "integrate(integrando, (x, 0, pi/6)).evalf() "
   ]
  },
  {
   "cell_type": "code",
   "execution_count": 8,
   "id": "91ea220a",
   "metadata": {},
   "outputs": [
    {
     "data": {
      "text/latex": [
       "$\\displaystyle 2.71828182845905$"
      ],
      "text/plain": [
       "2.71828182845905"
      ]
     },
     "execution_count": 8,
     "metadata": {},
     "output_type": "execute_result"
    }
   ],
   "source": [
    "exp(1).evalf() "
   ]
  },
  {
   "cell_type": "code",
   "execution_count": 8,
   "id": "0dd6bb17",
   "metadata": {},
   "outputs": [
    {
     "data": {
      "image/png": "[encoded data removed]",
      "text/plain": [
       "<Figure size 640x480 with 1 Axes>"
      ]
     },
     "metadata": {},
     "output_type": "display_data"
    }
   ],
   "source": [
    "import numpy as np \n",
    "\n",
    "import matplotlib.pyplot as plt \n",
    "\n",
    "t = np.arange(0, 2, 0.2)\n",
    "\n",
    "plt.title('La función exponencial de variale no negativa')\n",
    "plt.plot(t, np.exp(t)) \n",
    "plt.xticks(np.arange(0, 2, 0.2))\n",
    "plt.yticks(np.arange(0, 6.2, 0.3))\n",
    "plt.grid() "
   ]
  },
  {
   "cell_type": "markdown",
   "id": "239427f7",
   "metadata": {},
   "source": [
    "# ARTÍCULO 1. Definir el calendario académico para los diferentes programas de pregrado de los campus\n",
    "regionalizados, correspondiente al primer periodo académico del año 2025, así:\n",
    "* Oferta 28 de enero de 2025\n",
    "* Matrícula 30 de enero de 2025\n",
    "* Ajustes 03 al 10 de febrero de 2025\n",
    "* Inicio de clases 10 de febrero de 2025\n",
    "* Límite evaluación del 40% 06 de abril de 2025\n",
    "* Terminación de clases 08 de junio de 2025\n",
    "* Exámenes finales 09 al 15 de junio de 2025\n",
    "* Habilitación y validación 16 al 22 de junio de 2025\n",
    "* Terminación oficial 23 de junio de 2025"
   ]
  },
  {
   "cell_type": "code",
   "execution_count": null,
   "id": "ec048afb",
   "metadata": {},
   "outputs": [],
   "source": []
  },
  {
   "cell_type": "code",
   "execution_count": null,
   "id": "c804f8d3",
   "metadata": {},
   "outputs": [],
   "source": []
  },
  {
   "cell_type": "code",
   "execution_count": null,
   "id": "cc539357",
   "metadata": {},
   "outputs": [],
   "source": []
  },
  {
   "cell_type": "markdown",
   "id": "8ba64aed",
   "metadata": {},
   "source": [
    "# Cursos que orienta el profesor Marco Julio Cañas Campillo en 2025  \n",
    "\n",
    "1. Práctica Pedagógica V para Licenciatura en Educación Infantil\n",
    "2. Fundamentos de Lógica para Licenciatura en Matemáticas \n",
    "3. Análisis Numérico para Licenciatura en Matemáticas. \n",
    "4. Cálculo Vectorial para Ingeniería Agropecuaria"
   ]
  },
  {
   "cell_type": "markdown",
   "id": "8d41fe58",
   "metadata": {
    "slideshow": {
     "slide_type": "slide"
    }
   },
   "source": [
    "# Horario de clases del profesor Marco\n",
    "\n",
    "* Lunes 8-12: Cálculo Vectorial\n",
    "* Martes 8-12 M: Fundamentos de Aritmética. \n",
    "* Miércoles 8 a 12 M: Fundamentos de la Lógica\n",
    "* Jueves 2 a 6 PM: Desarrollo del pensamiento matemático en la infancia. \n",
    "* Viernes 8 - 12 M: Desarrollo del pensamiento matemático en la infancia. \n",
    "* Sábados 8-12 Asesorías y espacio para retroalimentación y apoyo al trabajo independiente. "
   ]
  },
  {
   "cell_type": "markdown",
   "id": "ae114e14",
   "metadata": {
    "slideshow": {
     "slide_type": "slide"
    }
   },
   "source": [
    "# Horarios de monitoría y asesoría  \n",
    "\n",
    "Coordinador de los cursos de la Facultad de Educación para regiones:    \n",
    "\n",
    "Andrés Vélez: regioneducacion.fedu@udea.edu.co  \n",
    "Coordinador Regiones  \n",
    "Facultad de Educación  \n",
    "Universidad de Antioquia  "
   ]
  },
  {
   "cell_type": "markdown",
   "id": "b1db4b6c",
   "metadata": {
    "slideshow": {
     "slide_type": "slide"
    }
   },
   "source": [
    "## Monitor Manuel San Juan Serrano\n",
    "\n",
    "Contactar escribiendo al correo: manuel.serrano1@udea.edu.co"
   ]
  },
  {
   "cell_type": "markdown",
   "id": "39559692",
   "metadata": {
    "slideshow": {
     "slide_type": "slide"
    }
   },
   "source": [
    "Martes y jueves de 8 - 12  \n",
    "Miércoles 10 - 12 y de 2 a 4 PM  \n",
    "Sábado: 8 - 12"
   ]
  },
  {
   "cell_type": "markdown",
   "id": "10bce0d0",
   "metadata": {
    "slideshow": {
     "slide_type": "slide"
    }
   },
   "source": [
    "## Referentes "
   ]
  },
  {
   "cell_type": "markdown",
   "id": "1db3c468",
   "metadata": {
    "slideshow": {
     "slide_type": "slide"
    }
   },
   "source": [
    "* [Cómo enseñar matemáticas con calculadora Casio LA991 cw](chrome-extension://efaidnbmnnnibpcajpcglclefindmkaj/https://bibliotecadigital.udea.edu.co/bitstream/10495/32857/4/ParraZapata_2024_DesarrolloPensamientoMatematico2aed_versionweb.pdf)  \n",
    "\n",
    "* [CALCULO I DE UNA VARIABLE Ron Larson-Bruce Edwards. Mc Graw Hill. 9º Edición](https://www.academia.edu/42139251/CALCULO_I_DE_UNA_VARIABLE_Ron_Larson_Bruce_Edwards_Mc_Graw_Hill_9o_Edici%C3%B3n)   \n",
    "  \n",
    "\n",
    "* [Grajales Vanegas, L. M., Restrepo Estrada, C. E., Restrepo Ochoa, S. I., & Ruíz De Villalba, F. (2015). Matemáticas I para las ciencias económicas.](https://bibliotecadigital.udea.edu.co/handle/10495/3010)\n",
    "  \n",
    "* R. Duval y Semiosis y pensamiento humano, 2.ª ed. Cali, Colombia: Programa Editorial Universidad del Valle, 2017. [En línea]. Disponible en: https://programaeditorial.univalle.edu.co/gpd-semiosis-y-pensamiento-humano-9789587655278-63324cdb0f6b3.html\n",
    "\n",
    "* [Aylwin, C. U. (2011). Lógica, conjuntos y números. Universidad de los Andes, Consejo de Publicaciones, Colección: Ciencias Básicas, Serie: Matemáticas.](chrome-extension://efaidnbmnnnibpcajpcglclefindmkaj/https://www.u-cursos.cl/ciencias/2011/1/MC110/1/material_docente/bajar?id_material=574722)\n",
    "  \n",
    "* [Recomendación de la UNESCO sobre ciencia abierta](https://unesdoc.unesco.org/ark:/48223/pf0000379949_spa)\n",
    "\n",
    "* [chatGPT](https://openai.com/blog/chatgpt)  \n",
    "* \n",
    "\n",
    "* [Géron, A. (2017). Hands-on machine learning with scikit-learn and tensorflow: Concepts. Tools, and Techniques to build intelligent systems.](chrome-extension://efaidnbmnnnibpcajpcglclefindmkaj/http://14.139.161.31/OddSem-0822-1122/Hands-On_Machine_Learning_with_Scikit-Learn-Keras-and-TensorFlow-2nd-Edition-Aurelien-Geron.pdf)   \n"
   ]
  },
  {
   "cell_type": "markdown",
   "id": "df925560",
   "metadata": {},
   "source": [
    "\n",
    "* [McKinney, W. (2012). Python for data analysis: Data wrangling with Pandas, NumPy, and IPython. \" O'Reilly Media, Inc.\".](https://wesmckinney.com/book/) "
   ]
  },
  {
   "cell_type": "markdown",
   "id": "8e65d6f9",
   "metadata": {},
   "source": [
    "# Como estudiante, encuentro que...   \n",
    "\n",
    "F: Mis Fortalezas son:     \n",
    "O: Mis Oportunidades son:    \n",
    "D: Mis Debilidades son:    \n",
    "A: Lo que Amenazas mi aprendizaje es:  "
   ]
  },
  {
   "cell_type": "markdown",
   "id": "6b9e56a8",
   "metadata": {
    "slideshow": {
     "slide_type": "slide"
    }
   },
   "source": [
    "### [Evaluamos al profesor Marco Cañas Aquí](https://forms.office.com/Pages/ResponsePage.aspx?id=IefhmYRxjkmK_7KtTlPBwkanXIs1i1FEujpsZgO6dXpUREJPV1kxUk1JV1ozTFJIQVNIQjY5WEY3US4u)"
   ]
  },
  {
   "cell_type": "markdown",
   "id": "10f43536",
   "metadata": {
    "slideshow": {
     "slide_type": "slide"
    }
   },
   "source": [
    "### Continue su aprendizaje en la siguiente clase a través del siguiente [vínculo]()"
   ]
  },
  {
   "cell_type": "markdown",
   "id": "53cc9115",
   "metadata": {
    "slideshow": {
     "slide_type": "slide"
    }
   },
   "source": [
    "## Agradecimientos  \n",
    "\n",
    "Doy gracias a Dios por la vida de mi Hijo Joseph Cañas Osorio y la madurez que ha alcanzado. Este hijo me enorgullece y me hace falta abrazarlo cada día. \n",
    "\n",
    "Y a mi esposa Yasmira Emperatriz Barboza Mogollón por su apoyo, orientación y acompañamiento. "
   ]
  },
  {
   "cell_type": "markdown",
   "id": "b6ba1c23",
   "metadata": {},
   "source": [
    "# Apéndice sobre calendarios y coordinaciones \n",
    "\n",
    "A continuación le envío el horario de la asignatura Cálculo Vectorial  \n",
    "\n",
    "Días:  \n",
    "Lunes - Hora: 7:00 a 12:00M  \n",
    "Fechas:  \n",
    "Febrero: 10-17-24                                          \n",
    " Marzo: 3-10-17-31                                                  \n",
    "Abril:7-21-28                                                   \n",
    "Mayo:5-12-19  \n",
    "\n",
    "Agradezco su apoyo, y si presenta alguna dificultad puede contactarme.  \n",
    "\n",
    "Cordialmente,  \n",
    "Juan Felipe Rivera Hernández  \n",
    "Contacto: 3106314300  "
   ]
  },
  {
   "cell_type": "markdown",
   "id": "0e66cd7c",
   "metadata": {},
   "source": [
    "# Clase de análisis numérico los Martes de 8 a 12 del medio día. "
   ]
  },
  {
   "cell_type": "markdown",
   "id": "c5ff61b1",
   "metadata": {},
   "source": []
  }
 ],
 "metadata": {
  "celltoolbar": "Slideshow",
  "kernelspec": {
   "display_name": ".venv",
   "language": "python",
   "name": "python3"
  },
  "language_info": {
   "codemirror_mode": {
    "name": "ipython",
    "version": 3
   },
   "file_extension": ".py",
   "mimetype": "text/x-python",
   "name": "python",
   "nbconvert_exporter": "python",
   "pygments_lexer": "ipython3",
   "version": "3.12.6"
  },
  "rise": {
   "enable_chalkboard": true,
   "theme": "sky",
   "transition": "zoom"
  }
 },
 "nbformat": 4,
 "nbformat_minor": 5
}
